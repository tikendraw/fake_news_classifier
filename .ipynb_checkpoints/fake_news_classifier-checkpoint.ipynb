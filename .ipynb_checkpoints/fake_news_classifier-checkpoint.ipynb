{
 "cells": [
  {
   "cell_type": "markdown",
   "metadata": {
    "id": "eEzAsBIOMloc"
   },
   "source": [
    "# FAKE NEWS CLASSIFIER : Build a system to identify unreliable news articles\n",
    "Develop a machine learning program to identify when an article might be fake news. Run by the UTK Machine Learning Club.\n",
    "\n"
   ]
  },
  {
   "cell_type": "markdown",
   "metadata": {
    "id": "oODj5SvHMPXG"
   },
   "source": [
    "## Dataset Description\n",
    "**train.csv** : A full training dataset with the following attributes:\n",
    "\n",
    "* id: unique id for a news article\n",
    "* title: the title of a news article\n",
    "* author: author of the news article\n",
    "* text: the text of the article; could be incomplete\n",
    "* label: a label that marks the article as potentially unreliable\n",
    "\n",
    "    1: unreliable\n",
    "    \n",
    "    0: reliable"
   ]
  },
  {
   "cell_type": "code",
   "execution_count": 2,
   "metadata": {
    "colab": {
     "base_uri": "https://localhost:8080/"
    },
    "id": "DIv9bTXG7Ipy",
    "outputId": "28778f16-5193-416f-8c4b-d1380d2d728e"
   },
   "outputs": [
    {
     "name": "stdout",
     "output_type": "stream",
     "text": [
      "/bin/bash: /home/t/miniconda3/envs/tf/lib/libtinfo.so.6: no version information available (required by /bin/bash)\n",
      "\n",
      "\u001b[1m[\u001b[0m\u001b[34;49mnotice\u001b[0m\u001b[1;39;49m]\u001b[0m\u001b[39;49m A new release of pip available: \u001b[0m\u001b[31;49m22.3\u001b[0m\u001b[39;49m -> \u001b[0m\u001b[32;49m22.3.1\u001b[0m\n",
      "\u001b[1m[\u001b[0m\u001b[34;49mnotice\u001b[0m\u001b[1;39;49m]\u001b[0m\u001b[39;49m To update, run: \u001b[0m\u001b[32;49mpip install --upgrade pip\u001b[0m\n",
      "/bin/bash: /home/t/miniconda3/envs/tf/lib/libtinfo.so.6: no version information available (required by /bin/bash)\n"
     ]
    }
   ],
   "source": [
    "!pip install numpy pandas matplotlib -q\n",
    "# !pip install nltk textblob -q\n",
    "import pandas as pd\n",
    "import numpy as np\n",
    "import matplotlib.pyplot as plt\n",
    "# import textblob\n",
    "import nltk\n",
    "\n",
    "!git clone https://github.com/tikendraw/funcyou.git -q\n",
    "import funcyou"
   ]
  },
  {
   "cell_type": "code",
   "execution_count": 3,
   "metadata": {
    "id": "fBUgHWJuK4Wf"
   },
   "outputs": [
    {
     "ename": "ModuleNotFoundError",
     "evalue": "No module named 'sklearn'",
     "output_type": "error",
     "traceback": [
      "\u001b[0;31m---------------------------------------------------------------------------\u001b[0m",
      "\u001b[0;31mModuleNotFoundError\u001b[0m                       Traceback (most recent call last)",
      "Input \u001b[0;32mIn [3]\u001b[0m, in \u001b[0;36m<cell line: 2>\u001b[0;34m()\u001b[0m\n\u001b[1;32m      1\u001b[0m \u001b[38;5;28;01mimport\u001b[39;00m \u001b[38;5;21;01mre\u001b[39;00m\n\u001b[0;32m----> 2\u001b[0m \u001b[38;5;28;01mfrom\u001b[39;00m \u001b[38;5;21;01msklearn\u001b[39;00m\u001b[38;5;21;01m.\u001b[39;00m\u001b[38;5;21;01mmodel_selection\u001b[39;00m \u001b[38;5;28;01mimport\u001b[39;00m train_test_split\n",
      "\u001b[0;31mModuleNotFoundError\u001b[0m: No module named 'sklearn'"
     ]
    }
   ],
   "source": [
    "import re\n",
    "from sklearn.model_selection import train_test_split"
   ]
  },
  {
   "cell_type": "code",
   "execution_count": 7,
   "metadata": {
    "colab": {
     "base_uri": "https://localhost:8080/"
    },
    "id": "9iLPf9nh7U31",
    "outputId": "a1b65269-f7de-4f70-8331-80f6e235e375"
   },
   "outputs": [
    {
     "name": "stderr",
     "output_type": "stream",
     "text": [
      "[nltk_data] Downloading collection 'all'\n",
      "[nltk_data]    | \n",
      "[nltk_data]    | Downloading package abc to /root/nltk_data...\n",
      "[nltk_data]    |   Package abc is already up-to-date!\n",
      "[nltk_data]    | Downloading package alpino to /root/nltk_data...\n",
      "[nltk_data]    |   Package alpino is already up-to-date!\n",
      "[nltk_data]    | Downloading package averaged_perceptron_tagger to\n",
      "[nltk_data]    |     /root/nltk_data...\n",
      "[nltk_data]    |   Package averaged_perceptron_tagger is already up-\n",
      "[nltk_data]    |       to-date!\n",
      "[nltk_data]    | Downloading package averaged_perceptron_tagger_ru to\n",
      "[nltk_data]    |     /root/nltk_data...\n",
      "[nltk_data]    |   Package averaged_perceptron_tagger_ru is already\n",
      "[nltk_data]    |       up-to-date!\n",
      "[nltk_data]    | Downloading package basque_grammars to\n",
      "[nltk_data]    |     /root/nltk_data...\n",
      "[nltk_data]    |   Package basque_grammars is already up-to-date!\n",
      "[nltk_data]    | Downloading package biocreative_ppi to\n",
      "[nltk_data]    |     /root/nltk_data...\n",
      "[nltk_data]    |   Package biocreative_ppi is already up-to-date!\n",
      "[nltk_data]    | Downloading package bllip_wsj_no_aux to\n",
      "[nltk_data]    |     /root/nltk_data...\n",
      "[nltk_data]    |   Package bllip_wsj_no_aux is already up-to-date!\n",
      "[nltk_data]    | Downloading package book_grammars to\n",
      "[nltk_data]    |     /root/nltk_data...\n",
      "[nltk_data]    |   Package book_grammars is already up-to-date!\n",
      "[nltk_data]    | Downloading package brown to /root/nltk_data...\n",
      "[nltk_data]    |   Package brown is already up-to-date!\n",
      "[nltk_data]    | Downloading package brown_tei to /root/nltk_data...\n",
      "[nltk_data]    |   Package brown_tei is already up-to-date!\n",
      "[nltk_data]    | Downloading package cess_cat to /root/nltk_data...\n",
      "[nltk_data]    |   Package cess_cat is already up-to-date!\n",
      "[nltk_data]    | Downloading package cess_esp to /root/nltk_data...\n",
      "[nltk_data]    |   Package cess_esp is already up-to-date!\n",
      "[nltk_data]    | Downloading package chat80 to /root/nltk_data...\n",
      "[nltk_data]    |   Package chat80 is already up-to-date!\n",
      "[nltk_data]    | Downloading package city_database to\n",
      "[nltk_data]    |     /root/nltk_data...\n",
      "[nltk_data]    |   Package city_database is already up-to-date!\n",
      "[nltk_data]    | Downloading package cmudict to /root/nltk_data...\n",
      "[nltk_data]    |   Package cmudict is already up-to-date!\n",
      "[nltk_data]    | Downloading package comparative_sentences to\n",
      "[nltk_data]    |     /root/nltk_data...\n",
      "[nltk_data]    |   Package comparative_sentences is already up-to-\n",
      "[nltk_data]    |       date!\n",
      "[nltk_data]    | Downloading package comtrans to /root/nltk_data...\n",
      "[nltk_data]    |   Package comtrans is already up-to-date!\n",
      "[nltk_data]    | Downloading package conll2000 to /root/nltk_data...\n",
      "[nltk_data]    |   Package conll2000 is already up-to-date!\n",
      "[nltk_data]    | Downloading package conll2002 to /root/nltk_data...\n",
      "[nltk_data]    |   Package conll2002 is already up-to-date!\n",
      "[nltk_data]    | Downloading package conll2007 to /root/nltk_data...\n",
      "[nltk_data]    |   Package conll2007 is already up-to-date!\n",
      "[nltk_data]    | Downloading package crubadan to /root/nltk_data...\n",
      "[nltk_data]    |   Package crubadan is already up-to-date!\n",
      "[nltk_data]    | Downloading package dependency_treebank to\n",
      "[nltk_data]    |     /root/nltk_data...\n",
      "[nltk_data]    |   Package dependency_treebank is already up-to-date!\n",
      "[nltk_data]    | Downloading package dolch to /root/nltk_data...\n",
      "[nltk_data]    |   Package dolch is already up-to-date!\n",
      "[nltk_data]    | Downloading package europarl_raw to\n",
      "[nltk_data]    |     /root/nltk_data...\n",
      "[nltk_data]    |   Package europarl_raw is already up-to-date!\n",
      "[nltk_data]    | Downloading package extended_omw to\n",
      "[nltk_data]    |     /root/nltk_data...\n",
      "[nltk_data]    |   Package extended_omw is already up-to-date!\n",
      "[nltk_data]    | Downloading package floresta to /root/nltk_data...\n",
      "[nltk_data]    |   Package floresta is already up-to-date!\n",
      "[nltk_data]    | Downloading package framenet_v15 to\n",
      "[nltk_data]    |     /root/nltk_data...\n",
      "[nltk_data]    |   Package framenet_v15 is already up-to-date!\n",
      "[nltk_data]    | Downloading package framenet_v17 to\n",
      "[nltk_data]    |     /root/nltk_data...\n",
      "[nltk_data]    |   Package framenet_v17 is already up-to-date!\n",
      "[nltk_data]    | Downloading package gazetteers to /root/nltk_data...\n",
      "[nltk_data]    |   Package gazetteers is already up-to-date!\n",
      "[nltk_data]    | Downloading package genesis to /root/nltk_data...\n",
      "[nltk_data]    |   Package genesis is already up-to-date!\n",
      "[nltk_data]    | Downloading package gutenberg to /root/nltk_data...\n",
      "[nltk_data]    |   Package gutenberg is already up-to-date!\n",
      "[nltk_data]    | Downloading package ieer to /root/nltk_data...\n",
      "[nltk_data]    |   Package ieer is already up-to-date!\n",
      "[nltk_data]    | Downloading package inaugural to /root/nltk_data...\n",
      "[nltk_data]    |   Package inaugural is already up-to-date!\n",
      "[nltk_data]    | Downloading package indian to /root/nltk_data...\n",
      "[nltk_data]    |   Package indian is already up-to-date!\n",
      "[nltk_data]    | Downloading package jeita to /root/nltk_data...\n",
      "[nltk_data]    |   Package jeita is already up-to-date!\n",
      "[nltk_data]    | Downloading package kimmo to /root/nltk_data...\n",
      "[nltk_data]    |   Package kimmo is already up-to-date!\n",
      "[nltk_data]    | Downloading package knbc to /root/nltk_data...\n",
      "[nltk_data]    |   Package knbc is already up-to-date!\n",
      "[nltk_data]    | Downloading package large_grammars to\n",
      "[nltk_data]    |     /root/nltk_data...\n",
      "[nltk_data]    |   Package large_grammars is already up-to-date!\n",
      "[nltk_data]    | Downloading package lin_thesaurus to\n",
      "[nltk_data]    |     /root/nltk_data...\n",
      "[nltk_data]    |   Package lin_thesaurus is already up-to-date!\n",
      "[nltk_data]    | Downloading package mac_morpho to /root/nltk_data...\n",
      "[nltk_data]    |   Package mac_morpho is already up-to-date!\n",
      "[nltk_data]    | Downloading package machado to /root/nltk_data...\n",
      "[nltk_data]    |   Package machado is already up-to-date!\n",
      "[nltk_data]    | Downloading package masc_tagged to /root/nltk_data...\n",
      "[nltk_data]    |   Package masc_tagged is already up-to-date!\n",
      "[nltk_data]    | Downloading package maxent_ne_chunker to\n",
      "[nltk_data]    |     /root/nltk_data...\n",
      "[nltk_data]    |   Package maxent_ne_chunker is already up-to-date!\n",
      "[nltk_data]    | Downloading package maxent_treebank_pos_tagger to\n",
      "[nltk_data]    |     /root/nltk_data...\n",
      "[nltk_data]    |   Package maxent_treebank_pos_tagger is already up-\n",
      "[nltk_data]    |       to-date!\n",
      "[nltk_data]    | Downloading package moses_sample to\n",
      "[nltk_data]    |     /root/nltk_data...\n",
      "[nltk_data]    |   Package moses_sample is already up-to-date!\n",
      "[nltk_data]    | Downloading package movie_reviews to\n",
      "[nltk_data]    |     /root/nltk_data...\n",
      "[nltk_data]    |   Package movie_reviews is already up-to-date!\n",
      "[nltk_data]    | Downloading package mte_teip5 to /root/nltk_data...\n",
      "[nltk_data]    |   Package mte_teip5 is already up-to-date!\n",
      "[nltk_data]    | Downloading package mwa_ppdb to /root/nltk_data...\n",
      "[nltk_data]    |   Package mwa_ppdb is already up-to-date!\n",
      "[nltk_data]    | Downloading package names to /root/nltk_data...\n",
      "[nltk_data]    |   Package names is already up-to-date!\n",
      "[nltk_data]    | Downloading package nombank.1.0 to /root/nltk_data...\n",
      "[nltk_data]    |   Package nombank.1.0 is already up-to-date!\n",
      "[nltk_data]    | Downloading package nonbreaking_prefixes to\n",
      "[nltk_data]    |     /root/nltk_data...\n",
      "[nltk_data]    |   Package nonbreaking_prefixes is already up-to-date!\n",
      "[nltk_data]    | Downloading package nps_chat to /root/nltk_data...\n",
      "[nltk_data]    |   Package nps_chat is already up-to-date!\n",
      "[nltk_data]    | Downloading package omw to /root/nltk_data...\n",
      "[nltk_data]    |   Package omw is already up-to-date!\n",
      "[nltk_data]    | Downloading package omw-1.4 to /root/nltk_data...\n",
      "[nltk_data]    |   Package omw-1.4 is already up-to-date!\n",
      "[nltk_data]    | Downloading package opinion_lexicon to\n",
      "[nltk_data]    |     /root/nltk_data...\n",
      "[nltk_data]    |   Package opinion_lexicon is already up-to-date!\n",
      "[nltk_data]    | Downloading package panlex_swadesh to\n",
      "[nltk_data]    |     /root/nltk_data...\n",
      "[nltk_data]    |   Package panlex_swadesh is already up-to-date!\n",
      "[nltk_data]    | Downloading package paradigms to /root/nltk_data...\n",
      "[nltk_data]    |   Package paradigms is already up-to-date!\n",
      "[nltk_data]    | Downloading package pe08 to /root/nltk_data...\n",
      "[nltk_data]    |   Package pe08 is already up-to-date!\n",
      "[nltk_data]    | Downloading package perluniprops to\n",
      "[nltk_data]    |     /root/nltk_data...\n",
      "[nltk_data]    |   Package perluniprops is already up-to-date!\n",
      "[nltk_data]    | Downloading package pil to /root/nltk_data...\n",
      "[nltk_data]    |   Package pil is already up-to-date!\n",
      "[nltk_data]    | Downloading package pl196x to /root/nltk_data...\n",
      "[nltk_data]    |   Package pl196x is already up-to-date!\n",
      "[nltk_data]    | Downloading package porter_test to /root/nltk_data...\n",
      "[nltk_data]    |   Package porter_test is already up-to-date!\n",
      "[nltk_data]    | Downloading package ppattach to /root/nltk_data...\n",
      "[nltk_data]    |   Package ppattach is already up-to-date!\n",
      "[nltk_data]    | Downloading package problem_reports to\n",
      "[nltk_data]    |     /root/nltk_data...\n",
      "[nltk_data]    |   Package problem_reports is already up-to-date!\n",
      "[nltk_data]    | Downloading package product_reviews_1 to\n",
      "[nltk_data]    |     /root/nltk_data...\n",
      "[nltk_data]    |   Package product_reviews_1 is already up-to-date!\n",
      "[nltk_data]    | Downloading package product_reviews_2 to\n",
      "[nltk_data]    |     /root/nltk_data...\n",
      "[nltk_data]    |   Package product_reviews_2 is already up-to-date!\n",
      "[nltk_data]    | Downloading package propbank to /root/nltk_data...\n",
      "[nltk_data]    |   Package propbank is already up-to-date!\n",
      "[nltk_data]    | Downloading package pros_cons to /root/nltk_data...\n",
      "[nltk_data]    |   Package pros_cons is already up-to-date!\n",
      "[nltk_data]    | Downloading package ptb to /root/nltk_data...\n",
      "[nltk_data]    |   Package ptb is already up-to-date!\n",
      "[nltk_data]    | Downloading package punkt to /root/nltk_data...\n",
      "[nltk_data]    |   Package punkt is already up-to-date!\n",
      "[nltk_data]    | Downloading package qc to /root/nltk_data...\n",
      "[nltk_data]    |   Package qc is already up-to-date!\n",
      "[nltk_data]    | Downloading package reuters to /root/nltk_data...\n",
      "[nltk_data]    |   Package reuters is already up-to-date!\n",
      "[nltk_data]    | Downloading package rslp to /root/nltk_data...\n",
      "[nltk_data]    |   Package rslp is already up-to-date!\n",
      "[nltk_data]    | Downloading package rte to /root/nltk_data...\n",
      "[nltk_data]    |   Package rte is already up-to-date!\n",
      "[nltk_data]    | Downloading package sample_grammars to\n",
      "[nltk_data]    |     /root/nltk_data...\n",
      "[nltk_data]    |   Package sample_grammars is already up-to-date!\n",
      "[nltk_data]    | Downloading package semcor to /root/nltk_data...\n",
      "[nltk_data]    |   Package semcor is already up-to-date!\n",
      "[nltk_data]    | Downloading package senseval to /root/nltk_data...\n",
      "[nltk_data]    |   Package senseval is already up-to-date!\n",
      "[nltk_data]    | Downloading package sentence_polarity to\n",
      "[nltk_data]    |     /root/nltk_data...\n",
      "[nltk_data]    |   Package sentence_polarity is already up-to-date!\n",
      "[nltk_data]    | Downloading package sentiwordnet to\n",
      "[nltk_data]    |     /root/nltk_data...\n",
      "[nltk_data]    |   Package sentiwordnet is already up-to-date!\n",
      "[nltk_data]    | Downloading package shakespeare to /root/nltk_data...\n",
      "[nltk_data]    |   Package shakespeare is already up-to-date!\n",
      "[nltk_data]    | Downloading package sinica_treebank to\n",
      "[nltk_data]    |     /root/nltk_data...\n",
      "[nltk_data]    |   Package sinica_treebank is already up-to-date!\n",
      "[nltk_data]    | Downloading package smultron to /root/nltk_data...\n",
      "[nltk_data]    |   Package smultron is already up-to-date!\n",
      "[nltk_data]    | Downloading package snowball_data to\n",
      "[nltk_data]    |     /root/nltk_data...\n",
      "[nltk_data]    |   Package snowball_data is already up-to-date!\n",
      "[nltk_data]    | Downloading package spanish_grammars to\n",
      "[nltk_data]    |     /root/nltk_data...\n",
      "[nltk_data]    |   Package spanish_grammars is already up-to-date!\n",
      "[nltk_data]    | Downloading package state_union to /root/nltk_data...\n",
      "[nltk_data]    |   Package state_union is already up-to-date!\n",
      "[nltk_data]    | Downloading package stopwords to /root/nltk_data...\n",
      "[nltk_data]    |   Package stopwords is already up-to-date!\n",
      "[nltk_data]    | Downloading package subjectivity to\n",
      "[nltk_data]    |     /root/nltk_data...\n",
      "[nltk_data]    |   Package subjectivity is already up-to-date!\n",
      "[nltk_data]    | Downloading package swadesh to /root/nltk_data...\n",
      "[nltk_data]    |   Package swadesh is already up-to-date!\n",
      "[nltk_data]    | Downloading package switchboard to /root/nltk_data...\n",
      "[nltk_data]    |   Package switchboard is already up-to-date!\n",
      "[nltk_data]    | Downloading package tagsets to /root/nltk_data...\n",
      "[nltk_data]    |   Package tagsets is already up-to-date!\n",
      "[nltk_data]    | Downloading package timit to /root/nltk_data...\n",
      "[nltk_data]    |   Package timit is already up-to-date!\n",
      "[nltk_data]    | Downloading package toolbox to /root/nltk_data...\n",
      "[nltk_data]    |   Package toolbox is already up-to-date!\n",
      "[nltk_data]    | Downloading package treebank to /root/nltk_data...\n",
      "[nltk_data]    |   Package treebank is already up-to-date!\n",
      "[nltk_data]    | Downloading package twitter_samples to\n",
      "[nltk_data]    |     /root/nltk_data...\n",
      "[nltk_data]    |   Package twitter_samples is already up-to-date!\n",
      "[nltk_data]    | Downloading package udhr to /root/nltk_data...\n",
      "[nltk_data]    |   Package udhr is already up-to-date!\n",
      "[nltk_data]    | Downloading package udhr2 to /root/nltk_data...\n",
      "[nltk_data]    |   Package udhr2 is already up-to-date!\n",
      "[nltk_data]    | Downloading package unicode_samples to\n",
      "[nltk_data]    |     /root/nltk_data...\n",
      "[nltk_data]    |   Package unicode_samples is already up-to-date!\n",
      "[nltk_data]    | Downloading package universal_tagset to\n",
      "[nltk_data]    |     /root/nltk_data...\n",
      "[nltk_data]    |   Package universal_tagset is already up-to-date!\n",
      "[nltk_data]    | Downloading package universal_treebanks_v20 to\n",
      "[nltk_data]    |     /root/nltk_data...\n",
      "[nltk_data]    |   Package universal_treebanks_v20 is already up-to-\n",
      "[nltk_data]    |       date!\n",
      "[nltk_data]    | Downloading package vader_lexicon to\n",
      "[nltk_data]    |     /root/nltk_data...\n",
      "[nltk_data]    |   Package vader_lexicon is already up-to-date!\n",
      "[nltk_data]    | Downloading package verbnet to /root/nltk_data...\n",
      "[nltk_data]    |   Package verbnet is already up-to-date!\n",
      "[nltk_data]    | Downloading package verbnet3 to /root/nltk_data...\n",
      "[nltk_data]    |   Package verbnet3 is already up-to-date!\n",
      "[nltk_data]    | Downloading package webtext to /root/nltk_data...\n",
      "[nltk_data]    |   Package webtext is already up-to-date!\n",
      "[nltk_data]    | Downloading package wmt15_eval to /root/nltk_data...\n",
      "[nltk_data]    |   Package wmt15_eval is already up-to-date!\n",
      "[nltk_data]    | Downloading package word2vec_sample to\n",
      "[nltk_data]    |     /root/nltk_data...\n",
      "[nltk_data]    |   Package word2vec_sample is already up-to-date!\n",
      "[nltk_data]    | Downloading package wordnet to /root/nltk_data...\n",
      "[nltk_data]    |   Package wordnet is already up-to-date!\n",
      "[nltk_data]    | Downloading package wordnet2021 to /root/nltk_data...\n",
      "[nltk_data]    |   Package wordnet2021 is already up-to-date!\n",
      "[nltk_data]    | Downloading package wordnet31 to /root/nltk_data...\n",
      "[nltk_data]    |   Package wordnet31 is already up-to-date!\n",
      "[nltk_data]    | Downloading package wordnet_ic to /root/nltk_data...\n",
      "[nltk_data]    |   Package wordnet_ic is already up-to-date!\n",
      "[nltk_data]    | Downloading package words to /root/nltk_data...\n",
      "[nltk_data]    |   Package words is already up-to-date!\n",
      "[nltk_data]    | Downloading package ycoe to /root/nltk_data...\n",
      "[nltk_data]    |   Package ycoe is already up-to-date!\n",
      "[nltk_data]    | \n",
      "[nltk_data]  Done downloading collection all\n"
     ]
    },
    {
     "name": "stdout",
     "output_type": "stream",
     "text": [
      "[nltk_data] Downloading package brown to /root/nltk_data...\n",
      "[nltk_data]   Package brown is already up-to-date!\n",
      "[nltk_data] Downloading package punkt to /root/nltk_data...\n",
      "[nltk_data]   Package punkt is already up-to-date!\n",
      "[nltk_data] Downloading package wordnet to /root/nltk_data...\n",
      "[nltk_data]   Package wordnet is already up-to-date!\n",
      "[nltk_data] Downloading package averaged_perceptron_tagger to\n",
      "[nltk_data]     /root/nltk_data...\n",
      "[nltk_data]   Package averaged_perceptron_tagger is already up-to-\n",
      "[nltk_data]       date!\n",
      "[nltk_data] Downloading package conll2000 to /root/nltk_data...\n",
      "[nltk_data]   Package conll2000 is already up-to-date!\n",
      "[nltk_data] Downloading package movie_reviews to /root/nltk_data...\n",
      "[nltk_data]   Package movie_reviews is already up-to-date!\n",
      "Finished.\n"
     ]
    }
   ],
   "source": [
    "# DOWNLOADING EXTRA FILES\n",
    "nltk.download('all')\n",
    "!python -m textblob.download_corpora"
   ]
  },
  {
   "cell_type": "markdown",
   "metadata": {
    "id": "cNiI7DQH7eG7"
   },
   "source": [
    "# GET THE DATA"
   ]
  },
  {
   "cell_type": "code",
   "execution_count": 8,
   "metadata": {
    "id": "43uazWbA8tjw"
   },
   "outputs": [],
   "source": [
    "from funcyou.dataset import download_kaggle_dataset"
   ]
  },
  {
   "cell_type": "code",
   "execution_count": 9,
   "metadata": {
    "colab": {
     "base_uri": "https://localhost:8080/"
    },
    "id": "f_GQR_s48q2h",
    "outputId": "63ebb69b-f95f-4829-b733-87cf54f5c948"
   },
   "outputs": [
    {
     "name": "stdout",
     "output_type": "stream",
     "text": [
      "Note: Make Sure you have agreed to Competition Rules. Else we can't download it\n",
      "kaggle competitions download -c fake-news\n",
      "0\n"
     ]
    }
   ],
   "source": [
    "# IMPORT THE DATA\n",
    "DATA_LINK = 'https://www.kaggle.com/competitions/fake-news/code'\n",
    "\n",
    "download_kaggle_dataset(url = DATA_LINK)"
   ]
  },
  {
   "cell_type": "code",
   "execution_count": 10,
   "metadata": {
    "colab": {
     "base_uri": "https://localhost:8080/"
    },
    "id": "oO9XUdXN9oa9",
    "outputId": "f4389757-665a-4301-daac-8b2139797fac"
   },
   "outputs": [
    {
     "name": "stdout",
     "output_type": "stream",
     "text": [
      "Archive:  fake-news.zip\n",
      "replace dataset/submit.csv? [y]es, [n]o, [A]ll, [N]one, [r]ename: N\n"
     ]
    }
   ],
   "source": [
    "# UNZIP THE DATA\n",
    "!unzip fake-news.zip -d dataset"
   ]
  },
  {
   "cell_type": "markdown",
   "metadata": {
    "id": "QCwL2MrT-twt"
   },
   "source": [
    "## READ THE DATA"
   ]
  },
  {
   "cell_type": "code",
   "execution_count": 11,
   "metadata": {
    "colab": {
     "base_uri": "https://localhost:8080/"
    },
    "id": "_yQOZPJV_GZX",
    "outputId": "3d67e863-e7d8-4d6c-9b05-fbc2112128b3"
   },
   "outputs": [
    {
     "name": "stdout",
     "output_type": "stream",
     "text": [
      "datset.shape:  (20800, 5)\n",
      "<class 'pandas.core.frame.DataFrame'>\n",
      "RangeIndex: 20800 entries, 0 to 20799\n",
      "Data columns (total 5 columns):\n",
      " #   Column  Non-Null Count  Dtype \n",
      "---  ------  --------------  ----- \n",
      " 0   id      20800 non-null  int64 \n",
      " 1   title   20242 non-null  object\n",
      " 2   author  18843 non-null  object\n",
      " 3   text    20761 non-null  object\n",
      " 4   label   20800 non-null  int64 \n",
      "dtypes: int64(2), object(3)\n",
      "memory usage: 812.6+ KB\n",
      "dataset info:  None\n"
     ]
    }
   ],
   "source": [
    "data = pd.read_csv('./dataset/train.csv')\n",
    "print('datset.shape: ',data.shape)\n",
    "print('dataset info: ',data.info())"
   ]
  },
  {
   "cell_type": "code",
   "execution_count": 12,
   "metadata": {
    "colab": {
     "base_uri": "https://localhost:8080/",
     "height": 363
    },
    "id": "KgpINmqF_GWi",
    "outputId": "1441fa5a-65f5-44cb-ca0a-ea171272831d"
   },
   "outputs": [
    {
     "data": {
      "text/html": [
       "\n",
       "  <div id=\"df-fe31cf01-93c9-4fa1-b824-85496e3686b6\">\n",
       "    <div class=\"colab-df-container\">\n",
       "      <div>\n",
       "<style scoped>\n",
       "    .dataframe tbody tr th:only-of-type {\n",
       "        vertical-align: middle;\n",
       "    }\n",
       "\n",
       "    .dataframe tbody tr th {\n",
       "        vertical-align: top;\n",
       "    }\n",
       "\n",
       "    .dataframe thead th {\n",
       "        text-align: right;\n",
       "    }\n",
       "</style>\n",
       "<table border=\"1\" class=\"dataframe\">\n",
       "  <thead>\n",
       "    <tr style=\"text-align: right;\">\n",
       "      <th></th>\n",
       "      <th>id</th>\n",
       "      <th>title</th>\n",
       "      <th>author</th>\n",
       "      <th>text</th>\n",
       "      <th>label</th>\n",
       "    </tr>\n",
       "  </thead>\n",
       "  <tbody>\n",
       "    <tr>\n",
       "      <th>2860</th>\n",
       "      <td>2860</td>\n",
       "      <td>NaN</td>\n",
       "      <td>greenanon</td>\n",
       "      <td>I will be a camera and would like to know if t...</td>\n",
       "      <td>1</td>\n",
       "    </tr>\n",
       "    <tr>\n",
       "      <th>12820</th>\n",
       "      <td>12820</td>\n",
       "      <td>Media Attempts to Portray Deep State Oppositio...</td>\n",
       "      <td>Ian Mason</td>\n",
       "      <td>Business Insider sought to assure its readers ...</td>\n",
       "      <td>0</td>\n",
       "    </tr>\n",
       "    <tr>\n",
       "      <th>15302</th>\n",
       "      <td>15302</td>\n",
       "      <td>OBSTRUCTION OF JUSTICE: The Clintons’ Long His...</td>\n",
       "      <td>Aaron Kesel</td>\n",
       "      <td>We Are Change \\n\\nBill and Hillary Clinton hav...</td>\n",
       "      <td>1</td>\n",
       "    </tr>\n",
       "    <tr>\n",
       "      <th>6362</th>\n",
       "      <td>6362</td>\n",
       "      <td>A Presidency from Hell?</td>\n",
       "      <td>wmw_admin</td>\n",
       "      <td>By wmw_admin on October 29, 2016 Pat Buchanan ...</td>\n",
       "      <td>1</td>\n",
       "    </tr>\n",
       "    <tr>\n",
       "      <th>6636</th>\n",
       "      <td>6636</td>\n",
       "      <td>Draw Down Continues: Kellogg’s Laying Off 200 ...</td>\n",
       "      <td>Warner Todd Huston</td>\n",
       "      <td>The boom has fallen on another 216 employees o...</td>\n",
       "      <td>0</td>\n",
       "    </tr>\n",
       "    <tr>\n",
       "      <th>8077</th>\n",
       "      <td>8077</td>\n",
       "      <td>Dead Voter Drive: video &amp; petition to stop dec...</td>\n",
       "      <td>hdr22</td>\n",
       "      <td>Channel list \\nFollowing hurricane Matthew's f...</td>\n",
       "      <td>1</td>\n",
       "    </tr>\n",
       "    <tr>\n",
       "      <th>19936</th>\n",
       "      <td>19936</td>\n",
       "      <td>URGENT: Donald Trump Just Called Out Obama for...</td>\n",
       "      <td>Danny Gold</td>\n",
       "      <td>If you love Donald Trump, then you are gonna r...</td>\n",
       "      <td>1</td>\n",
       "    </tr>\n",
       "    <tr>\n",
       "      <th>5397</th>\n",
       "      <td>5397</td>\n",
       "      <td>Sessions, at San Diego Border, Warns Californi...</td>\n",
       "      <td>Joel B. Pollak</td>\n",
       "      <td>SAN DIEGO  —   Secretary of Homeland Security ...</td>\n",
       "      <td>0</td>\n",
       "    </tr>\n",
       "    <tr>\n",
       "      <th>8234</th>\n",
       "      <td>8234</td>\n",
       "      <td>Liberalism Yet To Come: The Boundaries of the ...</td>\n",
       "      <td>Outis Philalithopoulos</td>\n",
       "      <td>by Outis Philalithopoulos In yesterday’s episo...</td>\n",
       "      <td>1</td>\n",
       "    </tr>\n",
       "    <tr>\n",
       "      <th>8408</th>\n",
       "      <td>8408</td>\n",
       "      <td>’No Border Wall’ Mural on State Property Depic...</td>\n",
       "      <td>Assemblyman Tim Donnelly</td>\n",
       "      <td>A mural painted on state property near San Die...</td>\n",
       "      <td>0</td>\n",
       "    </tr>\n",
       "  </tbody>\n",
       "</table>\n",
       "</div>\n",
       "      <button class=\"colab-df-convert\" onclick=\"convertToInteractive('df-fe31cf01-93c9-4fa1-b824-85496e3686b6')\"\n",
       "              title=\"Convert this dataframe to an interactive table.\"\n",
       "              style=\"display:none;\">\n",
       "        \n",
       "  <svg xmlns=\"http://www.w3.org/2000/svg\" height=\"24px\"viewBox=\"0 0 24 24\"\n",
       "       width=\"24px\">\n",
       "    <path d=\"M0 0h24v24H0V0z\" fill=\"none\"/>\n",
       "    <path d=\"M18.56 5.44l.94 2.06.94-2.06 2.06-.94-2.06-.94-.94-2.06-.94 2.06-2.06.94zm-11 1L8.5 8.5l.94-2.06 2.06-.94-2.06-.94L8.5 2.5l-.94 2.06-2.06.94zm10 10l.94 2.06.94-2.06 2.06-.94-2.06-.94-.94-2.06-.94 2.06-2.06.94z\"/><path d=\"M17.41 7.96l-1.37-1.37c-.4-.4-.92-.59-1.43-.59-.52 0-1.04.2-1.43.59L10.3 9.45l-7.72 7.72c-.78.78-.78 2.05 0 2.83L4 21.41c.39.39.9.59 1.41.59.51 0 1.02-.2 1.41-.59l7.78-7.78 2.81-2.81c.8-.78.8-2.07 0-2.86zM5.41 20L4 18.59l7.72-7.72 1.47 1.35L5.41 20z\"/>\n",
       "  </svg>\n",
       "      </button>\n",
       "      \n",
       "  <style>\n",
       "    .colab-df-container {\n",
       "      display:flex;\n",
       "      flex-wrap:wrap;\n",
       "      gap: 12px;\n",
       "    }\n",
       "\n",
       "    .colab-df-convert {\n",
       "      background-color: #E8F0FE;\n",
       "      border: none;\n",
       "      border-radius: 50%;\n",
       "      cursor: pointer;\n",
       "      display: none;\n",
       "      fill: #1967D2;\n",
       "      height: 32px;\n",
       "      padding: 0 0 0 0;\n",
       "      width: 32px;\n",
       "    }\n",
       "\n",
       "    .colab-df-convert:hover {\n",
       "      background-color: #E2EBFA;\n",
       "      box-shadow: 0px 1px 2px rgba(60, 64, 67, 0.3), 0px 1px 3px 1px rgba(60, 64, 67, 0.15);\n",
       "      fill: #174EA6;\n",
       "    }\n",
       "\n",
       "    [theme=dark] .colab-df-convert {\n",
       "      background-color: #3B4455;\n",
       "      fill: #D2E3FC;\n",
       "    }\n",
       "\n",
       "    [theme=dark] .colab-df-convert:hover {\n",
       "      background-color: #434B5C;\n",
       "      box-shadow: 0px 1px 3px 1px rgba(0, 0, 0, 0.15);\n",
       "      filter: drop-shadow(0px 1px 2px rgba(0, 0, 0, 0.3));\n",
       "      fill: #FFFFFF;\n",
       "    }\n",
       "  </style>\n",
       "\n",
       "      <script>\n",
       "        const buttonEl =\n",
       "          document.querySelector('#df-fe31cf01-93c9-4fa1-b824-85496e3686b6 button.colab-df-convert');\n",
       "        buttonEl.style.display =\n",
       "          google.colab.kernel.accessAllowed ? 'block' : 'none';\n",
       "\n",
       "        async function convertToInteractive(key) {\n",
       "          const element = document.querySelector('#df-fe31cf01-93c9-4fa1-b824-85496e3686b6');\n",
       "          const dataTable =\n",
       "            await google.colab.kernel.invokeFunction('convertToInteractive',\n",
       "                                                     [key], {});\n",
       "          if (!dataTable) return;\n",
       "\n",
       "          const docLinkHtml = 'Like what you see? Visit the ' +\n",
       "            '<a target=\"_blank\" href=https://colab.research.google.com/notebooks/data_table.ipynb>data table notebook</a>'\n",
       "            + ' to learn more about interactive tables.';\n",
       "          element.innerHTML = '';\n",
       "          dataTable['output_type'] = 'display_data';\n",
       "          await google.colab.output.renderOutput(dataTable, element);\n",
       "          const docLink = document.createElement('div');\n",
       "          docLink.innerHTML = docLinkHtml;\n",
       "          element.appendChild(docLink);\n",
       "        }\n",
       "      </script>\n",
       "    </div>\n",
       "  </div>\n",
       "  "
      ],
      "text/plain": [
       "          id                                              title  \\\n",
       "2860    2860                                                NaN   \n",
       "12820  12820  Media Attempts to Portray Deep State Oppositio...   \n",
       "15302  15302  OBSTRUCTION OF JUSTICE: The Clintons’ Long His...   \n",
       "6362    6362                            A Presidency from Hell?   \n",
       "6636    6636  Draw Down Continues: Kellogg’s Laying Off 200 ...   \n",
       "8077    8077  Dead Voter Drive: video & petition to stop dec...   \n",
       "19936  19936  URGENT: Donald Trump Just Called Out Obama for...   \n",
       "5397    5397  Sessions, at San Diego Border, Warns Californi...   \n",
       "8234    8234  Liberalism Yet To Come: The Boundaries of the ...   \n",
       "8408    8408  ’No Border Wall’ Mural on State Property Depic...   \n",
       "\n",
       "                         author  \\\n",
       "2860                  greenanon   \n",
       "12820                 Ian Mason   \n",
       "15302               Aaron Kesel   \n",
       "6362                  wmw_admin   \n",
       "6636         Warner Todd Huston   \n",
       "8077                      hdr22   \n",
       "19936                Danny Gold   \n",
       "5397             Joel B. Pollak   \n",
       "8234     Outis Philalithopoulos   \n",
       "8408   Assemblyman Tim Donnelly   \n",
       "\n",
       "                                                    text  label  \n",
       "2860   I will be a camera and would like to know if t...      1  \n",
       "12820  Business Insider sought to assure its readers ...      0  \n",
       "15302  We Are Change \\n\\nBill and Hillary Clinton hav...      1  \n",
       "6362   By wmw_admin on October 29, 2016 Pat Buchanan ...      1  \n",
       "6636   The boom has fallen on another 216 employees o...      0  \n",
       "8077   Channel list \\nFollowing hurricane Matthew's f...      1  \n",
       "19936  If you love Donald Trump, then you are gonna r...      1  \n",
       "5397   SAN DIEGO  —   Secretary of Homeland Security ...      0  \n",
       "8234   by Outis Philalithopoulos In yesterday’s episo...      1  \n",
       "8408   A mural painted on state property near San Die...      0  "
      ]
     },
     "execution_count": 12,
     "metadata": {},
     "output_type": "execute_result"
    }
   ],
   "source": [
    "data.sample(10)"
   ]
  },
  {
   "cell_type": "markdown",
   "metadata": {
    "id": "x0lIRYLU_GUr"
   },
   "source": [
    "\n",
    "\n",
    "Here We will be dropping `id` (unique value does not provide any value to \n",
    "\n",
    "instance) and `author` (to no create a biasness towards it)"
   ]
  },
  {
   "cell_type": "code",
   "execution_count": 13,
   "metadata": {
    "id": "s_hK1MAS_GTQ"
   },
   "outputs": [],
   "source": [
    "# DROPPING ID AND AUTHOR\n",
    "data.drop(['id','author'], axis = 1, inplace = True)"
   ]
  },
  {
   "cell_type": "code",
   "execution_count": 14,
   "metadata": {
    "colab": {
     "base_uri": "https://localhost:8080/",
     "height": 206
    },
    "id": "j56TeGol_GRr",
    "outputId": "2a468c9f-91d2-4027-ad76-bf1d4d31910a"
   },
   "outputs": [
    {
     "data": {
      "text/html": [
       "\n",
       "  <div id=\"df-9980b9bb-00e0-4034-a150-57782c94fc9c\">\n",
       "    <div class=\"colab-df-container\">\n",
       "      <div>\n",
       "<style scoped>\n",
       "    .dataframe tbody tr th:only-of-type {\n",
       "        vertical-align: middle;\n",
       "    }\n",
       "\n",
       "    .dataframe tbody tr th {\n",
       "        vertical-align: top;\n",
       "    }\n",
       "\n",
       "    .dataframe thead th {\n",
       "        text-align: right;\n",
       "    }\n",
       "</style>\n",
       "<table border=\"1\" class=\"dataframe\">\n",
       "  <thead>\n",
       "    <tr style=\"text-align: right;\">\n",
       "      <th></th>\n",
       "      <th>title</th>\n",
       "      <th>text</th>\n",
       "      <th>label</th>\n",
       "    </tr>\n",
       "  </thead>\n",
       "  <tbody>\n",
       "    <tr>\n",
       "      <th>17055</th>\n",
       "      <td>Isabelle Huppert: ‘The Best Way to Please Is N...</td>\n",
       "      <td>BEVERLY HILLS, Calif.  —   As she made for her...</td>\n",
       "      <td>0</td>\n",
       "    </tr>\n",
       "    <tr>\n",
       "      <th>6509</th>\n",
       "      <td>From Syrian Rubble to German Concert Halls Wit...</td>\n",
       "      <td>WIESBADEN, Germany  —   The pianist starts his...</td>\n",
       "      <td>0</td>\n",
       "    </tr>\n",
       "    <tr>\n",
       "      <th>20316</th>\n",
       "      <td>Palme d’Or Goes to a Ken Loach Film at Cannes ...</td>\n",
       "      <td>CANNES, France  —   The 69th Cannes Film Festi...</td>\n",
       "      <td>0</td>\n",
       "    </tr>\n",
       "    <tr>\n",
       "      <th>1920</th>\n",
       "      <td>Capitol Hill: Shots Fired Outside Rayburn Buil...</td>\n",
       "      <td>Multiple reports state gunshots were fired out...</td>\n",
       "      <td>0</td>\n",
       "    </tr>\n",
       "    <tr>\n",
       "      <th>11926</th>\n",
       "      <td>What to Cook This Week - The New York Times</td>\n",
       "      <td>Sam Sifton emails readers of Cooking five days...</td>\n",
       "      <td>0</td>\n",
       "    </tr>\n",
       "  </tbody>\n",
       "</table>\n",
       "</div>\n",
       "      <button class=\"colab-df-convert\" onclick=\"convertToInteractive('df-9980b9bb-00e0-4034-a150-57782c94fc9c')\"\n",
       "              title=\"Convert this dataframe to an interactive table.\"\n",
       "              style=\"display:none;\">\n",
       "        \n",
       "  <svg xmlns=\"http://www.w3.org/2000/svg\" height=\"24px\"viewBox=\"0 0 24 24\"\n",
       "       width=\"24px\">\n",
       "    <path d=\"M0 0h24v24H0V0z\" fill=\"none\"/>\n",
       "    <path d=\"M18.56 5.44l.94 2.06.94-2.06 2.06-.94-2.06-.94-.94-2.06-.94 2.06-2.06.94zm-11 1L8.5 8.5l.94-2.06 2.06-.94-2.06-.94L8.5 2.5l-.94 2.06-2.06.94zm10 10l.94 2.06.94-2.06 2.06-.94-2.06-.94-.94-2.06-.94 2.06-2.06.94z\"/><path d=\"M17.41 7.96l-1.37-1.37c-.4-.4-.92-.59-1.43-.59-.52 0-1.04.2-1.43.59L10.3 9.45l-7.72 7.72c-.78.78-.78 2.05 0 2.83L4 21.41c.39.39.9.59 1.41.59.51 0 1.02-.2 1.41-.59l7.78-7.78 2.81-2.81c.8-.78.8-2.07 0-2.86zM5.41 20L4 18.59l7.72-7.72 1.47 1.35L5.41 20z\"/>\n",
       "  </svg>\n",
       "      </button>\n",
       "      \n",
       "  <style>\n",
       "    .colab-df-container {\n",
       "      display:flex;\n",
       "      flex-wrap:wrap;\n",
       "      gap: 12px;\n",
       "    }\n",
       "\n",
       "    .colab-df-convert {\n",
       "      background-color: #E8F0FE;\n",
       "      border: none;\n",
       "      border-radius: 50%;\n",
       "      cursor: pointer;\n",
       "      display: none;\n",
       "      fill: #1967D2;\n",
       "      height: 32px;\n",
       "      padding: 0 0 0 0;\n",
       "      width: 32px;\n",
       "    }\n",
       "\n",
       "    .colab-df-convert:hover {\n",
       "      background-color: #E2EBFA;\n",
       "      box-shadow: 0px 1px 2px rgba(60, 64, 67, 0.3), 0px 1px 3px 1px rgba(60, 64, 67, 0.15);\n",
       "      fill: #174EA6;\n",
       "    }\n",
       "\n",
       "    [theme=dark] .colab-df-convert {\n",
       "      background-color: #3B4455;\n",
       "      fill: #D2E3FC;\n",
       "    }\n",
       "\n",
       "    [theme=dark] .colab-df-convert:hover {\n",
       "      background-color: #434B5C;\n",
       "      box-shadow: 0px 1px 3px 1px rgba(0, 0, 0, 0.15);\n",
       "      filter: drop-shadow(0px 1px 2px rgba(0, 0, 0, 0.3));\n",
       "      fill: #FFFFFF;\n",
       "    }\n",
       "  </style>\n",
       "\n",
       "      <script>\n",
       "        const buttonEl =\n",
       "          document.querySelector('#df-9980b9bb-00e0-4034-a150-57782c94fc9c button.colab-df-convert');\n",
       "        buttonEl.style.display =\n",
       "          google.colab.kernel.accessAllowed ? 'block' : 'none';\n",
       "\n",
       "        async function convertToInteractive(key) {\n",
       "          const element = document.querySelector('#df-9980b9bb-00e0-4034-a150-57782c94fc9c');\n",
       "          const dataTable =\n",
       "            await google.colab.kernel.invokeFunction('convertToInteractive',\n",
       "                                                     [key], {});\n",
       "          if (!dataTable) return;\n",
       "\n",
       "          const docLinkHtml = 'Like what you see? Visit the ' +\n",
       "            '<a target=\"_blank\" href=https://colab.research.google.com/notebooks/data_table.ipynb>data table notebook</a>'\n",
       "            + ' to learn more about interactive tables.';\n",
       "          element.innerHTML = '';\n",
       "          dataTable['output_type'] = 'display_data';\n",
       "          await google.colab.output.renderOutput(dataTable, element);\n",
       "          const docLink = document.createElement('div');\n",
       "          docLink.innerHTML = docLinkHtml;\n",
       "          element.appendChild(docLink);\n",
       "        }\n",
       "      </script>\n",
       "    </div>\n",
       "  </div>\n",
       "  "
      ],
      "text/plain": [
       "                                                   title  \\\n",
       "17055  Isabelle Huppert: ‘The Best Way to Please Is N...   \n",
       "6509   From Syrian Rubble to German Concert Halls Wit...   \n",
       "20316  Palme d’Or Goes to a Ken Loach Film at Cannes ...   \n",
       "1920   Capitol Hill: Shots Fired Outside Rayburn Buil...   \n",
       "11926        What to Cook This Week - The New York Times   \n",
       "\n",
       "                                                    text  label  \n",
       "17055  BEVERLY HILLS, Calif.  —   As she made for her...      0  \n",
       "6509   WIESBADEN, Germany  —   The pianist starts his...      0  \n",
       "20316  CANNES, France  —   The 69th Cannes Film Festi...      0  \n",
       "1920   Multiple reports state gunshots were fired out...      0  \n",
       "11926  Sam Sifton emails readers of Cooking five days...      0  "
      ]
     },
     "execution_count": 14,
     "metadata": {},
     "output_type": "execute_result"
    }
   ],
   "source": [
    "data.sample(5)"
   ]
  },
  {
   "cell_type": "markdown",
   "metadata": {
    "id": "qQ95Pq4E_GQA"
   },
   "source": [
    "# Preprocessing"
   ]
  },
  {
   "cell_type": "markdown",
   "metadata": {
    "id": "9dvnHFKuI89V"
   },
   "source": [
    "### Handling Missing values"
   ]
  },
  {
   "cell_type": "code",
   "execution_count": 15,
   "metadata": {
    "colab": {
     "base_uri": "https://localhost:8080/"
    },
    "id": "IpdIH1dE_GOc",
    "outputId": "6831b7f0-1753-4a30-f61f-c929604cf714"
   },
   "outputs": [
    {
     "data": {
      "text/plain": [
       "title    558\n",
       "text      39\n",
       "label      0\n",
       "dtype: int64"
      ]
     },
     "execution_count": 15,
     "metadata": {},
     "output_type": "execute_result"
    }
   ],
   "source": [
    "# CHECK FOR NAN VALUES\n",
    "data.isnull().sum()"
   ]
  },
  {
   "cell_type": "code",
   "execution_count": 16,
   "metadata": {
    "colab": {
     "base_uri": "https://localhost:8080/"
    },
    "id": "tsvnSrDE_GMx",
    "outputId": "eebd9388-ae4d-4357-89e9-97ffdb3eac82"
   },
   "outputs": [
    {
     "data": {
      "text/plain": [
       "(20800, 3)"
      ]
     },
     "execution_count": 16,
     "metadata": {},
     "output_type": "execute_result"
    }
   ],
   "source": [
    "data.shape"
   ]
  },
  {
   "cell_type": "code",
   "execution_count": 17,
   "metadata": {
    "colab": {
     "base_uri": "https://localhost:8080/"
    },
    "id": "tjndL91D_GJa",
    "outputId": "0c619ba1-2007-4b7f-9557-3f858bf531d7"
   },
   "outputs": [
    {
     "data": {
      "text/plain": [
       "(0, 3)"
      ]
     },
     "execution_count": 17,
     "metadata": {},
     "output_type": "execute_result"
    }
   ],
   "source": [
    "# CHECK IF TEXT AND TITLE IS MISSING TOGATHER\n",
    "data[(data['text'] == np.nan) & (data['title']== np.nan)].shape"
   ]
  },
  {
   "cell_type": "markdown",
   "metadata": {
    "id": "dOOZSlPIDKL6"
   },
   "source": [
    "There are no values where both 'text' and 'title' are missing"
   ]
  },
  {
   "cell_type": "code",
   "execution_count": 18,
   "metadata": {
    "id": "t8rYyhHFDg32"
   },
   "outputs": [],
   "source": [
    "text_nulls = data[data['text'].isnull()].index.tolist()\n",
    "title_nulls  = data[data['title'].isnull()].index.tolist()"
   ]
  },
  {
   "cell_type": "code",
   "execution_count": 19,
   "metadata": {
    "colab": {
     "base_uri": "https://localhost:8080/"
    },
    "id": "kkeN1DV6_GCG",
    "outputId": "caaa613d-d367-434a-9c53-ed80d2243a74"
   },
   "outputs": [
    {
     "name": "stdout",
     "output_type": "stream",
     "text": [
      "missing title values:  558\n",
      "missing title label counts:  1    558\n",
      "Name: label, dtype: int64\n",
      "\n",
      "missing text values:  39\n",
      "missing TEXT  label counts:  1    39\n",
      "Name: label, dtype: int64\n"
     ]
    }
   ],
   "source": [
    "# VALUE COUNTS OF MISSING TEXT AND TITLE\n",
    "print('missing title values: ', len(title_nulls))\n",
    "print('missing title label counts: ', data[data['title'].isnull()]['label'].value_counts())\n",
    "\n",
    "# VALUE COUNTS OF MISSING TITLE AND TITLE\n",
    "print('\\nmissing text values: ', len(text_nulls))\n",
    "print('missing TEXT  label counts: ', data[data['text'].isnull()]['label'].value_counts())\n"
   ]
  },
  {
   "cell_type": "markdown",
   "metadata": {
    "id": "uwAQ3rBu_GBC"
   },
   "source": [
    "Here we can see that if either text or title is missing then it is classified as Fake news explicitely"
   ]
  },
  {
   "cell_type": "markdown",
   "metadata": {
    "id": "R5EG8X5G_F_L"
   },
   "source": [
    "So, we dropping nulls"
   ]
  },
  {
   "cell_type": "code",
   "execution_count": 20,
   "metadata": {
    "colab": {
     "base_uri": "https://localhost:8080/"
    },
    "id": "xIsnv1Va_F9O",
    "outputId": "59f6daf8-e31e-42c0-b33a-fbe9e3671084"
   },
   "outputs": [
    {
     "name": "stdout",
     "output_type": "stream",
     "text": [
      "before dropping na:  (20800, 3)\n",
      "after dropping na:  (20203, 3)\n"
     ]
    }
   ],
   "source": [
    "print('before dropping na: ',data.shape)\n",
    "data.dropna(axis = 0, inplace = True)\n",
    "print('after dropping na: ',data.shape)"
   ]
  },
  {
   "cell_type": "markdown",
   "metadata": {
    "id": "i5o4v-xb_F7I"
   },
   "source": [
    "## Removing special characters"
   ]
  },
  {
   "cell_type": "code",
   "execution_count": 21,
   "metadata": {
    "id": "GNHjc1CR_F5v"
   },
   "outputs": [],
   "source": [
    "def remove_special_char(x, char_to_keep = [' ','.',',']):\n",
    "    return ''.join(e for e in str(x) if e.isalnum() or e in char_to_keep)"
   ]
  },
  {
   "cell_type": "code",
   "execution_count": 22,
   "metadata": {
    "colab": {
     "base_uri": "https://localhost:8080/"
    },
    "id": "7YrX7p--p_Z-",
    "outputId": "16e2fbd0-5484-4ec2-9cb7-9817667ce8bf"
   },
   "outputs": [
    {
     "name": "stdout",
     "output_type": "stream",
     "text": [
      "CPU times: user 16.9 s, sys: 168 ms, total: 17.1 s\n",
      "Wall time: 22.5 s\n"
     ]
    }
   ],
   "source": [
    "%%time\n",
    "data['text'] = data['text'].apply(lambda x: remove_special_char(x))\n",
    "data['title'] = data['title'].apply(lambda x: remove_special_char(x))"
   ]
  },
  {
   "cell_type": "code",
   "execution_count": 23,
   "metadata": {
    "colab": {
     "base_uri": "https://localhost:8080/",
     "height": 424
    },
    "id": "ZnD3K78L_F0e",
    "outputId": "14af2e15-fe5a-4927-b5b4-5a079fc853b7"
   },
   "outputs": [
    {
     "data": {
      "text/html": [
       "\n",
       "  <div id=\"df-5c165387-afbe-494e-82e7-8359cf48114f\">\n",
       "    <div class=\"colab-df-container\">\n",
       "      <div>\n",
       "<style scoped>\n",
       "    .dataframe tbody tr th:only-of-type {\n",
       "        vertical-align: middle;\n",
       "    }\n",
       "\n",
       "    .dataframe tbody tr th {\n",
       "        vertical-align: top;\n",
       "    }\n",
       "\n",
       "    .dataframe thead th {\n",
       "        text-align: right;\n",
       "    }\n",
       "</style>\n",
       "<table border=\"1\" class=\"dataframe\">\n",
       "  <thead>\n",
       "    <tr style=\"text-align: right;\">\n",
       "      <th></th>\n",
       "      <th>title</th>\n",
       "      <th>text</th>\n",
       "      <th>label</th>\n",
       "    </tr>\n",
       "  </thead>\n",
       "  <tbody>\n",
       "    <tr>\n",
       "      <th>0</th>\n",
       "      <td>House Dem Aide We Didnt Even See Comeys Letter...</td>\n",
       "      <td>House Dem Aide We Didnt Even See Comeys Letter...</td>\n",
       "      <td>1</td>\n",
       "    </tr>\n",
       "    <tr>\n",
       "      <th>1</th>\n",
       "      <td>FLYNN Hillary Clinton, Big Woman on Campus  Br...</td>\n",
       "      <td>Ever get the feeling your life circles the rou...</td>\n",
       "      <td>0</td>\n",
       "    </tr>\n",
       "    <tr>\n",
       "      <th>2</th>\n",
       "      <td>Why the Truth Might Get You Fired</td>\n",
       "      <td>Why the Truth Might Get You Fired October 29, ...</td>\n",
       "      <td>1</td>\n",
       "    </tr>\n",
       "    <tr>\n",
       "      <th>3</th>\n",
       "      <td>15 Civilians Killed In Single US Airstrike Hav...</td>\n",
       "      <td>Videos 15 Civilians Killed In Single US Airstr...</td>\n",
       "      <td>1</td>\n",
       "    </tr>\n",
       "    <tr>\n",
       "      <th>4</th>\n",
       "      <td>Iranian woman jailed for fictional unpublished...</td>\n",
       "      <td>Print An Iranian woman has been sentenced to s...</td>\n",
       "      <td>1</td>\n",
       "    </tr>\n",
       "    <tr>\n",
       "      <th>...</th>\n",
       "      <td>...</td>\n",
       "      <td>...</td>\n",
       "      <td>...</td>\n",
       "    </tr>\n",
       "    <tr>\n",
       "      <th>20795</th>\n",
       "      <td>Rapper T.I. Trump a Poster Child For White Sup...</td>\n",
       "      <td>Rapper T. I. unloaded on black celebrities who...</td>\n",
       "      <td>0</td>\n",
       "    </tr>\n",
       "    <tr>\n",
       "      <th>20796</th>\n",
       "      <td>N.F.L. Playoffs Schedule, Matchups and Odds  T...</td>\n",
       "      <td>When the Green Bay Packers lost to the Washing...</td>\n",
       "      <td>0</td>\n",
       "    </tr>\n",
       "    <tr>\n",
       "      <th>20797</th>\n",
       "      <td>Macys Is Said to Receive Takeover Approach by ...</td>\n",
       "      <td>The Macys of today grew from the union of seve...</td>\n",
       "      <td>0</td>\n",
       "    </tr>\n",
       "    <tr>\n",
       "      <th>20798</th>\n",
       "      <td>NATO, Russia To Hold Parallel Exercises In Bal...</td>\n",
       "      <td>NATO, Russia To Hold Parallel Exercises In Bal...</td>\n",
       "      <td>1</td>\n",
       "    </tr>\n",
       "    <tr>\n",
       "      <th>20799</th>\n",
       "      <td>What Keeps the F35 Alive</td>\n",
       "      <td>David Swanson is an author, activist, journa...</td>\n",
       "      <td>1</td>\n",
       "    </tr>\n",
       "  </tbody>\n",
       "</table>\n",
       "<p>20203 rows × 3 columns</p>\n",
       "</div>\n",
       "      <button class=\"colab-df-convert\" onclick=\"convertToInteractive('df-5c165387-afbe-494e-82e7-8359cf48114f')\"\n",
       "              title=\"Convert this dataframe to an interactive table.\"\n",
       "              style=\"display:none;\">\n",
       "        \n",
       "  <svg xmlns=\"http://www.w3.org/2000/svg\" height=\"24px\"viewBox=\"0 0 24 24\"\n",
       "       width=\"24px\">\n",
       "    <path d=\"M0 0h24v24H0V0z\" fill=\"none\"/>\n",
       "    <path d=\"M18.56 5.44l.94 2.06.94-2.06 2.06-.94-2.06-.94-.94-2.06-.94 2.06-2.06.94zm-11 1L8.5 8.5l.94-2.06 2.06-.94-2.06-.94L8.5 2.5l-.94 2.06-2.06.94zm10 10l.94 2.06.94-2.06 2.06-.94-2.06-.94-.94-2.06-.94 2.06-2.06.94z\"/><path d=\"M17.41 7.96l-1.37-1.37c-.4-.4-.92-.59-1.43-.59-.52 0-1.04.2-1.43.59L10.3 9.45l-7.72 7.72c-.78.78-.78 2.05 0 2.83L4 21.41c.39.39.9.59 1.41.59.51 0 1.02-.2 1.41-.59l7.78-7.78 2.81-2.81c.8-.78.8-2.07 0-2.86zM5.41 20L4 18.59l7.72-7.72 1.47 1.35L5.41 20z\"/>\n",
       "  </svg>\n",
       "      </button>\n",
       "      \n",
       "  <style>\n",
       "    .colab-df-container {\n",
       "      display:flex;\n",
       "      flex-wrap:wrap;\n",
       "      gap: 12px;\n",
       "    }\n",
       "\n",
       "    .colab-df-convert {\n",
       "      background-color: #E8F0FE;\n",
       "      border: none;\n",
       "      border-radius: 50%;\n",
       "      cursor: pointer;\n",
       "      display: none;\n",
       "      fill: #1967D2;\n",
       "      height: 32px;\n",
       "      padding: 0 0 0 0;\n",
       "      width: 32px;\n",
       "    }\n",
       "\n",
       "    .colab-df-convert:hover {\n",
       "      background-color: #E2EBFA;\n",
       "      box-shadow: 0px 1px 2px rgba(60, 64, 67, 0.3), 0px 1px 3px 1px rgba(60, 64, 67, 0.15);\n",
       "      fill: #174EA6;\n",
       "    }\n",
       "\n",
       "    [theme=dark] .colab-df-convert {\n",
       "      background-color: #3B4455;\n",
       "      fill: #D2E3FC;\n",
       "    }\n",
       "\n",
       "    [theme=dark] .colab-df-convert:hover {\n",
       "      background-color: #434B5C;\n",
       "      box-shadow: 0px 1px 3px 1px rgba(0, 0, 0, 0.15);\n",
       "      filter: drop-shadow(0px 1px 2px rgba(0, 0, 0, 0.3));\n",
       "      fill: #FFFFFF;\n",
       "    }\n",
       "  </style>\n",
       "\n",
       "      <script>\n",
       "        const buttonEl =\n",
       "          document.querySelector('#df-5c165387-afbe-494e-82e7-8359cf48114f button.colab-df-convert');\n",
       "        buttonEl.style.display =\n",
       "          google.colab.kernel.accessAllowed ? 'block' : 'none';\n",
       "\n",
       "        async function convertToInteractive(key) {\n",
       "          const element = document.querySelector('#df-5c165387-afbe-494e-82e7-8359cf48114f');\n",
       "          const dataTable =\n",
       "            await google.colab.kernel.invokeFunction('convertToInteractive',\n",
       "                                                     [key], {});\n",
       "          if (!dataTable) return;\n",
       "\n",
       "          const docLinkHtml = 'Like what you see? Visit the ' +\n",
       "            '<a target=\"_blank\" href=https://colab.research.google.com/notebooks/data_table.ipynb>data table notebook</a>'\n",
       "            + ' to learn more about interactive tables.';\n",
       "          element.innerHTML = '';\n",
       "          dataTable['output_type'] = 'display_data';\n",
       "          await google.colab.output.renderOutput(dataTable, element);\n",
       "          const docLink = document.createElement('div');\n",
       "          docLink.innerHTML = docLinkHtml;\n",
       "          element.appendChild(docLink);\n",
       "        }\n",
       "      </script>\n",
       "    </div>\n",
       "  </div>\n",
       "  "
      ],
      "text/plain": [
       "                                                   title  \\\n",
       "0      House Dem Aide We Didnt Even See Comeys Letter...   \n",
       "1      FLYNN Hillary Clinton, Big Woman on Campus  Br...   \n",
       "2                      Why the Truth Might Get You Fired   \n",
       "3      15 Civilians Killed In Single US Airstrike Hav...   \n",
       "4      Iranian woman jailed for fictional unpublished...   \n",
       "...                                                  ...   \n",
       "20795  Rapper T.I. Trump a Poster Child For White Sup...   \n",
       "20796  N.F.L. Playoffs Schedule, Matchups and Odds  T...   \n",
       "20797  Macys Is Said to Receive Takeover Approach by ...   \n",
       "20798  NATO, Russia To Hold Parallel Exercises In Bal...   \n",
       "20799                           What Keeps the F35 Alive   \n",
       "\n",
       "                                                    text  label  \n",
       "0      House Dem Aide We Didnt Even See Comeys Letter...      1  \n",
       "1      Ever get the feeling your life circles the rou...      0  \n",
       "2      Why the Truth Might Get You Fired October 29, ...      1  \n",
       "3      Videos 15 Civilians Killed In Single US Airstr...      1  \n",
       "4      Print An Iranian woman has been sentenced to s...      1  \n",
       "...                                                  ...    ...  \n",
       "20795  Rapper T. I. unloaded on black celebrities who...      0  \n",
       "20796  When the Green Bay Packers lost to the Washing...      0  \n",
       "20797  The Macys of today grew from the union of seve...      0  \n",
       "20798  NATO, Russia To Hold Parallel Exercises In Bal...      1  \n",
       "20799    David Swanson is an author, activist, journa...      1  \n",
       "\n",
       "[20203 rows x 3 columns]"
      ]
     },
     "execution_count": 23,
     "metadata": {},
     "output_type": "execute_result"
    }
   ],
   "source": [
    "data"
   ]
  },
  {
   "cell_type": "markdown",
   "metadata": {
    "id": "LwzjHm2v_FzJ"
   },
   "source": [
    "## Lowering all Words"
   ]
  },
  {
   "cell_type": "code",
   "execution_count": 24,
   "metadata": {
    "colab": {
     "base_uri": "https://localhost:8080/"
    },
    "id": "Iv6nLlGP_Fw4",
    "outputId": "6fe9b23d-f4ff-427f-d380-3eea75401531"
   },
   "outputs": [
    {
     "name": "stdout",
     "output_type": "stream",
     "text": [
      "CPU times: user 225 ms, sys: 10.8 ms, total: 236 ms\n",
      "Wall time: 280 ms\n"
     ]
    }
   ],
   "source": [
    "%%time\n",
    "data['text'] = data['text'].apply(lambda x: str(x).lower())\n",
    "data['title'] = data['title'].apply(lambda x: str(x).lower())"
   ]
  },
  {
   "cell_type": "code",
   "execution_count": 25,
   "metadata": {
    "colab": {
     "base_uri": "https://localhost:8080/",
     "height": 424
    },
    "id": "tAMzGdGv_FvP",
    "outputId": "a58d8c09-5553-4825-f37d-2d7d7ac5622c"
   },
   "outputs": [
    {
     "data": {
      "text/html": [
       "\n",
       "  <div id=\"df-71051b8a-8b82-474a-a226-0616a6598856\">\n",
       "    <div class=\"colab-df-container\">\n",
       "      <div>\n",
       "<style scoped>\n",
       "    .dataframe tbody tr th:only-of-type {\n",
       "        vertical-align: middle;\n",
       "    }\n",
       "\n",
       "    .dataframe tbody tr th {\n",
       "        vertical-align: top;\n",
       "    }\n",
       "\n",
       "    .dataframe thead th {\n",
       "        text-align: right;\n",
       "    }\n",
       "</style>\n",
       "<table border=\"1\" class=\"dataframe\">\n",
       "  <thead>\n",
       "    <tr style=\"text-align: right;\">\n",
       "      <th></th>\n",
       "      <th>title</th>\n",
       "      <th>text</th>\n",
       "      <th>label</th>\n",
       "    </tr>\n",
       "  </thead>\n",
       "  <tbody>\n",
       "    <tr>\n",
       "      <th>0</th>\n",
       "      <td>house dem aide we didnt even see comeys letter...</td>\n",
       "      <td>house dem aide we didnt even see comeys letter...</td>\n",
       "      <td>1</td>\n",
       "    </tr>\n",
       "    <tr>\n",
       "      <th>1</th>\n",
       "      <td>flynn hillary clinton, big woman on campus  br...</td>\n",
       "      <td>ever get the feeling your life circles the rou...</td>\n",
       "      <td>0</td>\n",
       "    </tr>\n",
       "    <tr>\n",
       "      <th>2</th>\n",
       "      <td>why the truth might get you fired</td>\n",
       "      <td>why the truth might get you fired october 29, ...</td>\n",
       "      <td>1</td>\n",
       "    </tr>\n",
       "    <tr>\n",
       "      <th>3</th>\n",
       "      <td>15 civilians killed in single us airstrike hav...</td>\n",
       "      <td>videos 15 civilians killed in single us airstr...</td>\n",
       "      <td>1</td>\n",
       "    </tr>\n",
       "    <tr>\n",
       "      <th>4</th>\n",
       "      <td>iranian woman jailed for fictional unpublished...</td>\n",
       "      <td>print an iranian woman has been sentenced to s...</td>\n",
       "      <td>1</td>\n",
       "    </tr>\n",
       "    <tr>\n",
       "      <th>...</th>\n",
       "      <td>...</td>\n",
       "      <td>...</td>\n",
       "      <td>...</td>\n",
       "    </tr>\n",
       "    <tr>\n",
       "      <th>20795</th>\n",
       "      <td>rapper t.i. trump a poster child for white sup...</td>\n",
       "      <td>rapper t. i. unloaded on black celebrities who...</td>\n",
       "      <td>0</td>\n",
       "    </tr>\n",
       "    <tr>\n",
       "      <th>20796</th>\n",
       "      <td>n.f.l. playoffs schedule, matchups and odds  t...</td>\n",
       "      <td>when the green bay packers lost to the washing...</td>\n",
       "      <td>0</td>\n",
       "    </tr>\n",
       "    <tr>\n",
       "      <th>20797</th>\n",
       "      <td>macys is said to receive takeover approach by ...</td>\n",
       "      <td>the macys of today grew from the union of seve...</td>\n",
       "      <td>0</td>\n",
       "    </tr>\n",
       "    <tr>\n",
       "      <th>20798</th>\n",
       "      <td>nato, russia to hold parallel exercises in bal...</td>\n",
       "      <td>nato, russia to hold parallel exercises in bal...</td>\n",
       "      <td>1</td>\n",
       "    </tr>\n",
       "    <tr>\n",
       "      <th>20799</th>\n",
       "      <td>what keeps the f35 alive</td>\n",
       "      <td>david swanson is an author, activist, journa...</td>\n",
       "      <td>1</td>\n",
       "    </tr>\n",
       "  </tbody>\n",
       "</table>\n",
       "<p>20203 rows × 3 columns</p>\n",
       "</div>\n",
       "      <button class=\"colab-df-convert\" onclick=\"convertToInteractive('df-71051b8a-8b82-474a-a226-0616a6598856')\"\n",
       "              title=\"Convert this dataframe to an interactive table.\"\n",
       "              style=\"display:none;\">\n",
       "        \n",
       "  <svg xmlns=\"http://www.w3.org/2000/svg\" height=\"24px\"viewBox=\"0 0 24 24\"\n",
       "       width=\"24px\">\n",
       "    <path d=\"M0 0h24v24H0V0z\" fill=\"none\"/>\n",
       "    <path d=\"M18.56 5.44l.94 2.06.94-2.06 2.06-.94-2.06-.94-.94-2.06-.94 2.06-2.06.94zm-11 1L8.5 8.5l.94-2.06 2.06-.94-2.06-.94L8.5 2.5l-.94 2.06-2.06.94zm10 10l.94 2.06.94-2.06 2.06-.94-2.06-.94-.94-2.06-.94 2.06-2.06.94z\"/><path d=\"M17.41 7.96l-1.37-1.37c-.4-.4-.92-.59-1.43-.59-.52 0-1.04.2-1.43.59L10.3 9.45l-7.72 7.72c-.78.78-.78 2.05 0 2.83L4 21.41c.39.39.9.59 1.41.59.51 0 1.02-.2 1.41-.59l7.78-7.78 2.81-2.81c.8-.78.8-2.07 0-2.86zM5.41 20L4 18.59l7.72-7.72 1.47 1.35L5.41 20z\"/>\n",
       "  </svg>\n",
       "      </button>\n",
       "      \n",
       "  <style>\n",
       "    .colab-df-container {\n",
       "      display:flex;\n",
       "      flex-wrap:wrap;\n",
       "      gap: 12px;\n",
       "    }\n",
       "\n",
       "    .colab-df-convert {\n",
       "      background-color: #E8F0FE;\n",
       "      border: none;\n",
       "      border-radius: 50%;\n",
       "      cursor: pointer;\n",
       "      display: none;\n",
       "      fill: #1967D2;\n",
       "      height: 32px;\n",
       "      padding: 0 0 0 0;\n",
       "      width: 32px;\n",
       "    }\n",
       "\n",
       "    .colab-df-convert:hover {\n",
       "      background-color: #E2EBFA;\n",
       "      box-shadow: 0px 1px 2px rgba(60, 64, 67, 0.3), 0px 1px 3px 1px rgba(60, 64, 67, 0.15);\n",
       "      fill: #174EA6;\n",
       "    }\n",
       "\n",
       "    [theme=dark] .colab-df-convert {\n",
       "      background-color: #3B4455;\n",
       "      fill: #D2E3FC;\n",
       "    }\n",
       "\n",
       "    [theme=dark] .colab-df-convert:hover {\n",
       "      background-color: #434B5C;\n",
       "      box-shadow: 0px 1px 3px 1px rgba(0, 0, 0, 0.15);\n",
       "      filter: drop-shadow(0px 1px 2px rgba(0, 0, 0, 0.3));\n",
       "      fill: #FFFFFF;\n",
       "    }\n",
       "  </style>\n",
       "\n",
       "      <script>\n",
       "        const buttonEl =\n",
       "          document.querySelector('#df-71051b8a-8b82-474a-a226-0616a6598856 button.colab-df-convert');\n",
       "        buttonEl.style.display =\n",
       "          google.colab.kernel.accessAllowed ? 'block' : 'none';\n",
       "\n",
       "        async function convertToInteractive(key) {\n",
       "          const element = document.querySelector('#df-71051b8a-8b82-474a-a226-0616a6598856');\n",
       "          const dataTable =\n",
       "            await google.colab.kernel.invokeFunction('convertToInteractive',\n",
       "                                                     [key], {});\n",
       "          if (!dataTable) return;\n",
       "\n",
       "          const docLinkHtml = 'Like what you see? Visit the ' +\n",
       "            '<a target=\"_blank\" href=https://colab.research.google.com/notebooks/data_table.ipynb>data table notebook</a>'\n",
       "            + ' to learn more about interactive tables.';\n",
       "          element.innerHTML = '';\n",
       "          dataTable['output_type'] = 'display_data';\n",
       "          await google.colab.output.renderOutput(dataTable, element);\n",
       "          const docLink = document.createElement('div');\n",
       "          docLink.innerHTML = docLinkHtml;\n",
       "          element.appendChild(docLink);\n",
       "        }\n",
       "      </script>\n",
       "    </div>\n",
       "  </div>\n",
       "  "
      ],
      "text/plain": [
       "                                                   title  \\\n",
       "0      house dem aide we didnt even see comeys letter...   \n",
       "1      flynn hillary clinton, big woman on campus  br...   \n",
       "2                      why the truth might get you fired   \n",
       "3      15 civilians killed in single us airstrike hav...   \n",
       "4      iranian woman jailed for fictional unpublished...   \n",
       "...                                                  ...   \n",
       "20795  rapper t.i. trump a poster child for white sup...   \n",
       "20796  n.f.l. playoffs schedule, matchups and odds  t...   \n",
       "20797  macys is said to receive takeover approach by ...   \n",
       "20798  nato, russia to hold parallel exercises in bal...   \n",
       "20799                           what keeps the f35 alive   \n",
       "\n",
       "                                                    text  label  \n",
       "0      house dem aide we didnt even see comeys letter...      1  \n",
       "1      ever get the feeling your life circles the rou...      0  \n",
       "2      why the truth might get you fired october 29, ...      1  \n",
       "3      videos 15 civilians killed in single us airstr...      1  \n",
       "4      print an iranian woman has been sentenced to s...      1  \n",
       "...                                                  ...    ...  \n",
       "20795  rapper t. i. unloaded on black celebrities who...      0  \n",
       "20796  when the green bay packers lost to the washing...      0  \n",
       "20797  the macys of today grew from the union of seve...      0  \n",
       "20798  nato, russia to hold parallel exercises in bal...      1  \n",
       "20799    david swanson is an author, activist, journa...      1  \n",
       "\n",
       "[20203 rows x 3 columns]"
      ]
     },
     "execution_count": 25,
     "metadata": {},
     "output_type": "execute_result"
    }
   ],
   "source": [
    "data"
   ]
  },
  {
   "cell_type": "markdown",
   "metadata": {
    "id": "ojR1GvPB_FtP"
   },
   "source": [
    "## Replacing Contractions"
   ]
  },
  {
   "cell_type": "code",
   "execution_count": 26,
   "metadata": {
    "cellView": "form",
    "id": "lAZExuJj_Fr9"
   },
   "outputs": [],
   "source": [
    "#@title this is contractions :: too long don't open\n",
    "contractions_dict = { \n",
    "\"ain't\": \"am not / are not / is not / has not / have not\",\n",
    "\"aren't\": \"are not / am not\",\n",
    "\"can't\": \"cannot\",\n",
    "\"can't've\": \"cannot have\",\n",
    "\"'cause\": \"because\",\n",
    "\"could've\": \"could have\",\n",
    "\"couldn't\": \"could not\",\n",
    "\"couldn't've\": \"could not have\",\n",
    "\"didn't\": \"did not\",\n",
    "\"doesn't\": \"does not\",\n",
    "\"don't\": \"do not\",\n",
    "\"hadn't\": \"had not\",\n",
    "\"hadn't've\": \"had not have\",\n",
    "\"hasn't\": \"has not\",\n",
    "\"haven't\": \"have not\",\n",
    "\"he'd\": \"he had / he would\",\n",
    "\"he'd've\": \"he would have\",\n",
    "\"he'll\": \"he shall / he will\",\n",
    "\"he'll've\": \"he shall have / he will have\",\n",
    "\"he's\": \"he has / he is\",\n",
    "\"how'd\": \"how did\",\n",
    "\"how'd'y\": \"how do you\",\n",
    "\"how'll\": \"how will\",\n",
    "\"how's\": \"how has / how is / how does\",\n",
    "\"I'd\": \"I had / I would\",\n",
    "\"I'd've\": \"I would have\",\n",
    "\"I'll\": \"I shall / I will\",\n",
    "\"I'll've\": \"I shall have / I will have\",\n",
    "\"I'm\": \"I am\",\n",
    "\"I've\": \"I have\",\n",
    "\"isn't\": \"is not\",\n",
    "\"it'd\": \"it had / it would\",\n",
    "\"it'd've\": \"it would have\",\n",
    "\"it'll\": \"it shall / it will\",\n",
    "\"it'll've\": \"it shall have / it will have\",\n",
    "\"it's\": \"it has / it is\",\n",
    "\"let's\": \"let us\",\n",
    "\"ma'am\": \"madam\",\n",
    "\"mayn't\": \"may not\",\n",
    "\"might've\": \"might have\",\n",
    "\"mightn't\": \"might not\",\n",
    "\"mightn't've\": \"might not have\",\n",
    "\"must've\": \"must have\",\n",
    "\"mustn't\": \"must not\",\n",
    "\"mustn't've\": \"must not have\",\n",
    "\"needn't\": \"need not\",\n",
    "\"needn't've\": \"need not have\",\n",
    "\"o'clock\": \"of the clock\",\n",
    "\"oughtn't\": \"ought not\",\n",
    "\"oughtn't've\": \"ought not have\",\n",
    "\"shan't\": \"shall not\",\n",
    "\"sha'n't\": \"shall not\",\n",
    "\"shan't've\": \"shall not have\",\n",
    "\"she'd\": \"she had / she would\",\n",
    "\"she'd've\": \"she would have\",\n",
    "\"she'll\": \"she shall / she will\",\n",
    "\"she'll've\": \"she shall have / she will have\",\n",
    "\"she's\": \"she has / she is\",\n",
    "\"should've\": \"should have\",\n",
    "\"shouldn't\": \"should not\",\n",
    "\"shouldn't've\": \"should not have\",\n",
    "\"so've\": \"so have\",\n",
    "\"so's\": \"so as / so is\",\n",
    "\"that'd\": \"that would / that had\",\n",
    "\"that'd've\": \"that would have\",\n",
    "\"that's\": \"that has / that is\",\n",
    "\"there'd\": \"there had / there would\",\n",
    "\"there'd've\": \"there would have\",\n",
    "\"there's\": \"there has / there is\",\n",
    "\"they'd\": \"they had / they would\",\n",
    "\"they'd've\": \"they would have\",\n",
    "\"they'll\": \"they shall / they will\",\n",
    "\"they'll've\": \"they shall have / they will have\",\n",
    "\"they're\": \"they are\",\n",
    "\"they've\": \"they have\",\n",
    "\"to've\": \"to have\",\n",
    "\"wasn't\": \"was not\",\n",
    "\"we'd\": \"we had / we would\",\n",
    "\"we'd've\": \"we would have\",\n",
    "\"we'll\": \"we will\",\n",
    "\"we'll've\": \"we will have\",\n",
    "\"we're\": \"we are\",\n",
    "\"we've\": \"we have\",\n",
    "\"weren't\": \"were not\",\n",
    "\"what'll\": \"what shall / what will\",\n",
    "\"what'll've\": \"what shall have / what will have\",\n",
    "\"what're\": \"what are\",\n",
    "\"what's\": \"what has / what is\",\n",
    "\"what've\": \"what have\",\n",
    "\"when's\": \"when has / when is\",\n",
    "\"when've\": \"when have\",\n",
    "\"where'd\": \"where did\",\n",
    "\"where's\": \"where has / where is\",\n",
    "\"where've\": \"where have\",\n",
    "\"who'll\": \"who shall / who will\",\n",
    "\"who'll've\": \"who shall have / who will have\",\n",
    "\"who's\": \"who has / who is\",\n",
    "\"who've\": \"who have\",\n",
    "\"why's\": \"why has / why is\",\n",
    "\"why've\": \"why have\",\n",
    "\"will've\": \"will have\",\n",
    "\"won't\": \"will not\",\n",
    "\"won't've\": \"will not have\",\n",
    "\"would've\": \"would have\",\n",
    "\"wouldn't\": \"would not\",\n",
    "\"wouldn't've\": \"would not have\",\n",
    "\"y'all\": \"you all\",\n",
    "\"y'all'd\": \"you all would\",\n",
    "\"y'all'd've\": \"you all would have\",\n",
    "\"y'all're\": \"you all are\",\n",
    "\"y'all've\": \"you all have\",\n",
    "\"you'd\": \"you had / you would\",\n",
    "\"you'd've\": \"you would have\",\n",
    "\"you'll\": \"you shall / you will\",\n",
    "\"you'll've\": \"you shall have / you will have\",\n",
    "\"you're\": \"you are\",\n",
    "\"you've\": \"you have\"\n",
    "}"
   ]
  },
  {
   "cell_type": "code",
   "execution_count": 27,
   "metadata": {
    "colab": {
     "base_uri": "https://localhost:8080/",
     "height": 206
    },
    "id": "YzuJnxL0_FqB",
    "outputId": "80e5b2b9-8990-4a4d-eff7-47462c2068a1"
   },
   "outputs": [
    {
     "data": {
      "text/html": [
       "\n",
       "  <div id=\"df-50cd472d-bcf1-45a5-96fc-c2c347616cd0\">\n",
       "    <div class=\"colab-df-container\">\n",
       "      <div>\n",
       "<style scoped>\n",
       "    .dataframe tbody tr th:only-of-type {\n",
       "        vertical-align: middle;\n",
       "    }\n",
       "\n",
       "    .dataframe tbody tr th {\n",
       "        vertical-align: top;\n",
       "    }\n",
       "\n",
       "    .dataframe thead th {\n",
       "        text-align: right;\n",
       "    }\n",
       "</style>\n",
       "<table border=\"1\" class=\"dataframe\">\n",
       "  <thead>\n",
       "    <tr style=\"text-align: right;\">\n",
       "      <th></th>\n",
       "      <th>cont</th>\n",
       "      <th>exp</th>\n",
       "    </tr>\n",
       "  </thead>\n",
       "  <tbody>\n",
       "    <tr>\n",
       "      <th>0</th>\n",
       "      <td>ain't</td>\n",
       "      <td>am not / are not / is not / has not / have not</td>\n",
       "    </tr>\n",
       "    <tr>\n",
       "      <th>1</th>\n",
       "      <td>aren't</td>\n",
       "      <td>are not / am not</td>\n",
       "    </tr>\n",
       "    <tr>\n",
       "      <th>2</th>\n",
       "      <td>can't</td>\n",
       "      <td>cannot</td>\n",
       "    </tr>\n",
       "    <tr>\n",
       "      <th>3</th>\n",
       "      <td>can't've</td>\n",
       "      <td>cannot have</td>\n",
       "    </tr>\n",
       "    <tr>\n",
       "      <th>4</th>\n",
       "      <td>'cause</td>\n",
       "      <td>because</td>\n",
       "    </tr>\n",
       "  </tbody>\n",
       "</table>\n",
       "</div>\n",
       "      <button class=\"colab-df-convert\" onclick=\"convertToInteractive('df-50cd472d-bcf1-45a5-96fc-c2c347616cd0')\"\n",
       "              title=\"Convert this dataframe to an interactive table.\"\n",
       "              style=\"display:none;\">\n",
       "        \n",
       "  <svg xmlns=\"http://www.w3.org/2000/svg\" height=\"24px\"viewBox=\"0 0 24 24\"\n",
       "       width=\"24px\">\n",
       "    <path d=\"M0 0h24v24H0V0z\" fill=\"none\"/>\n",
       "    <path d=\"M18.56 5.44l.94 2.06.94-2.06 2.06-.94-2.06-.94-.94-2.06-.94 2.06-2.06.94zm-11 1L8.5 8.5l.94-2.06 2.06-.94-2.06-.94L8.5 2.5l-.94 2.06-2.06.94zm10 10l.94 2.06.94-2.06 2.06-.94-2.06-.94-.94-2.06-.94 2.06-2.06.94z\"/><path d=\"M17.41 7.96l-1.37-1.37c-.4-.4-.92-.59-1.43-.59-.52 0-1.04.2-1.43.59L10.3 9.45l-7.72 7.72c-.78.78-.78 2.05 0 2.83L4 21.41c.39.39.9.59 1.41.59.51 0 1.02-.2 1.41-.59l7.78-7.78 2.81-2.81c.8-.78.8-2.07 0-2.86zM5.41 20L4 18.59l7.72-7.72 1.47 1.35L5.41 20z\"/>\n",
       "  </svg>\n",
       "      </button>\n",
       "      \n",
       "  <style>\n",
       "    .colab-df-container {\n",
       "      display:flex;\n",
       "      flex-wrap:wrap;\n",
       "      gap: 12px;\n",
       "    }\n",
       "\n",
       "    .colab-df-convert {\n",
       "      background-color: #E8F0FE;\n",
       "      border: none;\n",
       "      border-radius: 50%;\n",
       "      cursor: pointer;\n",
       "      display: none;\n",
       "      fill: #1967D2;\n",
       "      height: 32px;\n",
       "      padding: 0 0 0 0;\n",
       "      width: 32px;\n",
       "    }\n",
       "\n",
       "    .colab-df-convert:hover {\n",
       "      background-color: #E2EBFA;\n",
       "      box-shadow: 0px 1px 2px rgba(60, 64, 67, 0.3), 0px 1px 3px 1px rgba(60, 64, 67, 0.15);\n",
       "      fill: #174EA6;\n",
       "    }\n",
       "\n",
       "    [theme=dark] .colab-df-convert {\n",
       "      background-color: #3B4455;\n",
       "      fill: #D2E3FC;\n",
       "    }\n",
       "\n",
       "    [theme=dark] .colab-df-convert:hover {\n",
       "      background-color: #434B5C;\n",
       "      box-shadow: 0px 1px 3px 1px rgba(0, 0, 0, 0.15);\n",
       "      filter: drop-shadow(0px 1px 2px rgba(0, 0, 0, 0.3));\n",
       "      fill: #FFFFFF;\n",
       "    }\n",
       "  </style>\n",
       "\n",
       "      <script>\n",
       "        const buttonEl =\n",
       "          document.querySelector('#df-50cd472d-bcf1-45a5-96fc-c2c347616cd0 button.colab-df-convert');\n",
       "        buttonEl.style.display =\n",
       "          google.colab.kernel.accessAllowed ? 'block' : 'none';\n",
       "\n",
       "        async function convertToInteractive(key) {\n",
       "          const element = document.querySelector('#df-50cd472d-bcf1-45a5-96fc-c2c347616cd0');\n",
       "          const dataTable =\n",
       "            await google.colab.kernel.invokeFunction('convertToInteractive',\n",
       "                                                     [key], {});\n",
       "          if (!dataTable) return;\n",
       "\n",
       "          const docLinkHtml = 'Like what you see? Visit the ' +\n",
       "            '<a target=\"_blank\" href=https://colab.research.google.com/notebooks/data_table.ipynb>data table notebook</a>'\n",
       "            + ' to learn more about interactive tables.';\n",
       "          element.innerHTML = '';\n",
       "          dataTable['output_type'] = 'display_data';\n",
       "          await google.colab.output.renderOutput(dataTable, element);\n",
       "          const docLink = document.createElement('div');\n",
       "          docLink.innerHTML = docLinkHtml;\n",
       "          element.appendChild(docLink);\n",
       "        }\n",
       "      </script>\n",
       "    </div>\n",
       "  </div>\n",
       "  "
      ],
      "text/plain": [
       "       cont                                             exp\n",
       "0     ain't  am not / are not / is not / has not / have not\n",
       "1    aren't                                are not / am not\n",
       "2     can't                                          cannot\n",
       "3  can't've                                     cannot have\n",
       "4    'cause                                         because"
      ]
     },
     "execution_count": 27,
     "metadata": {},
     "output_type": "execute_result"
    }
   ],
   "source": [
    "contractions = pd.DataFrame({'cont':contractions_dict.keys(),\n",
    "                             'exp': contractions_dict.values()})\n",
    "contractions.head()"
   ]
  },
  {
   "cell_type": "code",
   "execution_count": 28,
   "metadata": {
    "id": "eYV_htZDv01z"
   },
   "outputs": [],
   "source": [
    "ss = \"you ain't shit, y'all shit\""
   ]
  },
  {
   "cell_type": "code",
   "execution_count": 29,
   "metadata": {
    "id": "hm70b9MM_FlV"
   },
   "outputs": [],
   "source": [
    "# FUNCTIONS TO EXPAND CONTRACTIONS\n",
    "def cont_to_exp(x):\n",
    "    exp_sentence = []\n",
    "    for s in x.split():\n",
    "        if s in contractions_dict.keys():\n",
    "            s = contractions_dict.get(s)\n",
    "        exp_sentence.append(s)\n",
    "\n",
    "    return ' '.join(exp_sentence)"
   ]
  },
  {
   "cell_type": "code",
   "execution_count": 30,
   "metadata": {
    "colab": {
     "base_uri": "https://localhost:8080/",
     "height": 35
    },
    "id": "DSpdf_q9_Fi9",
    "outputId": "a177d411-49ec-4557-8e73-80fab3fcafbf"
   },
   "outputs": [
    {
     "data": {
      "application/vnd.google.colaboratory.intrinsic+json": {
       "type": "string"
      },
      "text/plain": [
       "'you am not / are not / is not / has not / have not shit, you all shit'"
      ]
     },
     "execution_count": 30,
     "metadata": {},
     "output_type": "execute_result"
    }
   ],
   "source": [
    "cont_to_exp(ss)"
   ]
  },
  {
   "cell_type": "code",
   "execution_count": 31,
   "metadata": {
    "colab": {
     "base_uri": "https://localhost:8080/"
    },
    "id": "0nMow2Yn_FiA",
    "outputId": "7f31c99a-791f-4396-c29a-98371e10175e"
   },
   "outputs": [
    {
     "name": "stdout",
     "output_type": "stream",
     "text": [
      "CPU times: user 4.2 s, sys: 11.8 ms, total: 4.21 s\n",
      "Wall time: 4.5 s\n"
     ]
    }
   ],
   "source": [
    "%%time\n",
    "data['text'] = data['text'].apply(lambda x: cont_to_exp(x))\n",
    "data['title'] = data['title'].apply(lambda x: cont_to_exp(x))"
   ]
  },
  {
   "cell_type": "code",
   "execution_count": 32,
   "metadata": {
    "colab": {
     "base_uri": "https://localhost:8080/",
     "height": 424
    },
    "id": "TtHCVDcH_FgD",
    "outputId": "741c93e0-b13d-492f-f850-0bbd41c17589"
   },
   "outputs": [
    {
     "data": {
      "text/html": [
       "\n",
       "  <div id=\"df-5aa8389f-82a7-4279-8d76-8910661c070d\">\n",
       "    <div class=\"colab-df-container\">\n",
       "      <div>\n",
       "<style scoped>\n",
       "    .dataframe tbody tr th:only-of-type {\n",
       "        vertical-align: middle;\n",
       "    }\n",
       "\n",
       "    .dataframe tbody tr th {\n",
       "        vertical-align: top;\n",
       "    }\n",
       "\n",
       "    .dataframe thead th {\n",
       "        text-align: right;\n",
       "    }\n",
       "</style>\n",
       "<table border=\"1\" class=\"dataframe\">\n",
       "  <thead>\n",
       "    <tr style=\"text-align: right;\">\n",
       "      <th></th>\n",
       "      <th>title</th>\n",
       "      <th>text</th>\n",
       "      <th>label</th>\n",
       "    </tr>\n",
       "  </thead>\n",
       "  <tbody>\n",
       "    <tr>\n",
       "      <th>0</th>\n",
       "      <td>house dem aide we didnt even see comeys letter...</td>\n",
       "      <td>house dem aide we didnt even see comeys letter...</td>\n",
       "      <td>1</td>\n",
       "    </tr>\n",
       "    <tr>\n",
       "      <th>1</th>\n",
       "      <td>flynn hillary clinton, big woman on campus bre...</td>\n",
       "      <td>ever get the feeling your life circles the rou...</td>\n",
       "      <td>0</td>\n",
       "    </tr>\n",
       "    <tr>\n",
       "      <th>2</th>\n",
       "      <td>why the truth might get you fired</td>\n",
       "      <td>why the truth might get you fired october 29, ...</td>\n",
       "      <td>1</td>\n",
       "    </tr>\n",
       "    <tr>\n",
       "      <th>3</th>\n",
       "      <td>15 civilians killed in single us airstrike hav...</td>\n",
       "      <td>videos 15 civilians killed in single us airstr...</td>\n",
       "      <td>1</td>\n",
       "    </tr>\n",
       "    <tr>\n",
       "      <th>4</th>\n",
       "      <td>iranian woman jailed for fictional unpublished...</td>\n",
       "      <td>print an iranian woman has been sentenced to s...</td>\n",
       "      <td>1</td>\n",
       "    </tr>\n",
       "    <tr>\n",
       "      <th>...</th>\n",
       "      <td>...</td>\n",
       "      <td>...</td>\n",
       "      <td>...</td>\n",
       "    </tr>\n",
       "    <tr>\n",
       "      <th>20795</th>\n",
       "      <td>rapper t.i. trump a poster child for white sup...</td>\n",
       "      <td>rapper t. i. unloaded on black celebrities who...</td>\n",
       "      <td>0</td>\n",
       "    </tr>\n",
       "    <tr>\n",
       "      <th>20796</th>\n",
       "      <td>n.f.l. playoffs schedule, matchups and odds th...</td>\n",
       "      <td>when the green bay packers lost to the washing...</td>\n",
       "      <td>0</td>\n",
       "    </tr>\n",
       "    <tr>\n",
       "      <th>20797</th>\n",
       "      <td>macys is said to receive takeover approach by ...</td>\n",
       "      <td>the macys of today grew from the union of seve...</td>\n",
       "      <td>0</td>\n",
       "    </tr>\n",
       "    <tr>\n",
       "      <th>20798</th>\n",
       "      <td>nato, russia to hold parallel exercises in bal...</td>\n",
       "      <td>nato, russia to hold parallel exercises in bal...</td>\n",
       "      <td>1</td>\n",
       "    </tr>\n",
       "    <tr>\n",
       "      <th>20799</th>\n",
       "      <td>what keeps the f35 alive</td>\n",
       "      <td>david swanson is an author, activist, journali...</td>\n",
       "      <td>1</td>\n",
       "    </tr>\n",
       "  </tbody>\n",
       "</table>\n",
       "<p>20203 rows × 3 columns</p>\n",
       "</div>\n",
       "      <button class=\"colab-df-convert\" onclick=\"convertToInteractive('df-5aa8389f-82a7-4279-8d76-8910661c070d')\"\n",
       "              title=\"Convert this dataframe to an interactive table.\"\n",
       "              style=\"display:none;\">\n",
       "        \n",
       "  <svg xmlns=\"http://www.w3.org/2000/svg\" height=\"24px\"viewBox=\"0 0 24 24\"\n",
       "       width=\"24px\">\n",
       "    <path d=\"M0 0h24v24H0V0z\" fill=\"none\"/>\n",
       "    <path d=\"M18.56 5.44l.94 2.06.94-2.06 2.06-.94-2.06-.94-.94-2.06-.94 2.06-2.06.94zm-11 1L8.5 8.5l.94-2.06 2.06-.94-2.06-.94L8.5 2.5l-.94 2.06-2.06.94zm10 10l.94 2.06.94-2.06 2.06-.94-2.06-.94-.94-2.06-.94 2.06-2.06.94z\"/><path d=\"M17.41 7.96l-1.37-1.37c-.4-.4-.92-.59-1.43-.59-.52 0-1.04.2-1.43.59L10.3 9.45l-7.72 7.72c-.78.78-.78 2.05 0 2.83L4 21.41c.39.39.9.59 1.41.59.51 0 1.02-.2 1.41-.59l7.78-7.78 2.81-2.81c.8-.78.8-2.07 0-2.86zM5.41 20L4 18.59l7.72-7.72 1.47 1.35L5.41 20z\"/>\n",
       "  </svg>\n",
       "      </button>\n",
       "      \n",
       "  <style>\n",
       "    .colab-df-container {\n",
       "      display:flex;\n",
       "      flex-wrap:wrap;\n",
       "      gap: 12px;\n",
       "    }\n",
       "\n",
       "    .colab-df-convert {\n",
       "      background-color: #E8F0FE;\n",
       "      border: none;\n",
       "      border-radius: 50%;\n",
       "      cursor: pointer;\n",
       "      display: none;\n",
       "      fill: #1967D2;\n",
       "      height: 32px;\n",
       "      padding: 0 0 0 0;\n",
       "      width: 32px;\n",
       "    }\n",
       "\n",
       "    .colab-df-convert:hover {\n",
       "      background-color: #E2EBFA;\n",
       "      box-shadow: 0px 1px 2px rgba(60, 64, 67, 0.3), 0px 1px 3px 1px rgba(60, 64, 67, 0.15);\n",
       "      fill: #174EA6;\n",
       "    }\n",
       "\n",
       "    [theme=dark] .colab-df-convert {\n",
       "      background-color: #3B4455;\n",
       "      fill: #D2E3FC;\n",
       "    }\n",
       "\n",
       "    [theme=dark] .colab-df-convert:hover {\n",
       "      background-color: #434B5C;\n",
       "      box-shadow: 0px 1px 3px 1px rgba(0, 0, 0, 0.15);\n",
       "      filter: drop-shadow(0px 1px 2px rgba(0, 0, 0, 0.3));\n",
       "      fill: #FFFFFF;\n",
       "    }\n",
       "  </style>\n",
       "\n",
       "      <script>\n",
       "        const buttonEl =\n",
       "          document.querySelector('#df-5aa8389f-82a7-4279-8d76-8910661c070d button.colab-df-convert');\n",
       "        buttonEl.style.display =\n",
       "          google.colab.kernel.accessAllowed ? 'block' : 'none';\n",
       "\n",
       "        async function convertToInteractive(key) {\n",
       "          const element = document.querySelector('#df-5aa8389f-82a7-4279-8d76-8910661c070d');\n",
       "          const dataTable =\n",
       "            await google.colab.kernel.invokeFunction('convertToInteractive',\n",
       "                                                     [key], {});\n",
       "          if (!dataTable) return;\n",
       "\n",
       "          const docLinkHtml = 'Like what you see? Visit the ' +\n",
       "            '<a target=\"_blank\" href=https://colab.research.google.com/notebooks/data_table.ipynb>data table notebook</a>'\n",
       "            + ' to learn more about interactive tables.';\n",
       "          element.innerHTML = '';\n",
       "          dataTable['output_type'] = 'display_data';\n",
       "          await google.colab.output.renderOutput(dataTable, element);\n",
       "          const docLink = document.createElement('div');\n",
       "          docLink.innerHTML = docLinkHtml;\n",
       "          element.appendChild(docLink);\n",
       "        }\n",
       "      </script>\n",
       "    </div>\n",
       "  </div>\n",
       "  "
      ],
      "text/plain": [
       "                                                   title  \\\n",
       "0      house dem aide we didnt even see comeys letter...   \n",
       "1      flynn hillary clinton, big woman on campus bre...   \n",
       "2                      why the truth might get you fired   \n",
       "3      15 civilians killed in single us airstrike hav...   \n",
       "4      iranian woman jailed for fictional unpublished...   \n",
       "...                                                  ...   \n",
       "20795  rapper t.i. trump a poster child for white sup...   \n",
       "20796  n.f.l. playoffs schedule, matchups and odds th...   \n",
       "20797  macys is said to receive takeover approach by ...   \n",
       "20798  nato, russia to hold parallel exercises in bal...   \n",
       "20799                           what keeps the f35 alive   \n",
       "\n",
       "                                                    text  label  \n",
       "0      house dem aide we didnt even see comeys letter...      1  \n",
       "1      ever get the feeling your life circles the rou...      0  \n",
       "2      why the truth might get you fired october 29, ...      1  \n",
       "3      videos 15 civilians killed in single us airstr...      1  \n",
       "4      print an iranian woman has been sentenced to s...      1  \n",
       "...                                                  ...    ...  \n",
       "20795  rapper t. i. unloaded on black celebrities who...      0  \n",
       "20796  when the green bay packers lost to the washing...      0  \n",
       "20797  the macys of today grew from the union of seve...      0  \n",
       "20798  nato, russia to hold parallel exercises in bal...      1  \n",
       "20799  david swanson is an author, activist, journali...      1  \n",
       "\n",
       "[20203 rows x 3 columns]"
      ]
     },
     "execution_count": 32,
     "metadata": {},
     "output_type": "execute_result"
    }
   ],
   "source": [
    "data"
   ]
  },
  {
   "cell_type": "markdown",
   "metadata": {
    "id": "RW1tA6rB_Fep"
   },
   "source": [
    "# Feature Engineering"
   ]
  },
  {
   "cell_type": "code",
   "execution_count": 33,
   "metadata": {
    "id": "SyWuKE9w_Fco"
   },
   "outputs": [],
   "source": [
    "data['title_len'] = data['title'].apply(lambda x: len(str(x).split()))\n",
    "data['text_len'] = data['text'].apply(lambda x: len(str(x).split()))\n",
    "data['title_text_ratio'] = data['title_len']/data['text_len']\n",
    "# train['avg_title_len'] = train['title'].apply(lambda x: len(str(x).split()))"
   ]
  },
  {
   "cell_type": "code",
   "execution_count": 34,
   "metadata": {
    "colab": {
     "base_uri": "https://localhost:8080/",
     "height": 424
    },
    "id": "BRr5g2HY_FZT",
    "outputId": "57a71aa9-0224-4085-e00f-9fb2c2421875"
   },
   "outputs": [
    {
     "data": {
      "text/html": [
       "\n",
       "  <div id=\"df-3ef3f9f4-1d37-41b9-93ee-3e4511014fde\">\n",
       "    <div class=\"colab-df-container\">\n",
       "      <div>\n",
       "<style scoped>\n",
       "    .dataframe tbody tr th:only-of-type {\n",
       "        vertical-align: middle;\n",
       "    }\n",
       "\n",
       "    .dataframe tbody tr th {\n",
       "        vertical-align: top;\n",
       "    }\n",
       "\n",
       "    .dataframe thead th {\n",
       "        text-align: right;\n",
       "    }\n",
       "</style>\n",
       "<table border=\"1\" class=\"dataframe\">\n",
       "  <thead>\n",
       "    <tr style=\"text-align: right;\">\n",
       "      <th></th>\n",
       "      <th>title</th>\n",
       "      <th>text</th>\n",
       "      <th>label</th>\n",
       "      <th>title_len</th>\n",
       "      <th>text_len</th>\n",
       "      <th>title_text_ratio</th>\n",
       "    </tr>\n",
       "  </thead>\n",
       "  <tbody>\n",
       "    <tr>\n",
       "      <th>0</th>\n",
       "      <td>house dem aide we didnt even see comeys letter...</td>\n",
       "      <td>house dem aide we didnt even see comeys letter...</td>\n",
       "      <td>1</td>\n",
       "      <td>14</td>\n",
       "      <td>818</td>\n",
       "      <td>0.017115</td>\n",
       "    </tr>\n",
       "    <tr>\n",
       "      <th>1</th>\n",
       "      <td>flynn hillary clinton, big woman on campus bre...</td>\n",
       "      <td>ever get the feeling your life circles the rou...</td>\n",
       "      <td>0</td>\n",
       "      <td>8</td>\n",
       "      <td>702</td>\n",
       "      <td>0.011396</td>\n",
       "    </tr>\n",
       "    <tr>\n",
       "      <th>2</th>\n",
       "      <td>why the truth might get you fired</td>\n",
       "      <td>why the truth might get you fired october 29, ...</td>\n",
       "      <td>1</td>\n",
       "      <td>7</td>\n",
       "      <td>1250</td>\n",
       "      <td>0.005600</td>\n",
       "    </tr>\n",
       "    <tr>\n",
       "      <th>3</th>\n",
       "      <td>15 civilians killed in single us airstrike hav...</td>\n",
       "      <td>videos 15 civilians killed in single us airstr...</td>\n",
       "      <td>1</td>\n",
       "      <td>10</td>\n",
       "      <td>554</td>\n",
       "      <td>0.018051</td>\n",
       "    </tr>\n",
       "    <tr>\n",
       "      <th>4</th>\n",
       "      <td>iranian woman jailed for fictional unpublished...</td>\n",
       "      <td>print an iranian woman has been sentenced to s...</td>\n",
       "      <td>1</td>\n",
       "      <td>14</td>\n",
       "      <td>151</td>\n",
       "      <td>0.092715</td>\n",
       "    </tr>\n",
       "    <tr>\n",
       "      <th>...</th>\n",
       "      <td>...</td>\n",
       "      <td>...</td>\n",
       "      <td>...</td>\n",
       "      <td>...</td>\n",
       "      <td>...</td>\n",
       "      <td>...</td>\n",
       "    </tr>\n",
       "    <tr>\n",
       "      <th>20795</th>\n",
       "      <td>rapper t.i. trump a poster child for white sup...</td>\n",
       "      <td>rapper t. i. unloaded on black celebrities who...</td>\n",
       "      <td>0</td>\n",
       "      <td>9</td>\n",
       "      <td>304</td>\n",
       "      <td>0.029605</td>\n",
       "    </tr>\n",
       "    <tr>\n",
       "      <th>20796</th>\n",
       "      <td>n.f.l. playoffs schedule, matchups and odds th...</td>\n",
       "      <td>when the green bay packers lost to the washing...</td>\n",
       "      <td>0</td>\n",
       "      <td>10</td>\n",
       "      <td>1112</td>\n",
       "      <td>0.008993</td>\n",
       "    </tr>\n",
       "    <tr>\n",
       "      <th>20797</th>\n",
       "      <td>macys is said to receive takeover approach by ...</td>\n",
       "      <td>the macys of today grew from the union of seve...</td>\n",
       "      <td>0</td>\n",
       "      <td>14</td>\n",
       "      <td>798</td>\n",
       "      <td>0.017544</td>\n",
       "    </tr>\n",
       "    <tr>\n",
       "      <th>20798</th>\n",
       "      <td>nato, russia to hold parallel exercises in bal...</td>\n",
       "      <td>nato, russia to hold parallel exercises in bal...</td>\n",
       "      <td>1</td>\n",
       "      <td>8</td>\n",
       "      <td>267</td>\n",
       "      <td>0.029963</td>\n",
       "    </tr>\n",
       "    <tr>\n",
       "      <th>20799</th>\n",
       "      <td>what keeps the f35 alive</td>\n",
       "      <td>david swanson is an author, activist, journali...</td>\n",
       "      <td>1</td>\n",
       "      <td>5</td>\n",
       "      <td>1126</td>\n",
       "      <td>0.004440</td>\n",
       "    </tr>\n",
       "  </tbody>\n",
       "</table>\n",
       "<p>20203 rows × 6 columns</p>\n",
       "</div>\n",
       "      <button class=\"colab-df-convert\" onclick=\"convertToInteractive('df-3ef3f9f4-1d37-41b9-93ee-3e4511014fde')\"\n",
       "              title=\"Convert this dataframe to an interactive table.\"\n",
       "              style=\"display:none;\">\n",
       "        \n",
       "  <svg xmlns=\"http://www.w3.org/2000/svg\" height=\"24px\"viewBox=\"0 0 24 24\"\n",
       "       width=\"24px\">\n",
       "    <path d=\"M0 0h24v24H0V0z\" fill=\"none\"/>\n",
       "    <path d=\"M18.56 5.44l.94 2.06.94-2.06 2.06-.94-2.06-.94-.94-2.06-.94 2.06-2.06.94zm-11 1L8.5 8.5l.94-2.06 2.06-.94-2.06-.94L8.5 2.5l-.94 2.06-2.06.94zm10 10l.94 2.06.94-2.06 2.06-.94-2.06-.94-.94-2.06-.94 2.06-2.06.94z\"/><path d=\"M17.41 7.96l-1.37-1.37c-.4-.4-.92-.59-1.43-.59-.52 0-1.04.2-1.43.59L10.3 9.45l-7.72 7.72c-.78.78-.78 2.05 0 2.83L4 21.41c.39.39.9.59 1.41.59.51 0 1.02-.2 1.41-.59l7.78-7.78 2.81-2.81c.8-.78.8-2.07 0-2.86zM5.41 20L4 18.59l7.72-7.72 1.47 1.35L5.41 20z\"/>\n",
       "  </svg>\n",
       "      </button>\n",
       "      \n",
       "  <style>\n",
       "    .colab-df-container {\n",
       "      display:flex;\n",
       "      flex-wrap:wrap;\n",
       "      gap: 12px;\n",
       "    }\n",
       "\n",
       "    .colab-df-convert {\n",
       "      background-color: #E8F0FE;\n",
       "      border: none;\n",
       "      border-radius: 50%;\n",
       "      cursor: pointer;\n",
       "      display: none;\n",
       "      fill: #1967D2;\n",
       "      height: 32px;\n",
       "      padding: 0 0 0 0;\n",
       "      width: 32px;\n",
       "    }\n",
       "\n",
       "    .colab-df-convert:hover {\n",
       "      background-color: #E2EBFA;\n",
       "      box-shadow: 0px 1px 2px rgba(60, 64, 67, 0.3), 0px 1px 3px 1px rgba(60, 64, 67, 0.15);\n",
       "      fill: #174EA6;\n",
       "    }\n",
       "\n",
       "    [theme=dark] .colab-df-convert {\n",
       "      background-color: #3B4455;\n",
       "      fill: #D2E3FC;\n",
       "    }\n",
       "\n",
       "    [theme=dark] .colab-df-convert:hover {\n",
       "      background-color: #434B5C;\n",
       "      box-shadow: 0px 1px 3px 1px rgba(0, 0, 0, 0.15);\n",
       "      filter: drop-shadow(0px 1px 2px rgba(0, 0, 0, 0.3));\n",
       "      fill: #FFFFFF;\n",
       "    }\n",
       "  </style>\n",
       "\n",
       "      <script>\n",
       "        const buttonEl =\n",
       "          document.querySelector('#df-3ef3f9f4-1d37-41b9-93ee-3e4511014fde button.colab-df-convert');\n",
       "        buttonEl.style.display =\n",
       "          google.colab.kernel.accessAllowed ? 'block' : 'none';\n",
       "\n",
       "        async function convertToInteractive(key) {\n",
       "          const element = document.querySelector('#df-3ef3f9f4-1d37-41b9-93ee-3e4511014fde');\n",
       "          const dataTable =\n",
       "            await google.colab.kernel.invokeFunction('convertToInteractive',\n",
       "                                                     [key], {});\n",
       "          if (!dataTable) return;\n",
       "\n",
       "          const docLinkHtml = 'Like what you see? Visit the ' +\n",
       "            '<a target=\"_blank\" href=https://colab.research.google.com/notebooks/data_table.ipynb>data table notebook</a>'\n",
       "            + ' to learn more about interactive tables.';\n",
       "          element.innerHTML = '';\n",
       "          dataTable['output_type'] = 'display_data';\n",
       "          await google.colab.output.renderOutput(dataTable, element);\n",
       "          const docLink = document.createElement('div');\n",
       "          docLink.innerHTML = docLinkHtml;\n",
       "          element.appendChild(docLink);\n",
       "        }\n",
       "      </script>\n",
       "    </div>\n",
       "  </div>\n",
       "  "
      ],
      "text/plain": [
       "                                                   title  \\\n",
       "0      house dem aide we didnt even see comeys letter...   \n",
       "1      flynn hillary clinton, big woman on campus bre...   \n",
       "2                      why the truth might get you fired   \n",
       "3      15 civilians killed in single us airstrike hav...   \n",
       "4      iranian woman jailed for fictional unpublished...   \n",
       "...                                                  ...   \n",
       "20795  rapper t.i. trump a poster child for white sup...   \n",
       "20796  n.f.l. playoffs schedule, matchups and odds th...   \n",
       "20797  macys is said to receive takeover approach by ...   \n",
       "20798  nato, russia to hold parallel exercises in bal...   \n",
       "20799                           what keeps the f35 alive   \n",
       "\n",
       "                                                    text  label  title_len  \\\n",
       "0      house dem aide we didnt even see comeys letter...      1         14   \n",
       "1      ever get the feeling your life circles the rou...      0          8   \n",
       "2      why the truth might get you fired october 29, ...      1          7   \n",
       "3      videos 15 civilians killed in single us airstr...      1         10   \n",
       "4      print an iranian woman has been sentenced to s...      1         14   \n",
       "...                                                  ...    ...        ...   \n",
       "20795  rapper t. i. unloaded on black celebrities who...      0          9   \n",
       "20796  when the green bay packers lost to the washing...      0         10   \n",
       "20797  the macys of today grew from the union of seve...      0         14   \n",
       "20798  nato, russia to hold parallel exercises in bal...      1          8   \n",
       "20799  david swanson is an author, activist, journali...      1          5   \n",
       "\n",
       "       text_len  title_text_ratio  \n",
       "0           818          0.017115  \n",
       "1           702          0.011396  \n",
       "2          1250          0.005600  \n",
       "3           554          0.018051  \n",
       "4           151          0.092715  \n",
       "...         ...               ...  \n",
       "20795       304          0.029605  \n",
       "20796      1112          0.008993  \n",
       "20797       798          0.017544  \n",
       "20798       267          0.029963  \n",
       "20799      1126          0.004440  \n",
       "\n",
       "[20203 rows x 6 columns]"
      ]
     },
     "execution_count": 34,
     "metadata": {},
     "output_type": "execute_result"
    }
   ],
   "source": [
    "data"
   ]
  },
  {
   "cell_type": "code",
   "execution_count": 35,
   "metadata": {
    "colab": {
     "base_uri": "https://localhost:8080/",
     "height": 458
    },
    "id": "VHi8kbvwbDrM",
    "outputId": "a6d068b7-7f8b-4f8d-b21c-b8ab0394e92c"
   },
   "outputs": [
    {
     "data": {
      "image/png": "[encoded data removed]",
      "text/plain": [
       "<Figure size 1080x504 with 1 Axes>"
      ]
     },
     "metadata": {
      "needs_background": "light"
     },
     "output_type": "display_data"
    }
   ],
   "source": [
    "# Title Word Count distribution\n",
    "plt.figure(figsize = (15,7))\n",
    "plt.grid()\n",
    "plt.hist(x = data.title_len, bins=25)\n",
    "plt.xlabel('word length')\n",
    "plt.ylabel('Count')\n",
    "# plt.plot(x = , y = 0)\n",
    "percent = 99\n",
    "for i in range(95,100):\n",
    "    plt.axvline(x = np.percentile(data.title_len, i), color = 'b', label = 'axvline - full height')\n",
    "plt.title(f'Title Word Count distribution: {np.percentile(data.title_len, percent)} words cover {percent}% of title data')\n",
    "plt.show()"
   ]
  },
  {
   "cell_type": "code",
   "execution_count": 36,
   "metadata": {
    "colab": {
     "base_uri": "https://localhost:8080/",
     "height": 458
    },
    "id": "S0idro9ifJZ5",
    "outputId": "16c1b115-4198-4ce8-9d6a-c73565083ae4"
   },
   "outputs": [
    {
     "data": {
      "image/png": "[encoded data removed]",
      "text/plain": [
       "<Figure size 1080x504 with 1 Axes>"
      ]
     },
     "metadata": {
      "needs_background": "light"
     },
     "output_type": "display_data"
    }
   ],
   "source": [
    "# Title Word Count distribution\n",
    "plt.figure(figsize = (15,7))\n",
    "plt.grid()\n",
    "plt.hist(x = data.text_len, bins=25)\n",
    "plt.xlabel('word length')\n",
    "plt.ylabel('Count')\n",
    "# plt.plot(x = , y = 0)\n",
    "percent = 99\n",
    "for i in range(95,100):\n",
    "    plt.axvline(x = np.percentile(data.text_len, i), color = 'b', label = 'axvline - full height')\n",
    "plt.title(f'Text Word Count distribution: {np.percentile(data.text_len, percent)} words cover {percent}% of text data')\n",
    "plt.show()"
   ]
  },
  {
   "cell_type": "markdown",
   "metadata": {
    "id": "Z147GJikd5mN"
   },
   "source": [
    "so word lenghth upto 22 covers 99% of the dataset title\n",
    "so word lenghth upto 4061 covers 99% of the dataset text"
   ]
  },
  {
   "cell_type": "markdown",
   "metadata": {
    "id": "zMzg6P0U_FW-"
   },
   "source": [
    "# Text Vectorization"
   ]
  },
  {
   "cell_type": "code",
   "execution_count": 37,
   "metadata": {
    "id": "b8FYNVAP_FUl"
   },
   "outputs": [],
   "source": [
    "from sklearn.feature_extraction.text import TfidfVectorizer"
   ]
  },
  {
   "cell_type": "code",
   "execution_count": 38,
   "metadata": {
    "colab": {
     "base_uri": "https://localhost:8080/",
     "height": 122
    },
    "id": "UyVdezFA5CJg",
    "outputId": "05b570ba-dfae-4e04-f060-3b18edb46bec"
   },
   "outputs": [
    {
     "data": {
      "application/vnd.google.colaboratory.intrinsic+json": {
       "type": "string"
      },
      "text/plain": [
       "'the bbc produced spoof on the real housewives tv programmes, which has a comedic islamic state twist, has been criticised by leftists and muslims who claim the sketch is offensive. the bbc released the trailer earlier this week and were immediately slammed by those on the left and muslims who thought that making fun of the brides of members of the terror group was out of the bounds of conventional humour. the sketch is part of a new programme called revolting written by jolyon rubinstein and heydon prowse which, according to the bbc, is satirising the state of the nation. lololol pic. twitter. raheem kassam raheemkassam january 4, 2017, the bbc2 facebook page was inundated with criticism. one user wrote, im mortified that the bbc had produced such a programme. this is simply bad taste. the fact it is a comedy makes it even more worrying that humour should be associated with the actions of isis. is this really what tv licenses are funding others took a different point of view including a muslim saying, as a muslim i find this hilarious brilliant the satire is on point highlighting the pathetic ideals of a pathetic group like isis. not all muslims agreed with the sentiment and users on twitter expressed just as much outrage for the sketch. one man, a bangladeshi, said the bbc really made a satirical show called the real housewives of isis while the real housewives of isis are being raped and abused daily. the bbc really made a satirical show called the real housewives of isis while the real housewives of isis are being raped and abused daily, meraj. unclemeraj january 4, 2017, another wrote, real housewives of isis will make hijabis feel more isolated n targeted by islamophobes. thanks bbc for adding to the negative stereotype. real housewives of isis will make hijabis feel more isolated n targeted by islamophobes. thanks bbc for adding to the negative stereotype, aѕн ashkaneskittles january 4, 2017, leftists also articulated how offended they were that the public broadcaster would dare create such a sketch mocking islamic state. some questioned whether the use of taxpayer money via the tv license fee should go toward the funding of the programme. as if peoples tv license in this country is going towards funding the production of a programme called the real housewives of isis. wow, cameron edgar cammyyyedgar january 4, 2017, the video itself has already been viewed millions of times on facebook and other social media platforms. the clip shows several women in hijabs talking to each other in a house taking selfies and showing off their suicide belts to each other. one woman even mentions that she hadnt come from birmingham to do this as she scrubbed the floor of the home. women joining islamic state and travelling to syria to become brides has become a real problem in european countries as the terror group promises young girls a more glamorous lifestyle. in 2014, eight schoolgirls from bethnal green travelled to syria to become brides of islamic state fighters, all of them under the age of 18.'"
      ]
     },
     "execution_count": 38,
     "metadata": {},
     "output_type": "execute_result"
    }
   ],
   "source": [
    "s = data.text[11]\n",
    "s"
   ]
  },
  {
   "cell_type": "code",
   "execution_count": 39,
   "metadata": {
    "colab": {
     "base_uri": "https://localhost:8080/"
    },
    "id": "Quf6G8vV_FOz",
    "outputId": "7bd642c9-1ad5-47e4-cc79-e724238c943a"
   },
   "outputs": [
    {
     "data": {
      "text/plain": [
       "<1x251 sparse matrix of type '<class 'numpy.float64'>'\n",
       "\twith 251 stored elements in Compressed Sparse Row format>"
      ]
     },
     "execution_count": 39,
     "metadata": {},
     "output_type": "execute_result"
    }
   ],
   "source": [
    "from scipy import sparse\n",
    "tfidf = TfidfVectorizer()\n",
    "ddd = tfidf.fit_transform(np.array([s]))\n",
    "ddd"
   ]
  },
  {
   "cell_type": "code",
   "execution_count": 40,
   "metadata": {
    "id": "DUxY_1R2_FBH"
   },
   "outputs": [],
   "source": [
    "# tfidf.get_feature_names()"
   ]
  },
  {
   "cell_type": "code",
   "execution_count": 41,
   "metadata": {
    "colab": {
     "base_uri": "https://localhost:8080/",
     "height": 424
    },
    "id": "y0qR_1mD8b_p",
    "outputId": "bae21f8d-befe-4512-bea9-faf298460e69"
   },
   "outputs": [
    {
     "data": {
      "text/html": [
       "\n",
       "  <div id=\"df-5075e2df-e75e-4f5b-9a66-e4c717238c9c\">\n",
       "    <div class=\"colab-df-container\">\n",
       "      <div>\n",
       "<style scoped>\n",
       "    .dataframe tbody tr th:only-of-type {\n",
       "        vertical-align: middle;\n",
       "    }\n",
       "\n",
       "    .dataframe tbody tr th {\n",
       "        vertical-align: top;\n",
       "    }\n",
       "\n",
       "    .dataframe thead th {\n",
       "        text-align: right;\n",
       "    }\n",
       "</style>\n",
       "<table border=\"1\" class=\"dataframe\">\n",
       "  <thead>\n",
       "    <tr style=\"text-align: right;\">\n",
       "      <th></th>\n",
       "      <th>text</th>\n",
       "      <th>title</th>\n",
       "      <th>label</th>\n",
       "    </tr>\n",
       "  </thead>\n",
       "  <tbody>\n",
       "    <tr>\n",
       "      <th>0</th>\n",
       "      <td>house dem aide we didnt even see comeys letter...</td>\n",
       "      <td>house dem aide we didnt even see comeys letter...</td>\n",
       "      <td>1</td>\n",
       "    </tr>\n",
       "    <tr>\n",
       "      <th>1</th>\n",
       "      <td>ever get the feeling your life circles the rou...</td>\n",
       "      <td>flynn hillary clinton, big woman on campus bre...</td>\n",
       "      <td>0</td>\n",
       "    </tr>\n",
       "    <tr>\n",
       "      <th>2</th>\n",
       "      <td>why the truth might get you fired october 29, ...</td>\n",
       "      <td>why the truth might get you fired</td>\n",
       "      <td>1</td>\n",
       "    </tr>\n",
       "    <tr>\n",
       "      <th>3</th>\n",
       "      <td>videos 15 civilians killed in single us airstr...</td>\n",
       "      <td>15 civilians killed in single us airstrike hav...</td>\n",
       "      <td>1</td>\n",
       "    </tr>\n",
       "    <tr>\n",
       "      <th>4</th>\n",
       "      <td>print an iranian woman has been sentenced to s...</td>\n",
       "      <td>iranian woman jailed for fictional unpublished...</td>\n",
       "      <td>1</td>\n",
       "    </tr>\n",
       "    <tr>\n",
       "      <th>...</th>\n",
       "      <td>...</td>\n",
       "      <td>...</td>\n",
       "      <td>...</td>\n",
       "    </tr>\n",
       "    <tr>\n",
       "      <th>20795</th>\n",
       "      <td>rapper t. i. unloaded on black celebrities who...</td>\n",
       "      <td>rapper t.i. trump a poster child for white sup...</td>\n",
       "      <td>0</td>\n",
       "    </tr>\n",
       "    <tr>\n",
       "      <th>20796</th>\n",
       "      <td>when the green bay packers lost to the washing...</td>\n",
       "      <td>n.f.l. playoffs schedule, matchups and odds th...</td>\n",
       "      <td>0</td>\n",
       "    </tr>\n",
       "    <tr>\n",
       "      <th>20797</th>\n",
       "      <td>the macys of today grew from the union of seve...</td>\n",
       "      <td>macys is said to receive takeover approach by ...</td>\n",
       "      <td>0</td>\n",
       "    </tr>\n",
       "    <tr>\n",
       "      <th>20798</th>\n",
       "      <td>nato, russia to hold parallel exercises in bal...</td>\n",
       "      <td>nato, russia to hold parallel exercises in bal...</td>\n",
       "      <td>1</td>\n",
       "    </tr>\n",
       "    <tr>\n",
       "      <th>20799</th>\n",
       "      <td>david swanson is an author, activist, journali...</td>\n",
       "      <td>what keeps the f35 alive</td>\n",
       "      <td>1</td>\n",
       "    </tr>\n",
       "  </tbody>\n",
       "</table>\n",
       "<p>20203 rows × 3 columns</p>\n",
       "</div>\n",
       "      <button class=\"colab-df-convert\" onclick=\"convertToInteractive('df-5075e2df-e75e-4f5b-9a66-e4c717238c9c')\"\n",
       "              title=\"Convert this dataframe to an interactive table.\"\n",
       "              style=\"display:none;\">\n",
       "        \n",
       "  <svg xmlns=\"http://www.w3.org/2000/svg\" height=\"24px\"viewBox=\"0 0 24 24\"\n",
       "       width=\"24px\">\n",
       "    <path d=\"M0 0h24v24H0V0z\" fill=\"none\"/>\n",
       "    <path d=\"M18.56 5.44l.94 2.06.94-2.06 2.06-.94-2.06-.94-.94-2.06-.94 2.06-2.06.94zm-11 1L8.5 8.5l.94-2.06 2.06-.94-2.06-.94L8.5 2.5l-.94 2.06-2.06.94zm10 10l.94 2.06.94-2.06 2.06-.94-2.06-.94-.94-2.06-.94 2.06-2.06.94z\"/><path d=\"M17.41 7.96l-1.37-1.37c-.4-.4-.92-.59-1.43-.59-.52 0-1.04.2-1.43.59L10.3 9.45l-7.72 7.72c-.78.78-.78 2.05 0 2.83L4 21.41c.39.39.9.59 1.41.59.51 0 1.02-.2 1.41-.59l7.78-7.78 2.81-2.81c.8-.78.8-2.07 0-2.86zM5.41 20L4 18.59l7.72-7.72 1.47 1.35L5.41 20z\"/>\n",
       "  </svg>\n",
       "      </button>\n",
       "      \n",
       "  <style>\n",
       "    .colab-df-container {\n",
       "      display:flex;\n",
       "      flex-wrap:wrap;\n",
       "      gap: 12px;\n",
       "    }\n",
       "\n",
       "    .colab-df-convert {\n",
       "      background-color: #E8F0FE;\n",
       "      border: none;\n",
       "      border-radius: 50%;\n",
       "      cursor: pointer;\n",
       "      display: none;\n",
       "      fill: #1967D2;\n",
       "      height: 32px;\n",
       "      padding: 0 0 0 0;\n",
       "      width: 32px;\n",
       "    }\n",
       "\n",
       "    .colab-df-convert:hover {\n",
       "      background-color: #E2EBFA;\n",
       "      box-shadow: 0px 1px 2px rgba(60, 64, 67, 0.3), 0px 1px 3px 1px rgba(60, 64, 67, 0.15);\n",
       "      fill: #174EA6;\n",
       "    }\n",
       "\n",
       "    [theme=dark] .colab-df-convert {\n",
       "      background-color: #3B4455;\n",
       "      fill: #D2E3FC;\n",
       "    }\n",
       "\n",
       "    [theme=dark] .colab-df-convert:hover {\n",
       "      background-color: #434B5C;\n",
       "      box-shadow: 0px 1px 3px 1px rgba(0, 0, 0, 0.15);\n",
       "      filter: drop-shadow(0px 1px 2px rgba(0, 0, 0, 0.3));\n",
       "      fill: #FFFFFF;\n",
       "    }\n",
       "  </style>\n",
       "\n",
       "      <script>\n",
       "        const buttonEl =\n",
       "          document.querySelector('#df-5075e2df-e75e-4f5b-9a66-e4c717238c9c button.colab-df-convert');\n",
       "        buttonEl.style.display =\n",
       "          google.colab.kernel.accessAllowed ? 'block' : 'none';\n",
       "\n",
       "        async function convertToInteractive(key) {\n",
       "          const element = document.querySelector('#df-5075e2df-e75e-4f5b-9a66-e4c717238c9c');\n",
       "          const dataTable =\n",
       "            await google.colab.kernel.invokeFunction('convertToInteractive',\n",
       "                                                     [key], {});\n",
       "          if (!dataTable) return;\n",
       "\n",
       "          const docLinkHtml = 'Like what you see? Visit the ' +\n",
       "            '<a target=\"_blank\" href=https://colab.research.google.com/notebooks/data_table.ipynb>data table notebook</a>'\n",
       "            + ' to learn more about interactive tables.';\n",
       "          element.innerHTML = '';\n",
       "          dataTable['output_type'] = 'display_data';\n",
       "          await google.colab.output.renderOutput(dataTable, element);\n",
       "          const docLink = document.createElement('div');\n",
       "          docLink.innerHTML = docLinkHtml;\n",
       "          element.appendChild(docLink);\n",
       "        }\n",
       "      </script>\n",
       "    </div>\n",
       "  </div>\n",
       "  "
      ],
      "text/plain": [
       "                                                    text  \\\n",
       "0      house dem aide we didnt even see comeys letter...   \n",
       "1      ever get the feeling your life circles the rou...   \n",
       "2      why the truth might get you fired october 29, ...   \n",
       "3      videos 15 civilians killed in single us airstr...   \n",
       "4      print an iranian woman has been sentenced to s...   \n",
       "...                                                  ...   \n",
       "20795  rapper t. i. unloaded on black celebrities who...   \n",
       "20796  when the green bay packers lost to the washing...   \n",
       "20797  the macys of today grew from the union of seve...   \n",
       "20798  nato, russia to hold parallel exercises in bal...   \n",
       "20799  david swanson is an author, activist, journali...   \n",
       "\n",
       "                                                   title  label  \n",
       "0      house dem aide we didnt even see comeys letter...      1  \n",
       "1      flynn hillary clinton, big woman on campus bre...      0  \n",
       "2                      why the truth might get you fired      1  \n",
       "3      15 civilians killed in single us airstrike hav...      1  \n",
       "4      iranian woman jailed for fictional unpublished...      1  \n",
       "...                                                  ...    ...  \n",
       "20795  rapper t.i. trump a poster child for white sup...      0  \n",
       "20796  n.f.l. playoffs schedule, matchups and odds th...      0  \n",
       "20797  macys is said to receive takeover approach by ...      0  \n",
       "20798  nato, russia to hold parallel exercises in bal...      1  \n",
       "20799                           what keeps the f35 alive      1  \n",
       "\n",
       "[20203 rows x 3 columns]"
      ]
     },
     "execution_count": 41,
     "metadata": {},
     "output_type": "execute_result"
    }
   ],
   "source": [
    "data[['text','title','label']]"
   ]
  },
  {
   "cell_type": "markdown",
   "metadata": {
    "id": "_Rg4Vd1tATFP"
   },
   "source": [
    "# Helper functions"
   ]
  },
  {
   "cell_type": "code",
   "execution_count": 42,
   "metadata": {
    "id": "WFMFybLvASGp"
   },
   "outputs": [],
   "source": [
    "# Function to evaluate: accuracy, precision, recall, f1-score\n",
    "from sklearn.metrics import accuracy_score, precision_recall_fscore_support\n",
    "import datetime\n",
    "\n",
    "\n",
    "def calculate_results(y_true, y_pred):\n",
    "  \"\"\"\n",
    "  Calculates model accuracy, precision, recall and f1 score of a binary classification model.\n",
    "  Args:\n",
    "      y_true: true labels in the form of a 1D array\n",
    "      y_pred: predicted labels in the form of a 1D array\n",
    "  Returns a dictionary of accuracy, precision, recall, f1-score.\n",
    "  \"\"\"\n",
    "  # Calculate model accuracy\n",
    "  model_accuracy = accuracy_score(y_true, y_pred) * 100\n",
    "  # Calculate model precision, recall and f1 score using \"weighted average\n",
    "  model_precision, model_recall, model_f1, _ = precision_recall_fscore_support(y_true, y_pred, average=\"weighted\")\n",
    "  model_results = {\"accuracy\": model_accuracy,\n",
    "                  \"precision\": model_precision,\n",
    "                  \"recall\": model_recall,\n",
    "                  \"f1\": model_f1}\n",
    "  return model_results"
   ]
  },
  {
   "cell_type": "code",
   "execution_count": 43,
   "metadata": {
    "id": "Zcf_IY5nUxmy"
   },
   "outputs": [],
   "source": [
    "def create_tensorboard_callback(dir_name, experiment_name):\n",
    "    \"\"\"\n",
    "    Creates a TensorBoard callback instand to store log files.\n",
    "    Stores log files with the filepath:\n",
    "    \"dir_name/experiment_name/current_datetime/\"\n",
    "    Args:\n",
    "    dir_name: target directory to store TensorBoard log files\n",
    "    experiment_name: name of experiment directory (e.g. efficientnet_model_1)\n",
    "    \"\"\"\n",
    "    log_dir = dir_name + \"/\" + experiment_name + \"/\" + datetime.datetime.now().strftime(\"%Y%m%d-%H%M%S\")\n",
    "    tensorboard_callback = tf.keras.callbacks.TensorBoard(\n",
    "        log_dir=log_dir\n",
    "    )\n",
    "    print(f\"Saving TensorBoard log files to: {log_dir}\")\n",
    "    return tensorboard_callback\n"
   ]
  },
  {
   "cell_type": "markdown",
   "metadata": {
    "id": "fYCxuEbx8GpN"
   },
   "source": [
    "# Spliting data"
   ]
  },
  {
   "cell_type": "code",
   "execution_count": 44,
   "metadata": {
    "id": "RwAYgl0Y8RT5"
   },
   "outputs": [],
   "source": [
    "xtrain, xtest, ytrain, ytest = train_test_split(data[['title', 'text']], data['label'], test_size = .1, random_state=3, stratify = data.label)"
   ]
  },
  {
   "cell_type": "code",
   "execution_count": 45,
   "metadata": {
    "colab": {
     "base_uri": "https://localhost:8080/"
    },
    "id": "TVS6xmT69LtI",
    "outputId": "1b0d87c8-87ef-4b69-d666-4f5fe98fe571"
   },
   "outputs": [
    {
     "name": "stdout",
     "output_type": "stream",
     "text": [
      "xtrain:  (18182, 2)\n",
      "ytrain:  (18182,)\n",
      "xtest:  (2021, 2)\n",
      "ytest:  (2021,)\n"
     ]
    }
   ],
   "source": [
    "print('xtrain: ', xtrain.shape)\n",
    "print('ytrain: ', ytrain.shape)\n",
    "print('xtest: ', xtest.shape)\n",
    "print('ytest: ', ytest.shape)"
   ]
  },
  {
   "cell_type": "markdown",
   "metadata": {
    "id": "WR65StrW_E-b"
   },
   "source": [
    "# Baseline : Model 0"
   ]
  },
  {
   "cell_type": "code",
   "execution_count": 46,
   "metadata": {
    "id": "Yl8DR4a-_E79"
   },
   "outputs": [],
   "source": [
    "from sklearn.naive_bayes import MultinomialNB\n",
    "from sklearn.feature_extraction.text import TfidfVectorizer\n",
    "from sklearn.pipeline import Pipeline"
   ]
  },
  {
   "cell_type": "code",
   "execution_count": 47,
   "metadata": {
    "colab": {
     "base_uri": "https://localhost:8080/"
    },
    "id": "zxB-WRIf_E5S",
    "outputId": "59f8dd8d-0cdd-48a1-f3d5-0c5e2a0f7fdd"
   },
   "outputs": [
    {
     "data": {
      "text/plain": [
       "Pipeline(steps=[('tfidf', TfidfVectorizer()), ('clf', MultinomialNB())])"
      ]
     },
     "execution_count": 47,
     "metadata": {},
     "output_type": "execute_result"
    }
   ],
   "source": [
    "model0 = Pipeline([\n",
    "    ('tfidf', TfidfVectorizer()),\n",
    "    ('clf', MultinomialNB())\n",
    "])\n",
    "\n",
    "#fit model\n",
    "model0.fit(xtrain.title.to_list(), ytrain.to_list())\n",
    "# model0.fit(sss, ytrain.to_list())"
   ]
  },
  {
   "cell_type": "code",
   "execution_count": 48,
   "metadata": {
    "id": "gYv_3EjD_E18"
   },
   "outputs": [],
   "source": [
    "ytrue0 = ytest.to_list()\n",
    "ypred0 = model0.predict(xtest.title.to_list())"
   ]
  },
  {
   "cell_type": "code",
   "execution_count": 49,
   "metadata": {
    "colab": {
     "base_uri": "https://localhost:8080/"
    },
    "id": "rtm5_5lG_EzO",
    "outputId": "c0d8a134-66ec-44f3-d14d-add6bfdecbc8"
   },
   "outputs": [
    {
     "data": {
      "text/plain": [
       "{'accuracy': 87.03612073231074,\n",
       " 'precision': 0.8798681076712493,\n",
       " 'recall': 0.8703612073231074,\n",
       " 'f1': 0.8691969124470589}"
      ]
     },
     "execution_count": 49,
     "metadata": {},
     "output_type": "execute_result"
    }
   ],
   "source": [
    "calculate_results(ytrue0, ypred0)"
   ]
  },
  {
   "cell_type": "markdown",
   "metadata": {
    "id": "ZhPJC09lURkP"
   },
   "source": [
    "# Token Vectorization"
   ]
  },
  {
   "cell_type": "code",
   "execution_count": 50,
   "metadata": {
    "id": "SWbytWt0VTIS"
   },
   "outputs": [],
   "source": [
    "from tensorflow.keras.layers import TextVectorization, Conv1D, GlobalMaxPooling1D, GlobalAveragePooling1D\n",
    "from tensorflow.keras import layers\n",
    "import tensorflow as tf\n",
    "from tensorflow import keras"
   ]
  },
  {
   "cell_type": "code",
   "execution_count": 51,
   "metadata": {
    "colab": {
     "base_uri": "https://localhost:8080/"
    },
    "id": "8G6ZxzPqWHy6",
    "outputId": "cb42b254-60d1-4a3f-e6ea-a75a059b1a97"
   },
   "outputs": [
    {
     "name": "stdout",
     "output_type": "stream",
     "text": [
      "total token in titles:  26127\n",
      "total token in text:  304292\n",
      "total token combined:  305856\n",
      "CPU times: user 3.92 s, sys: 398 ms, total: 4.32 s\n",
      "Wall time: 4.32 s\n"
     ]
    }
   ],
   "source": [
    "# number of unique words in dataset\n",
    "%%time\n",
    "all_title_words_list = [words.split() for words in xtrain.title]\n",
    "all_title_words = set(num for sublist in all_title_words_list for num in sublist)\n",
    "print('total token in titles: ',len(all_title_words))\n",
    "\n",
    "all_text_words_list = [words.split() for words in xtrain.text]\n",
    "all_text_words = set(num for sublist in all_text_words_list for num in sublist)\n",
    "print('total token in text: ',len(all_text_words))\n",
    "\n",
    "all_words_combined_list = all_text_words_list + all_title_words_list\n",
    "all_words_combined = set(num for sublist in all_words_combined_list for num in sublist)\n",
    "\n",
    "print('total token combined: ',len(all_words_combined))"
   ]
  },
  {
   "cell_type": "code",
   "execution_count": 52,
   "metadata": {
    "colab": {
     "base_uri": "https://localhost:8080/"
    },
    "id": "QJVYZJ8razeb",
    "outputId": "0c94aed0-bfa8-4753-8167-83cbccf618be"
   },
   "outputs": [
    {
     "name": "stdout",
     "output_type": "stream",
     "text": [
      "output_sequence_len_title:  22\n",
      "output_sequence_len_text:  4061\n"
     ]
    }
   ],
   "source": [
    "# output_sequence_length\n",
    "percent_of_the_data_to_cover = 99\n",
    "output_sequence_len_title = int(np.percentile(data.title_len, percent_of_the_data_to_cover))\n",
    "print('output_sequence_len_title: ',output_sequence_len_title)\n",
    "output_sequence_len_text = int(np.percentile(data.text_len, percent_of_the_data_to_cover))\n",
    "print('output_sequence_len_text: ',output_sequence_len_text)"
   ]
  },
  {
   "cell_type": "markdown",
   "metadata": {
    "id": "rpORWcfEmzYR"
   },
   "source": [
    "we do not want every word to tokenize , there happens to be alot of less occuring words that we do not want. Thats why we will substract 500 words"
   ]
  },
  {
   "cell_type": "code",
   "execution_count": 53,
   "metadata": {
    "colab": {
     "base_uri": "https://localhost:8080/"
    },
    "id": "LZClqL1gWBED",
    "outputId": "82d94571-2897-40cc-95a5-3f2e1c9c31e9"
   },
   "outputs": [
    {
     "name": "stdout",
     "output_type": "stream",
     "text": [
      "23627\n",
      "204292\n"
     ]
    }
   ],
   "source": [
    "max_token_title = len(all_title_words) - 2500          #number of words to tokenize -500 as we do not want every word to tokenize \n",
    "print(max_token_title)\n",
    "max_token_text = len(all_text_words) -100_000\n",
    "print(max_token_text)"
   ]
  },
  {
   "cell_type": "code",
   "execution_count": 54,
   "metadata": {
    "id": "G77Vrdd7Vr9J"
   },
   "outputs": [],
   "source": [
    "# VECTORIZER FOR TITLE\n",
    "title_text_vectorizer = TextVectorization(max_tokens=max_token_title, \n",
    "                                          output_sequence_length=output_sequence_len_title,\n",
    "                                          pad_to_max_tokens = True)"
   ]
  },
  {
   "cell_type": "code",
   "execution_count": 55,
   "metadata": {
    "id": "7mpKov53iUEk"
   },
   "outputs": [],
   "source": [
    "# VECTORIZER FOR TEXT\n",
    "text_text_vectorizer = TextVectorization(max_tokens=max_token_text, \n",
    "                                          output_sequence_length=output_sequence_len_text,\n",
    "                                          pad_to_max_tokens = True)"
   ]
  },
  {
   "cell_type": "code",
   "execution_count": 56,
   "metadata": {
    "colab": {
     "base_uri": "https://localhost:8080/"
    },
    "id": "qe86NXv5in16",
    "outputId": "456b0970-b775-4962-9c15-6094582d8ee0"
   },
   "outputs": [
    {
     "name": "stdout",
     "output_type": "stream",
     "text": [
      "CPU times: user 1.28 s, sys: 130 ms, total: 1.41 s\n",
      "Wall time: 1.1 s\n"
     ]
    }
   ],
   "source": [
    "# Adapt text vectorizer to training titles\n",
    "%%time\n",
    "title_text_vectorizer.adapt(xtrain.title.to_list())"
   ]
  },
  {
   "cell_type": "code",
   "execution_count": 57,
   "metadata": {
    "colab": {
     "base_uri": "https://localhost:8080/"
    },
    "id": "cxpBoQ4Kld_g",
    "outputId": "41219adc-aee2-4a83-ba54-7c1407084d85"
   },
   "outputs": [
    {
     "name": "stdout",
     "output_type": "stream",
     "text": [
      "total no. of words:  23151\n",
      "5 Most frequent words ['', '[UNK]', 'the', 'new', 'york']\n",
      "5 Least frequent words ['06', '046year', '029oz', '02', '004']\n"
     ]
    }
   ],
   "source": [
    "# how many words are there\n",
    "total_words =  len(title_text_vectorizer.get_vocabulary())\n",
    "print('total no. of words: ', total_words)\n",
    "print('5 Most frequent words', title_text_vectorizer.get_vocabulary()[:5])\n",
    "print('5 Least frequent words', title_text_vectorizer.get_vocabulary()[-5:])"
   ]
  },
  {
   "cell_type": "code",
   "execution_count": 58,
   "metadata": {
    "colab": {
     "base_uri": "https://localhost:8080/"
    },
    "id": "Ir9sHImXkgx9",
    "outputId": "04ff13e6-cab5-44cb-8e8e-288f95eb80b6"
   },
   "outputs": [
    {
     "name": "stdout",
     "output_type": "stream",
     "text": [
      "Text:\n",
      "forget your encyclopaedia get the pokiespedia\n",
      "\n",
      "Length of text: 6\n",
      "\n",
      "Vectorized text:\n",
      "[[1650   35    1  105    2    1    0    0    0    0    0    0    0    0\n",
      "     0    0    0    0    0    0    0    0]]\n"
     ]
    }
   ],
   "source": [
    "# Test out text vectorizer\n",
    "import random\n",
    "target_title_sentence = random.choice(xtest.title.to_list())\n",
    "print(f\"Text:\\n{target_title_sentence}\")\n",
    "print(f\"\\nLength of text: {len(target_title_sentence.split())}\")\n",
    "print(f\"\\nVectorized text:\\n{title_text_vectorizer([target_title_sentence])}\")"
   ]
  },
  {
   "cell_type": "markdown",
   "metadata": {
    "id": "Pq07Ix54XQX0"
   },
   "source": [
    "**Note:** Here instead of Directly adapting to a list of string, we will convert it into \n",
    "tf.data.dataset to overcome fitting it the memory problem. It crashed the system if used a list. while a tf.data adjust according to the memory."
   ]
  },
  {
   "cell_type": "code",
   "execution_count": 60,
   "metadata": {
    "colab": {
     "base_uri": "https://localhost:8080/"
    },
    "id": "KsLLNcSnjMKi",
    "outputId": "2aed2898-84ae-48be-e902-f1e094995ace"
   },
   "outputs": [
    {
     "name": "stdout",
     "output_type": "stream",
     "text": [
      "CPU times: user 49.3 s, sys: 5.56 s, total: 54.9 s\n",
      "Wall time: 38.8 s\n"
     ]
    }
   ],
   "source": [
    "# Adapt text vectorizer to training text\n",
    "%%time\n",
    "\n",
    "train_text = tf.data.Dataset.from_tensor_slices(xtrain.text.to_list())\n",
    "text_text_vectorizer.adapt(train_text)"
   ]
  },
  {
   "cell_type": "code",
   "execution_count": 61,
   "metadata": {
    "colab": {
     "base_uri": "https://localhost:8080/"
    },
    "id": "EmobBWb7ln5v",
    "outputId": "829812d8-501a-4c18-c515-d262b33edd77"
   },
   "outputs": [
    {
     "name": "stdout",
     "output_type": "stream",
     "text": [
      "total no. of words:  204292\n",
      "5 Most frequent words ['', '[UNK]', 'the', 'to', 'of']\n",
      "5 Least frequent words ['applicationflexible', 'appliancesthe', 'appletopia', 'applestooranges', 'applestoapples']\n"
     ]
    }
   ],
   "source": [
    "# how many words are there\n",
    "total_words =  len(text_text_vectorizer.get_vocabulary())\n",
    "print('total no. of words: ', total_words)\n",
    "print('5 Most frequent words', text_text_vectorizer.get_vocabulary()[:5])\n",
    "print('5 Least frequent words', text_text_vectorizer.get_vocabulary()[-5:])"
   ]
  },
  {
   "cell_type": "markdown",
   "metadata": {
    "id": "Sv0mNOldl1Gv"
   },
   "source": [
    "As we have seen above there are low frequency words that do not need to tokenize\n",
    "as they occure less. so set max_token to less than actual unique words."
   ]
  },
  {
   "cell_type": "code",
   "execution_count": 62,
   "metadata": {
    "colab": {
     "base_uri": "https://localhost:8080/"
    },
    "id": "VQFaJIpnjMJF",
    "outputId": "42f3063d-f83a-4dce-d176-04439986e2d9"
   },
   "outputs": [
    {
     "name": "stdout",
     "output_type": "stream",
     "text": [
      "Text:\n",
      "secrets of the us election assange talks to pilger november 5, 2016 wikileaks founder julian assange denies the russian government was the source of leaked emails about hillary clinton and says her neomccarthy russiabashing is just part of a coverup, in an interview with john pilger. by john pilger this interview was filmed in the embassy of ecuador in london where julian assange is a political refugee and broadcast on nov. 5, 2016 john pilger whats the significance of the fbis intervention in these last days of the u.s. election campaign, in the case against hillary clinton wikileaks founder julian assange. photo credit espen moe julian assange if you look at the history of the fbi, it has become effectively americas political police. the fbi demonstrated this by taking down the former head of the cia general david petraeus over classified information given to his mistress. almost no one is untouchable. the fbi is always trying to demonstrate that no one can resist us. but hillary clinton very conspicuously resisted the fbis investigation, so theres anger within the fbi because it made the fbi look weak. weve published about 33,000 of clintons emails when she was secretary of state. they come from a batch of just over 60,000 emails, of which clinton has kept about half 30,000 to herself, and weve published about half. then there are the podesta emails weve been publishing. john podesta is hillary clintons primary campaign manager, so theres a thread that runs through all these emails there are quite a lot of payforplay, as they call it, giving access in exchange for money to states, individuals and corporations. these emails are combined with the coverup of the hillary clinton emails when she was secretary of state, which has led to an environment where the pressure on the fbi increases. john pilger the clinton campaign has said that russia is behind all of this, that russia has manipulated the campaign and is the source for wikileaks and its emails. julian assange the clinton camp has been able to project that kind of neomccarthy hysteria that russia is responsible for everything. hilary clinton stated multiple times, falsely, that 17 had assessed that russia was the source of our publications. that is false we can say that the russian government is not the source. wikileaks has been publishing for ten years, and in those ten years, we have published ten million documents, several thousand individual publications, several thousand different sources, and we have never got it wrong. john pilger the emails that give evidence of access for money and how hillary clinton herself benefited from this and how she is benefitting politically, are quite extraordinary. im thinking of when the qatari representative was given five minutes with bill clinton for a million dollar cheque. julian assange and twelve million dollars from morocco john pilger twelve million from morocco yeah. julian assange for hillary clinton to attend a party. john pilger in terms of the foreign policy of the united states, thats where the emails are most revealing, where they show the direct connection between hillary clinton and the foundation of jihadism, of isil, in the middle east. can you talk about how the emails demonstrate the connection between those who are meant to be fighting the jihadists of isil, are actually those who have helped create it. speaking with supporters at a campaign rally at carl hayden high school in phoenix, arizona, by gage skidmore julian assange theres an early 2014 email from hillary clinton, not so long after she left the state department, to her campaign manager john podesta that states isil is funded by the governments of saudi arabia and qatar. now this is email in the whole collection, and perhaps because saudi and qatari money is spread all over the clinton foundation. even the u.s. government agrees that some saudi figures have been supporting isil, or isis. but the dodge has always been that, well its just some rogue princes, using their cut of the oil money to do whatever they like, but actually the government disapproves. but that email says that no, it is the governments of saudi and qatar that have been funding isis. john pilger the saudis, the qataris, the moroccans, the bahrainis, particularly the saudis and the qataris, are giving all this money to the clinton foundation while hilary clinton is secretary of state and the state department is approving massive arms sales, particularly to saudi arabia. julian assange under hillary clinton, the worlds largest ever arms deal was made with saudi arabia, worth more than 80 billion. in fact, during her tenure as secretary of state, total arms exports from the united states in terms of the dollar value, doubled. john pilger of course the consequence of that is that the notorious terrorist group called isil or isis is created largely with money from the very people who are giving money to the clinton foundation. julian assange yes. john pilger thats extraordinary. julian assange i actually feel quite sorry for hillary clinton as a person because i see someone who is eaten alive by their ambitions, tormented literally to the point where they become sick they faint as a result of the reaction to their ambitions. she represents a whole network of people and a network of relationships with particular states. the question is how does hilary clinton fit in this broader network shes a centralizing cog. youve got a lot of different gears in operation from the big banks like goldman sachs and major elements of wall street, and intelligence and people in the state department and the saudis. shes the centralizer that interconnects all these different cogs. shes the smooth central representation of all that, and all that is more or less what is in power now in the united states. its what we call the establishment or the dc consensus. one of the more significant podesta emails that we released was about how the obama cabinet was formed and how half the obama cabinet was basically nominated by a representative from citibank. this is quite amazing. john pilger didnt citibank supply a list . julian assange yes. john pilger which turned out to be most of the obama cabinet. julian assange yes. john pilger so wall street decides the cabinet of the president of the united states julian assange if you were following the obama campaign back then, closely, you could see it had become very close to banking interests. julian assange so i think you cant properly understand hillary clintons foreign policy without understanding saudi arabia. the connections with saudi arabia are so intimate. u.s. secretary of state hillary clinton meets with saudi king abdullah in riyadh on march 30, 2012. state department photo john pilger why was she so demonstrably enthusiastic about the destruction of libya can you talk a little about just what the emails have told us, told you about what happened there, because libya is such a source for so much of the mayhem now in syria, the isil jihadism and so on, and it was almost hillary clintons invasion. what do the emails tell us about thatjulian assange libya, more than anyone elses war, was hillary clintons war. barak obama initially opposed it. who was the person championing it hillary clinton. thats documented throughout her emails. she had put her favored agent, sidney blumenthal, on to that theres more than 1,700 emails out of the 33,000 hillary clinton emails that weve published, just about libya. its not that libya has cheap oil. she perceived the removal of gaddafi and the overthrow of the libyan state something that she would use in her runup to the general election for president. so in late 2011 there is an internal document called the libya tick tock that was produced for hillary clinton, and its the chronological description of how she was the central figure in the destruction of the libyan state, which resulted in around 40,000 deaths within libya jihadists moved in, isis moved in, leading to the european refugee and migrant crisis. not only did you have people fleeing libya, people fleeing syria, the destabilization of other african countries as a result of arms flows, but the libyan state itself was no longer able to control the movement of people through it. libya faces along to the mediterranean and had been effectively the cork in the bottle of africa. so all problems, economic problems and civil war in africa previously people fleeing those problems didnt end up in europe because libya policed the mediterranean. that was said explicitly at the time, back in early 2011 by gaddafi what do these europeans think theyre doing, trying to bomb and destroy the libyan state theres going to be floods of migrants out of africa and jihadists into europe, and this is exactly what happened. john pilger you get complaints from people saying, what is wikileaks doing are they trying to put trump in the white house julian assange my answer is that trump would not be permitted to win. why do i say that because hes had every establishment off side trump doesnt have one establishment, maybe with the exception of the evangelicals, if you can call them an establishment, but banks, intelligence agencies, arms companies big foreign money are all united behind hillary clinton, and the media as well, media owners and even journalists themselves. j ohn pilger there is the accusation that wikileaks is in league with the russians. some people say, well, why doesnt wikileaks investigate and publish emails on russia julian assange we have published about 800,000 documents of various kinds that relate to russia. most of those are critical and a great many books have come out of our publications about russia, most of which are critical. our russia documents have gone on to be used in quite a number of court cases refugee cases of people fleeing some kind of claimed political persecution in russia, which they use our documents to back up. john pilger do you yourself take a view of the u.s. election do you have a preference for clinton or trump donald trump speaking with supporters at a campaign rally at the arizona state fairgrounds in phoenix, arizona. june 18, 2016. photo by gage skidmore julian assange lets talk about donald trump. what does he represent in the american mind and in the european mind he represents american white trash, which hillary clinton called deplorable and irredeemable. it means from an establishment or educated cosmopolitan, urbane perspective, these people are like the red necks, and you can never deal with them. because he so clearly through his words and actions and the type of people that turn up at his rallies represents people who are not the middle, not the uppermiddle educated class, there is a fear of seeming to be associated in any way with them, a social fear that lowers the class status of anyone who can be accused of somehow assisting trump in any way, including any criticism of hillary clinton. if you look at how the middle class gains its economic and social power, that makes absolute sense. john pilger id like to talk about ecuador, the small country that has given you refuge and political asylum in this embassy in london. now ecuador has cut off the internet from here where were doing this interview, in the embassy, for the clearly obvious reason that they are concerned about appearing to intervene in the u.s. election campaign. can you talk about why they would take that action and your own views on ecuadors support for you julian assange lets let go back four years. i made an asylum application to ecuador in this embassy, because of the u.s. extradition case, and the result was that after a month, i was successful in my asylum application. the embassy since then has been surrounded by police quite an expensive police operation which the british government admits to spending more than 12.6 million. they admitted that over a year ago. now theres undercover police and there are robot surveillance cameras of various kinds so that there has been quite a serious conflict right here in the heart of london between ecuador, a country of 16 million people, and the united kingdom, and the americans who have been helping on the side. so that was a brave and principled thing for ecuador to do. now we have the u.s. election campaign, the ecuadorian election is in february next year, and you have the white house feeling the political heat as a result of the true information that we have been publishing. wikileaks does not publish from the jurisdiction of ecuador, from this embassy or in the territory of ecuador we publish from france, we publish from, from germany, we publish from the netherlands and from a number of other countries, so that the attempted squeeze on wikileaks is through my refugee status and this is, this is really intolerable. it means that they are trying to get at a publishing organization they try and prevent it from publishing true information that is of intense interest to the american people and others about an election. ecuadoran president rafael correa. john pilger tell us what would happen if you walked out of this embassy. julian assange i would be immediately arrested by the british police and i would then be extradited either immediately or to sweden. in sweden i am not charged, i have already been previously cleared by the senior stockholm prosecutor eva finne. we were not certain exactly what would happen there, but then we know that the swedish government has refused to say that they will not extradite me we know they have extradited 100 per cent of people whom the u.s. has requested since at least 2000. so over the last 15 years, every single person the u.s. has tried to extradite from sweden has been extradited, and they refuse to provide a guarantee that wont happen. john pilger people often ask me how you cope with the isolation in here. julian assange look, one of the best attributes of human beings is that theyre adaptable one of the worst attributes of human beings is they are adaptable. they adapt and start to tolerate abuses, they adapt to being involved themselves in abuses, they adapt to adversity and they continue on. so in my situation, frankly, im a bit institutionalized this the embassy is the world its visually the world for me. john pilger its the world without sunlight, for one thing, isnt it julian assange its the world without sunlight, but i havent seen sunlight in so long, i dont remember it. john pilger yes. julian assange so, yes, you adapt. the one real irritant is that my young children they also adapt. they adapt to being without their father. thats a hard, hard adaption which they didnt ask for. john pilger do you worry about them julian assange yes, i worry about them i worry about their mother. john pilger some people would say, well, why dont you end it and simply walk out the door and allow yourself to be extradited to sweden julian assange the u.n. the united nations working group on arbitrary detention has looked into this whole situation. they spent 18 months in formal, adversarial litigation. so its me and the u.n. versus sweden and the u.k. whos right the u.n. made a conclusion that i am being arbitrarily detained illegally, deprived of my freedom and that what has occurred has not occurred within the laws that the united kingdom and sweden, and that those countries must obey. it is an illegal abuse. it is the united nations formally asking, whats going on here what is your legal explanation for this assange says that you should recognize his asylum. and here is sweden formally writing back to the united nations to say, no, were not going to recognize the un ruling, so leaving open their ability to extradite. i just find it absolutely amazing that the narrative about this situation is not put out publicly in the press, because it doesnt suit the western establishment narrative that yes, the west has political prisoners, its a reality, its not just me, theres a bunch of other people as well. the west has political prisoners. of course, no state accepts that it should call the people it is imprisoning or detaining for political reasons, political prisoners. they dont call them political prisoners in china, they dont call them political prisoners in azerbaijan and they dont call them political prisoners in the united states, u.k. or sweden it is absolutely intolerable to have that kind of selfperception. julian assange here we have a case, the swedish case, where i have never been charged with a crime, where i have already been cleared by the stockholm prosecutor and found to be innocent, where the woman herself said that the police made it up, where the united nations formally said the whole thing is illegal, where the state of ecuador also investigated and found that i should be given asylum. those are the facts, but what is the rhetoric john pilger yes, its different. julian assange the rhetoric is pretending, constantly pretending that i have been charged with a crime, and never mentioning that i have been already previously cleared, never mentioning that the woman herself says that the police made it up. the rhetoric is trying to avoid the truth that the u.n. formally found that the whole thing is illegal, never even mentioning that ecuador made a formal assessment through its formal processes and found that yes, i am subject to persecution by the united states. john pilger is an australianbritish journalist based in london. pilgers web site is www.johnpilger.com . to support julian assange, go to httpsjustice4assange.comdonate.html\n",
      "\n",
      "Length of text: 2987\n",
      "\n",
      "Vectorized text:\n",
      "[[3784    4    2 ...    0    0    0]]\n"
     ]
    }
   ],
   "source": [
    "# Test out text vectorizer\n",
    "import random\n",
    "target_text_sentence = random.choice(xtest.text.to_list())\n",
    "print(f\"Text:\\n{target_text_sentence}\")\n",
    "print(f\"\\nLength of text: {len(target_text_sentence.split())}\")\n",
    "print(f\"\\nVectorized text:\\n{text_text_vectorizer([target_text_sentence])}\")"
   ]
  },
  {
   "cell_type": "markdown",
   "metadata": {
    "id": "cvV_hn97GmqD"
   },
   "source": [
    "# Word Embedding"
   ]
  },
  {
   "cell_type": "code",
   "execution_count": 63,
   "metadata": {
    "id": "7nOKht4HGmnO"
   },
   "outputs": [],
   "source": [
    "from tensorflow.keras.layers import Embedding"
   ]
  },
  {
   "cell_type": "markdown",
   "metadata": {
    "id": "sDyU42mtJwDz"
   },
   "source": [
    "### Title Embedding"
   ]
  },
  {
   "cell_type": "code",
   "execution_count": 64,
   "metadata": {
    "colab": {
     "base_uri": "https://localhost:8080/"
    },
    "id": "2nHO5tlUIq1z",
    "outputId": "a54a05ad-c24a-43ec-95ac-b46a557a3316"
   },
   "outputs": [
    {
     "name": "stdout",
     "output_type": "stream",
     "text": [
      "23151\n"
     ]
    }
   ],
   "source": [
    "total_title_words =  len(title_text_vectorizer.get_vocabulary())\n",
    "print(total_title_words)"
   ]
  },
  {
   "cell_type": "code",
   "execution_count": 65,
   "metadata": {
    "id": "b7XjSQ8eGmlZ"
   },
   "outputs": [],
   "source": [
    "title_embedder = Embedding(input_dim = total_title_words,\n",
    "                           output_dim = 32,\n",
    "                           mask_zero = True)"
   ]
  },
  {
   "cell_type": "code",
   "execution_count": 66,
   "metadata": {
    "colab": {
     "base_uri": "https://localhost:8080/"
    },
    "id": "FMvZxku8Gmhl",
    "outputId": "15422c91-411e-4eef-9758-972e6157af8a"
   },
   "outputs": [
    {
     "name": "stdout",
     "output_type": "stream",
     "text": [
      "sentence:  forget your encyclopaedia get the pokiespedia\n",
      "\n",
      "\n",
      "vectorized:  tf.Tensor(\n",
      "[[1650   35    1  105    2    1    0    0    0    0    0    0    0    0\n",
      "     0    0    0    0    0    0    0    0]], shape=(1, 22), dtype=int64)\n",
      "\n",
      "\n",
      "embedded shape (1, 22, 32)\n",
      "embedded:  tf.Tensor(\n",
      "[[[-0.04927291 -0.01798164 -0.03619371 -0.04466529 -0.04753346\n",
      "    0.00436903  0.03209798  0.0185913   0.00810788  0.03795316\n",
      "   -0.0351107  -0.02464707  0.04589136 -0.00822519  0.03547677\n",
      "    0.04092673  0.02900345 -0.04469566  0.00419229 -0.04403998\n",
      "   -0.02372338 -0.04627168  0.016283    0.01329769  0.01163979\n",
      "    0.01395911  0.04109228  0.01618871  0.03973532  0.02586703\n",
      "    0.00094379  0.0337269 ]\n",
      "  [-0.04708925  0.00209437  0.00266965  0.02620461 -0.03398905\n",
      "   -0.02330082 -0.01314817 -0.03254186  0.02665401  0.01752683\n",
      "    0.03817073 -0.04533463  0.04896298  0.03700632  0.02319595\n",
      "    0.02162861  0.01797748  0.02216966  0.02108368  0.01305864\n",
      "   -0.00604657 -0.02884345  0.01421652  0.03879729 -0.01365141\n",
      "   -0.01525769  0.01798807 -0.03189526 -0.01940166 -0.04153731\n",
      "    0.0232131  -0.00079719]\n",
      "  [ 0.02579426 -0.00702394  0.02223462  0.005813    0.02661331\n",
      "   -0.00693224 -0.00918682 -0.04205345 -0.01168799 -0.02276226\n",
      "    0.04370639  0.03092435  0.00381575 -0.0088961  -0.04247431\n",
      "   -0.03733876  0.01010459  0.00692698  0.01750306 -0.04169744\n",
      "   -0.01428475  0.01570633  0.02627596 -0.03136059  0.00386453\n",
      "    0.0012161   0.04709537  0.00247439 -0.01252475  0.01635433\n",
      "   -0.01654204  0.02119012]\n",
      "  [-0.01794339  0.02385103  0.01968703  0.01237701 -0.04348574\n",
      "   -0.00524265  0.00114752  0.04750368  0.02333966 -0.04868604\n",
      "    0.0493142   0.03984154 -0.02383057 -0.01432391  0.04227257\n",
      "    0.00791053  0.03997686 -0.0474625   0.03548935  0.02112761\n",
      "    0.01829553 -0.01669067  0.04080886 -0.0115671  -0.03456085\n",
      "   -0.00572861 -0.00224836 -0.01088754  0.03962591 -0.01879549\n",
      "    0.0369502  -0.03444264]\n",
      "  [-0.04783572 -0.0299718   0.019524    0.03322477  0.00112091\n",
      "    0.02013905 -0.04098498  0.00239446 -0.04202382 -0.01471633\n",
      "   -0.04389698 -0.022788    0.043405   -0.03869876 -0.03214329\n",
      "   -0.01363831 -0.03478438 -0.00218397  0.00129068  0.00620703\n",
      "   -0.028742   -0.04443631 -0.04189237  0.03002025  0.0069829\n",
      "    0.03498713  0.03056616 -0.0403838   0.00733771  0.03735835\n",
      "   -0.01939811 -0.00988008]\n",
      "  [ 0.02579426 -0.00702394  0.02223462  0.005813    0.02661331\n",
      "   -0.00693224 -0.00918682 -0.04205345 -0.01168799 -0.02276226\n",
      "    0.04370639  0.03092435  0.00381575 -0.0088961  -0.04247431\n",
      "   -0.03733876  0.01010459  0.00692698  0.01750306 -0.04169744\n",
      "   -0.01428475  0.01570633  0.02627596 -0.03136059  0.00386453\n",
      "    0.0012161   0.04709537  0.00247439 -0.01252475  0.01635433\n",
      "   -0.01654204  0.02119012]\n",
      "  [-0.02885723 -0.01619218  0.01707282  0.00832767 -0.01327444\n",
      "   -0.03264697 -0.01351983 -0.0020442  -0.02385279  0.04720387\n",
      "   -0.01024337  0.00116323 -0.01827694 -0.04861065  0.00058312\n",
      "    0.00603762 -0.04960572  0.01776283 -0.03623637 -0.00674044\n",
      "   -0.04483609 -0.02399447 -0.0382535   0.02479801 -0.01106507\n",
      "    0.02321022  0.00578908  0.03172977  0.04794555  0.00603695\n",
      "   -0.03959296  0.02208588]\n",
      "  [-0.02885723 -0.01619218  0.01707282  0.00832767 -0.01327444\n",
      "   -0.03264697 -0.01351983 -0.0020442  -0.02385279  0.04720387\n",
      "   -0.01024337  0.00116323 -0.01827694 -0.04861065  0.00058312\n",
      "    0.00603762 -0.04960572  0.01776283 -0.03623637 -0.00674044\n",
      "   -0.04483609 -0.02399447 -0.0382535   0.02479801 -0.01106507\n",
      "    0.02321022  0.00578908  0.03172977  0.04794555  0.00603695\n",
      "   -0.03959296  0.02208588]\n",
      "  [-0.02885723 -0.01619218  0.01707282  0.00832767 -0.01327444\n",
      "   -0.03264697 -0.01351983 -0.0020442  -0.02385279  0.04720387\n",
      "   -0.01024337  0.00116323 -0.01827694 -0.04861065  0.00058312\n",
      "    0.00603762 -0.04960572  0.01776283 -0.03623637 -0.00674044\n",
      "   -0.04483609 -0.02399447 -0.0382535   0.02479801 -0.01106507\n",
      "    0.02321022  0.00578908  0.03172977  0.04794555  0.00603695\n",
      "   -0.03959296  0.02208588]\n",
      "  [-0.02885723 -0.01619218  0.01707282  0.00832767 -0.01327444\n",
      "   -0.03264697 -0.01351983 -0.0020442  -0.02385279  0.04720387\n",
      "   -0.01024337  0.00116323 -0.01827694 -0.04861065  0.00058312\n",
      "    0.00603762 -0.04960572  0.01776283 -0.03623637 -0.00674044\n",
      "   -0.04483609 -0.02399447 -0.0382535   0.02479801 -0.01106507\n",
      "    0.02321022  0.00578908  0.03172977  0.04794555  0.00603695\n",
      "   -0.03959296  0.02208588]\n",
      "  [-0.02885723 -0.01619218  0.01707282  0.00832767 -0.01327444\n",
      "   -0.03264697 -0.01351983 -0.0020442  -0.02385279  0.04720387\n",
      "   -0.01024337  0.00116323 -0.01827694 -0.04861065  0.00058312\n",
      "    0.00603762 -0.04960572  0.01776283 -0.03623637 -0.00674044\n",
      "   -0.04483609 -0.02399447 -0.0382535   0.02479801 -0.01106507\n",
      "    0.02321022  0.00578908  0.03172977  0.04794555  0.00603695\n",
      "   -0.03959296  0.02208588]\n",
      "  [-0.02885723 -0.01619218  0.01707282  0.00832767 -0.01327444\n",
      "   -0.03264697 -0.01351983 -0.0020442  -0.02385279  0.04720387\n",
      "   -0.01024337  0.00116323 -0.01827694 -0.04861065  0.00058312\n",
      "    0.00603762 -0.04960572  0.01776283 -0.03623637 -0.00674044\n",
      "   -0.04483609 -0.02399447 -0.0382535   0.02479801 -0.01106507\n",
      "    0.02321022  0.00578908  0.03172977  0.04794555  0.00603695\n",
      "   -0.03959296  0.02208588]\n",
      "  [-0.02885723 -0.01619218  0.01707282  0.00832767 -0.01327444\n",
      "   -0.03264697 -0.01351983 -0.0020442  -0.02385279  0.04720387\n",
      "   -0.01024337  0.00116323 -0.01827694 -0.04861065  0.00058312\n",
      "    0.00603762 -0.04960572  0.01776283 -0.03623637 -0.00674044\n",
      "   -0.04483609 -0.02399447 -0.0382535   0.02479801 -0.01106507\n",
      "    0.02321022  0.00578908  0.03172977  0.04794555  0.00603695\n",
      "   -0.03959296  0.02208588]\n",
      "  [-0.02885723 -0.01619218  0.01707282  0.00832767 -0.01327444\n",
      "   -0.03264697 -0.01351983 -0.0020442  -0.02385279  0.04720387\n",
      "   -0.01024337  0.00116323 -0.01827694 -0.04861065  0.00058312\n",
      "    0.00603762 -0.04960572  0.01776283 -0.03623637 -0.00674044\n",
      "   -0.04483609 -0.02399447 -0.0382535   0.02479801 -0.01106507\n",
      "    0.02321022  0.00578908  0.03172977  0.04794555  0.00603695\n",
      "   -0.03959296  0.02208588]\n",
      "  [-0.02885723 -0.01619218  0.01707282  0.00832767 -0.01327444\n",
      "   -0.03264697 -0.01351983 -0.0020442  -0.02385279  0.04720387\n",
      "   -0.01024337  0.00116323 -0.01827694 -0.04861065  0.00058312\n",
      "    0.00603762 -0.04960572  0.01776283 -0.03623637 -0.00674044\n",
      "   -0.04483609 -0.02399447 -0.0382535   0.02479801 -0.01106507\n",
      "    0.02321022  0.00578908  0.03172977  0.04794555  0.00603695\n",
      "   -0.03959296  0.02208588]\n",
      "  [-0.02885723 -0.01619218  0.01707282  0.00832767 -0.01327444\n",
      "   -0.03264697 -0.01351983 -0.0020442  -0.02385279  0.04720387\n",
      "   -0.01024337  0.00116323 -0.01827694 -0.04861065  0.00058312\n",
      "    0.00603762 -0.04960572  0.01776283 -0.03623637 -0.00674044\n",
      "   -0.04483609 -0.02399447 -0.0382535   0.02479801 -0.01106507\n",
      "    0.02321022  0.00578908  0.03172977  0.04794555  0.00603695\n",
      "   -0.03959296  0.02208588]\n",
      "  [-0.02885723 -0.01619218  0.01707282  0.00832767 -0.01327444\n",
      "   -0.03264697 -0.01351983 -0.0020442  -0.02385279  0.04720387\n",
      "   -0.01024337  0.00116323 -0.01827694 -0.04861065  0.00058312\n",
      "    0.00603762 -0.04960572  0.01776283 -0.03623637 -0.00674044\n",
      "   -0.04483609 -0.02399447 -0.0382535   0.02479801 -0.01106507\n",
      "    0.02321022  0.00578908  0.03172977  0.04794555  0.00603695\n",
      "   -0.03959296  0.02208588]\n",
      "  [-0.02885723 -0.01619218  0.01707282  0.00832767 -0.01327444\n",
      "   -0.03264697 -0.01351983 -0.0020442  -0.02385279  0.04720387\n",
      "   -0.01024337  0.00116323 -0.01827694 -0.04861065  0.00058312\n",
      "    0.00603762 -0.04960572  0.01776283 -0.03623637 -0.00674044\n",
      "   -0.04483609 -0.02399447 -0.0382535   0.02479801 -0.01106507\n",
      "    0.02321022  0.00578908  0.03172977  0.04794555  0.00603695\n",
      "   -0.03959296  0.02208588]\n",
      "  [-0.02885723 -0.01619218  0.01707282  0.00832767 -0.01327444\n",
      "   -0.03264697 -0.01351983 -0.0020442  -0.02385279  0.04720387\n",
      "   -0.01024337  0.00116323 -0.01827694 -0.04861065  0.00058312\n",
      "    0.00603762 -0.04960572  0.01776283 -0.03623637 -0.00674044\n",
      "   -0.04483609 -0.02399447 -0.0382535   0.02479801 -0.01106507\n",
      "    0.02321022  0.00578908  0.03172977  0.04794555  0.00603695\n",
      "   -0.03959296  0.02208588]\n",
      "  [-0.02885723 -0.01619218  0.01707282  0.00832767 -0.01327444\n",
      "   -0.03264697 -0.01351983 -0.0020442  -0.02385279  0.04720387\n",
      "   -0.01024337  0.00116323 -0.01827694 -0.04861065  0.00058312\n",
      "    0.00603762 -0.04960572  0.01776283 -0.03623637 -0.00674044\n",
      "   -0.04483609 -0.02399447 -0.0382535   0.02479801 -0.01106507\n",
      "    0.02321022  0.00578908  0.03172977  0.04794555  0.00603695\n",
      "   -0.03959296  0.02208588]\n",
      "  [-0.02885723 -0.01619218  0.01707282  0.00832767 -0.01327444\n",
      "   -0.03264697 -0.01351983 -0.0020442  -0.02385279  0.04720387\n",
      "   -0.01024337  0.00116323 -0.01827694 -0.04861065  0.00058312\n",
      "    0.00603762 -0.04960572  0.01776283 -0.03623637 -0.00674044\n",
      "   -0.04483609 -0.02399447 -0.0382535   0.02479801 -0.01106507\n",
      "    0.02321022  0.00578908  0.03172977  0.04794555  0.00603695\n",
      "   -0.03959296  0.02208588]\n",
      "  [-0.02885723 -0.01619218  0.01707282  0.00832767 -0.01327444\n",
      "   -0.03264697 -0.01351983 -0.0020442  -0.02385279  0.04720387\n",
      "   -0.01024337  0.00116323 -0.01827694 -0.04861065  0.00058312\n",
      "    0.00603762 -0.04960572  0.01776283 -0.03623637 -0.00674044\n",
      "   -0.04483609 -0.02399447 -0.0382535   0.02479801 -0.01106507\n",
      "    0.02321022  0.00578908  0.03172977  0.04794555  0.00603695\n",
      "   -0.03959296  0.02208588]]], shape=(1, 22, 32), dtype=float32)\n"
     ]
    }
   ],
   "source": [
    "print('sentence: ', target_title_sentence ,end = '\\n')\n",
    "print('\\n')\n",
    "vectorized_sentence = title_text_vectorizer([target_title_sentence])\n",
    "print('vectorized: ', vectorized_sentence)\n",
    "print('\\n')\n",
    "embedded_sentence = title_embedder(vectorized_sentence)\n",
    "print('embedded shape', embedded_sentence.shape)\n",
    "print('embedded: ', embedded_sentence)\n"
   ]
  },
  {
   "cell_type": "markdown",
   "metadata": {
    "id": "_RbfOA38JrKh"
   },
   "source": [
    "### Text embedding"
   ]
  },
  {
   "cell_type": "code",
   "execution_count": 67,
   "metadata": {
    "colab": {
     "base_uri": "https://localhost:8080/"
    },
    "id": "AknweDF6GmgO",
    "outputId": "94057179-721a-4769-fc05-f14a72f2c8ee"
   },
   "outputs": [
    {
     "name": "stdout",
     "output_type": "stream",
     "text": [
      "204292\n"
     ]
    }
   ],
   "source": [
    "total_text_words =  len(text_text_vectorizer.get_vocabulary())\n",
    "print(total_text_words)"
   ]
  },
  {
   "cell_type": "code",
   "execution_count": 68,
   "metadata": {
    "id": "Y8UT_Yy_Gmcy"
   },
   "outputs": [],
   "source": [
    "text_embedder = Embedding(input_dim = total_text_words,\n",
    "                           output_dim = 32,\n",
    "                           mask_zero = True)"
   ]
  },
  {
   "cell_type": "code",
   "execution_count": 69,
   "metadata": {
    "colab": {
     "base_uri": "https://localhost:8080/"
    },
    "id": "_V_OraOkGmY7",
    "outputId": "6b75fe3b-be6c-402e-d94a-67ecc0c6a1af"
   },
   "outputs": [
    {
     "name": "stdout",
     "output_type": "stream",
     "text": [
      "sentence:  secrets of the us election assange talks to pilger november 5, 2016 wikileaks founder julian assange denies the russian government was the source of leaked emails about hillary clinton and says her neomccarthy russiabashing is just part of a coverup, in an interview with john pilger. by john pilger this interview was filmed in the embassy of ecuador in london where julian assange is a political refugee and broadcast on nov. 5, 2016 john pilger whats the significance of the fbis intervention in these last days of the u.s. election campaign, in the case against hillary clinton wikileaks founder julian assange. photo credit espen moe julian assange if you look at the history of the fbi, it has become effectively americas political police. the fbi demonstrated this by taking down the former head of the cia general david petraeus over classified information given to his mistress. almost no one is untouchable. the fbi is always trying to demonstrate that no one can resist us. but hillary clinton very conspicuously resisted the fbis investigation, so theres anger within the fbi because it made the fbi look weak. weve published about 33,000 of clintons emails when she was secretary of state. they come from a batch of just over 60,000 emails, of which clinton has kept about half 30,000 to herself, and weve published about half. then there are the podesta emails weve been publishing. john podesta is hillary clintons primary campaign manager, so theres a thread that runs through all these emails there are quite a lot of payforplay, as they call it, giving access in exchange for money to states, individuals and corporations. these emails are combined with the coverup of the hillary clinton emails when she was secretary of state, which has led to an environment where the pressure on the fbi increases. john pilger the clinton campaign has said that russia is behind all of this, that russia has manipulated the campaign and is the source for wikileaks and its emails. julian assange the clinton camp has been able to project that kind of neomccarthy hysteria that russia is responsible for everything. hilary clinton stated multiple times, falsely, that 17 had assessed that russia was the source of our publications. that is false we can say that the russian government is not the source. wikileaks has been publishing for ten years, and in those ten years, we have published ten million documents, several thousand individual publications, several thousand different sources, and we have never got it wrong. john pilger the emails that give evidence of access for money and how hillary clinton herself benefited from this and how she is benefitting politically, are quite extraordinary. im thinking of when the qatari representative was given five minutes with bill clinton for a million dollar cheque. julian assange and twelve million dollars from morocco john pilger twelve million from morocco yeah. julian assange for hillary clinton to attend a party. john pilger in terms of the foreign policy of the united states, thats where the emails are most revealing, where they show the direct connection between hillary clinton and the foundation of jihadism, of isil, in the middle east. can you talk about how the emails demonstrate the connection between those who are meant to be fighting the jihadists of isil, are actually those who have helped create it. speaking with supporters at a campaign rally at carl hayden high school in phoenix, arizona, by gage skidmore julian assange theres an early 2014 email from hillary clinton, not so long after she left the state department, to her campaign manager john podesta that states isil is funded by the governments of saudi arabia and qatar. now this is email in the whole collection, and perhaps because saudi and qatari money is spread all over the clinton foundation. even the u.s. government agrees that some saudi figures have been supporting isil, or isis. but the dodge has always been that, well its just some rogue princes, using their cut of the oil money to do whatever they like, but actually the government disapproves. but that email says that no, it is the governments of saudi and qatar that have been funding isis. john pilger the saudis, the qataris, the moroccans, the bahrainis, particularly the saudis and the qataris, are giving all this money to the clinton foundation while hilary clinton is secretary of state and the state department is approving massive arms sales, particularly to saudi arabia. julian assange under hillary clinton, the worlds largest ever arms deal was made with saudi arabia, worth more than 80 billion. in fact, during her tenure as secretary of state, total arms exports from the united states in terms of the dollar value, doubled. john pilger of course the consequence of that is that the notorious terrorist group called isil or isis is created largely with money from the very people who are giving money to the clinton foundation. julian assange yes. john pilger thats extraordinary. julian assange i actually feel quite sorry for hillary clinton as a person because i see someone who is eaten alive by their ambitions, tormented literally to the point where they become sick they faint as a result of the reaction to their ambitions. she represents a whole network of people and a network of relationships with particular states. the question is how does hilary clinton fit in this broader network shes a centralizing cog. youve got a lot of different gears in operation from the big banks like goldman sachs and major elements of wall street, and intelligence and people in the state department and the saudis. shes the centralizer that interconnects all these different cogs. shes the smooth central representation of all that, and all that is more or less what is in power now in the united states. its what we call the establishment or the dc consensus. one of the more significant podesta emails that we released was about how the obama cabinet was formed and how half the obama cabinet was basically nominated by a representative from citibank. this is quite amazing. john pilger didnt citibank supply a list . julian assange yes. john pilger which turned out to be most of the obama cabinet. julian assange yes. john pilger so wall street decides the cabinet of the president of the united states julian assange if you were following the obama campaign back then, closely, you could see it had become very close to banking interests. julian assange so i think you cant properly understand hillary clintons foreign policy without understanding saudi arabia. the connections with saudi arabia are so intimate. u.s. secretary of state hillary clinton meets with saudi king abdullah in riyadh on march 30, 2012. state department photo john pilger why was she so demonstrably enthusiastic about the destruction of libya can you talk a little about just what the emails have told us, told you about what happened there, because libya is such a source for so much of the mayhem now in syria, the isil jihadism and so on, and it was almost hillary clintons invasion. what do the emails tell us about thatjulian assange libya, more than anyone elses war, was hillary clintons war. barak obama initially opposed it. who was the person championing it hillary clinton. thats documented throughout her emails. she had put her favored agent, sidney blumenthal, on to that theres more than 1,700 emails out of the 33,000 hillary clinton emails that weve published, just about libya. its not that libya has cheap oil. she perceived the removal of gaddafi and the overthrow of the libyan state something that she would use in her runup to the general election for president. so in late 2011 there is an internal document called the libya tick tock that was produced for hillary clinton, and its the chronological description of how she was the central figure in the destruction of the libyan state, which resulted in around 40,000 deaths within libya jihadists moved in, isis moved in, leading to the european refugee and migrant crisis. not only did you have people fleeing libya, people fleeing syria, the destabilization of other african countries as a result of arms flows, but the libyan state itself was no longer able to control the movement of people through it. libya faces along to the mediterranean and had been effectively the cork in the bottle of africa. so all problems, economic problems and civil war in africa previously people fleeing those problems didnt end up in europe because libya policed the mediterranean. that was said explicitly at the time, back in early 2011 by gaddafi what do these europeans think theyre doing, trying to bomb and destroy the libyan state theres going to be floods of migrants out of africa and jihadists into europe, and this is exactly what happened. john pilger you get complaints from people saying, what is wikileaks doing are they trying to put trump in the white house julian assange my answer is that trump would not be permitted to win. why do i say that because hes had every establishment off side trump doesnt have one establishment, maybe with the exception of the evangelicals, if you can call them an establishment, but banks, intelligence agencies, arms companies big foreign money are all united behind hillary clinton, and the media as well, media owners and even journalists themselves. j ohn pilger there is the accusation that wikileaks is in league with the russians. some people say, well, why doesnt wikileaks investigate and publish emails on russia julian assange we have published about 800,000 documents of various kinds that relate to russia. most of those are critical and a great many books have come out of our publications about russia, most of which are critical. our russia documents have gone on to be used in quite a number of court cases refugee cases of people fleeing some kind of claimed political persecution in russia, which they use our documents to back up. john pilger do you yourself take a view of the u.s. election do you have a preference for clinton or trump donald trump speaking with supporters at a campaign rally at the arizona state fairgrounds in phoenix, arizona. june 18, 2016. photo by gage skidmore julian assange lets talk about donald trump. what does he represent in the american mind and in the european mind he represents american white trash, which hillary clinton called deplorable and irredeemable. it means from an establishment or educated cosmopolitan, urbane perspective, these people are like the red necks, and you can never deal with them. because he so clearly through his words and actions and the type of people that turn up at his rallies represents people who are not the middle, not the uppermiddle educated class, there is a fear of seeming to be associated in any way with them, a social fear that lowers the class status of anyone who can be accused of somehow assisting trump in any way, including any criticism of hillary clinton. if you look at how the middle class gains its economic and social power, that makes absolute sense. john pilger id like to talk about ecuador, the small country that has given you refuge and political asylum in this embassy in london. now ecuador has cut off the internet from here where were doing this interview, in the embassy, for the clearly obvious reason that they are concerned about appearing to intervene in the u.s. election campaign. can you talk about why they would take that action and your own views on ecuadors support for you julian assange lets let go back four years. i made an asylum application to ecuador in this embassy, because of the u.s. extradition case, and the result was that after a month, i was successful in my asylum application. the embassy since then has been surrounded by police quite an expensive police operation which the british government admits to spending more than 12.6 million. they admitted that over a year ago. now theres undercover police and there are robot surveillance cameras of various kinds so that there has been quite a serious conflict right here in the heart of london between ecuador, a country of 16 million people, and the united kingdom, and the americans who have been helping on the side. so that was a brave and principled thing for ecuador to do. now we have the u.s. election campaign, the ecuadorian election is in february next year, and you have the white house feeling the political heat as a result of the true information that we have been publishing. wikileaks does not publish from the jurisdiction of ecuador, from this embassy or in the territory of ecuador we publish from france, we publish from, from germany, we publish from the netherlands and from a number of other countries, so that the attempted squeeze on wikileaks is through my refugee status and this is, this is really intolerable. it means that they are trying to get at a publishing organization they try and prevent it from publishing true information that is of intense interest to the american people and others about an election. ecuadoran president rafael correa. john pilger tell us what would happen if you walked out of this embassy. julian assange i would be immediately arrested by the british police and i would then be extradited either immediately or to sweden. in sweden i am not charged, i have already been previously cleared by the senior stockholm prosecutor eva finne. we were not certain exactly what would happen there, but then we know that the swedish government has refused to say that they will not extradite me we know they have extradited 100 per cent of people whom the u.s. has requested since at least 2000. so over the last 15 years, every single person the u.s. has tried to extradite from sweden has been extradited, and they refuse to provide a guarantee that wont happen. john pilger people often ask me how you cope with the isolation in here. julian assange look, one of the best attributes of human beings is that theyre adaptable one of the worst attributes of human beings is they are adaptable. they adapt and start to tolerate abuses, they adapt to being involved themselves in abuses, they adapt to adversity and they continue on. so in my situation, frankly, im a bit institutionalized this the embassy is the world its visually the world for me. john pilger its the world without sunlight, for one thing, isnt it julian assange its the world without sunlight, but i havent seen sunlight in so long, i dont remember it. john pilger yes. julian assange so, yes, you adapt. the one real irritant is that my young children they also adapt. they adapt to being without their father. thats a hard, hard adaption which they didnt ask for. john pilger do you worry about them julian assange yes, i worry about them i worry about their mother. john pilger some people would say, well, why dont you end it and simply walk out the door and allow yourself to be extradited to sweden julian assange the u.n. the united nations working group on arbitrary detention has looked into this whole situation. they spent 18 months in formal, adversarial litigation. so its me and the u.n. versus sweden and the u.k. whos right the u.n. made a conclusion that i am being arbitrarily detained illegally, deprived of my freedom and that what has occurred has not occurred within the laws that the united kingdom and sweden, and that those countries must obey. it is an illegal abuse. it is the united nations formally asking, whats going on here what is your legal explanation for this assange says that you should recognize his asylum. and here is sweden formally writing back to the united nations to say, no, were not going to recognize the un ruling, so leaving open their ability to extradite. i just find it absolutely amazing that the narrative about this situation is not put out publicly in the press, because it doesnt suit the western establishment narrative that yes, the west has political prisoners, its a reality, its not just me, theres a bunch of other people as well. the west has political prisoners. of course, no state accepts that it should call the people it is imprisoning or detaining for political reasons, political prisoners. they dont call them political prisoners in china, they dont call them political prisoners in azerbaijan and they dont call them political prisoners in the united states, u.k. or sweden it is absolutely intolerable to have that kind of selfperception. julian assange here we have a case, the swedish case, where i have never been charged with a crime, where i have already been cleared by the stockholm prosecutor and found to be innocent, where the woman herself said that the police made it up, where the united nations formally said the whole thing is illegal, where the state of ecuador also investigated and found that i should be given asylum. those are the facts, but what is the rhetoric john pilger yes, its different. julian assange the rhetoric is pretending, constantly pretending that i have been charged with a crime, and never mentioning that i have been already previously cleared, never mentioning that the woman herself says that the police made it up. the rhetoric is trying to avoid the truth that the u.n. formally found that the whole thing is illegal, never even mentioning that ecuador made a formal assessment through its formal processes and found that yes, i am subject to persecution by the united states. john pilger is an australianbritish journalist based in london. pilgers web site is www.johnpilger.com . to support julian assange, go to httpsjustice4assange.comdonate.html\n",
      "sentence len:  17614\n",
      "\n",
      "\n",
      "vectorized:  tf.Tensor(\n",
      "[[2016    8    2   21   30  497  586    6 4735  381  173   95   99 3070\n",
      "   955  497 1951    2   90  136   66    2]], shape=(1, 22), dtype=int64)\n",
      "\n",
      "\n",
      "embedded shape (1, 22, 32)\n",
      "embedded:  tf.Tensor(\n",
      "[[[-0.03659863  0.01852809 -0.01491214 -0.01137961  0.04401572]\n",
      "  [ 0.00746433  0.04452607 -0.04660267 -0.02348536  0.01552385]\n",
      "  [-0.02548154  0.04961437  0.04262977 -0.03501655 -0.02783462]\n",
      "  [-0.02154415  0.01307194  0.02569356  0.02641336 -0.01664051]\n",
      "  [-0.02078397  0.03457402 -0.03597983 -0.03472654  0.03878615]]], shape=(1, 5, 5), dtype=float32)\n"
     ]
    }
   ],
   "source": [
    "print('sentence: ', target_text_sentence ,end = '\\n')\n",
    "print('sentence len: ', len(target_text_sentence) ,end = '\\n')\n",
    "\n",
    "print('\\n')\n",
    "vectorized_sentence = title_text_vectorizer([target_text_sentence])\n",
    "print('vectorized: ', vectorized_sentence)\n",
    "print('\\n')\n",
    "embedded_sentence = text_embedder(vectorized_sentence)\n",
    "print('embedded shape', embedded_sentence.shape)\n",
    "print('embedded: ', embedded_sentence[:,:5,:5]) #This is too long to print \n"
   ]
  },
  {
   "cell_type": "markdown",
   "metadata": {
    "id": "ZDFXJJlqOjSa"
   },
   "source": [
    "# Creating `tf.Data`"
   ]
  },
  {
   "cell_type": "code",
   "execution_count": 70,
   "metadata": {
    "id": "377zdUTkO20W"
   },
   "outputs": [],
   "source": [
    "# train tf.data\n",
    "# train_title = tf.data.Dataset.from_tensor_slices(xtrain.title.to_list())\n",
    "# train_text = tf.data.Dataset.from_tensor_slices(xtrain.text.to_list())\n",
    "train_label = tf.data.Dataset.from_tensor_slices(ytrain)\n",
    "\n",
    "\n",
    "train_features = tf.data.Dataset.from_tensor_slices((xtrain.title.to_list(), xtrain.text.to_list()))\n",
    "train_dataset = tf.data.Dataset.zip((train_features, train_label))\n",
    "\n",
    "# test tf.data\n",
    "# test_title = tf.data.Dataset.from_tensor_slices(xtest.title.to_list())\n",
    "# test_text = tf.data.Dataset.from_tensor_slices(xtest.text.to_list())\n",
    "test_label = tf.data.Dataset.from_tensor_slices(ytest)\n",
    "\n",
    "test_features = tf.data.Dataset.from_tensor_slices((xtest.title.to_list(), xtest.text.to_list()))\n",
    "test_dataset  = tf.data.Dataset.zip((test_features, test_label))\n"
   ]
  },
  {
   "cell_type": "code",
   "execution_count": 71,
   "metadata": {
    "colab": {
     "base_uri": "https://localhost:8080/"
    },
    "id": "qZ2G11cGSmbG",
    "outputId": "e4c7fcbb-f044-48ae-c28b-2271d9e9cd16"
   },
   "outputs": [
    {
     "name": "stdout",
     "output_type": "stream",
     "text": [
      "(<tf.Tensor: shape=(), dtype=string, numpy=b'former dea prescription head drops a bombshell congress protects big pharma fuels opioid crisis'>, <tf.Tensor: shape=(), dtype=string, numpy=b'former dea prescription head drops a bombshell congress protects big pharma fuels opioid crisis source claire bernish congress would rather protect the profits of pharmaceutical companies than the health of those addicted to dangerous opioid drugs, says a former head of the dea responsible for preventing abuse of medications. joseph rannazzisi, former deputy assistant administrator at the u.s. drug enforcement agency, asserts big pharma and its lobbyists have a stranglehold on legislators in congress and have engineered the protection of a 9 billion per year industry over the health of american citizens, according to a report from the guardian . congress would rather listen to people who had a profit motive rather than a public health and safety motive, he said, according to the outlet. as long as the industry has this stranglehold through lobbyists, nothings going to change. rannazzisi explained lobbyists have spent millions thwarting legislative and policy efforts to provide guidelines for reducing the prescribing of opioid medications closely related to heroin and helped limit the deas powers to discipline those who dispense unusually high dosages of the same. a pharmacist himself, rannazzisi severely criticized lawmakers he claims hold a double standard publicly vowing to combat the opioid epidemic, while essentially working on behalf of pharmaceutical companies to ensure the industrys profits. these congressmen and senators who are using this because they are up for reelection, its a sham, he told the guardian . the congressmen and senators who are championing this fight, the ones who really believe in what theyre doing, their voices are drowned out because the industry has too much influence. with the unique insight of having been an insider, rannazzisi excoriated the duplicity evidenced between legislators public lamentation of addiction and deaths from the opioid crisis during election years, and private efforts to protect drugmakers from liability. and he would know. according to rannazzisis linkedin profile, as chief of diversion, he had been tasked with oversight and control of all regulatory compliance inspections and civil and criminal investigations of approximately 1.6 million dea registrants but if the standards are lowered by congress to allow greater leeway in prescribing opioids, the threshold of criminality is raised. as the guardian points out, legislation to fight the opioid epidemic, comprehensive addiction and recovery act , did, in fact, pass in july but partisan controversy erupted when republicans failed to provide funding to give the law sharp teeth. democrats then issued a report titled dying waiting for treatment in response, which likened the republican response to the opioid crisis to using a piece of chewing gum to patch a cracked dam. indeed the report sharply criticized the bill, equating its policies to empty promises for the lack of financial followthrough. as the washington post detailed in a report earlier this month, the dea launched an aggressive campaign to rein in distribution of opioids by pharmaceutical manufacturers to illegal pill mills and corrupt pharmacies, who cared little whether the drugs wound up on the streets. headed by rannazzisi, the office of diversion control sent investigators into the field, and began issuing hefty fines and filing lawsuits against the distributors responsible for the proliferation of opioids on the streets. but the disproportionately powerful pharmaceutical industry fearing a potential significant loss in profits fought back. hard. according to the post , the deputy attorney general summoned rannazzisi to a meeting in 2012, concerning the cases of two unnamed major drug companies. that meeting was to chastise me for going after industry, and thats all that meeting was about, the nowretired dea official told the post . then, in 2014, came what constituted a hand out to the pharmaceutical industry by the department of justice and congressional legislators the ensuring patient access and effective drug enforcement act legislation initiated by the healthcare distribution management association the industry group representing distributors at the heart of the controversy. an analysis of lobbying records by the post found the healthcare distribution alliance, spent 13 million lobbying house and senate members and their staffs on the legislation and other issues between 2014 and 2016. rannazzisi argued his case to congressional staffers in a phone conference in july 2014, and recalled telling them, this bill passes the way its written we wont be able to get immediate suspension orders, we wont be able to stop the hemorrhaging of these drugs out of these bad pharmacies and these bad corporations. stunned at the massive and ultimately successful effort to take the bite out of dea attempts to hold distributors and drugmakers responsible for their role in an epidemic estimated to take 19,000 lives every year, rannazzisi likened the legislation to a free pass for legal drug pushers. this doesnt ensure patient access and it doesnt help drug enforcement at all, he told the guardian. what this bill does has nothing to do with the medical process. what this bill does is take away deas ability to go after a pharmacist, a wholesaler, manufacturer or distributor. this was a gift. a gift to the industry, he added. after heading the diversion office for a decade, rannazzisi retired in 2015 likely disgusted over legislators dedication to the legal drug industry, rather than the people whose interests theyre ostensibly obligated to protect. the bill passed because big pharma wanted it to pass, he told the guardian in no uncertain terms. the dea is both an enforcement agency and a regulatory agency. when i was in charge what i tried to do was explain to my investigators and my agents that our job was to regulate the industry and theyre not going to like being regulated. big pharma relies overwhelmingly on lobbyists filling the coffers of politicians to ensure they ignore the crisis gripping the nation. as the center for public integrity found , the guardian noted, purdue pharma at the heart of the epidemic for its highlyaddictive drug introduced in the late 1990s, oxycontin spent a breathtaking 740 million in the last ten years on congressional lobbying efforts. however, big pharmas power to influence policy and legislation extends far beyond simple but effective lobbying the governmentrun interagency pain research coordinating committee iprcc has been accused by sen. ron wyden of being a tool to weaken cdc guidelines for limiting overprescribing of opioids. wyden wrote to secretary of health and human services sylvia burwell of his concerns the iprcc had been staffed with experts with conflicts of interest for their close ties to big pharma, including a scientist with a 1.5 million endowment from purdue, reported the guardian . youve got a panel thats certainly got a fair number of people that have a vested interest in this problem of overprescribing. thats something youve got to root out, wyden asserted . the role of the pharmaceutical companies on these advisory panels troubles me greatly. science is getting short shrift compared to the political clout of these influential interests. families of countless addicts and victims of the opioid industry would undoubtedly find the direct influence of big pharmas proopioid cash appalling yet it continues to this day. policies and legislation have not yet been given the appropriate funding needed to effectively combat the problem, which swirls out of control while politicians and drugmakers reap bloodtainted profits. corporations have no conscience, rannazzisi flatly told the guardian . unfortunately, with my job, i was the guy who had to go out and talk to families that lost kids. if one of those ceos went out there and talked to anybody, or if one of those ceos happened to lose a kid to this horrible, horrible domestic tragedy we have, id bet you theyd change their mind. when you sit with a parent who cant understand why theres so many pharmaceuticals out in the illicit marketplace, and why isnt the government doing anything, well the dea was doing something. unfortunately what were trying to do is thwarted by people who are writing laws. share this article...'>) tf.Tensor(1, shape=(), dtype=int64)\n"
     ]
    }
   ],
   "source": [
    "# Visualizing the data\n",
    "for i,j in train_dataset.take(1):\n",
    "    print(i,j)\n",
    "    break"
   ]
  },
  {
   "cell_type": "code",
   "execution_count": 72,
   "metadata": {
    "id": "PGzTCzESO2tv"
   },
   "outputs": [],
   "source": [
    "# prefetching \n",
    "train_dataset = train_dataset.batch(64).prefetch(tf.data.AUTOTUNE)\n",
    "test_dataset = test_dataset.batch(64).prefetch(tf.data.AUTOTUNE)"
   ]
  },
  {
   "cell_type": "markdown",
   "metadata": {
    "id": "mT_p6WhpjMGF"
   },
   "source": [
    "# Model1"
   ]
  },
  {
   "cell_type": "code",
   "execution_count": 73,
   "metadata": {
    "id": "o9AYnIxajMEp"
   },
   "outputs": [],
   "source": [
    "from tensorflow.keras import layers\n",
    "from tensorflow.keras.layers import GlobalAveragePooling1D, GlobalMaxPooling1D"
   ]
  },
  {
   "cell_type": "code",
   "execution_count": 88,
   "metadata": {
    "colab": {
     "base_uri": "https://localhost:8080/"
    },
    "id": "R9cuQS59jMCH",
    "outputId": "7ddb61af-d381-4133-c699-9c3731cc7259"
   },
   "outputs": [
    {
     "name": "stdout",
     "output_type": "stream",
     "text": [
      "title output shape:  (None, 32)\n",
      "text output shape:  (None, 32)\n",
      "concatenated shape:  (None, 64)\n"
     ]
    }
   ],
   "source": [
    "input1 = layers.Input(shape = (1,), dtype = tf.string)\n",
    "token = title_text_vectorizer(input1)\n",
    "embed = title_embedder(token)\n",
    "x = layers.LSTM(32,return_sequences=True)(embed)\n",
    "x = layers.LSTM(32,return_sequences=True)(x)\n",
    "title_out = GlobalAveragePooling1D()(x)\n",
    "print('title output shape: ',title_out.shape)\n",
    "\n",
    "input2 = layers.Input(shape = (1,), dtype= tf.string)\n",
    "token2 = text_text_vectorizer(input2)\n",
    "embed2 = text_embedder(token2)\n",
    "x = layers.LSTM(32,return_sequences=True)(embed2)\n",
    "x = layers.LSTM(32,return_sequences=True)(x)\n",
    "text_out = GlobalAveragePooling1D()(x)\n",
    "print('text output shape: ',text_out.shape)\n",
    "\n",
    "concat = layers.Concatenate()([title_out, text_out])\n",
    "print('concatenated shape: ',concat.shape)\n",
    "\n",
    "x = layers.Dropout(.3)(concat)\n",
    "x = layers.Dense(128, activation = 'relu')(x)\n",
    "x = layers.Dense(128, activation = 'relu')(x)\n",
    "outputs = layers.Dense(1, activation = 'sigmoid')(x)\n",
    "\n",
    "model1 = keras.Model(inputs = [input1,input2], outputs = outputs)\n",
    "\n",
    "#COMPILE\n",
    "model1.compile(loss = keras.losses.SparseCategoricalCrossentropy(),\n",
    "               optimizer = keras.optimizers.Adam(),\n",
    "               metrics = ['accuracy'])"
   ]
  },
  {
   "cell_type": "code",
   "execution_count": 93,
   "metadata": {
    "colab": {
     "base_uri": "https://localhost:8080/"
    },
    "id": "uYkA2QVoTQzM",
    "outputId": "921fb00d-5d89-4388-eadc-accc73b9f0bc"
   },
   "outputs": [
    {
     "data": {
      "text/plain": [
       "(285, 32)"
      ]
     },
     "execution_count": 93,
     "metadata": {},
     "output_type": "execute_result"
    }
   ],
   "source": [
    "EPOCHS = 10\n",
    "len(train_dataset), len(test_dataset)"
   ]
  },
  {
   "cell_type": "code",
   "execution_count": 94,
   "metadata": {
    "colab": {
     "base_uri": "https://localhost:8080/",
     "height": 363
    },
    "id": "_xs5tlRwjL_Z",
    "outputId": "3a012037-ecb7-48de-cdb6-8052a8259008"
   },
   "outputs": [
    {
     "ename": "KeyboardInterrupt",
     "evalue": "ignored",
     "output_type": "error",
     "traceback": [
      "\u001b[0;31m---------------------------------------------------------------------------\u001b[0m",
      "\u001b[0;31mKeyboardInterrupt\u001b[0m                         Traceback (most recent call last)",
      "\u001b[0;32m<ipython-input-94-ca85f5a6bbea>\u001b[0m in \u001b[0;36m<module>\u001b[0;34m\u001b[0m\n\u001b[1;32m      3\u001b[0m                       \u001b[0mvalidation_steps\u001b[0m \u001b[0;34m=\u001b[0m \u001b[0mint\u001b[0m\u001b[0;34m(\u001b[0m\u001b[0;36m.2\u001b[0m\u001b[0;34m*\u001b[0m \u001b[0;34m(\u001b[0m\u001b[0mlen\u001b[0m\u001b[0;34m(\u001b[0m\u001b[0mtest_dataset\u001b[0m\u001b[0;34m)\u001b[0m\u001b[0;34m/\u001b[0m\u001b[0mEPOCHS\u001b[0m\u001b[0;34m)\u001b[0m\u001b[0;34m)\u001b[0m\u001b[0;34m,\u001b[0m\u001b[0;34m\u001b[0m\u001b[0;34m\u001b[0m\u001b[0m\n\u001b[1;32m      4\u001b[0m                       \u001b[0mvalidation_data\u001b[0m\u001b[0;34m=\u001b[0m\u001b[0mtest_dataset\u001b[0m\u001b[0;34m,\u001b[0m\u001b[0;34m\u001b[0m\u001b[0;34m\u001b[0m\u001b[0m\n\u001b[0;32m----> 5\u001b[0;31m                       \u001b[0mcallbacks\u001b[0m \u001b[0;34m=\u001b[0m \u001b[0;34m[\u001b[0m\u001b[0mcreate_tensorboard_callback\u001b[0m\u001b[0;34m(\u001b[0m\u001b[0;34m'tb'\u001b[0m\u001b[0;34m,\u001b[0m\u001b[0;34m'model1'\u001b[0m\u001b[0;34m)\u001b[0m\u001b[0;34m]\u001b[0m\u001b[0;34m\u001b[0m\u001b[0;34m\u001b[0m\u001b[0m\n\u001b[0m\u001b[1;32m      6\u001b[0m                     )\n",
      "\u001b[0;32m/usr/local/lib/python3.7/dist-packages/keras/utils/traceback_utils.py\u001b[0m in \u001b[0;36merror_handler\u001b[0;34m(*args, **kwargs)\u001b[0m\n\u001b[1;32m     62\u001b[0m     \u001b[0mfiltered_tb\u001b[0m \u001b[0;34m=\u001b[0m \u001b[0;32mNone\u001b[0m\u001b[0;34m\u001b[0m\u001b[0;34m\u001b[0m\u001b[0m\n\u001b[1;32m     63\u001b[0m     \u001b[0;32mtry\u001b[0m\u001b[0;34m:\u001b[0m\u001b[0;34m\u001b[0m\u001b[0;34m\u001b[0m\u001b[0m\n\u001b[0;32m---> 64\u001b[0;31m       \u001b[0;32mreturn\u001b[0m \u001b[0mfn\u001b[0m\u001b[0;34m(\u001b[0m\u001b[0;34m*\u001b[0m\u001b[0margs\u001b[0m\u001b[0;34m,\u001b[0m \u001b[0;34m**\u001b[0m\u001b[0mkwargs\u001b[0m\u001b[0;34m)\u001b[0m\u001b[0;34m\u001b[0m\u001b[0;34m\u001b[0m\u001b[0m\n\u001b[0m\u001b[1;32m     65\u001b[0m     \u001b[0;32mexcept\u001b[0m \u001b[0mException\u001b[0m \u001b[0;32mas\u001b[0m \u001b[0me\u001b[0m\u001b[0;34m:\u001b[0m  \u001b[0;31m# pylint: disable=broad-except\u001b[0m\u001b[0;34m\u001b[0m\u001b[0;34m\u001b[0m\u001b[0m\n\u001b[1;32m     66\u001b[0m       \u001b[0mfiltered_tb\u001b[0m \u001b[0;34m=\u001b[0m \u001b[0m_process_traceback_frames\u001b[0m\u001b[0;34m(\u001b[0m\u001b[0me\u001b[0m\u001b[0;34m.\u001b[0m\u001b[0m__traceback__\u001b[0m\u001b[0;34m)\u001b[0m\u001b[0;34m\u001b[0m\u001b[0;34m\u001b[0m\u001b[0m\n",
      "\u001b[0;32m/usr/local/lib/python3.7/dist-packages/keras/engine/training.py\u001b[0m in \u001b[0;36mfit\u001b[0;34m(self, x, y, batch_size, epochs, verbose, callbacks, validation_split, validation_data, shuffle, class_weight, sample_weight, initial_epoch, steps_per_epoch, validation_steps, validation_batch_size, validation_freq, max_queue_size, workers, use_multiprocessing)\u001b[0m\n\u001b[1;32m   1407\u001b[0m                 _r=1):\n\u001b[1;32m   1408\u001b[0m               \u001b[0mcallbacks\u001b[0m\u001b[0;34m.\u001b[0m\u001b[0mon_train_batch_begin\u001b[0m\u001b[0;34m(\u001b[0m\u001b[0mstep\u001b[0m\u001b[0;34m)\u001b[0m\u001b[0;34m\u001b[0m\u001b[0;34m\u001b[0m\u001b[0m\n\u001b[0;32m-> 1409\u001b[0;31m               \u001b[0mtmp_logs\u001b[0m \u001b[0;34m=\u001b[0m \u001b[0mself\u001b[0m\u001b[0;34m.\u001b[0m\u001b[0mtrain_function\u001b[0m\u001b[0;34m(\u001b[0m\u001b[0miterator\u001b[0m\u001b[0;34m)\u001b[0m\u001b[0;34m\u001b[0m\u001b[0;34m\u001b[0m\u001b[0m\n\u001b[0m\u001b[1;32m   1410\u001b[0m               \u001b[0;32mif\u001b[0m \u001b[0mdata_handler\u001b[0m\u001b[0;34m.\u001b[0m\u001b[0mshould_sync\u001b[0m\u001b[0;34m:\u001b[0m\u001b[0;34m\u001b[0m\u001b[0;34m\u001b[0m\u001b[0m\n\u001b[1;32m   1411\u001b[0m                 \u001b[0mcontext\u001b[0m\u001b[0;34m.\u001b[0m\u001b[0masync_wait\u001b[0m\u001b[0;34m(\u001b[0m\u001b[0;34m)\u001b[0m\u001b[0;34m\u001b[0m\u001b[0;34m\u001b[0m\u001b[0m\n",
      "\u001b[0;32m/usr/local/lib/python3.7/dist-packages/tensorflow/python/util/traceback_utils.py\u001b[0m in \u001b[0;36merror_handler\u001b[0;34m(*args, **kwargs)\u001b[0m\n\u001b[1;32m    148\u001b[0m     \u001b[0mfiltered_tb\u001b[0m \u001b[0;34m=\u001b[0m \u001b[0;32mNone\u001b[0m\u001b[0;34m\u001b[0m\u001b[0;34m\u001b[0m\u001b[0m\n\u001b[1;32m    149\u001b[0m     \u001b[0;32mtry\u001b[0m\u001b[0;34m:\u001b[0m\u001b[0;34m\u001b[0m\u001b[0;34m\u001b[0m\u001b[0m\n\u001b[0;32m--> 150\u001b[0;31m       \u001b[0;32mreturn\u001b[0m \u001b[0mfn\u001b[0m\u001b[0;34m(\u001b[0m\u001b[0;34m*\u001b[0m\u001b[0margs\u001b[0m\u001b[0;34m,\u001b[0m \u001b[0;34m**\u001b[0m\u001b[0mkwargs\u001b[0m\u001b[0;34m)\u001b[0m\u001b[0;34m\u001b[0m\u001b[0;34m\u001b[0m\u001b[0m\n\u001b[0m\u001b[1;32m    151\u001b[0m     \u001b[0;32mexcept\u001b[0m \u001b[0mException\u001b[0m \u001b[0;32mas\u001b[0m \u001b[0me\u001b[0m\u001b[0;34m:\u001b[0m\u001b[0;34m\u001b[0m\u001b[0;34m\u001b[0m\u001b[0m\n\u001b[1;32m    152\u001b[0m       \u001b[0mfiltered_tb\u001b[0m \u001b[0;34m=\u001b[0m \u001b[0m_process_traceback_frames\u001b[0m\u001b[0;34m(\u001b[0m\u001b[0me\u001b[0m\u001b[0;34m.\u001b[0m\u001b[0m__traceback__\u001b[0m\u001b[0;34m)\u001b[0m\u001b[0;34m\u001b[0m\u001b[0;34m\u001b[0m\u001b[0m\n",
      "\u001b[0;32m/usr/local/lib/python3.7/dist-packages/tensorflow/python/eager/def_function.py\u001b[0m in \u001b[0;36m__call__\u001b[0;34m(self, *args, **kwds)\u001b[0m\n\u001b[1;32m    913\u001b[0m \u001b[0;34m\u001b[0m\u001b[0m\n\u001b[1;32m    914\u001b[0m       \u001b[0;32mwith\u001b[0m \u001b[0mOptionalXlaContext\u001b[0m\u001b[0;34m(\u001b[0m\u001b[0mself\u001b[0m\u001b[0;34m.\u001b[0m\u001b[0m_jit_compile\u001b[0m\u001b[0;34m)\u001b[0m\u001b[0;34m:\u001b[0m\u001b[0;34m\u001b[0m\u001b[0;34m\u001b[0m\u001b[0m\n\u001b[0;32m--> 915\u001b[0;31m         \u001b[0mresult\u001b[0m \u001b[0;34m=\u001b[0m \u001b[0mself\u001b[0m\u001b[0;34m.\u001b[0m\u001b[0m_call\u001b[0m\u001b[0;34m(\u001b[0m\u001b[0;34m*\u001b[0m\u001b[0margs\u001b[0m\u001b[0;34m,\u001b[0m \u001b[0;34m**\u001b[0m\u001b[0mkwds\u001b[0m\u001b[0;34m)\u001b[0m\u001b[0;34m\u001b[0m\u001b[0;34m\u001b[0m\u001b[0m\n\u001b[0m\u001b[1;32m    916\u001b[0m \u001b[0;34m\u001b[0m\u001b[0m\n\u001b[1;32m    917\u001b[0m       \u001b[0mnew_tracing_count\u001b[0m \u001b[0;34m=\u001b[0m \u001b[0mself\u001b[0m\u001b[0;34m.\u001b[0m\u001b[0mexperimental_get_tracing_count\u001b[0m\u001b[0;34m(\u001b[0m\u001b[0;34m)\u001b[0m\u001b[0;34m\u001b[0m\u001b[0;34m\u001b[0m\u001b[0m\n",
      "\u001b[0;32m/usr/local/lib/python3.7/dist-packages/tensorflow/python/eager/def_function.py\u001b[0m in \u001b[0;36m_call\u001b[0;34m(self, *args, **kwds)\u001b[0m\n\u001b[1;32m    945\u001b[0m       \u001b[0;31m# In this case we have created variables on the first call, so we run the\u001b[0m\u001b[0;34m\u001b[0m\u001b[0;34m\u001b[0m\u001b[0;34m\u001b[0m\u001b[0m\n\u001b[1;32m    946\u001b[0m       \u001b[0;31m# defunned version which is guaranteed to never create variables.\u001b[0m\u001b[0;34m\u001b[0m\u001b[0;34m\u001b[0m\u001b[0;34m\u001b[0m\u001b[0m\n\u001b[0;32m--> 947\u001b[0;31m       \u001b[0;32mreturn\u001b[0m \u001b[0mself\u001b[0m\u001b[0;34m.\u001b[0m\u001b[0m_stateless_fn\u001b[0m\u001b[0;34m(\u001b[0m\u001b[0;34m*\u001b[0m\u001b[0margs\u001b[0m\u001b[0;34m,\u001b[0m \u001b[0;34m**\u001b[0m\u001b[0mkwds\u001b[0m\u001b[0;34m)\u001b[0m  \u001b[0;31m# pylint: disable=not-callable\u001b[0m\u001b[0;34m\u001b[0m\u001b[0;34m\u001b[0m\u001b[0m\n\u001b[0m\u001b[1;32m    948\u001b[0m     \u001b[0;32melif\u001b[0m \u001b[0mself\u001b[0m\u001b[0;34m.\u001b[0m\u001b[0m_stateful_fn\u001b[0m \u001b[0;32mis\u001b[0m \u001b[0;32mnot\u001b[0m \u001b[0;32mNone\u001b[0m\u001b[0;34m:\u001b[0m\u001b[0;34m\u001b[0m\u001b[0;34m\u001b[0m\u001b[0m\n\u001b[1;32m    949\u001b[0m       \u001b[0;31m# Release the lock early so that multiple threads can perform the call\u001b[0m\u001b[0;34m\u001b[0m\u001b[0;34m\u001b[0m\u001b[0;34m\u001b[0m\u001b[0m\n",
      "\u001b[0;32m/usr/local/lib/python3.7/dist-packages/tensorflow/python/eager/function.py\u001b[0m in \u001b[0;36m__call__\u001b[0;34m(self, *args, **kwargs)\u001b[0m\n\u001b[1;32m   2452\u001b[0m        filtered_flat_args) = self._maybe_define_function(args, kwargs)\n\u001b[1;32m   2453\u001b[0m     return graph_function._call_flat(\n\u001b[0;32m-> 2454\u001b[0;31m         filtered_flat_args, captured_inputs=graph_function.captured_inputs)  # pylint: disable=protected-access\n\u001b[0m\u001b[1;32m   2455\u001b[0m \u001b[0;34m\u001b[0m\u001b[0m\n\u001b[1;32m   2456\u001b[0m   \u001b[0;34m@\u001b[0m\u001b[0mproperty\u001b[0m\u001b[0;34m\u001b[0m\u001b[0;34m\u001b[0m\u001b[0m\n",
      "\u001b[0;32m/usr/local/lib/python3.7/dist-packages/tensorflow/python/eager/function.py\u001b[0m in \u001b[0;36m_call_flat\u001b[0;34m(self, args, captured_inputs, cancellation_manager)\u001b[0m\n\u001b[1;32m   1859\u001b[0m       \u001b[0;31m# No tape is watching; skip to running the function.\u001b[0m\u001b[0;34m\u001b[0m\u001b[0;34m\u001b[0m\u001b[0;34m\u001b[0m\u001b[0m\n\u001b[1;32m   1860\u001b[0m       return self._build_call_outputs(self._inference_function.call(\n\u001b[0;32m-> 1861\u001b[0;31m           ctx, args, cancellation_manager=cancellation_manager))\n\u001b[0m\u001b[1;32m   1862\u001b[0m     forward_backward = self._select_forward_and_backward_functions(\n\u001b[1;32m   1863\u001b[0m         \u001b[0margs\u001b[0m\u001b[0;34m,\u001b[0m\u001b[0;34m\u001b[0m\u001b[0;34m\u001b[0m\u001b[0m\n",
      "\u001b[0;32m/usr/local/lib/python3.7/dist-packages/tensorflow/python/eager/function.py\u001b[0m in \u001b[0;36mcall\u001b[0;34m(self, ctx, args, cancellation_manager)\u001b[0m\n\u001b[1;32m    500\u001b[0m               \u001b[0minputs\u001b[0m\u001b[0;34m=\u001b[0m\u001b[0margs\u001b[0m\u001b[0;34m,\u001b[0m\u001b[0;34m\u001b[0m\u001b[0;34m\u001b[0m\u001b[0m\n\u001b[1;32m    501\u001b[0m               \u001b[0mattrs\u001b[0m\u001b[0;34m=\u001b[0m\u001b[0mattrs\u001b[0m\u001b[0;34m,\u001b[0m\u001b[0;34m\u001b[0m\u001b[0;34m\u001b[0m\u001b[0m\n\u001b[0;32m--> 502\u001b[0;31m               ctx=ctx)\n\u001b[0m\u001b[1;32m    503\u001b[0m         \u001b[0;32melse\u001b[0m\u001b[0;34m:\u001b[0m\u001b[0;34m\u001b[0m\u001b[0;34m\u001b[0m\u001b[0m\n\u001b[1;32m    504\u001b[0m           outputs = execute.execute_with_cancellation(\n",
      "\u001b[0;32m/usr/local/lib/python3.7/dist-packages/tensorflow/python/eager/execute.py\u001b[0m in \u001b[0;36mquick_execute\u001b[0;34m(op_name, num_outputs, inputs, attrs, ctx, name)\u001b[0m\n\u001b[1;32m     53\u001b[0m     \u001b[0mctx\u001b[0m\u001b[0;34m.\u001b[0m\u001b[0mensure_initialized\u001b[0m\u001b[0;34m(\u001b[0m\u001b[0;34m)\u001b[0m\u001b[0;34m\u001b[0m\u001b[0;34m\u001b[0m\u001b[0m\n\u001b[1;32m     54\u001b[0m     tensors = pywrap_tfe.TFE_Py_Execute(ctx._handle, device_name, op_name,\n\u001b[0;32m---> 55\u001b[0;31m                                         inputs, attrs, num_outputs)\n\u001b[0m\u001b[1;32m     56\u001b[0m   \u001b[0;32mexcept\u001b[0m \u001b[0mcore\u001b[0m\u001b[0;34m.\u001b[0m\u001b[0m_NotOkStatusException\u001b[0m \u001b[0;32mas\u001b[0m \u001b[0me\u001b[0m\u001b[0;34m:\u001b[0m\u001b[0;34m\u001b[0m\u001b[0;34m\u001b[0m\u001b[0m\n\u001b[1;32m     57\u001b[0m     \u001b[0;32mif\u001b[0m \u001b[0mname\u001b[0m \u001b[0;32mis\u001b[0m \u001b[0;32mnot\u001b[0m \u001b[0;32mNone\u001b[0m\u001b[0;34m:\u001b[0m\u001b[0;34m\u001b[0m\u001b[0;34m\u001b[0m\u001b[0m\n",
      "\u001b[0;31mKeyboardInterrupt\u001b[0m: "
     ]
    }
   ],
   "source": [
    "history1 = model1.fit(train_dataset, epochs = EPOCHS,\n",
    "                      steps_per_epoch = int(.5* (len(train_dataset)/EPOCHS)),\n",
    "                      validation_steps = int(.2* (len(test_dataset)/EPOCHS)),\n",
    "                      validation_data=test_dataset,\n",
    "                      callbacks = [create_tensorboard_callback('tb','model1')]\n",
    "                    )"
   ]
  },
  {
   "cell_type": "code",
   "execution_count": 92,
   "metadata": {
    "colab": {
     "base_uri": "https://localhost:8080/",
     "height": 235
    },
    "id": "ybkTe7zKjL9U",
    "outputId": "b80927f0-6d7c-4694-c5d6-2a3620ef17ce"
   },
   "outputs": [
    {
     "ename": "KeyError",
     "evalue": "ignored",
     "output_type": "error",
     "traceback": [
      "\u001b[0;31m---------------------------------------------------------------------------\u001b[0m",
      "\u001b[0;31mKeyError\u001b[0m                                  Traceback (most recent call last)",
      "\u001b[0;32m<ipython-input-92-9cf0ddb83c97>\u001b[0m in \u001b[0;36m<module>\u001b[0;34m\u001b[0m\n\u001b[1;32m      1\u001b[0m \u001b[0mloss\u001b[0m \u001b[0;34m=\u001b[0m \u001b[0mhistory1\u001b[0m\u001b[0;34m.\u001b[0m\u001b[0mhistory\u001b[0m\u001b[0;34m[\u001b[0m\u001b[0;34m'loss'\u001b[0m\u001b[0;34m]\u001b[0m\u001b[0;34m\u001b[0m\u001b[0;34m\u001b[0m\u001b[0m\n\u001b[0;32m----> 2\u001b[0;31m \u001b[0mval_loss\u001b[0m \u001b[0;34m=\u001b[0m \u001b[0mhistory1\u001b[0m\u001b[0;34m.\u001b[0m\u001b[0mhistory\u001b[0m\u001b[0;34m[\u001b[0m\u001b[0;34m'val_loss'\u001b[0m\u001b[0;34m]\u001b[0m\u001b[0;34m\u001b[0m\u001b[0;34m\u001b[0m\u001b[0m\n\u001b[0m\u001b[1;32m      3\u001b[0m \u001b[0;34m\u001b[0m\u001b[0m\n\u001b[1;32m      4\u001b[0m \u001b[0maccuracy\u001b[0m \u001b[0;34m=\u001b[0m \u001b[0mhistory1\u001b[0m\u001b[0;34m.\u001b[0m\u001b[0mhistory\u001b[0m\u001b[0;34m[\u001b[0m\u001b[0;34m'accuracy'\u001b[0m\u001b[0;34m]\u001b[0m\u001b[0;34m\u001b[0m\u001b[0;34m\u001b[0m\u001b[0m\n\u001b[1;32m      5\u001b[0m \u001b[0mval_accuracy\u001b[0m \u001b[0;34m=\u001b[0m \u001b[0mhistory1\u001b[0m\u001b[0;34m.\u001b[0m\u001b[0mhistory\u001b[0m\u001b[0;34m[\u001b[0m\u001b[0;34m'val_accuracy'\u001b[0m\u001b[0;34m]\u001b[0m\u001b[0;34m\u001b[0m\u001b[0;34m\u001b[0m\u001b[0m\n",
      "\u001b[0;31mKeyError\u001b[0m: 'val_loss'"
     ]
    }
   ],
   "source": [
    "loss = history1.history['loss']\n",
    "val_loss = history1.history['val_loss']\n",
    "\n",
    "accuracy = history1.history['accuracy']\n",
    "val_accuracy = history1.history['val_accuracy']\n",
    "\n",
    "# print(val_accuracy)\n",
    "plt.figure(figsize = (25,7))\n",
    "\n",
    "plt.subplot(1,2,1)\n",
    "plt.grid(True)\n",
    "plt.plot(np.arange(len(loss)), loss, 'r', label='Training loss')\n",
    "plt.plot(np.arange(len(val_loss)), val_loss, 'bo', label='Validation loss')\n",
    "plt.title('Training and Validation Loss')\n",
    "plt.xlabel('Epoch')\n",
    "plt.ylabel('Loss Value')\n",
    "plt.legend()\n",
    "\n",
    "plt.subplot(1,2,2)\n",
    "plt.grid(True)\n",
    "plt.plot(np.arange(len(accuracy)), accuracy, 'r', label='Training accuracy')\n",
    "plt.plot(np.arange(len(val_accuracy)), val_accuracy, 'bo', label='Validation accuracy')\n",
    "plt.title('Training and Validation Accuracy')\n",
    "plt.xlabel('Epoch')\n",
    "plt.ylabel('Accracy Value')\n",
    "plt.legend()\n",
    "\n",
    "plt.show()"
   ]
  },
  {
   "cell_type": "code",
   "execution_count": null,
   "metadata": {
    "id": "11CtKjszjL7z"
   },
   "outputs": [],
   "source": []
  },
  {
   "cell_type": "code",
   "execution_count": null,
   "metadata": {
    "id": "jWPQ_JNXjL56"
   },
   "outputs": [],
   "source": []
  },
  {
   "cell_type": "code",
   "execution_count": null,
   "metadata": {
    "id": "QHNII4XQjL4P"
   },
   "outputs": [],
   "source": []
  },
  {
   "cell_type": "code",
   "execution_count": null,
   "metadata": {
    "id": "WkryvfmjjL2k"
   },
   "outputs": [],
   "source": []
  },
  {
   "cell_type": "code",
   "execution_count": null,
   "metadata": {
    "id": "swPTJ1UajL0M"
   },
   "outputs": [],
   "source": []
  },
  {
   "cell_type": "code",
   "execution_count": null,
   "metadata": {
    "id": "HPE_ba6ejLwu"
   },
   "outputs": [],
   "source": []
  },
  {
   "cell_type": "code",
   "execution_count": null,
   "metadata": {
    "id": "RhbxtNP7jLru"
   },
   "outputs": [],
   "source": []
  },
  {
   "cell_type": "code",
   "execution_count": null,
   "metadata": {
    "id": "HBzKuHIYjLo8"
   },
   "outputs": [],
   "source": []
  },
  {
   "cell_type": "code",
   "execution_count": null,
   "metadata": {
    "id": "bQiQQagQjLmf"
   },
   "outputs": [],
   "source": []
  },
  {
   "cell_type": "code",
   "execution_count": null,
   "metadata": {
    "id": "eoX1DcxBjLku"
   },
   "outputs": [],
   "source": []
  },
  {
   "cell_type": "code",
   "execution_count": null,
   "metadata": {
    "id": "RPTPwYbBjLdU"
   },
   "outputs": [],
   "source": []
  },
  {
   "cell_type": "code",
   "execution_count": null,
   "metadata": {
    "id": "5A9TzpdfjLbn"
   },
   "outputs": [],
   "source": []
  },
  {
   "cell_type": "code",
   "execution_count": null,
   "metadata": {
    "id": "kPs9zFI8jLaS"
   },
   "outputs": [],
   "source": []
  },
  {
   "cell_type": "code",
   "execution_count": null,
   "metadata": {
    "id": "Xb5xPJncjLYU"
   },
   "outputs": [],
   "source": []
  },
  {
   "cell_type": "code",
   "execution_count": null,
   "metadata": {
    "id": "qrN83y3mjLU0"
   },
   "outputs": [],
   "source": []
  },
  {
   "cell_type": "code",
   "execution_count": null,
   "metadata": {
    "id": "3S4B-htDjLSV"
   },
   "outputs": [],
   "source": []
  },
  {
   "cell_type": "code",
   "execution_count": null,
   "metadata": {
    "id": "ko2VnLZfjLQq"
   },
   "outputs": [],
   "source": []
  },
  {
   "cell_type": "code",
   "execution_count": null,
   "metadata": {
    "id": "g50oNoMDjLON"
   },
   "outputs": [],
   "source": []
  },
  {
   "cell_type": "code",
   "execution_count": null,
   "metadata": {
    "id": "4c9rILbZjLLL"
   },
   "outputs": [],
   "source": []
  },
  {
   "cell_type": "code",
   "execution_count": null,
   "metadata": {
    "id": "P6Mcfxa1jLIC"
   },
   "outputs": [],
   "source": []
  },
  {
   "cell_type": "code",
   "execution_count": null,
   "metadata": {
    "id": "vVEEYB_ojLFa"
   },
   "outputs": [],
   "source": []
  },
  {
   "cell_type": "code",
   "execution_count": null,
   "metadata": {
    "id": "rhAO7pJ6jLCy"
   },
   "outputs": [],
   "source": []
  },
  {
   "cell_type": "code",
   "execution_count": null,
   "metadata": {
    "id": "VxzqPgIwjLAA"
   },
   "outputs": [],
   "source": []
  },
  {
   "cell_type": "code",
   "execution_count": null,
   "metadata": {
    "id": "7r0f3aeejK9A"
   },
   "outputs": [],
   "source": []
  },
  {
   "cell_type": "code",
   "execution_count": null,
   "metadata": {
    "id": "hS8DZMHJjK6c"
   },
   "outputs": [],
   "source": []
  },
  {
   "cell_type": "code",
   "execution_count": null,
   "metadata": {
    "id": "iTXVCRjZjK33"
   },
   "outputs": [],
   "source": []
  }
 ],
 "metadata": {
  "accelerator": "GPU",
  "colab": {
   "collapsed_sections": [],
   "provenance": []
  },
  "gpuClass": "standard",
  "kernelspec": {
   "display_name": "tf",
   "language": "python",
   "name": "tf"
  },
  "language_info": {
   "codemirror_mode": {
    "name": "ipython",
    "version": 3
   },
   "file_extension": ".py",
   "mimetype": "text/x-python",
   "name": "python",
   "nbconvert_exporter": "python",
   "pygments_lexer": "ipython3",
   "version": "3.10.6"
  }
 },
 "nbformat": 4,
 "nbformat_minor": 1
}

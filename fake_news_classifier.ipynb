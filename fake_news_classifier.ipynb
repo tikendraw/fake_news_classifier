{
 "cells": [
  {
   "cell_type": "markdown",
   "metadata": {
    "colab_type": "text",
    "id": "view-in-github"
   },
   "source": [
    "<a href=\"https://colab.research.google.com/github/tikendraw/fake_news_classifier/blob/main/fake_news_classifier.ipynb\" target=\"_parent\"><img src=\"https://colab.research.google.com/assets/colab-badge.svg\" alt=\"Open In Colab\"/></a>"
   ]
  },
  {
   "cell_type": "markdown",
   "metadata": {
    "id": "eEzAsBIOMloc"
   },
   "source": [
    "# FAKE NEWS CLASSIFIER : Build a system to identify unreliable news articles\n",
    "Develop a machine learning program to identify when an article might be fake news. Run by the UTK Machine Learning Club.\n",
    "\n"
   ]
  },
  {
   "cell_type": "markdown",
   "metadata": {
    "id": "oODj5SvHMPXG"
   },
   "source": [
    "## Dataset Description\n",
    "[Dataset Here](https://www.kaggle.com/competitions/fake-news/code)\n",
    "\n",
    "\n",
    "**train.csv** : A full training dataset with the following attributes:\n",
    "\n",
    "* id: unique id for a news article\n",
    "* title: the title of a news article\n",
    "* author: author of the news article\n",
    "* text: the text of the article; could be incomplete\n",
    "* label: a label that marks the article as potentially unreliable\n",
    "\n",
    "    1: unreliable\n",
    "    \n",
    "    0: reliable"
   ]
  },
  {
   "cell_type": "code",
   "execution_count": 1,
   "metadata": {
    "id": "dDB8AO1jXy9i",
    "outputId": "a3edaa1c-c12c-44b5-87e4-35696a037f7a"
   },
   "outputs": [
    {
     "name": "stderr",
     "output_type": "stream",
     "text": [
      "2022-11-11 12:47:40.439007: I tensorflow/core/platform/cpu_feature_guard.cc:193] This TensorFlow binary is optimized with oneAPI Deep Neural Network Library (oneDNN) to use the following CPU instructions in performance-critical operations:  AVX2 FMA\n",
      "To enable them in other operations, rebuild TensorFlow with the appropriate compiler flags.\n",
      "2022-11-11 12:47:40.927760: E tensorflow/stream_executor/cuda/cuda_blas.cc:2981] Unable to register cuBLAS factory: Attempting to register factory for plugin cuBLAS when one has already been registered\n",
      "2022-11-11 12:47:42.173412: W tensorflow/stream_executor/platform/default/dso_loader.cc:64] Could not load dynamic library 'libnvinfer.so.7'; dlerror: libnvinfer.so.7: cannot open shared object file: No such file or directory; LD_LIBRARY_PATH: :/home/t/miniconda3/envs/tf/lib/\n",
      "2022-11-11 12:47:42.173752: W tensorflow/stream_executor/platform/default/dso_loader.cc:64] Could not load dynamic library 'libnvinfer_plugin.so.7'; dlerror: libnvinfer_plugin.so.7: cannot open shared object file: No such file or directory; LD_LIBRARY_PATH: :/home/t/miniconda3/envs/tf/lib/\n",
      "2022-11-11 12:47:42.173783: W tensorflow/compiler/tf2tensorrt/utils/py_utils.cc:38] TF-TRT Warning: Cannot dlopen some TensorRT libraries. If you would like to use Nvidia GPU with TensorRT, please make sure the missing libraries mentioned above are installed properly.\n"
     ]
    },
    {
     "name": "stdout",
     "output_type": "stream",
     "text": [
      "2.10.0\n",
      "GPU: 0\n"
     ]
    },
    {
     "name": "stderr",
     "output_type": "stream",
     "text": [
      "2022-11-11 12:47:44.045289: E tensorflow/stream_executor/cuda/cuda_driver.cc:265] failed call to cuInit: CUDA_ERROR_UNKNOWN: unknown error\n",
      "2022-11-11 12:47:44.045383: I tensorflow/stream_executor/cuda/cuda_diagnostics.cc:169] retrieving CUDA diagnostic information for host: t\n",
      "2022-11-11 12:47:44.045407: I tensorflow/stream_executor/cuda/cuda_diagnostics.cc:176] hostname: t\n",
      "2022-11-11 12:47:44.045608: I tensorflow/stream_executor/cuda/cuda_diagnostics.cc:200] libcuda reported version is: 515.65.1\n",
      "2022-11-11 12:47:44.045674: I tensorflow/stream_executor/cuda/cuda_diagnostics.cc:204] kernel reported version is: 515.65.1\n",
      "2022-11-11 12:47:44.045695: I tensorflow/stream_executor/cuda/cuda_diagnostics.cc:310] kernel version seems to match DSO: 515.65.1\n"
     ]
    }
   ],
   "source": [
    "import tensorflow as tf\n",
    "print(tf.__version__)\n",
    "print('GPU:',len(tf.config.list_physical_devices('GPU')))"
   ]
  },
  {
   "cell_type": "code",
   "execution_count": 2,
   "metadata": {
    "id": "DIv9bTXG7Ipy"
   },
   "outputs": [],
   "source": [
    "# !pip install numpy pandas matplotlib -q\n",
    "# !pip install nltk textblob -q\n",
    "import pandas as pd\n",
    "import numpy as np\n",
    "import matplotlib.pyplot as plt\n",
    "# import textblob\n",
    "import nltk\n",
    "from nltk.stem import WordNetLemmatizer\n",
    "from nltk.corpus import stopwords\n",
    "from nltk.tokenize import word_tokenize\n",
    "import gensim\n",
    "\n",
    "# !git clone https://github.com/tikendraw/funcyou.git -q\n",
    "import funcyou"
   ]
  },
  {
   "cell_type": "code",
   "execution_count": 3,
   "metadata": {
    "id": "fBUgHWJuK4Wf"
   },
   "outputs": [],
   "source": [
    "import re\n",
    "from sklearn.model_selection import train_test_split"
   ]
  },
  {
   "cell_type": "code",
   "execution_count": 4,
   "metadata": {
    "id": "9iLPf9nh7U31"
   },
   "outputs": [],
   "source": [
    "# DOWNLOADING EXTRA FILES\n",
    "# nltk.download('all')\n",
    "# !python -m textblob.download_corpora"
   ]
  },
  {
   "cell_type": "markdown",
   "metadata": {
    "id": "cNiI7DQH7eG7"
   },
   "source": [
    "# GET THE DATA"
   ]
  },
  {
   "cell_type": "code",
   "execution_count": 5,
   "metadata": {
    "id": "43uazWbA8tjw"
   },
   "outputs": [],
   "source": [
    "from funcyou.dataset import download_kaggle_dataset"
   ]
  },
  {
   "cell_type": "code",
   "execution_count": 6,
   "metadata": {
    "id": "f_GQR_s48q2h"
   },
   "outputs": [],
   "source": [
    "# IMPORT THE DATA\n",
    "DATA_LINK = 'https://www.kaggle.com/competitions/fake-news/code'\n",
    "\n",
    "## uncomment this if don't have data locally \n",
    "# download_kaggle_dataset(url = DATA_LINK)              # keep the kaggle.json in current working directory\n",
    "\n",
    "# UNZIP THE DATA\n",
    "# !unzip fake-news.zip -d dataset"
   ]
  },
  {
   "cell_type": "code",
   "execution_count": 7,
   "metadata": {
    "colab": {
     "base_uri": "https://localhost:8080/"
    },
    "id": "J28gtZhIYw9p",
    "outputId": "5e388b87-9116-4590-f90b-6096ddf367de"
   },
   "outputs": [],
   "source": [
    "##OR\n",
    "# !git clone https://github.com/tikendraw/fake_news_classifier.git -q\n",
    "# !unzip fake_news_classifier/dataset/train.csv.zip -d dataset"
   ]
  },
  {
   "cell_type": "code",
   "execution_count": null,
   "metadata": {
    "id": "oO9XUdXN9oa9"
   },
   "outputs": [],
   "source": []
  },
  {
   "cell_type": "markdown",
   "metadata": {
    "id": "QCwL2MrT-twt"
   },
   "source": [
    "## READ THE DATA"
   ]
  },
  {
   "cell_type": "code",
   "execution_count": 8,
   "metadata": {
    "colab": {
     "base_uri": "https://localhost:8080/"
    },
    "id": "_yQOZPJV_GZX",
    "outputId": "3d67e863-e7d8-4d6c-9b05-fbc2112128b3"
   },
   "outputs": [
    {
     "name": "stdout",
     "output_type": "stream",
     "text": [
      "datset.shape:  (20800, 5)\n",
      "<class 'pandas.core.frame.DataFrame'>\n",
      "RangeIndex: 20800 entries, 0 to 20799\n",
      "Data columns (total 5 columns):\n",
      " #   Column  Non-Null Count  Dtype \n",
      "---  ------  --------------  ----- \n",
      " 0   id      20800 non-null  int64 \n",
      " 1   title   20242 non-null  object\n",
      " 2   author  18843 non-null  object\n",
      " 3   text    20761 non-null  object\n",
      " 4   label   20800 non-null  int64 \n",
      "dtypes: int64(2), object(3)\n",
      "memory usage: 812.6+ KB\n",
      "dataset info:  None\n"
     ]
    }
   ],
   "source": [
    "data = pd.read_csv('./dataset/train.csv')\n",
    "print('datset.shape: ',data.shape)\n",
    "print('dataset info: ',data.info())"
   ]
  },
  {
   "cell_type": "code",
   "execution_count": 9,
   "metadata": {
    "colab": {
     "base_uri": "https://localhost:8080/",
     "height": 363
    },
    "id": "KgpINmqF_GWi",
    "outputId": "1441fa5a-65f5-44cb-ca0a-ea171272831d"
   },
   "outputs": [
    {
     "data": {
      "text/html": [
       "<div>\n",
       "<style scoped>\n",
       "    .dataframe tbody tr th:only-of-type {\n",
       "        vertical-align: middle;\n",
       "    }\n",
       "\n",
       "    .dataframe tbody tr th {\n",
       "        vertical-align: top;\n",
       "    }\n",
       "\n",
       "    .dataframe thead th {\n",
       "        text-align: right;\n",
       "    }\n",
       "</style>\n",
       "<table border=\"1\" class=\"dataframe\">\n",
       "  <thead>\n",
       "    <tr style=\"text-align: right;\">\n",
       "      <th></th>\n",
       "      <th>id</th>\n",
       "      <th>title</th>\n",
       "      <th>author</th>\n",
       "      <th>text</th>\n",
       "      <th>label</th>\n",
       "    </tr>\n",
       "  </thead>\n",
       "  <tbody>\n",
       "    <tr>\n",
       "      <th>0</th>\n",
       "      <td>0</td>\n",
       "      <td>House Dem Aide: We Didn’t Even See Comey’s Let...</td>\n",
       "      <td>Darrell Lucus</td>\n",
       "      <td>House Dem Aide: We Didn’t Even See Comey’s Let...</td>\n",
       "      <td>1</td>\n",
       "    </tr>\n",
       "    <tr>\n",
       "      <th>1</th>\n",
       "      <td>1</td>\n",
       "      <td>FLYNN: Hillary Clinton, Big Woman on Campus - ...</td>\n",
       "      <td>Daniel J. Flynn</td>\n",
       "      <td>Ever get the feeling your life circles the rou...</td>\n",
       "      <td>0</td>\n",
       "    </tr>\n",
       "    <tr>\n",
       "      <th>2</th>\n",
       "      <td>2</td>\n",
       "      <td>Why the Truth Might Get You Fired</td>\n",
       "      <td>Consortiumnews.com</td>\n",
       "      <td>Why the Truth Might Get You Fired October 29, ...</td>\n",
       "      <td>1</td>\n",
       "    </tr>\n",
       "    <tr>\n",
       "      <th>3</th>\n",
       "      <td>3</td>\n",
       "      <td>15 Civilians Killed In Single US Airstrike Hav...</td>\n",
       "      <td>Jessica Purkiss</td>\n",
       "      <td>Videos 15 Civilians Killed In Single US Airstr...</td>\n",
       "      <td>1</td>\n",
       "    </tr>\n",
       "    <tr>\n",
       "      <th>4</th>\n",
       "      <td>4</td>\n",
       "      <td>Iranian woman jailed for fictional unpublished...</td>\n",
       "      <td>Howard Portnoy</td>\n",
       "      <td>Print \\nAn Iranian woman has been sentenced to...</td>\n",
       "      <td>1</td>\n",
       "    </tr>\n",
       "    <tr>\n",
       "      <th>...</th>\n",
       "      <td>...</td>\n",
       "      <td>...</td>\n",
       "      <td>...</td>\n",
       "      <td>...</td>\n",
       "      <td>...</td>\n",
       "    </tr>\n",
       "    <tr>\n",
       "      <th>20795</th>\n",
       "      <td>20795</td>\n",
       "      <td>Rapper T.I.: Trump a ’Poster Child For White S...</td>\n",
       "      <td>Jerome Hudson</td>\n",
       "      <td>Rapper T. I. unloaded on black celebrities who...</td>\n",
       "      <td>0</td>\n",
       "    </tr>\n",
       "    <tr>\n",
       "      <th>20796</th>\n",
       "      <td>20796</td>\n",
       "      <td>N.F.L. Playoffs: Schedule, Matchups and Odds -...</td>\n",
       "      <td>Benjamin Hoffman</td>\n",
       "      <td>When the Green Bay Packers lost to the Washing...</td>\n",
       "      <td>0</td>\n",
       "    </tr>\n",
       "    <tr>\n",
       "      <th>20797</th>\n",
       "      <td>20797</td>\n",
       "      <td>Macy’s Is Said to Receive Takeover Approach by...</td>\n",
       "      <td>Michael J. de la Merced and Rachel Abrams</td>\n",
       "      <td>The Macy’s of today grew from the union of sev...</td>\n",
       "      <td>0</td>\n",
       "    </tr>\n",
       "    <tr>\n",
       "      <th>20798</th>\n",
       "      <td>20798</td>\n",
       "      <td>NATO, Russia To Hold Parallel Exercises In Bal...</td>\n",
       "      <td>Alex Ansary</td>\n",
       "      <td>NATO, Russia To Hold Parallel Exercises In Bal...</td>\n",
       "      <td>1</td>\n",
       "    </tr>\n",
       "    <tr>\n",
       "      <th>20799</th>\n",
       "      <td>20799</td>\n",
       "      <td>What Keeps the F-35 Alive</td>\n",
       "      <td>David Swanson</td>\n",
       "      <td>David Swanson is an author, activist, journa...</td>\n",
       "      <td>1</td>\n",
       "    </tr>\n",
       "  </tbody>\n",
       "</table>\n",
       "<p>20800 rows × 5 columns</p>\n",
       "</div>"
      ],
      "text/plain": [
       "          id                                              title  \\\n",
       "0          0  House Dem Aide: We Didn’t Even See Comey’s Let...   \n",
       "1          1  FLYNN: Hillary Clinton, Big Woman on Campus - ...   \n",
       "2          2                  Why the Truth Might Get You Fired   \n",
       "3          3  15 Civilians Killed In Single US Airstrike Hav...   \n",
       "4          4  Iranian woman jailed for fictional unpublished...   \n",
       "...      ...                                                ...   \n",
       "20795  20795  Rapper T.I.: Trump a ’Poster Child For White S...   \n",
       "20796  20796  N.F.L. Playoffs: Schedule, Matchups and Odds -...   \n",
       "20797  20797  Macy’s Is Said to Receive Takeover Approach by...   \n",
       "20798  20798  NATO, Russia To Hold Parallel Exercises In Bal...   \n",
       "20799  20799                          What Keeps the F-35 Alive   \n",
       "\n",
       "                                          author  \\\n",
       "0                                  Darrell Lucus   \n",
       "1                                Daniel J. Flynn   \n",
       "2                             Consortiumnews.com   \n",
       "3                                Jessica Purkiss   \n",
       "4                                 Howard Portnoy   \n",
       "...                                          ...   \n",
       "20795                              Jerome Hudson   \n",
       "20796                           Benjamin Hoffman   \n",
       "20797  Michael J. de la Merced and Rachel Abrams   \n",
       "20798                                Alex Ansary   \n",
       "20799                              David Swanson   \n",
       "\n",
       "                                                    text  label  \n",
       "0      House Dem Aide: We Didn’t Even See Comey’s Let...      1  \n",
       "1      Ever get the feeling your life circles the rou...      0  \n",
       "2      Why the Truth Might Get You Fired October 29, ...      1  \n",
       "3      Videos 15 Civilians Killed In Single US Airstr...      1  \n",
       "4      Print \\nAn Iranian woman has been sentenced to...      1  \n",
       "...                                                  ...    ...  \n",
       "20795  Rapper T. I. unloaded on black celebrities who...      0  \n",
       "20796  When the Green Bay Packers lost to the Washing...      0  \n",
       "20797  The Macy’s of today grew from the union of sev...      0  \n",
       "20798  NATO, Russia To Hold Parallel Exercises In Bal...      1  \n",
       "20799    David Swanson is an author, activist, journa...      1  \n",
       "\n",
       "[20800 rows x 5 columns]"
      ]
     },
     "execution_count": 9,
     "metadata": {},
     "output_type": "execute_result"
    }
   ],
   "source": [
    "data"
   ]
  },
  {
   "cell_type": "markdown",
   "metadata": {
    "id": "x0lIRYLU_GUr"
   },
   "source": [
    "\n",
    "\n",
    "Here We will be dropping `id` (unique value does not provide any value to \n",
    "\n",
    "instance) and `author` (to no create a biasness towards it)"
   ]
  },
  {
   "cell_type": "code",
   "execution_count": 10,
   "metadata": {
    "id": "s_hK1MAS_GTQ"
   },
   "outputs": [],
   "source": [
    "# DROPPING ID AND AUTHOR\n",
    "data.drop(['id','author'], axis = 1, inplace = True)"
   ]
  },
  {
   "cell_type": "code",
   "execution_count": 11,
   "metadata": {
    "colab": {
     "base_uri": "https://localhost:8080/",
     "height": 206
    },
    "id": "j56TeGol_GRr",
    "outputId": "2a468c9f-91d2-4027-ad76-bf1d4d31910a"
   },
   "outputs": [
    {
     "data": {
      "text/html": [
       "<div>\n",
       "<style scoped>\n",
       "    .dataframe tbody tr th:only-of-type {\n",
       "        vertical-align: middle;\n",
       "    }\n",
       "\n",
       "    .dataframe tbody tr th {\n",
       "        vertical-align: top;\n",
       "    }\n",
       "\n",
       "    .dataframe thead th {\n",
       "        text-align: right;\n",
       "    }\n",
       "</style>\n",
       "<table border=\"1\" class=\"dataframe\">\n",
       "  <thead>\n",
       "    <tr style=\"text-align: right;\">\n",
       "      <th></th>\n",
       "      <th>title</th>\n",
       "      <th>text</th>\n",
       "      <th>label</th>\n",
       "    </tr>\n",
       "  </thead>\n",
       "  <tbody>\n",
       "    <tr>\n",
       "      <th>0</th>\n",
       "      <td>House Dem Aide: We Didn’t Even See Comey’s Let...</td>\n",
       "      <td>House Dem Aide: We Didn’t Even See Comey’s Let...</td>\n",
       "      <td>1</td>\n",
       "    </tr>\n",
       "    <tr>\n",
       "      <th>1</th>\n",
       "      <td>FLYNN: Hillary Clinton, Big Woman on Campus - ...</td>\n",
       "      <td>Ever get the feeling your life circles the rou...</td>\n",
       "      <td>0</td>\n",
       "    </tr>\n",
       "    <tr>\n",
       "      <th>2</th>\n",
       "      <td>Why the Truth Might Get You Fired</td>\n",
       "      <td>Why the Truth Might Get You Fired October 29, ...</td>\n",
       "      <td>1</td>\n",
       "    </tr>\n",
       "    <tr>\n",
       "      <th>3</th>\n",
       "      <td>15 Civilians Killed In Single US Airstrike Hav...</td>\n",
       "      <td>Videos 15 Civilians Killed In Single US Airstr...</td>\n",
       "      <td>1</td>\n",
       "    </tr>\n",
       "    <tr>\n",
       "      <th>4</th>\n",
       "      <td>Iranian woman jailed for fictional unpublished...</td>\n",
       "      <td>Print \\nAn Iranian woman has been sentenced to...</td>\n",
       "      <td>1</td>\n",
       "    </tr>\n",
       "  </tbody>\n",
       "</table>\n",
       "</div>"
      ],
      "text/plain": [
       "                                               title  \\\n",
       "0  House Dem Aide: We Didn’t Even See Comey’s Let...   \n",
       "1  FLYNN: Hillary Clinton, Big Woman on Campus - ...   \n",
       "2                  Why the Truth Might Get You Fired   \n",
       "3  15 Civilians Killed In Single US Airstrike Hav...   \n",
       "4  Iranian woman jailed for fictional unpublished...   \n",
       "\n",
       "                                                text  label  \n",
       "0  House Dem Aide: We Didn’t Even See Comey’s Let...      1  \n",
       "1  Ever get the feeling your life circles the rou...      0  \n",
       "2  Why the Truth Might Get You Fired October 29, ...      1  \n",
       "3  Videos 15 Civilians Killed In Single US Airstr...      1  \n",
       "4  Print \\nAn Iranian woman has been sentenced to...      1  "
      ]
     },
     "execution_count": 11,
     "metadata": {},
     "output_type": "execute_result"
    }
   ],
   "source": [
    "data.head(5)"
   ]
  },
  {
   "cell_type": "code",
   "execution_count": 12,
   "metadata": {
    "id": "ZGTgQRu0Xy9m",
    "outputId": "7681514e-ecfb-465f-fa9e-8f0deee8dde1"
   },
   "outputs": [
    {
     "data": {
      "text/plain": [
       "'House Dem Aide: We Didn’t Even See Comey’s Letter Until Jason Chaffetz Tweeted It'"
      ]
     },
     "execution_count": 12,
     "metadata": {},
     "output_type": "execute_result"
    }
   ],
   "source": [
    "data.title[0]"
   ]
  },
  {
   "cell_type": "markdown",
   "metadata": {
    "id": "qQ95Pq4E_GQA"
   },
   "source": [
    "# Preprocessing"
   ]
  },
  {
   "cell_type": "markdown",
   "metadata": {
    "id": "9dvnHFKuI89V"
   },
   "source": [
    "### Handling Missing values"
   ]
  },
  {
   "cell_type": "code",
   "execution_count": 13,
   "metadata": {
    "colab": {
     "base_uri": "https://localhost:8080/"
    },
    "id": "IpdIH1dE_GOc",
    "outputId": "6831b7f0-1753-4a30-f61f-c929604cf714"
   },
   "outputs": [
    {
     "data": {
      "text/plain": [
       "title    558\n",
       "text      39\n",
       "label      0\n",
       "dtype: int64"
      ]
     },
     "execution_count": 13,
     "metadata": {},
     "output_type": "execute_result"
    }
   ],
   "source": [
    "# CHECK FOR NAN VALUES\n",
    "data.isnull().sum()"
   ]
  },
  {
   "cell_type": "code",
   "execution_count": 14,
   "metadata": {
    "colab": {
     "base_uri": "https://localhost:8080/"
    },
    "id": "tsvnSrDE_GMx",
    "outputId": "eebd9388-ae4d-4357-89e9-97ffdb3eac82"
   },
   "outputs": [
    {
     "data": {
      "text/plain": [
       "(20800, 3)"
      ]
     },
     "execution_count": 14,
     "metadata": {},
     "output_type": "execute_result"
    }
   ],
   "source": [
    "data.shape"
   ]
  },
  {
   "cell_type": "code",
   "execution_count": 15,
   "metadata": {
    "colab": {
     "base_uri": "https://localhost:8080/"
    },
    "id": "tjndL91D_GJa",
    "outputId": "0c619ba1-2007-4b7f-9557-3f858bf531d7"
   },
   "outputs": [
    {
     "data": {
      "text/plain": [
       "(0, 3)"
      ]
     },
     "execution_count": 15,
     "metadata": {},
     "output_type": "execute_result"
    }
   ],
   "source": [
    "# CHECK IF TEXT AND TITLE IS MISSING TOGATHER\n",
    "data[(data['text'] == np.nan) & (data['title']== np.nan)].shape"
   ]
  },
  {
   "cell_type": "markdown",
   "metadata": {
    "id": "dOOZSlPIDKL6"
   },
   "source": [
    "There are no values where both 'text' and 'title' are missing"
   ]
  },
  {
   "cell_type": "code",
   "execution_count": 16,
   "metadata": {
    "id": "t8rYyhHFDg32"
   },
   "outputs": [],
   "source": [
    "text_nulls = data[data['text'].isnull()].index.tolist()\n",
    "title_nulls  = data[data['title'].isnull()].index.tolist()"
   ]
  },
  {
   "cell_type": "code",
   "execution_count": 17,
   "metadata": {
    "colab": {
     "base_uri": "https://localhost:8080/"
    },
    "id": "kkeN1DV6_GCG",
    "outputId": "caaa613d-d367-434a-9c53-ed80d2243a74"
   },
   "outputs": [
    {
     "name": "stdout",
     "output_type": "stream",
     "text": [
      "missing title values:  558\n",
      "missing title label counts:  1    558\n",
      "Name: label, dtype: int64\n",
      "\n",
      "missing text values:  39\n",
      "missing TEXT  label counts:  1    39\n",
      "Name: label, dtype: int64\n"
     ]
    }
   ],
   "source": [
    "# VALUE COUNTS OF MISSING TEXT AND TITLE\n",
    "print('missing title values: ', len(title_nulls))\n",
    "print('missing title label counts: ', data[data['title'].isnull()]['label'].value_counts())\n",
    "\n",
    "# VALUE COUNTS OF MISSING TITLE AND TITLE\n",
    "print('\\nmissing text values: ', len(text_nulls))\n",
    "print('missing TEXT  label counts: ', data[data['text'].isnull()]['label'].value_counts())\n"
   ]
  },
  {
   "cell_type": "markdown",
   "metadata": {
    "id": "uwAQ3rBu_GBC"
   },
   "source": [
    "Here we can see that if either text or title is missing then it is classified as Fake news explicitely"
   ]
  },
  {
   "cell_type": "markdown",
   "metadata": {
    "id": "R5EG8X5G_F_L"
   },
   "source": [
    "So, we dropping nulls"
   ]
  },
  {
   "cell_type": "code",
   "execution_count": 18,
   "metadata": {
    "colab": {
     "base_uri": "https://localhost:8080/"
    },
    "id": "xIsnv1Va_F9O",
    "outputId": "59f6daf8-e31e-42c0-b33a-fbe9e3671084"
   },
   "outputs": [
    {
     "name": "stdout",
     "output_type": "stream",
     "text": [
      "before dropping na:  (20800, 3)\n",
      "after dropping na:  (20203, 3)\n"
     ]
    }
   ],
   "source": [
    "print('before dropping na: ',data.shape)\n",
    "data.dropna(axis = 0, inplace = True)\n",
    "print('after dropping na: ',data.shape)"
   ]
  },
  {
   "cell_type": "markdown",
   "metadata": {
    "id": "ojR1GvPB_FtP"
   },
   "source": [
    "## Cleaning and Preprocessing\n",
    "\n",
    "\n",
    "* Replacing Contractions\n",
    "* removing punctuation\n",
    "* remove special characters from text column\n",
    "* Remove digits\n",
    "* remove \"'s\"\n",
    "* Remove www\n",
    "* remove urls\n",
    "* remove multiple spaces with single space\n",
    "* remove all single characters\n"
   ]
  },
  {
   "cell_type": "code",
   "execution_count": 19,
   "metadata": {
    "cellView": "form",
    "id": "lAZExuJj_Fr9"
   },
   "outputs": [],
   "source": [
    "#@title this is contractions :: too long don't open\n",
    "contractions_dict = { \n",
    "\"ain't\": \"am not / are not / is not / has not / have not\",\n",
    "\"aren't\": \"are not / am not\",\n",
    "\"can't\": \"cannot\",\n",
    "\"can't've\": \"cannot have\",\n",
    "\"'cause\": \"because\",\n",
    "\"could've\": \"could have\",\n",
    "\"couldn't\": \"could not\",\n",
    "\"couldn't've\": \"could not have\",\n",
    "\"didn't\": \"did not\",\n",
    "\"didn`t\": \"did not\",\n",
    "\"doesn't\": \"does not\",\n",
    "\"don't\": \"do not\",\n",
    "\"hadn't\": \"had not\",\n",
    "\"hadn't've\": \"had not have\",\n",
    "\"hasn't\": \"has not\",\n",
    "\"haven't\": \"have not\",\n",
    "\"he'd\": \"he had / he would\",\n",
    "\"he'd've\": \"he would have\",\n",
    "\"he'll\": \"he shall / he will\",\n",
    "\"he'll've\": \"he shall have / he will have\",\n",
    "\"he's\": \"he has / he is\",\n",
    "\"how'd\": \"how did\",\n",
    "\"how'd'y\": \"how do you\",\n",
    "\"how'll\": \"how will\",\n",
    "\"how's\": \"how has / how is / how does\",\n",
    "\"I'd\": \"I had / I would\",\n",
    "\"I'd've\": \"I would have\",\n",
    "\"I'll\": \"I shall / I will\",\n",
    "\"I'll've\": \"I shall have / I will have\",\n",
    "\"I'm\": \"I am\",\n",
    "\"I've\": \"I have\",\n",
    "\"isn't\": \"is not\",\n",
    "\"it'd\": \"it had / it would\",\n",
    "\"it'd've\": \"it would have\",\n",
    "\"it'll\": \"it shall / it will\",\n",
    "\"it'll've\": \"it shall have / it will have\",\n",
    "\"it's\": \"it has / it is\",\n",
    "\"let's\": \"let us\",\n",
    "\"ma'am\": \"madam\",\n",
    "\"mayn't\": \"may not\",\n",
    "\"might've\": \"might have\",\n",
    "\"mightn't\": \"might not\",\n",
    "\"mightn't've\": \"might not have\",\n",
    "\"must've\": \"must have\",\n",
    "\"mustn't\": \"must not\",\n",
    "\"mustn't've\": \"must not have\",\n",
    "\"needn't\": \"need not\",\n",
    "\"needn't've\": \"need not have\",\n",
    "\"o'clock\": \"of the clock\",\n",
    "\"oughtn't\": \"ought not\",\n",
    "\"oughtn't've\": \"ought not have\",\n",
    "\"shan't\": \"shall not\",\n",
    "\"sha'n't\": \"shall not\",\n",
    "\"shan't've\": \"shall not have\",\n",
    "\"she'd\": \"she had / she would\",\n",
    "\"she'd've\": \"she would have\",\n",
    "\"she'll\": \"she shall / she will\",\n",
    "\"she'll've\": \"she shall have / she will have\",\n",
    "\"she's\": \"she has / she is\",\n",
    "\"should've\": \"should have\",\n",
    "\"shouldn't\": \"should not\",\n",
    "\"shouldn't've\": \"should not have\",\n",
    "\"so've\": \"so have\",\n",
    "\"so's\": \"so as / so is\",\n",
    "\"that'd\": \"that would / that had\",\n",
    "\"that'd've\": \"that would have\",\n",
    "\"that's\": \"that has / that is\",\n",
    "\"there'd\": \"there had / there would\",\n",
    "\"there'd've\": \"there would have\",\n",
    "\"there's\": \"there has / there is\",\n",
    "\"they'd\": \"they had / they would\",\n",
    "\"they'd've\": \"they would have\",\n",
    "\"they'll\": \"they shall / they will\",\n",
    "\"they'll've\": \"they shall have / they will have\",\n",
    "\"they're\": \"they are\",\n",
    "\"they've\": \"they have\",\n",
    "\"to've\": \"to have\",\n",
    "\"wasn't\": \"was not\",\n",
    "\"we'd\": \"we had / we would\",\n",
    "\"we'd've\": \"we would have\",\n",
    "\"we'll\": \"we will\",\n",
    "\"we'll've\": \"we will have\",\n",
    "\"we're\": \"we are\",\n",
    "\"we've\": \"we have\",\n",
    "\"weren't\": \"were not\",\n",
    "\"what'll\": \"what shall / what will\",\n",
    "\"what'll've\": \"what shall have / what will have\",\n",
    "\"what're\": \"what are\",\n",
    "\"what's\": \"what has / what is\",\n",
    "\"what've\": \"what have\",\n",
    "\"when's\": \"when has / when is\",\n",
    "\"when've\": \"when have\",\n",
    "\"where'd\": \"where did\",\n",
    "\"where's\": \"where has / where is\",\n",
    "\"where've\": \"where have\",\n",
    "\"who'll\": \"who shall / who will\",\n",
    "\"who'll've\": \"who shall have / who will have\",\n",
    "\"who's\": \"who has / who is\",\n",
    "\"who've\": \"who have\",\n",
    "\"why's\": \"why has / why is\",\n",
    "\"why've\": \"why have\",\n",
    "\"will've\": \"will have\",\n",
    "\"won't\": \"will not\",\n",
    "\"won't've\": \"will not have\",\n",
    "\"would've\": \"would have\",\n",
    "\"wouldn't\": \"would not\",\n",
    "\"wouldn't've\": \"would not have\",\n",
    "\"y'all\": \"you all\",\n",
    "\"y'all'd\": \"you all would\",\n",
    "\"y'all'd've\": \"you all would have\",\n",
    "\"y'all're\": \"you all are\",\n",
    "\"y'all've\": \"you all have\",\n",
    "\"you'd\": \"you had / you would\",\n",
    "\"you'd've\": \"you would have\",\n",
    "\"you'll\": \"you shall / you will\",\n",
    "\"you'll've\": \"you shall have / you will have\",\n",
    "\"you're\": \"you are\",\n",
    "\"you've\": \"you have\"\n",
    "}"
   ]
  },
  {
   "cell_type": "code",
   "execution_count": 20,
   "metadata": {
    "id": "MTMo-giyXy9q"
   },
   "outputs": [],
   "source": [
    "# very necessary function you can't tell differece between \"’\" and \"'\", I don't even have that symbol in my keyboard\n",
    "\n",
    "def text_cleaning_apos(text):\n",
    "    text = str(text)\n",
    "    text = text.lower()\n",
    "    text = re.sub(\"’\", \"'\", text) # removing punctuation\n",
    "    return text"
   ]
  },
  {
   "cell_type": "code",
   "execution_count": 21,
   "metadata": {
    "id": "hm70b9MM_FlV"
   },
   "outputs": [],
   "source": [
    "# FUNCTIONS TO EXPAND CONTRACTIONS\n",
    "def cont_to_exp(x):\n",
    "    x = str(x).lower()\n",
    "    xsplited = x.split(' ')\n",
    "    exp_sentence = []\n",
    "    for s in x.split():\n",
    "        if s in contractions_dict.keys():\n",
    "            \n",
    "            s = contractions_dict.get(s)\n",
    "        exp_sentence.append(s)\n",
    "        \n",
    "    x = ' '.join(exp_sentence)\n",
    "    return x\n",
    "#     print(xsplited)\n",
    "#     return xsplited"
   ]
  },
  {
   "cell_type": "code",
   "execution_count": 22,
   "metadata": {
    "colab": {
     "base_uri": "https://localhost:8080/"
    },
    "id": "0nMow2Yn_FiA",
    "outputId": "7f31c99a-791f-4396-c29a-98371e10175e"
   },
   "outputs": [
    {
     "name": "stdout",
     "output_type": "stream",
     "text": [
      "CPU times: user 5.14 s, sys: 86.5 ms, total: 5.22 s\n",
      "Wall time: 5.22 s\n"
     ]
    }
   ],
   "source": [
    "%%time\n",
    "data['text'] = data['text'].apply(text_cleaning_apos)\n",
    "data['title'] = data['title'].apply(text_cleaning_apos)\n",
    "\n",
    "data['text'] = data['text'].apply(cont_to_exp)\n",
    "data['title'] = data['title'].apply(cont_to_exp)"
   ]
  },
  {
   "cell_type": "code",
   "execution_count": 23,
   "metadata": {
    "id": "ZWsnhtN1Xy9s"
   },
   "outputs": [],
   "source": [
    "def text_cleaning(text):\n",
    "    text = str(text)\n",
    "    text = text.lower()\n",
    "    text = re.sub(\"[^a-zA-Z]\", \" \", text) # removing punctuation\n",
    "    # remove special characters from text column\n",
    "    text = re.sub('[#,@,&]', '',text)\n",
    "    # Remove digits\n",
    "    text = re.sub('\\d*','', text)\n",
    "    # remove \"'s\"\n",
    "    text = re.sub(\"'s\",'', text)\n",
    "    #Remove www\n",
    "    text = re.sub('w{3}','', text)\n",
    "    # remove urls\n",
    "    text = re.sub(\"http\\S+\", \"\", text)\n",
    "    # remove multiple spaces with single space\n",
    "    text = re.sub('\\s+', ' ', text)\n",
    "    #remove all single characters\n",
    "    text = re.sub(r'\\s+[a-zA-Z]\\s+', ' ', text)\n",
    "\n",
    "    return text"
   ]
  },
  {
   "cell_type": "code",
   "execution_count": 24,
   "metadata": {
    "id": "8aywaNJjXy9t",
    "outputId": "f465b52a-2c00-4931-9b3a-9daa7cc61737"
   },
   "outputs": [
    {
     "name": "stdout",
     "output_type": "stream",
     "text": [
      "CPU times: user 23.6 s, sys: 0 ns, total: 23.6 s\n",
      "Wall time: 23.6 s\n"
     ]
    }
   ],
   "source": [
    "%%time\n",
    "data['title'] = data['title'].apply(text_cleaning) \n",
    "data['text'] = data['text'].apply(text_cleaning) "
   ]
  },
  {
   "cell_type": "code",
   "execution_count": 25,
   "metadata": {
    "id": "vdpGpTh5Xy9t",
    "outputId": "aba1e8b7-d420-4ffc-bc2b-968107ad5b1c"
   },
   "outputs": [
    {
     "data": {
      "text/html": [
       "<div>\n",
       "<style scoped>\n",
       "    .dataframe tbody tr th:only-of-type {\n",
       "        vertical-align: middle;\n",
       "    }\n",
       "\n",
       "    .dataframe tbody tr th {\n",
       "        vertical-align: top;\n",
       "    }\n",
       "\n",
       "    .dataframe thead th {\n",
       "        text-align: right;\n",
       "    }\n",
       "</style>\n",
       "<table border=\"1\" class=\"dataframe\">\n",
       "  <thead>\n",
       "    <tr style=\"text-align: right;\">\n",
       "      <th></th>\n",
       "      <th>title</th>\n",
       "      <th>text</th>\n",
       "      <th>label</th>\n",
       "    </tr>\n",
       "  </thead>\n",
       "  <tbody>\n",
       "    <tr>\n",
       "      <th>0</th>\n",
       "      <td>house dem aide we did not even see comey lette...</td>\n",
       "      <td>house dem aide we did not even see comey lette...</td>\n",
       "      <td>1</td>\n",
       "    </tr>\n",
       "    <tr>\n",
       "      <th>1</th>\n",
       "      <td>flynn hillary clinton big woman on campus brei...</td>\n",
       "      <td>ever get the feeling your life circles the rou...</td>\n",
       "      <td>0</td>\n",
       "    </tr>\n",
       "    <tr>\n",
       "      <th>2</th>\n",
       "      <td>why the truth might get you fired</td>\n",
       "      <td>why the truth might get you fired october the ...</td>\n",
       "      <td>1</td>\n",
       "    </tr>\n",
       "    <tr>\n",
       "      <th>3</th>\n",
       "      <td>civilians killed in single us airstrike have ...</td>\n",
       "      <td>videos civilians killed in single us airstrike...</td>\n",
       "      <td>1</td>\n",
       "    </tr>\n",
       "    <tr>\n",
       "      <th>4</th>\n",
       "      <td>iranian woman jailed for fictional unpublished...</td>\n",
       "      <td>print an iranian woman has been sentenced to s...</td>\n",
       "      <td>1</td>\n",
       "    </tr>\n",
       "  </tbody>\n",
       "</table>\n",
       "</div>"
      ],
      "text/plain": [
       "                                               title  \\\n",
       "0  house dem aide we did not even see comey lette...   \n",
       "1  flynn hillary clinton big woman on campus brei...   \n",
       "2                  why the truth might get you fired   \n",
       "3   civilians killed in single us airstrike have ...   \n",
       "4  iranian woman jailed for fictional unpublished...   \n",
       "\n",
       "                                                text  label  \n",
       "0  house dem aide we did not even see comey lette...      1  \n",
       "1  ever get the feeling your life circles the rou...      0  \n",
       "2  why the truth might get you fired october the ...      1  \n",
       "3  videos civilians killed in single us airstrike...      1  \n",
       "4  print an iranian woman has been sentenced to s...      1  "
      ]
     },
     "execution_count": 25,
     "metadata": {},
     "output_type": "execute_result"
    }
   ],
   "source": [
    "data.head()"
   ]
  },
  {
   "cell_type": "code",
   "execution_count": 26,
   "metadata": {
    "id": "4bzPaaqWXy9t"
   },
   "outputs": [],
   "source": [
    "# # Cleaning the words\n",
    "# lemmatizer = WordNetLemmatizer()\n",
    "\n",
    "# def nltk_clean(text):\n",
    "#     text = str(text).lower()\n",
    "#     text = [lemmatizer.lemmatize(word) for word in word_tokenize(text) if word not in stopwords.words('english')]\n",
    "#     text = ' '.join(text)\n",
    "#     return text"
   ]
  },
  {
   "cell_type": "code",
   "execution_count": 27,
   "metadata": {
    "id": "Pq4BQ6CAXy9t"
   },
   "outputs": [],
   "source": [
    "# %%time\n",
    "\n",
    "# # takes alot of time\n",
    "# data['title'] = data['title'].apply(nltk_clean) \n",
    "# data['text'] = data['text'].apply(nltk_clean) "
   ]
  },
  {
   "cell_type": "code",
   "execution_count": 28,
   "metadata": {
    "id": "EzTz2G8OXy9u",
    "outputId": "af71693c-fb06-419b-c961-bc95cb0f17fc"
   },
   "outputs": [
    {
     "data": {
      "text/html": [
       "<div>\n",
       "<style scoped>\n",
       "    .dataframe tbody tr th:only-of-type {\n",
       "        vertical-align: middle;\n",
       "    }\n",
       "\n",
       "    .dataframe tbody tr th {\n",
       "        vertical-align: top;\n",
       "    }\n",
       "\n",
       "    .dataframe thead th {\n",
       "        text-align: right;\n",
       "    }\n",
       "</style>\n",
       "<table border=\"1\" class=\"dataframe\">\n",
       "  <thead>\n",
       "    <tr style=\"text-align: right;\">\n",
       "      <th></th>\n",
       "      <th>title</th>\n",
       "      <th>text</th>\n",
       "      <th>label</th>\n",
       "    </tr>\n",
       "  </thead>\n",
       "  <tbody>\n",
       "    <tr>\n",
       "      <th>0</th>\n",
       "      <td>house dem aide we did not even see comey lette...</td>\n",
       "      <td>house dem aide we did not even see comey lette...</td>\n",
       "      <td>1</td>\n",
       "    </tr>\n",
       "    <tr>\n",
       "      <th>1</th>\n",
       "      <td>flynn hillary clinton big woman on campus brei...</td>\n",
       "      <td>ever get the feeling your life circles the rou...</td>\n",
       "      <td>0</td>\n",
       "    </tr>\n",
       "    <tr>\n",
       "      <th>2</th>\n",
       "      <td>why the truth might get you fired</td>\n",
       "      <td>why the truth might get you fired october the ...</td>\n",
       "      <td>1</td>\n",
       "    </tr>\n",
       "    <tr>\n",
       "      <th>3</th>\n",
       "      <td>civilians killed in single us airstrike have ...</td>\n",
       "      <td>videos civilians killed in single us airstrike...</td>\n",
       "      <td>1</td>\n",
       "    </tr>\n",
       "    <tr>\n",
       "      <th>4</th>\n",
       "      <td>iranian woman jailed for fictional unpublished...</td>\n",
       "      <td>print an iranian woman has been sentenced to s...</td>\n",
       "      <td>1</td>\n",
       "    </tr>\n",
       "  </tbody>\n",
       "</table>\n",
       "</div>"
      ],
      "text/plain": [
       "                                               title  \\\n",
       "0  house dem aide we did not even see comey lette...   \n",
       "1  flynn hillary clinton big woman on campus brei...   \n",
       "2                  why the truth might get you fired   \n",
       "3   civilians killed in single us airstrike have ...   \n",
       "4  iranian woman jailed for fictional unpublished...   \n",
       "\n",
       "                                                text  label  \n",
       "0  house dem aide we did not even see comey lette...      1  \n",
       "1  ever get the feeling your life circles the rou...      0  \n",
       "2  why the truth might get you fired october the ...      1  \n",
       "3  videos civilians killed in single us airstrike...      1  \n",
       "4  print an iranian woman has been sentenced to s...      1  "
      ]
     },
     "execution_count": 28,
     "metadata": {},
     "output_type": "execute_result"
    }
   ],
   "source": [
    "data.head()"
   ]
  },
  {
   "cell_type": "code",
   "execution_count": 29,
   "metadata": {
    "colab": {
     "base_uri": "https://localhost:8080/",
     "height": 424
    },
    "id": "TtHCVDcH_FgD",
    "outputId": "741c93e0-b13d-492f-f850-0bbd41c17589"
   },
   "outputs": [
    {
     "data": {
      "text/plain": [
       "'house dem aide we did not even see comey letter until jason chaffetz tweeted it'"
      ]
     },
     "execution_count": 29,
     "metadata": {},
     "output_type": "execute_result"
    }
   ],
   "source": [
    "data.title[0]"
   ]
  },
  {
   "cell_type": "markdown",
   "metadata": {
    "id": "RW1tA6rB_Fep"
   },
   "source": [
    "# Feature Engineering"
   ]
  },
  {
   "cell_type": "code",
   "execution_count": 30,
   "metadata": {
    "id": "SyWuKE9w_Fco"
   },
   "outputs": [],
   "source": [
    "data['title_len'] = data['title'].apply(lambda x: len(str(x).split(' ')))\n",
    "data['text_len'] = data['text'].apply(lambda x: len(str(x).split(' ')))\n",
    "data['title_text_ratio'] = data['title_len']/data['text_len']\n",
    "# train['avg_title_len'] = train['title'].apply(lambda x: len(str(x).split()))"
   ]
  },
  {
   "cell_type": "code",
   "execution_count": 31,
   "metadata": {
    "colab": {
     "base_uri": "https://localhost:8080/",
     "height": 424
    },
    "id": "BRr5g2HY_FZT",
    "outputId": "57a71aa9-0224-4085-e00f-9fb2c2421875"
   },
   "outputs": [
    {
     "data": {
      "text/html": [
       "<div>\n",
       "<style scoped>\n",
       "    .dataframe tbody tr th:only-of-type {\n",
       "        vertical-align: middle;\n",
       "    }\n",
       "\n",
       "    .dataframe tbody tr th {\n",
       "        vertical-align: top;\n",
       "    }\n",
       "\n",
       "    .dataframe thead th {\n",
       "        text-align: right;\n",
       "    }\n",
       "</style>\n",
       "<table border=\"1\" class=\"dataframe\">\n",
       "  <thead>\n",
       "    <tr style=\"text-align: right;\">\n",
       "      <th></th>\n",
       "      <th>title</th>\n",
       "      <th>text</th>\n",
       "      <th>label</th>\n",
       "      <th>title_len</th>\n",
       "      <th>text_len</th>\n",
       "      <th>title_text_ratio</th>\n",
       "    </tr>\n",
       "  </thead>\n",
       "  <tbody>\n",
       "    <tr>\n",
       "      <th>0</th>\n",
       "      <td>house dem aide we did not even see comey lette...</td>\n",
       "      <td>house dem aide we did not even see comey lette...</td>\n",
       "      <td>1</td>\n",
       "      <td>15</td>\n",
       "      <td>812</td>\n",
       "      <td>0.018473</td>\n",
       "    </tr>\n",
       "    <tr>\n",
       "      <th>1</th>\n",
       "      <td>flynn hillary clinton big woman on campus brei...</td>\n",
       "      <td>ever get the feeling your life circles the rou...</td>\n",
       "      <td>0</td>\n",
       "      <td>8</td>\n",
       "      <td>673</td>\n",
       "      <td>0.011887</td>\n",
       "    </tr>\n",
       "    <tr>\n",
       "      <th>2</th>\n",
       "      <td>why the truth might get you fired</td>\n",
       "      <td>why the truth might get you fired october the ...</td>\n",
       "      <td>1</td>\n",
       "      <td>7</td>\n",
       "      <td>1227</td>\n",
       "      <td>0.005705</td>\n",
       "    </tr>\n",
       "    <tr>\n",
       "      <th>3</th>\n",
       "      <td>civilians killed in single us airstrike have ...</td>\n",
       "      <td>videos civilians killed in single us airstrike...</td>\n",
       "      <td>1</td>\n",
       "      <td>10</td>\n",
       "      <td>530</td>\n",
       "      <td>0.018868</td>\n",
       "    </tr>\n",
       "    <tr>\n",
       "      <th>4</th>\n",
       "      <td>iranian woman jailed for fictional unpublished...</td>\n",
       "      <td>print an iranian woman has been sentenced to s...</td>\n",
       "      <td>1</td>\n",
       "      <td>14</td>\n",
       "      <td>143</td>\n",
       "      <td>0.097902</td>\n",
       "    </tr>\n",
       "    <tr>\n",
       "      <th>...</th>\n",
       "      <td>...</td>\n",
       "      <td>...</td>\n",
       "      <td>...</td>\n",
       "      <td>...</td>\n",
       "      <td>...</td>\n",
       "      <td>...</td>\n",
       "    </tr>\n",
       "    <tr>\n",
       "      <th>20795</th>\n",
       "      <td>rapper i trump poster child for white supremacy</td>\n",
       "      <td>rapper i unloaded on black celebrities who met...</td>\n",
       "      <td>0</td>\n",
       "      <td>9</td>\n",
       "      <td>296</td>\n",
       "      <td>0.030405</td>\n",
       "    </tr>\n",
       "    <tr>\n",
       "      <th>20796</th>\n",
       "      <td>n l playoffs schedule matchups and odds the ne...</td>\n",
       "      <td>when the green bay packers lost to the washing...</td>\n",
       "      <td>0</td>\n",
       "      <td>11</td>\n",
       "      <td>1014</td>\n",
       "      <td>0.010848</td>\n",
       "    </tr>\n",
       "    <tr>\n",
       "      <th>20797</th>\n",
       "      <td>macy is said to receive takeover approach by h...</td>\n",
       "      <td>the macy of today grew from the union of sever...</td>\n",
       "      <td>0</td>\n",
       "      <td>14</td>\n",
       "      <td>755</td>\n",
       "      <td>0.018543</td>\n",
       "    </tr>\n",
       "    <tr>\n",
       "      <th>20798</th>\n",
       "      <td>nato russia to hold parallel exercises in balkans</td>\n",
       "      <td>nato russia to hold parallel exercises in balk...</td>\n",
       "      <td>1</td>\n",
       "      <td>8</td>\n",
       "      <td>261</td>\n",
       "      <td>0.030651</td>\n",
       "    </tr>\n",
       "    <tr>\n",
       "      <th>20799</th>\n",
       "      <td>what keeps the alive</td>\n",
       "      <td>david swanson is an author activist journalist...</td>\n",
       "      <td>1</td>\n",
       "      <td>4</td>\n",
       "      <td>1105</td>\n",
       "      <td>0.003620</td>\n",
       "    </tr>\n",
       "  </tbody>\n",
       "</table>\n",
       "<p>20203 rows × 6 columns</p>\n",
       "</div>"
      ],
      "text/plain": [
       "                                                   title  \\\n",
       "0      house dem aide we did not even see comey lette...   \n",
       "1      flynn hillary clinton big woman on campus brei...   \n",
       "2                      why the truth might get you fired   \n",
       "3       civilians killed in single us airstrike have ...   \n",
       "4      iranian woman jailed for fictional unpublished...   \n",
       "...                                                  ...   \n",
       "20795   rapper i trump poster child for white supremacy    \n",
       "20796  n l playoffs schedule matchups and odds the ne...   \n",
       "20797  macy is said to receive takeover approach by h...   \n",
       "20798  nato russia to hold parallel exercises in balkans   \n",
       "20799                               what keeps the alive   \n",
       "\n",
       "                                                    text  label  title_len  \\\n",
       "0      house dem aide we did not even see comey lette...      1         15   \n",
       "1      ever get the feeling your life circles the rou...      0          8   \n",
       "2      why the truth might get you fired october the ...      1          7   \n",
       "3      videos civilians killed in single us airstrike...      1         10   \n",
       "4      print an iranian woman has been sentenced to s...      1         14   \n",
       "...                                                  ...    ...        ...   \n",
       "20795  rapper i unloaded on black celebrities who met...      0          9   \n",
       "20796  when the green bay packers lost to the washing...      0         11   \n",
       "20797  the macy of today grew from the union of sever...      0         14   \n",
       "20798  nato russia to hold parallel exercises in balk...      1          8   \n",
       "20799  david swanson is an author activist journalist...      1          4   \n",
       "\n",
       "       text_len  title_text_ratio  \n",
       "0           812          0.018473  \n",
       "1           673          0.011887  \n",
       "2          1227          0.005705  \n",
       "3           530          0.018868  \n",
       "4           143          0.097902  \n",
       "...         ...               ...  \n",
       "20795       296          0.030405  \n",
       "20796      1014          0.010848  \n",
       "20797       755          0.018543  \n",
       "20798       261          0.030651  \n",
       "20799      1105          0.003620  \n",
       "\n",
       "[20203 rows x 6 columns]"
      ]
     },
     "execution_count": 31,
     "metadata": {},
     "output_type": "execute_result"
    }
   ],
   "source": [
    "data"
   ]
  },
  {
   "cell_type": "code",
   "execution_count": 32,
   "metadata": {
    "id": "a6Eip6dsXy9u",
    "outputId": "9e47c533-fec5-41b7-ee3e-82a4f2a62ba5"
   },
   "outputs": [
    {
     "data": {
      "text/plain": [
       "<bound method IndexOpsMixin.value_counts of 0        15\n",
       "1         8\n",
       "2         7\n",
       "3        10\n",
       "4        14\n",
       "         ..\n",
       "20795     9\n",
       "20796    11\n",
       "20797    14\n",
       "20798     8\n",
       "20799     4\n",
       "Name: title_len, Length: 20203, dtype: int64>"
      ]
     },
     "execution_count": 32,
     "metadata": {},
     "output_type": "execute_result"
    }
   ],
   "source": [
    "data.title_len.value_counts"
   ]
  },
  {
   "cell_type": "code",
   "execution_count": 33,
   "metadata": {
    "colab": {
     "base_uri": "https://localhost:8080/",
     "height": 458
    },
    "id": "VHi8kbvwbDrM",
    "outputId": "a6d068b7-7f8b-4f8d-b21c-b8ab0394e92c"
   },
   "outputs": [
    {
     "data": {
      "image/png": "[encoded data removed]",
      "text/plain": [
       "<Figure size 1500x700 with 1 Axes>"
      ]
     },
     "metadata": {},
     "output_type": "display_data"
    }
   ],
   "source": [
    "# Title Word Count distribution\n",
    "plt.figure(figsize = (15,7))\n",
    "plt.grid()\n",
    "plt.hist(x = data.title_len, bins=25)\n",
    "plt.xlabel('word length')\n",
    "plt.ylabel('Count')\n",
    "percent = 99\n",
    "for i in range(95,100):\n",
    "    plt.axvline(x = np.percentile(data.title_len, i), color = 'r', label = 'axvline - full height')\n",
    "plt.title(f'Title Word Count distribution: {np.percentile(data.title_len, percent)} words cover {percent}% of title data')\n",
    "plt.show()"
   ]
  },
  {
   "cell_type": "code",
   "execution_count": 34,
   "metadata": {
    "colab": {
     "base_uri": "https://localhost:8080/",
     "height": 458
    },
    "id": "S0idro9ifJZ5",
    "outputId": "16c1b115-4198-4ce8-9d6a-c73565083ae4"
   },
   "outputs": [
    {
     "data": {
      "image/png": "[encoded data removed]",
      "text/plain": [
       "<Figure size 1500x700 with 1 Axes>"
      ]
     },
     "metadata": {},
     "output_type": "display_data"
    }
   ],
   "source": [
    "# Title Word Count distribution\n",
    "plt.figure(figsize = (15,7))\n",
    "plt.grid()\n",
    "plt.hist(x = data.text_len, bins=25)\n",
    "plt.xlabel('word length')\n",
    "plt.ylabel('Count')\n",
    "# plt.plot(x = , y = 0)\n",
    "percent = 99\n",
    "for i in range(95,100):\n",
    "    plt.axvline(x = np.percentile(data.text_len, i), color = 'b', label = 'axvline - full height')\n",
    "plt.title(f'Text Word Count distribution: {np.percentile(data.text_len, percent)} words cover {percent}% of text data')\n",
    "plt.show()"
   ]
  },
  {
   "cell_type": "markdown",
   "metadata": {
    "id": "Z147GJikd5mN"
   },
   "source": [
    "so word lenghth upto 22 covers 99% of the dataset title\n",
    "so word lenghth upto 4061 covers 99% of the dataset text"
   ]
  },
  {
   "cell_type": "markdown",
   "metadata": {
    "id": "zMzg6P0U_FW-"
   },
   "source": [
    "# Text Vectorization"
   ]
  },
  {
   "cell_type": "code",
   "execution_count": 35,
   "metadata": {
    "id": "b8FYNVAP_FUl"
   },
   "outputs": [],
   "source": [
    "from sklearn.feature_extraction.text import TfidfVectorizer"
   ]
  },
  {
   "cell_type": "code",
   "execution_count": 36,
   "metadata": {
    "colab": {
     "base_uri": "https://localhost:8080/",
     "height": 122
    },
    "id": "UyVdezFA5CJg",
    "outputId": "05b570ba-dfae-4e04-f060-3b18edb46bec"
   },
   "outputs": [
    {
     "data": {
      "text/plain": [
       "'the bbc produced spoof on the real housewives tv programmes which has comedic islamic state twist has been criticised by leftists and muslims who claim the sketch is offensive the bbc released the trailer earlier this week and were immediately slammed by those on the left and muslims who thought that making fun of the brides of members of the terror group was out of the bounds of conventional humour the sketch is part of new programme called revolting written by jolyon rubinstein and heydon prowse which according to the bbc is satirising the state of the nation lololol pic twitter raheem kassam raheemkassam january the bbc facebook page was inundated with criticism one user wrote m mortified that the bbc had produced such programme this is simply bad taste the fact it is comedy makes it even more worrying that humour should be associated with the actions of isis is this really what tv licenses are funding others took different point of view including muslim saying as muslim find this hilarious brilliant the satire is on point highlighting the pathetic ideals of pathetic group like isis not all muslims agreed with the sentiment and users on twitter expressed just as much outrage for the sketch one man bangladeshi said the bbc really made satirical show called the real housewives of isis while the real housewives of isis are being raped and abused daily the bbc really made satirical show called the real housewives of isis while the real housewives of isis are being raped and abused daily meraj unclemeraj january another wrote real housewives of isis will make hijabis feel more isolated targeted by islamophobes thanks bbc for adding to the negative stereotype real housewives of isis will make hijabis feel more isolated targeted by islamophobes thanks bbc for adding to the negative stereotype ashkaneskittles january leftists also articulated how offended they were that the public broadcaster would dare create such sketch mocking islamic state some questioned whether the use of taxpayer money via the tv license fee should go toward the funding of the programme as if people tv license in this country is going towards funding the production of programme called the real housewives of isis wow cameron edgar cammyyyedgar january the video itself has already been viewed millions of times on facebook and other social media platforms the clip shows several women in hijabs talking to each other in house taking selfies and showing off their suicide belts to each other one woman even mentions that she had not come from birmingham to do this as she scrubbed the floor of the home women joining islamic state and travelling to syria to become brides has become real problem in european countries as the terror group promises young girls more glamorous lifestyle in eight schoolgirls from bethnal green travelled to syria to become brides of islamic state fighters all of them under the age of '"
      ]
     },
     "execution_count": 36,
     "metadata": {},
     "output_type": "execute_result"
    }
   ],
   "source": [
    "s = data.text[11]\n",
    "s"
   ]
  },
  {
   "cell_type": "code",
   "execution_count": 37,
   "metadata": {
    "colab": {
     "base_uri": "https://localhost:8080/"
    },
    "id": "Quf6G8vV_FOz",
    "outputId": "7bd642c9-1ad5-47e4-cc79-e724238c943a"
   },
   "outputs": [
    {
     "data": {
      "text/plain": [
       "<1x244 sparse matrix of type '<class 'numpy.float64'>'\n",
       "\twith 244 stored elements in Compressed Sparse Row format>"
      ]
     },
     "execution_count": 37,
     "metadata": {},
     "output_type": "execute_result"
    }
   ],
   "source": [
    "from scipy import sparse\n",
    "tfidf = TfidfVectorizer()\n",
    "ddd = tfidf.fit_transform(np.array([s]))\n",
    "ddd"
   ]
  },
  {
   "cell_type": "code",
   "execution_count": 38,
   "metadata": {
    "id": "DUxY_1R2_FBH"
   },
   "outputs": [],
   "source": [
    "# tfidf.get_feature_names()"
   ]
  },
  {
   "cell_type": "code",
   "execution_count": 39,
   "metadata": {
    "colab": {
     "base_uri": "https://localhost:8080/",
     "height": 424
    },
    "id": "y0qR_1mD8b_p",
    "outputId": "bae21f8d-befe-4512-bea9-faf298460e69"
   },
   "outputs": [
    {
     "data": {
      "text/html": [
       "<div>\n",
       "<style scoped>\n",
       "    .dataframe tbody tr th:only-of-type {\n",
       "        vertical-align: middle;\n",
       "    }\n",
       "\n",
       "    .dataframe tbody tr th {\n",
       "        vertical-align: top;\n",
       "    }\n",
       "\n",
       "    .dataframe thead th {\n",
       "        text-align: right;\n",
       "    }\n",
       "</style>\n",
       "<table border=\"1\" class=\"dataframe\">\n",
       "  <thead>\n",
       "    <tr style=\"text-align: right;\">\n",
       "      <th></th>\n",
       "      <th>text</th>\n",
       "      <th>title</th>\n",
       "      <th>label</th>\n",
       "    </tr>\n",
       "  </thead>\n",
       "  <tbody>\n",
       "    <tr>\n",
       "      <th>0</th>\n",
       "      <td>house dem aide we did not even see comey lette...</td>\n",
       "      <td>house dem aide we did not even see comey lette...</td>\n",
       "      <td>1</td>\n",
       "    </tr>\n",
       "    <tr>\n",
       "      <th>1</th>\n",
       "      <td>ever get the feeling your life circles the rou...</td>\n",
       "      <td>flynn hillary clinton big woman on campus brei...</td>\n",
       "      <td>0</td>\n",
       "    </tr>\n",
       "    <tr>\n",
       "      <th>2</th>\n",
       "      <td>why the truth might get you fired october the ...</td>\n",
       "      <td>why the truth might get you fired</td>\n",
       "      <td>1</td>\n",
       "    </tr>\n",
       "    <tr>\n",
       "      <th>3</th>\n",
       "      <td>videos civilians killed in single us airstrike...</td>\n",
       "      <td>civilians killed in single us airstrike have ...</td>\n",
       "      <td>1</td>\n",
       "    </tr>\n",
       "    <tr>\n",
       "      <th>4</th>\n",
       "      <td>print an iranian woman has been sentenced to s...</td>\n",
       "      <td>iranian woman jailed for fictional unpublished...</td>\n",
       "      <td>1</td>\n",
       "    </tr>\n",
       "    <tr>\n",
       "      <th>...</th>\n",
       "      <td>...</td>\n",
       "      <td>...</td>\n",
       "      <td>...</td>\n",
       "    </tr>\n",
       "    <tr>\n",
       "      <th>20795</th>\n",
       "      <td>rapper i unloaded on black celebrities who met...</td>\n",
       "      <td>rapper i trump poster child for white supremacy</td>\n",
       "      <td>0</td>\n",
       "    </tr>\n",
       "    <tr>\n",
       "      <th>20796</th>\n",
       "      <td>when the green bay packers lost to the washing...</td>\n",
       "      <td>n l playoffs schedule matchups and odds the ne...</td>\n",
       "      <td>0</td>\n",
       "    </tr>\n",
       "    <tr>\n",
       "      <th>20797</th>\n",
       "      <td>the macy of today grew from the union of sever...</td>\n",
       "      <td>macy is said to receive takeover approach by h...</td>\n",
       "      <td>0</td>\n",
       "    </tr>\n",
       "    <tr>\n",
       "      <th>20798</th>\n",
       "      <td>nato russia to hold parallel exercises in balk...</td>\n",
       "      <td>nato russia to hold parallel exercises in balkans</td>\n",
       "      <td>1</td>\n",
       "    </tr>\n",
       "    <tr>\n",
       "      <th>20799</th>\n",
       "      <td>david swanson is an author activist journalist...</td>\n",
       "      <td>what keeps the alive</td>\n",
       "      <td>1</td>\n",
       "    </tr>\n",
       "  </tbody>\n",
       "</table>\n",
       "<p>20203 rows × 3 columns</p>\n",
       "</div>"
      ],
      "text/plain": [
       "                                                    text  \\\n",
       "0      house dem aide we did not even see comey lette...   \n",
       "1      ever get the feeling your life circles the rou...   \n",
       "2      why the truth might get you fired october the ...   \n",
       "3      videos civilians killed in single us airstrike...   \n",
       "4      print an iranian woman has been sentenced to s...   \n",
       "...                                                  ...   \n",
       "20795  rapper i unloaded on black celebrities who met...   \n",
       "20796  when the green bay packers lost to the washing...   \n",
       "20797  the macy of today grew from the union of sever...   \n",
       "20798  nato russia to hold parallel exercises in balk...   \n",
       "20799  david swanson is an author activist journalist...   \n",
       "\n",
       "                                                   title  label  \n",
       "0      house dem aide we did not even see comey lette...      1  \n",
       "1      flynn hillary clinton big woman on campus brei...      0  \n",
       "2                      why the truth might get you fired      1  \n",
       "3       civilians killed in single us airstrike have ...      1  \n",
       "4      iranian woman jailed for fictional unpublished...      1  \n",
       "...                                                  ...    ...  \n",
       "20795   rapper i trump poster child for white supremacy       0  \n",
       "20796  n l playoffs schedule matchups and odds the ne...      0  \n",
       "20797  macy is said to receive takeover approach by h...      0  \n",
       "20798  nato russia to hold parallel exercises in balkans      1  \n",
       "20799                               what keeps the alive      1  \n",
       "\n",
       "[20203 rows x 3 columns]"
      ]
     },
     "execution_count": 39,
     "metadata": {},
     "output_type": "execute_result"
    }
   ],
   "source": [
    "data[['text','title','label']]"
   ]
  },
  {
   "cell_type": "markdown",
   "metadata": {
    "id": "_Rg4Vd1tATFP"
   },
   "source": [
    "# Helper functions"
   ]
  },
  {
   "cell_type": "code",
   "execution_count": 40,
   "metadata": {
    "id": "WFMFybLvASGp"
   },
   "outputs": [],
   "source": [
    "# Function to evaluate: accuracy, precision, recall, f1-score\n",
    "from sklearn.metrics import accuracy_score, precision_recall_fscore_support\n",
    "import datetime\n",
    "\n",
    "\n",
    "def calculate_results(y_true, y_pred):\n",
    "  \"\"\"\n",
    "  Calculates model accuracy, precision, recall and f1 score of a binary classification model.\n",
    "  Args:\n",
    "      y_true: true labels in the form of a 1D array\n",
    "      y_pred: predicted labels in the form of a 1D array\n",
    "  Returns a dictionary of accuracy, precision, recall, f1-score.\n",
    "  \"\"\"\n",
    "  # Calculate model accuracy\n",
    "  model_accuracy = accuracy_score(y_true, y_pred) * 100\n",
    "  # Calculate model precision, recall and f1 score using \"weighted average\n",
    "  model_precision, model_recall, model_f1, _ = precision_recall_fscore_support(y_true, y_pred, average=\"weighted\")\n",
    "  model_results = {\"accuracy\": model_accuracy,\n",
    "                  \"precision\": model_precision,\n",
    "                  \"recall\": model_recall,\n",
    "                  \"f1\": model_f1}\n",
    "  return model_results"
   ]
  },
  {
   "cell_type": "code",
   "execution_count": 41,
   "metadata": {
    "id": "Zcf_IY5nUxmy"
   },
   "outputs": [],
   "source": [
    "def create_tensorboard_callback(dir_name, experiment_name):\n",
    "    \"\"\"\n",
    "    Creates a TensorBoard callback instand to store log files.\n",
    "    Stores log files with the filepath:\n",
    "    \"dir_name/experiment_name/current_datetime/\"\n",
    "    Args:\n",
    "    dir_name: target directory to store TensorBoard log files\n",
    "    experiment_name: name of experiment directory (e.g. efficientnet_model_1)\n",
    "    \"\"\"\n",
    "    log_dir = dir_name + \"/\" + experiment_name + \"/\" + datetime.datetime.now().strftime(\"%Y%m%d-%H%M%S\")\n",
    "    tensorboard_callback = tf.keras.callbacks.TensorBoard(\n",
    "        log_dir=log_dir\n",
    "    )\n",
    "    print(f\"Saving TensorBoard log files to: {log_dir}\")\n",
    "    return tensorboard_callback\n"
   ]
  },
  {
   "cell_type": "markdown",
   "metadata": {
    "id": "fYCxuEbx8GpN"
   },
   "source": [
    "# Spliting data"
   ]
  },
  {
   "cell_type": "code",
   "execution_count": 42,
   "metadata": {
    "id": "RwAYgl0Y8RT5"
   },
   "outputs": [],
   "source": [
    "xtrain, xtest, ytrain, ytest = train_test_split(data[['title', 'text']], data['label'], test_size = .1, random_state=3, stratify = data.label)"
   ]
  },
  {
   "cell_type": "code",
   "execution_count": 43,
   "metadata": {
    "colab": {
     "base_uri": "https://localhost:8080/"
    },
    "id": "TVS6xmT69LtI",
    "outputId": "1b0d87c8-87ef-4b69-d666-4f5fe98fe571"
   },
   "outputs": [
    {
     "name": "stdout",
     "output_type": "stream",
     "text": [
      "xtrain:  (18182, 2)\n",
      "ytrain:  (18182,)\n",
      "xtest:  (2021, 2)\n",
      "ytest:  (2021,)\n"
     ]
    }
   ],
   "source": [
    "print('xtrain: ', xtrain.shape)\n",
    "print('ytrain: ', ytrain.shape)\n",
    "print('xtest: ', xtest.shape)\n",
    "print('ytest: ', ytest.shape)"
   ]
  },
  {
   "cell_type": "markdown",
   "metadata": {
    "id": "WR65StrW_E-b"
   },
   "source": [
    "# Baseline : Model 0"
   ]
  },
  {
   "cell_type": "code",
   "execution_count": 44,
   "metadata": {
    "id": "Yl8DR4a-_E79"
   },
   "outputs": [],
   "source": [
    "from sklearn.naive_bayes import MultinomialNB\n",
    "from sklearn.feature_extraction.text import TfidfVectorizer\n",
    "from sklearn.pipeline import Pipeline"
   ]
  },
  {
   "cell_type": "code",
   "execution_count": 45,
   "metadata": {
    "colab": {
     "base_uri": "https://localhost:8080/"
    },
    "id": "zxB-WRIf_E5S",
    "outputId": "59f8dd8d-0cdd-48a1-f3d5-0c5e2a0f7fdd"
   },
   "outputs": [
    {
     "data": {
      "text/plain": [
       "Pipeline(steps=[('tfidf', TfidfVectorizer()), ('clf', MultinomialNB())])"
      ]
     },
     "execution_count": 45,
     "metadata": {},
     "output_type": "execute_result"
    }
   ],
   "source": [
    "model0 = Pipeline([\n",
    "    ('tfidf', TfidfVectorizer()),\n",
    "    ('clf', MultinomialNB())\n",
    "])\n",
    "\n",
    "#fit model\n",
    "model0.fit(xtrain.title.to_list(), ytrain.to_list())\n"
   ]
  },
  {
   "cell_type": "code",
   "execution_count": 46,
   "metadata": {
    "id": "gYv_3EjD_E18"
   },
   "outputs": [],
   "source": [
    "ytrue0 = ytest.to_list()\n",
    "ypred0 = model0.predict(xtest.title.to_list())"
   ]
  },
  {
   "cell_type": "code",
   "execution_count": 47,
   "metadata": {
    "colab": {
     "base_uri": "https://localhost:8080/"
    },
    "id": "rtm5_5lG_EzO",
    "outputId": "c0d8a134-66ec-44f3-d14d-add6bfdecbc8",
    "scrolled": true
   },
   "outputs": [
    {
     "data": {
      "text/plain": [
       "{'accuracy': 86.7887184562098,\n",
       " 'precision': 0.8776860580323497,\n",
       " 'recall': 0.867887184562098,\n",
       " 'f1': 0.8666621593840541}"
      ]
     },
     "execution_count": 47,
     "metadata": {},
     "output_type": "execute_result"
    }
   ],
   "source": [
    "calculate_results(ytrue0, ypred0)"
   ]
  },
  {
   "cell_type": "code",
   "execution_count": null,
   "metadata": {},
   "outputs": [],
   "source": []
  },
  {
   "cell_type": "markdown",
   "metadata": {
    "id": "ZhPJC09lURkP"
   },
   "source": [
    "# Token Vectorization"
   ]
  },
  {
   "cell_type": "code",
   "execution_count": 48,
   "metadata": {
    "id": "SWbytWt0VTIS"
   },
   "outputs": [],
   "source": [
    "from tensorflow.keras.layers import TextVectorization, Conv1D, GlobalMaxPooling1D, GlobalAveragePooling1D\n",
    "from tensorflow.keras import layers\n",
    "import tensorflow as tf\n",
    "from tensorflow import keras"
   ]
  },
  {
   "cell_type": "code",
   "execution_count": 49,
   "metadata": {
    "colab": {
     "base_uri": "https://localhost:8080/"
    },
    "id": "8G6ZxzPqWHy6",
    "outputId": "cb42b254-60d1-4a3f-e6ea-a75a059b1a97"
   },
   "outputs": [
    {
     "name": "stdout",
     "output_type": "stream",
     "text": [
      "total token in titles:  19905\n",
      "total token in text:  140458\n",
      "total token combined:  140868\n"
     ]
    }
   ],
   "source": [
    "# number of unique words in dataset\n",
    "# %%time\n",
    "all_title_words_list = [words.split() for words in xtrain.title]\n",
    "all_title_words = set(num for sublist in all_title_words_list for num in sublist)\n",
    "print('total token in titles: ',len(all_title_words))\n",
    "\n",
    "all_text_words_list = [words.split() for words in xtrain.text]\n",
    "all_text_words = set(num for sublist in all_text_words_list for num in sublist)\n",
    "print('total token in text: ',len(all_text_words))\n",
    "\n",
    "all_words_combined_list = all_text_words_list + all_title_words_list\n",
    "all_words_combined = set(num for sublist in all_words_combined_list for num in sublist)\n",
    "\n",
    "print('total token combined: ',len(all_words_combined))"
   ]
  },
  {
   "cell_type": "code",
   "execution_count": 50,
   "metadata": {
    "colab": {
     "base_uri": "https://localhost:8080/"
    },
    "id": "QJVYZJ8razeb",
    "outputId": "0c94aed0-bfa8-4753-8167-83cbccf618be"
   },
   "outputs": [
    {
     "name": "stdout",
     "output_type": "stream",
     "text": [
      "output_sequence_len_title:  22\n",
      "output_sequence_len_text:  3967\n"
     ]
    }
   ],
   "source": [
    "# output_sequence_length\n",
    "percent_of_the_data_to_cover = 99\n",
    "output_sequence_len_title = int(np.percentile(data.title_len, percent_of_the_data_to_cover))\n",
    "print('output_sequence_len_title: ',output_sequence_len_title)\n",
    "output_sequence_len_text = int(np.percentile(data.text_len, percent_of_the_data_to_cover))\n",
    "print('output_sequence_len_text: ',output_sequence_len_text)"
   ]
  },
  {
   "cell_type": "markdown",
   "metadata": {
    "id": "rpORWcfEmzYR"
   },
   "source": [
    "we do not want every word to tokenize , there happens to be alot of less occuring words that we do not want. Thats why we will substract 500 words"
   ]
  },
  {
   "cell_type": "code",
   "execution_count": 51,
   "metadata": {
    "colab": {
     "base_uri": "https://localhost:8080/"
    },
    "id": "LZClqL1gWBED",
    "outputId": "82d94571-2897-40cc-95a5-3f2e1c9c31e9",
    "scrolled": true
   },
   "outputs": [
    {
     "name": "stdout",
     "output_type": "stream",
     "text": [
      "max_token_title:  17405\n",
      "max_token_text:  40458\n"
     ]
    }
   ],
   "source": [
    "max_token_title = len(all_title_words) - 2500          #number of words to tokenize -500 as we do not want every word to tokenize \n",
    "print('max_token_title: ',max_token_title)\n",
    "max_token_text = len(all_text_words) -100_000     # minus 100000 because there are alot of useless words in the data\n",
    "print('max_token_text: ',max_token_text)"
   ]
  },
  {
   "cell_type": "markdown",
   "metadata": {
    "id": "iyncHTnIXy9y"
   },
   "source": [
    "### VECTORIZER FOR TITLE\n"
   ]
  },
  {
   "cell_type": "code",
   "execution_count": 52,
   "metadata": {
    "id": "G77Vrdd7Vr9J",
    "scrolled": true
   },
   "outputs": [
    {
     "name": "stderr",
     "output_type": "stream",
     "text": [
      "2022-11-11 12:48:19.667506: I tensorflow/core/platform/cpu_feature_guard.cc:193] This TensorFlow binary is optimized with oneAPI Deep Neural Network Library (oneDNN) to use the following CPU instructions in performance-critical operations:  AVX2 FMA\n",
      "To enable them in other operations, rebuild TensorFlow with the appropriate compiler flags.\n"
     ]
    }
   ],
   "source": [
    "# VECTORIZER FOR TITLE\n",
    "title_text_vectorizer = TextVectorization(max_tokens=max_token_title, \n",
    "                                          output_sequence_length=output_sequence_len_title,\n",
    "                                          pad_to_max_tokens = True)"
   ]
  },
  {
   "cell_type": "code",
   "execution_count": 53,
   "metadata": {
    "id": "cAjRWMQ1Xy9z"
   },
   "outputs": [],
   "source": [
    "# Adapt text vectorizer to training titles\n",
    "# %%time\n",
    "title_text_vectorizer.adapt(xtrain.title.to_list())"
   ]
  },
  {
   "cell_type": "code",
   "execution_count": 54,
   "metadata": {
    "colab": {
     "base_uri": "https://localhost:8080/"
    },
    "id": "cxpBoQ4Kld_g",
    "outputId": "41219adc-aee2-4a83-ba54-7c1407084d85"
   },
   "outputs": [
    {
     "name": "stdout",
     "output_type": "stream",
     "text": [
      "total no. of words:  17405\n",
      "5 Most frequent words ['', '[UNK]', 'the', 'new', 'york']\n",
      "5 Least frequent words ['ehemalige', 'egyptology', 'egregious', 'egotism', 'egot']\n"
     ]
    }
   ],
   "source": [
    "# how many words are there\n",
    "total_title_words =  len(title_text_vectorizer.get_vocabulary())\n",
    "print('total no. of words: ', total_title_words)\n",
    "print('5 Most frequent words', title_text_vectorizer.get_vocabulary()[:5])\n",
    "print('5 Least frequent words', title_text_vectorizer.get_vocabulary()[-5:])"
   ]
  },
  {
   "cell_type": "code",
   "execution_count": 55,
   "metadata": {
    "colab": {
     "base_uri": "https://localhost:8080/"
    },
    "id": "Ir9sHImXkgx9",
    "outputId": "04ff13e6-cab5-44cb-8e8e-288f95eb80b6"
   },
   "outputs": [
    {
     "name": "stdout",
     "output_type": "stream",
     "text": [
      "Text:\n",
      "murderous hamas rejects trump classifying them as terrorists\n",
      "\n",
      "Length of text: 8\n",
      "\n",
      "Vectorized text:\n",
      "[[14581  3040  1521     9     1   169    23   541     0     0     0     0\n",
      "      0     0     0     0     0     0     0     0     0     0]]\n"
     ]
    }
   ],
   "source": [
    "# Test out text vectorizer\n",
    "import random\n",
    "target_title_sentence = random.choice(xtest.title.to_list())\n",
    "print(f\"Text:\\n{target_title_sentence}\")\n",
    "print(f\"\\nLength of text: {len(target_title_sentence.split())}\")\n",
    "print(f\"\\nVectorized text:\\n{title_text_vectorizer([target_title_sentence])}\")"
   ]
  },
  {
   "cell_type": "markdown",
   "metadata": {
    "id": "pP8YD35rXy9z"
   },
   "source": [
    "### VECTORIZER FOR TEXT\n"
   ]
  },
  {
   "cell_type": "code",
   "execution_count": 56,
   "metadata": {
    "id": "7mpKov53iUEk"
   },
   "outputs": [],
   "source": [
    "# VECTORIZER FOR TEXT\n",
    "text_text_vectorizer = TextVectorization(max_tokens=max_token_text, \n",
    "                                          output_sequence_length=output_sequence_len_text,\n",
    "                                          pad_to_max_tokens = True)"
   ]
  },
  {
   "cell_type": "markdown",
   "metadata": {
    "id": "Pq07Ix54XQX0"
   },
   "source": [
    "**Note:** Here instead of Directly adapting to a list of string, we will convert it into \n",
    "tf.data.dataset to overcome fitting it the memory problem. It crashed the system if used a list. while a tf.data adjust according to the memory."
   ]
  },
  {
   "cell_type": "code",
   "execution_count": 57,
   "metadata": {
    "colab": {
     "base_uri": "https://localhost:8080/"
    },
    "id": "KsLLNcSnjMKi",
    "outputId": "2aed2898-84ae-48be-e902-f1e094995ace"
   },
   "outputs": [
    {
     "name": "stdout",
     "output_type": "stream",
     "text": [
      "CPU times: user 12.7 s, sys: 440 ms, total: 13.2 s\n",
      "Wall time: 12.3 s\n"
     ]
    }
   ],
   "source": [
    "%%time\n",
    "# Adapt text vectorizer to training text\n",
    "train_text = tf.data.Dataset.from_tensor_slices(xtrain.text.to_list())\n",
    "text_text_vectorizer.adapt(train_text)"
   ]
  },
  {
   "cell_type": "code",
   "execution_count": 58,
   "metadata": {
    "colab": {
     "base_uri": "https://localhost:8080/"
    },
    "id": "EmobBWb7ln5v",
    "outputId": "829812d8-501a-4c18-c515-d262b33edd77"
   },
   "outputs": [
    {
     "name": "stdout",
     "output_type": "stream",
     "text": [
      "total no. of words:  40458\n",
      "5 Most frequent words ['', '[UNK]', 'the', 'to', 'of']\n",
      "5 Least frequent words ['sequestered', 'septuagenarian', 'septembre', 'sentinelese', 'sensuous']\n"
     ]
    }
   ],
   "source": [
    "# how many words are there\n",
    "total_text_words =  len(text_text_vectorizer.get_vocabulary())\n",
    "print('total no. of words: ', total_text_words)\n",
    "print('5 Most frequent words', text_text_vectorizer.get_vocabulary()[:5])\n",
    "print('5 Least frequent words', text_text_vectorizer.get_vocabulary()[-5:])"
   ]
  },
  {
   "cell_type": "markdown",
   "metadata": {
    "id": "Sv0mNOldl1Gv"
   },
   "source": [
    "As we have seen above there are low frequency words that do not need to tokenize\n",
    "as they occure less. so set max_token to less than actual unique words."
   ]
  },
  {
   "cell_type": "code",
   "execution_count": 59,
   "metadata": {
    "colab": {
     "base_uri": "https://localhost:8080/"
    },
    "id": "VQFaJIpnjMJF",
    "outputId": "42f3063d-f83a-4dce-d176-04439986e2d9"
   },
   "outputs": [
    {
     "name": "stdout",
     "output_type": "stream",
     "text": [
      "Text:\n",
      "massachusetts designated terrorist group cair demands synagogue cancel speakers who are pro israel anti islam the speakers include leading counter jihadists frank gaffney of investigative project on t\n",
      "\n",
      "Length of text: 86\n",
      "\n",
      "Vectorized text:\n",
      "[[3007 4880  870 ...    0    0    0]]\n"
     ]
    }
   ],
   "source": [
    "# Test out text vectorizer\n",
    "import random\n",
    "target_text_sentence = random.choice(xtest.text.to_list())\n",
    "print(f\"Text:\\n{target_text_sentence[:200]}\")\n",
    "print(f\"\\nLength of text: {len(target_text_sentence.split())}\")\n",
    "print(f\"\\nVectorized text:\\n{text_text_vectorizer([target_text_sentence])}\")"
   ]
  },
  {
   "cell_type": "code",
   "execution_count": 60,
   "metadata": {
    "id": "kEKa2Q5WXy90"
   },
   "outputs": [
    {
     "data": {
      "text/plain": [
       "<tf.Tensor: shape=(22,), dtype=int64, numpy=\n",
       "array([ 221, 5279,  591,   26,   35, 4618, 8912,   74,  502, 1031,    6,\n",
       "        172,  171,    0,    0,    0,    0,    0,    0,    0,    0,    0])>"
      ]
     },
     "execution_count": 60,
     "metadata": {},
     "output_type": "execute_result"
    }
   ],
   "source": [
    "## testing\n",
    "title_text_vectorizer('foreign sec britain will be perfectly ok if eu refuses to make deal')"
   ]
  },
  {
   "cell_type": "markdown",
   "metadata": {},
   "source": [
    "# Word embedding using GENSIM"
   ]
  },
  {
   "cell_type": "code",
   "execution_count": 61,
   "metadata": {},
   "outputs": [
    {
     "name": "stdout",
     "output_type": "stream",
     "text": [
      "xtrain:  (18182, 2)\n",
      "ytrain:  (18182,)\n",
      "xtest:  (2021, 2)\n",
      "ytest:  (2021,)\n"
     ]
    }
   ],
   "source": [
    "xtrain0, xtest0, ytrain0, ytest0 = train_test_split(data[['title', 'text']], data['label'], test_size = .1, random_state=3, stratify = data.label)\n",
    "\n",
    "print('xtrain: ', xtrain0.shape)\n",
    "print('ytrain: ', ytrain0.shape)\n",
    "print('xtest: ', xtest0.shape)\n",
    "print('ytest: ', ytest0.shape)"
   ]
  },
  {
   "cell_type": "markdown",
   "metadata": {},
   "source": [
    "Here we will be embedding the model on only text data because. the titles are mostly subset of the text corpus. Every word in titles comes form the text."
   ]
  },
  {
   "cell_type": "code",
   "execution_count": 62,
   "metadata": {},
   "outputs": [
    {
     "name": "stdout",
     "output_type": "stream",
     "text": [
      "20203\n"
     ]
    }
   ],
   "source": [
    "# create a list of lists of dataset\n",
    "x_texts = data.text.apply(lambda x: str(x).split()).to_list()\n",
    "print(len(x_texts))"
   ]
  },
  {
   "cell_type": "code",
   "execution_count": 63,
   "metadata": {},
   "outputs": [
    {
     "name": "stdout",
     "output_type": "stream",
     "text": [
      "['house', 'dem', 'aide', 'we', 'did', 'not', 'even', 'see', 'comey', 'letter', 'until', 'jason', 'chaffetz', 'tweeted', 'it', 'by', 'darrell', 'lucus', 'on', 'october']\n"
     ]
    }
   ],
   "source": [
    "print(x_texts[0][:20]) # there are alot of words, we will just see 20 for now"
   ]
  },
  {
   "cell_type": "code",
   "execution_count": 64,
   "metadata": {},
   "outputs": [],
   "source": [
    "DIM = 100\n",
    "gen_embedd_model = gensim.models.Word2Vec(sentences=x_texts, vector_size = DIM, window=5, min_count=2)"
   ]
  },
  {
   "cell_type": "code",
   "execution_count": 65,
   "metadata": {},
   "outputs": [
    {
     "data": {
      "text/plain": [
       "90545"
      ]
     },
     "execution_count": 65,
     "metadata": {},
     "output_type": "execute_result"
    }
   ],
   "source": [
    "len(gen_embedd_model.wv.key_to_index)"
   ]
  },
  {
   "cell_type": "code",
   "execution_count": 89,
   "metadata": {},
   "outputs": [
    {
     "data": {
      "text/plain": [
       "array([-1.11951959e+00,  4.08288062e-01, -6.09141827e-01,  6.13413036e-01,\n",
       "       -1.16627073e+00,  3.80208302e+00, -9.98876691e-01, -2.20454192e+00,\n",
       "        5.84824979e-01,  5.43815196e-01,  5.48457086e-01, -3.53820324e-02,\n",
       "        2.57762170e+00, -1.32984206e-01,  3.82571667e-02,  3.35341990e-01,\n",
       "        6.79754615e-02, -7.32453227e-01, -6.32285535e-01, -1.57051757e-01,\n",
       "       -1.95845112e-01,  6.05520904e-01, -1.81574094e+00,  4.20977741e-01,\n",
       "        8.06192577e-01, -1.36145309e-03,  1.73846364e+00,  1.81278393e-01,\n",
       "       -2.94419676e-02, -4.40703481e-01,  1.02515352e+00,  1.02539206e+00,\n",
       "       -1.08825363e-01, -2.32402638e-01,  2.15919685e+00, -1.95012999e+00,\n",
       "        1.53344169e-01, -1.21478386e-01,  9.75363910e-01,  9.27806020e-01,\n",
       "       -4.79756653e-01,  2.01201224e+00, -9.30773973e-01, -1.85682511e+00,\n",
       "       -1.82331252e+00,  1.10766625e+00,  9.41607868e-04,  1.49450397e+00,\n",
       "        9.63375866e-01, -3.92795444e-01,  2.49312967e-01,  9.96809721e-01,\n",
       "        9.44557846e-01, -1.14005737e-01, -1.36905599e+00,  1.12340048e-01,\n",
       "        7.95642376e-01, -5.12232445e-02, -5.61552584e-01,  6.76546097e-01,\n",
       "       -1.55422580e+00,  1.64945543e+00, -1.60218251e+00,  3.37711096e-01,\n",
       "        2.23395228e+00, -1.20698035e+00, -1.94676086e-01, -2.69085824e-01,\n",
       "        2.11006775e-01, -6.30627990e-01,  5.20266175e-01,  1.17858362e+00,\n",
       "        6.40477479e-01, -2.04605770e+00, -2.49775380e-01,  6.40876889e-01,\n",
       "       -6.31918013e-01, -1.16672039e-01, -2.75397360e-01,  7.79691577e-01,\n",
       "       -8.36092710e-01,  9.67390090e-02, -6.59026027e-01,  7.87537634e-01,\n",
       "        1.82943940e+00, -1.77913451e+00, -4.47948277e-01,  4.43342656e-01,\n",
       "       -7.79007494e-01,  8.15132082e-01, -9.26571608e-01,  1.77856870e-02,\n",
       "       -8.39996397e-01, -1.62150753e+00,  9.90139246e-01,  1.98334847e-02,\n",
       "       -1.35633695e+00, -2.32656926e-01, -4.02099311e-01,  1.29117107e+00],\n",
       "      dtype=float32)"
      ]
     },
     "execution_count": 89,
     "metadata": {},
     "output_type": "execute_result"
    }
   ],
   "source": [
    "gen_embedd_model.wv['the']"
   ]
  },
  {
   "cell_type": "code",
   "execution_count": 67,
   "metadata": {
    "scrolled": true
   },
   "outputs": [
    {
     "data": {
      "text/plain": [
       "[('japan', 0.8064728379249573),\n",
       " ('thailand', 0.7593681812286377),\n",
       " ('china', 0.7467932105064392),\n",
       " ('indonesia', 0.740390956401825),\n",
       " ('norway', 0.7370634078979492),\n",
       " ('asia', 0.7341105937957764),\n",
       " ('singapore', 0.7187834978103638),\n",
       " ('canada', 0.7107129096984863),\n",
       " ('mainland', 0.7026318907737732),\n",
       " ('australia', 0.7012481093406677)]"
      ]
     },
     "execution_count": 67,
     "metadata": {},
     "output_type": "execute_result"
    }
   ],
   "source": [
    "gen_embedd_model.wv.similar_by_word('india')"
   ]
  },
  {
   "cell_type": "markdown",
   "metadata": {},
   "source": [
    "Gensim model already give us adjusted embedding of word in dataset that do not need to retrain in over DL model."
   ]
  },
  {
   "cell_type": "markdown",
   "metadata": {
    "id": "cvV_hn97GmqD"
   },
   "source": [
    "# Word Embedding"
   ]
  },
  {
   "cell_type": "code",
   "execution_count": 68,
   "metadata": {
    "id": "7nOKht4HGmnO"
   },
   "outputs": [],
   "source": [
    "from tensorflow.keras.layers import Embedding"
   ]
  },
  {
   "cell_type": "markdown",
   "metadata": {
    "id": "_RbfOA38JrKh"
   },
   "source": [
    "### Text embedding"
   ]
  },
  {
   "cell_type": "code",
   "execution_count": 108,
   "metadata": {
    "colab": {
     "base_uri": "https://localhost:8080/"
    },
    "id": "AknweDF6GmgO",
    "outputId": "94057179-721a-4769-fc05-f14a72f2c8ee"
   },
   "outputs": [
    {
     "name": "stdout",
     "output_type": "stream",
     "text": [
      "40458\n"
     ]
    }
   ],
   "source": [
    "total_text_words =  len(text_text_vectorizer.get_vocabulary())\n",
    "print(total_text_words)"
   ]
  },
  {
   "cell_type": "code",
   "execution_count": 109,
   "metadata": {
    "id": "Y8UT_Yy_Gmcy"
   },
   "outputs": [],
   "source": [
    "def get_embedded_matrix(model, tokenizer):\n",
    "    total_words = len(tokenizer.get_vocabulary())\n",
    "    embed_matrix = np.zeros(shape = (total_words, DIM))\n",
    "    \n",
    "    for idx, word in enumerate(tokenizer.get_vocabulary()):\n",
    "#         print(idx, word)\n",
    "        if idx in [0,1]:  # because gensim embedding doesn't include `[UNK]` we have to leave it . \n",
    "            continue\n",
    "        else:\n",
    "            try:\n",
    "                embed_matrix[idx] = model.wv[word]\n",
    "            except KeyError:\n",
    "                embed_matrix[idx] = np.zeros(shape=(DIM,))\n",
    "    print('embed_matrix shape: ',embed_matrix.shape)\n",
    "    return embed_matrix\n",
    "        "
   ]
  },
  {
   "cell_type": "code",
   "execution_count": 110,
   "metadata": {},
   "outputs": [
    {
     "name": "stdout",
     "output_type": "stream",
     "text": [
      "embed_matrix shape:  (40458, 100)\n"
     ]
    }
   ],
   "source": [
    "text_embedded_matrix = get_embedded_matrix(gen_embedd_model, text_text_vectorizer)"
   ]
  },
  {
   "cell_type": "code",
   "execution_count": 111,
   "metadata": {},
   "outputs": [],
   "source": [
    "text_embedding_layer = layers.Embedding(input_dim = total_text_words,\n",
    "                           output_dim = DIM,\n",
    "                           mask_zero = True,\n",
    "                        weights= [text_embedded_matrix],\n",
    "                          input_length=output_sequence_len_text)"
   ]
  },
  {
   "cell_type": "code",
   "execution_count": 112,
   "metadata": {
    "colab": {
     "base_uri": "https://localhost:8080/"
    },
    "id": "_V_OraOkGmY7",
    "outputId": "6b75fe3b-be6c-402e-d94a-67ecc0c6a1af"
   },
   "outputs": [
    {
     "name": "stdout",
     "output_type": "stream",
     "text": [
      "sentence:  massachusetts designated terrorist group cair demands synagogue cancel speakers who are pro israel a\n",
      "sentence len:  530\n",
      "\n",
      "\n",
      "vectorized:  tf.Tensor([[3007 4880  870 ...    0    0    0]], shape=(1, 3967), dtype=int64)\n",
      "\n",
      "\n",
      "embedded shape (1, 3967, 100)\n",
      "embedded:  tf.Tensor(\n",
      "[[[ 0.81941324  0.34800145  0.91580766  0.14329071 -0.35246173]\n",
      "  [ 0.7246341   0.08278161  0.53863955  0.66494554 -0.37560084]\n",
      "  [ 0.2433218  -1.7522945  -1.5017047  -1.3736368  -0.9711291 ]\n",
      "  [-0.67829263  0.20899296  0.14515091 -1.4969027   0.2639953 ]\n",
      "  [-0.33987355  0.13173091  0.3204634  -0.37406555 -0.27725467]]], shape=(1, 5, 5), dtype=float32)\n"
     ]
    }
   ],
   "source": [
    "print('sentence: ', target_text_sentence[:100] ,end = '\\n')\n",
    "print('sentence len: ', len(target_text_sentence) ,end = '\\n')\n",
    "\n",
    "print('\\n')\n",
    "vectorized_sentence = text_text_vectorizer([target_text_sentence])\n",
    "print('vectorized: ', vectorized_sentence)\n",
    "print('\\n')\n",
    "embedded_sentence = text_embedding_layer(vectorized_sentence)\n",
    "print('embedded shape', embedded_sentence.shape)\n",
    "print('embedded: ', embedded_sentence[:,:5,:5]) #This is too long to print \n"
   ]
  },
  {
   "cell_type": "markdown",
   "metadata": {
    "id": "sDyU42mtJwDz"
   },
   "source": [
    "### Title Embedding"
   ]
  },
  {
   "cell_type": "code",
   "execution_count": 121,
   "metadata": {
    "colab": {
     "base_uri": "https://localhost:8080/"
    },
    "id": "2nHO5tlUIq1z",
    "outputId": "a54a05ad-c24a-43ec-95ac-b46a557a3316"
   },
   "outputs": [],
   "source": [
    "# total_title_words =  len(title_text_vectorizer.get_vocabulary())\n",
    "# print(total_title_words)"
   ]
  },
  {
   "cell_type": "code",
   "execution_count": 122,
   "metadata": {},
   "outputs": [],
   "source": [
    "# title_embedding_layer = layers.Embedding(input_dim = total_title_words,\n",
    "#                            output_dim = DIM,\n",
    "#                            mask_zero = True,\n",
    "#                         weights= [text_embedded_matrix],\n",
    "#                           input_length=output_sequence_len_title)"
   ]
  },
  {
   "cell_type": "code",
   "execution_count": 123,
   "metadata": {},
   "outputs": [],
   "source": [
    "# title_embedded_matrix = get_embedded_matrix(gen_embedd_model, title_text_vectorizer)"
   ]
  },
  {
   "cell_type": "code",
   "execution_count": 124,
   "metadata": {},
   "outputs": [],
   "source": [
    "# title_embedding_layer = layers.Embedding(input_dim = total_title_words,\n",
    "#                            output_dim = DIM,\n",
    "#                            mask_zero = True,\n",
    "#                             weights= [title_embedded_matrix],\n",
    "#                           input_length=output_sequence_len_title)"
   ]
  },
  {
   "cell_type": "code",
   "execution_count": 125,
   "metadata": {
    "colab": {
     "base_uri": "https://localhost:8080/"
    },
    "id": "FMvZxku8Gmhl",
    "outputId": "15422c91-411e-4eef-9758-972e6157af8a"
   },
   "outputs": [],
   "source": [
    "# print('sentence: ', target_title_sentence ,end = '\\n')\n",
    "# print('sentence len: ', len(target_title_sentence) ,end = '\\n')\n",
    "# print('\\n')\n",
    "# vectorized_sentence = title_text_vectorizer([target_title_sentence])\n",
    "# print('vectorized: ', vectorized_sentence)\n",
    "# print('\\n')\n",
    "# embedded_sentence = title_embedding_layer(vectorized_sentence)\n",
    "# print('embedded shape', embedded_sentence.shape)\n",
    "# print('embedded: ', embedded_sentence)\n"
   ]
  },
  {
   "cell_type": "markdown",
   "metadata": {
    "id": "ZDFXJJlqOjSa"
   },
   "source": [
    "# Creating `tf.Data`"
   ]
  },
  {
   "cell_type": "code",
   "execution_count": null,
   "metadata": {},
   "outputs": [],
   "source": [
    "here"
   ]
  },
  {
   "cell_type": "code",
   "execution_count": 166,
   "metadata": {},
   "outputs": [],
   "source": [
    "xtrain_texts = xtrain.text.apply(lambda x: str(x).split()).to_list()\n",
    "xtest_texts = xtest.text.apply(lambda x: str(x).split()).to_list()\n"
   ]
  },
  {
   "cell_type": "code",
   "execution_count": null,
   "metadata": {
    "id": "377zdUTkO20W"
   },
   "outputs": [],
   "source": [
    "# train tf.data\n",
    "train_title = tf.data.Dataset.from_tensor_slices(xtrain.title.to_list())\n",
    "train_text  = tf.data.Dataset.from_tensor_slices(xtrain_texts)\n",
    "train_label = tf.data.Dataset.from_tensor_slices(ytrain)\n",
    "\n",
    "# test tf.data\n",
    "test_title = tf.data.Dataset.from_tensor_slices(xtest.title.to_list())\n",
    "test_text  = tf.data.Dataset.from_tensor_slices(xtest_texts)\n",
    "test_label = tf.data.Dataset.from_tensor_slices(ytest)\n"
   ]
  },
  {
   "cell_type": "markdown",
   "metadata": {
    "id": "H9_cKUf0Xy92"
   },
   "source": [
    "## Title dataset"
   ]
  },
  {
   "cell_type": "code",
   "execution_count": 114,
   "metadata": {
    "id": "YGV_gFFOXy92"
   },
   "outputs": [],
   "source": [
    "train_title_dataset = tf.data.Dataset.zip((train_title, train_label))\n",
    "test_title_dataset  = tf.data.Dataset.zip((test_title, test_label))"
   ]
  },
  {
   "cell_type": "markdown",
   "metadata": {
    "id": "H9_cKUf0Xy92"
   },
   "source": [
    "## Text dataset"
   ]
  },
  {
   "cell_type": "code",
   "execution_count": 116,
   "metadata": {
    "id": "YGV_gFFOXy92"
   },
   "outputs": [],
   "source": [
    "train_text_dataset = tf.data.Dataset.zip((train_text, train_label))\n",
    "test_text_dataset  = tf.data.Dataset.zip((test_text, test_label))"
   ]
  },
  {
   "cell_type": "code",
   "execution_count": 137,
   "metadata": {},
   "outputs": [
    {
     "name": "stdout",
     "output_type": "stream",
     "text": [
      "<ZipDataset element_spec=(TensorSpec(shape=(), dtype=tf.string, name=None), TensorSpec(shape=(), dtype=tf.int64, name=None))>\n"
     ]
    }
   ],
   "source": [
    "print(train_text_dataset)"
   ]
  },
  {
   "cell_type": "markdown",
   "metadata": {
    "id": "qMxbjhUJXy92"
   },
   "source": [
    "## Title + Text dataset"
   ]
  },
  {
   "cell_type": "code",
   "execution_count": 115,
   "metadata": {
    "id": "pHuEe-WCXy92"
   },
   "outputs": [],
   "source": [
    "train_features = tf.data.Dataset.from_tensor_slices((xtrain.title.to_list(), xtrain.text.to_list()))\n",
    "train_dataset  = tf.data.Dataset.zip((train_features, train_label))\n",
    "\n",
    "test_features = tf.data.Dataset.from_tensor_slices((xtest.title.to_list(), xtest.text.to_list()))\n",
    "test_dataset  = tf.data.Dataset.zip((test_features, test_label))"
   ]
  },
  {
   "cell_type": "code",
   "execution_count": null,
   "metadata": {
    "id": "3bcZTNcQXy93"
   },
   "outputs": [],
   "source": []
  },
  {
   "cell_type": "code",
   "execution_count": 103,
   "metadata": {
    "id": "lMe0OSVDXy93",
    "outputId": "e2199294-794b-4ba4-ae19-9dd0d6f32548"
   },
   "outputs": [
    {
     "data": {
      "text/plain": [
       "{'accuracy': 86.7887184562098,\n",
       " 'precision': 0.8776860580323497,\n",
       " 'recall': 0.867887184562098,\n",
       " 'f1': 0.8666621593840541}"
      ]
     },
     "execution_count": 103,
     "metadata": {},
     "output_type": "execute_result"
    }
   ],
   "source": [
    "modela = Pipeline([\n",
    "    ('tfidf', TfidfVectorizer()),\n",
    "    ('clf', MultinomialNB())\n",
    "])\n",
    "\n",
    "#fit model\n",
    "modela.fit(xtrain.title.to_list(), ytrain)\n",
    "# model0.fit(sss, ytrain.to_list())\n",
    "ytruea = ytest.to_list()\n",
    "ypreda = model0.predict(xtest.title.to_list())\n",
    "\n",
    "calculate_results(ytruea, ypreda)"
   ]
  },
  {
   "cell_type": "code",
   "execution_count": 141,
   "metadata": {
    "colab": {
     "base_uri": "https://localhost:8080/"
    },
    "id": "qZ2G11cGSmbG",
    "outputId": "e4c7fcbb-f044-48ae-c28b-2271d9e9cd16",
    "scrolled": true
   },
   "outputs": [
    {
     "name": "stdout",
     "output_type": "stream",
     "text": [
      "tf.Tensor(b'former dea prescription head drops bombshell congress protects big pharma fuels opioid crisis source claire bernish congress would rather protect the profits of pharmaceutical companies than the health of those addicted to dangerous opioid drugs says former head of the dea responsible for preventing abuse of medications joseph rannazzisi former deputy assistant administrator at the s drug enforcement agency asserts big pharma and its lobbyists have stranglehold on legislators in congress and have engineered the protection of billion per year industry over the health of american citizens according to report from the guardian congress would rather listen to people who had profit motive rather than public health and safety motive he said according to the outlet as long as the industry has this stranglehold through lobbyists nothing going to change rannazzisi explained lobbyists have spent millions thwarting legislative and policy efforts to provide guidelines for reducing the prescribing of opioid medications closely related to heroin and helped limit the dea powers to discipline those who dispense unusually high dosages of the same pharmacist himself rannazzisi severely criticized lawmakers he claims hold double standard publicly vowing to combat the opioid epidemic while essentially working on behalf of pharmaceutical companies to ensure the industry profits these congressmen and senators who are using this because they are up for re election it has it is sham he told the guardian the congressmen and senators who are championing this fight the ones who really believe in what they are doing their voices are drowned out because the industry has too much influence with the unique insight of having been an insider rannazzisi excoriated the duplicity evidenced between legislators public lamentation of addiction and deaths from the opioid crisis during election years and private efforts to protect drugmakers from liability and he would know according to rannazzisi linkedin profile as chief of diversion he had been tasked with oversight and control of all regulatory compliance inspections and civil and criminal investigations of approximately million dea registrants but if the standards are lowered by congress to allow greater leeway in prescribing opioids the threshold of criminality is raised as the guardian points out legislation to fight the opioid epidemic comprehensive addiction and recovery act did in fact pass in july but partisan controversy erupted when republicans failed to provide funding to give the law sharp teeth democrats then issued report titled dying waiting for treatment in response which likened the republican response to the opioid crisis to using piece of chewing gum to patch cracked dam indeed the report sharply criticized the bill equating its policies to empty promises for the lack of financial follow through as the washington post detailed in report earlier this month the dea launched an aggressive campaign to rein in distribution of opioids by pharmaceutical manufacturers to illegal pill mills and corrupt pharmacies who cared little whether the drugs wound up on the streets headed by rannazzisi the office of diversion control sent investigators into the field and began issuing hefty fines and filing lawsuits against the distributors responsible for the proliferation of opioids on the streets but the disproportionately powerful pharmaceutical industry fearing potential significant loss in profits fought back hard according to the post the deputy attorney general summoned rannazzisi to meeting in concerning the cases of two unnamed major drug companies that meeting was to chastise me for going after industry and that has that is all that meeting was about the now retired dea official told the post then in came what constituted hand out to the pharmaceutical industry by the department of justice and congressional legislators the ensuring patient access and effective drug enforcement act legislation initiated by the healthcare distribution management association the industry group representing distributors at the heart of the controversy an analysis of lobbying records by the post found the healthcare distribution alliance spent million lobbying house and senate members and their staffs on the legislation and other issues between and rannazzisi argued his case to congressional staffers in phone conference in july and recalled telling them this bill passes the way it has it is written we will not be able to get immediate suspension orders we will not be able to stop the hemorrhaging of these drugs out of these bad pharmacies and these bad corporations stunned at the massive and ultimately successful effort to take the bite out of dea attempts to hold distributors and drugmakers responsible for their role in an epidemic estimated to take lives every year rannazzisi likened the legislation to free pass for legal drug pushers this does not ensure patient access and it does not help drug enforcement at all he told the guardian what this bill does has nothing to do with the medical process what this bill does is take away dea ability to go after pharmacist wholesaler manufacturer or distributor this was gift gift to the industry he added after heading the diversion office for decade rannazzisi retired in likely disgusted over legislators dedication to the legal drug industry rather than the people whose interests they are ostensibly obligated to protect the bill passed because big pharma wanted it to pass he told the guardian in no uncertain terms the dea is both an enforcement agency and regulatory agency when was in charge what tried to do was explain to my investigators and my agents that our job was to regulate the industry and they are not going to like being regulated big pharma relies overwhelmingly on lobbyists filling the coffers of politicians to ensure they ignore the crisis gripping the nation as the center for public integrity found the guardian noted purdue pharma at the heart of the epidemic for its highly addictive drug introduced in the late oxycontin spent breathtaking million in the last ten years on congressional lobbying efforts however big pharma power to influence policy and legislation extends far beyond simple but effective lobbying the government run interagency pain research coordinating committee iprcc has been accused by sen ron wyden of being tool to weaken cdc guidelines for limiting overprescribing of opioids wyden wrote to secretary of health and human services sylvia burwell of his concerns the iprcc had been staffed with experts with conflicts of interest for their close ties to big pharma including scientist with million endowment from purdue reported the guardian you ve got panel that has that is certainly got fair number of people that have vested interest in this problem of overprescribing that has that is something you have got to root out wyden asserted the role of the pharmaceutical companies on these advisory panels troubles me greatly science is getting short shrift compared to the political clout of these influential interests families of countless addicts and victims of the opioid industry would undoubtedly find the direct influence of big pharma pro opioid cash appalling yet it continues to this day policies and legislation have not yet been given the appropriate funding needed to effectively combat the problem which swirls out of control while politicians and drugmakers reap blood tainted profits corporations have no conscience rannazzisi flatly told the guardian unfortunately with my job was the guy who had to go out and talk to families that lost kids if one of those ceos went out there and talked to anybody or if one of those ceos happened to lose kid to this horrible horrible domestic tragedy we have d bet you they had they would change their mind when you sit with parent who cannot understand why there has there is so many pharmaceuticals out in the illicit marketplace and why is not the government doing anything well the dea was doing something unfortunately what we are trying to do is thwarted by people who are writing laws share this article ', shape=(), dtype=string) tf.Tensor(1, shape=(), dtype=int64)\n"
     ]
    }
   ],
   "source": [
    "# Visualizing the data\n",
    "for i,j in train_text_dataset.take(1):\n",
    "    print(i,j)\n",
    "    break"
   ]
  },
  {
   "cell_type": "code",
   "execution_count": 105,
   "metadata": {
    "id": "j2oDVex2Xy93"
   },
   "outputs": [],
   "source": [
    "BATCH_SIZE = 32"
   ]
  },
  {
   "cell_type": "code",
   "execution_count": 142,
   "metadata": {
    "id": "PGzTCzESO2tv"
   },
   "outputs": [],
   "source": [
    "# prefetching \n",
    "train_dataset = train_dataset.batch(BATCH_SIZE).prefetch(tf.data.AUTOTUNE)\n",
    "test_dataset = test_dataset.batch(BATCH_SIZE).prefetch(tf.data.AUTOTUNE)\n",
    "\n",
    "train_title_dataset = train_title_dataset.batch(BATCH_SIZE).prefetch(tf.data.AUTOTUNE)\n",
    "test_title_dataset = test_title_dataset.batch(BATCH_SIZE).prefetch(tf.data.AUTOTUNE)\n",
    "\n",
    "train_text_dataset = train_text_dataset.batch(BATCH_SIZE).prefetch(tf.data.AUTOTUNE)\n",
    "test_text_dataset = test_text_dataset.batch(BATCH_SIZE).prefetch(tf.data.AUTOTUNE)"
   ]
  },
  {
   "cell_type": "markdown",
   "metadata": {
    "id": "N5hquM68Xy93"
   },
   "source": [
    "# Model 1"
   ]
  },
  {
   "cell_type": "code",
   "execution_count": 162,
   "metadata": {},
   "outputs": [],
   "source": [
    "def line_breaker(x):\n",
    "# aa = tf.constant(ss)\n",
    "    return tf.strings.split(x)"
   ]
  },
  {
   "cell_type": "code",
   "execution_count": 164,
   "metadata": {},
   "outputs": [
    {
     "data": {
      "text/plain": [
       "<tf.Tensor: shape=(4,), dtype=string, numpy=array([b'this', b'is', b'a', b'string'], dtype=object)>"
      ]
     },
     "execution_count": 164,
     "metadata": {},
     "output_type": "execute_result"
    }
   ],
   "source": [
    "ss = 'this is a string'\n",
    "line_breaker(ss)"
   ]
  },
  {
   "cell_type": "code",
   "execution_count": 165,
   "metadata": {
    "id": "92p0eK7tXy94"
   },
   "outputs": [
    {
     "name": "stdout",
     "output_type": "stream",
     "text": [
      "Input shape:  (None, 1)\n"
     ]
    },
    {
     "ename": "TypeError",
     "evalue": "unsupported callable",
     "output_type": "error",
     "traceback": [
      "\u001b[0;31m---------------------------------------------------------------------------\u001b[0m",
      "\u001b[0;31mTypeError\u001b[0m                                 Traceback (most recent call last)",
      "File \u001b[0;32m~/miniconda3/envs/tf/lib/python3.10/inspect.py:1285\u001b[0m, in \u001b[0;36mgetfullargspec\u001b[0;34m(func)\u001b[0m\n\u001b[1;32m   1268\u001b[0m \u001b[38;5;28;01mtry\u001b[39;00m:\n\u001b[1;32m   1269\u001b[0m     \u001b[38;5;66;03m# Re: `skip_bound_arg=False`\u001b[39;00m\n\u001b[1;32m   1270\u001b[0m     \u001b[38;5;66;03m#\u001b[39;00m\n\u001b[0;32m   (...)\u001b[0m\n\u001b[1;32m   1282\u001b[0m     \u001b[38;5;66;03m# getfullargspec() historically ignored __wrapped__ attributes,\u001b[39;00m\n\u001b[1;32m   1283\u001b[0m     \u001b[38;5;66;03m# so we ensure that remains the case in 3.3+\u001b[39;00m\n\u001b[0;32m-> 1285\u001b[0m     sig \u001b[38;5;241m=\u001b[39m \u001b[43m_signature_from_callable\u001b[49m\u001b[43m(\u001b[49m\u001b[43mfunc\u001b[49m\u001b[43m,\u001b[49m\n\u001b[1;32m   1286\u001b[0m \u001b[43m                                   \u001b[49m\u001b[43mfollow_wrapper_chains\u001b[49m\u001b[38;5;241;43m=\u001b[39;49m\u001b[38;5;28;43;01mFalse\u001b[39;49;00m\u001b[43m,\u001b[49m\n\u001b[1;32m   1287\u001b[0m \u001b[43m                                   \u001b[49m\u001b[43mskip_bound_arg\u001b[49m\u001b[38;5;241;43m=\u001b[39;49m\u001b[38;5;28;43;01mFalse\u001b[39;49;00m\u001b[43m,\u001b[49m\n\u001b[1;32m   1288\u001b[0m \u001b[43m                                   \u001b[49m\u001b[43msigcls\u001b[49m\u001b[38;5;241;43m=\u001b[39;49m\u001b[43mSignature\u001b[49m\u001b[43m,\u001b[49m\n\u001b[1;32m   1289\u001b[0m \u001b[43m                                   \u001b[49m\u001b[43meval_str\u001b[49m\u001b[38;5;241;43m=\u001b[39;49m\u001b[38;5;28;43;01mFalse\u001b[39;49;00m\u001b[43m)\u001b[49m\n\u001b[1;32m   1290\u001b[0m \u001b[38;5;28;01mexcept\u001b[39;00m \u001b[38;5;167;01mException\u001b[39;00m \u001b[38;5;28;01mas\u001b[39;00m ex:\n\u001b[1;32m   1291\u001b[0m     \u001b[38;5;66;03m# Most of the times 'signature' will raise ValueError.\u001b[39;00m\n\u001b[1;32m   1292\u001b[0m     \u001b[38;5;66;03m# But, it can also raise AttributeError, and, maybe something\u001b[39;00m\n\u001b[1;32m   1293\u001b[0m     \u001b[38;5;66;03m# else. So to be fully backwards compatible, we catch all\u001b[39;00m\n\u001b[1;32m   1294\u001b[0m     \u001b[38;5;66;03m# possible exceptions here, and reraise a TypeError.\u001b[39;00m\n",
      "File \u001b[0;32m~/miniconda3/envs/tf/lib/python3.10/inspect.py:2392\u001b[0m, in \u001b[0;36m_signature_from_callable\u001b[0;34m(obj, follow_wrapper_chains, skip_bound_arg, globals, locals, eval_str, sigcls)\u001b[0m\n\u001b[1;32m   2391\u001b[0m \u001b[38;5;28;01mif\u001b[39;00m \u001b[38;5;129;01mnot\u001b[39;00m callable(obj):\n\u001b[0;32m-> 2392\u001b[0m     \u001b[38;5;28;01mraise\u001b[39;00m \u001b[38;5;167;01mTypeError\u001b[39;00m(\u001b[38;5;124m'\u001b[39m\u001b[38;5;132;01m{!r}\u001b[39;00m\u001b[38;5;124m is not a callable object\u001b[39m\u001b[38;5;124m'\u001b[39m\u001b[38;5;241m.\u001b[39mformat(obj))\n\u001b[1;32m   2394\u001b[0m \u001b[38;5;28;01mif\u001b[39;00m \u001b[38;5;28misinstance\u001b[39m(obj, types\u001b[38;5;241m.\u001b[39mMethodType):\n\u001b[1;32m   2395\u001b[0m     \u001b[38;5;66;03m# In this case we skip the first parameter of the underlying\u001b[39;00m\n\u001b[1;32m   2396\u001b[0m     \u001b[38;5;66;03m# function (usually `self` or `cls`).\u001b[39;00m\n",
      "\u001b[0;31mTypeError\u001b[0m: <KerasTensor: type_spec=RaggedTensorSpec(TensorShape([1, 1, None]), tf.string, 2, tf.int64) (created by layer 'tf.strings.split')> is not a callable object",
      "\nThe above exception was the direct cause of the following exception:\n",
      "\u001b[0;31mTypeError\u001b[0m                                 Traceback (most recent call last)",
      "Input \u001b[0;32mIn [165]\u001b[0m, in \u001b[0;36m<cell line: 7>\u001b[0;34m()\u001b[0m\n\u001b[1;32m      2\u001b[0m \u001b[38;5;28mprint\u001b[39m(\u001b[38;5;124m'\u001b[39m\u001b[38;5;124mInput shape: \u001b[39m\u001b[38;5;124m'\u001b[39m,input1\u001b[38;5;241m.\u001b[39mshape)\n\u001b[1;32m      4\u001b[0m \u001b[38;5;66;03m# tokenize = text_text_vectorizer(input1)\u001b[39;00m\n\u001b[1;32m      5\u001b[0m \u001b[38;5;66;03m# print('tokenize shape: ', tokenize.shape)\u001b[39;00m\n\u001b[0;32m----> 7\u001b[0m x \u001b[38;5;241m=\u001b[39m \u001b[43mlayers\u001b[49m\u001b[38;5;241;43m.\u001b[39;49m\u001b[43mLambda\u001b[49m\u001b[43m(\u001b[49m\u001b[43mtf\u001b[49m\u001b[38;5;241;43m.\u001b[39;49m\u001b[43mstrings\u001b[49m\u001b[38;5;241;43m.\u001b[39;49m\u001b[43msplit\u001b[49m\u001b[43m(\u001b[49m\u001b[43minput1\u001b[49m\u001b[43m)\u001b[49m\u001b[43m)\u001b[49m\n\u001b[1;32m      9\u001b[0m embedd \u001b[38;5;241m=\u001b[39m text_embedding_layer(x)\n\u001b[1;32m     10\u001b[0m \u001b[38;5;28mprint\u001b[39m(\u001b[38;5;124m'\u001b[39m\u001b[38;5;124membedded shape: \u001b[39m\u001b[38;5;124m'\u001b[39m,embedd\u001b[38;5;241m.\u001b[39mshape)\n",
      "File \u001b[0;32m~/miniconda3/envs/tf/lib/python3.10/site-packages/tensorflow/python/trackable/base.py:205\u001b[0m, in \u001b[0;36mno_automatic_dependency_tracking.<locals>._method_wrapper\u001b[0;34m(self, *args, **kwargs)\u001b[0m\n\u001b[1;32m    203\u001b[0m \u001b[38;5;28mself\u001b[39m\u001b[38;5;241m.\u001b[39m_self_setattr_tracking \u001b[38;5;241m=\u001b[39m \u001b[38;5;28;01mFalse\u001b[39;00m  \u001b[38;5;66;03m# pylint: disable=protected-access\u001b[39;00m\n\u001b[1;32m    204\u001b[0m \u001b[38;5;28;01mtry\u001b[39;00m:\n\u001b[0;32m--> 205\u001b[0m   result \u001b[38;5;241m=\u001b[39m \u001b[43mmethod\u001b[49m\u001b[43m(\u001b[49m\u001b[38;5;28;43mself\u001b[39;49m\u001b[43m,\u001b[49m\u001b[43m \u001b[49m\u001b[38;5;241;43m*\u001b[39;49m\u001b[43margs\u001b[49m\u001b[43m,\u001b[49m\u001b[43m \u001b[49m\u001b[38;5;241;43m*\u001b[39;49m\u001b[38;5;241;43m*\u001b[39;49m\u001b[43mkwargs\u001b[49m\u001b[43m)\u001b[49m\n\u001b[1;32m    206\u001b[0m \u001b[38;5;28;01mfinally\u001b[39;00m:\n\u001b[1;32m    207\u001b[0m   \u001b[38;5;28mself\u001b[39m\u001b[38;5;241m.\u001b[39m_self_setattr_tracking \u001b[38;5;241m=\u001b[39m previous_value  \u001b[38;5;66;03m# pylint: disable=protected-access\u001b[39;00m\n",
      "File \u001b[0;32m~/miniconda3/envs/tf/lib/python3.10/site-packages/keras/layers/core/lambda_layer.py:148\u001b[0m, in \u001b[0;36mLambda.__init__\u001b[0;34m(self, function, output_shape, mask, arguments, **kwargs)\u001b[0m\n\u001b[1;32m    145\u001b[0m \u001b[38;5;66;03m# Warning on every invocation will be quite irksome in Eager mode.\u001b[39;00m\n\u001b[1;32m    146\u001b[0m \u001b[38;5;28mself\u001b[39m\u001b[38;5;241m.\u001b[39m_already_warned \u001b[38;5;241m=\u001b[39m \u001b[38;5;28;01mFalse\u001b[39;00m\n\u001b[0;32m--> 148\u001b[0m function_args \u001b[38;5;241m=\u001b[39m \u001b[43mtf_inspect\u001b[49m\u001b[38;5;241;43m.\u001b[39;49m\u001b[43mgetfullargspec\u001b[49m\u001b[43m(\u001b[49m\u001b[43mfunction\u001b[49m\u001b[43m)\u001b[49m\u001b[38;5;241m.\u001b[39margs\n\u001b[1;32m    149\u001b[0m \u001b[38;5;28mself\u001b[39m\u001b[38;5;241m.\u001b[39m_fn_expects_training_arg \u001b[38;5;241m=\u001b[39m \u001b[38;5;124m\"\u001b[39m\u001b[38;5;124mtraining\u001b[39m\u001b[38;5;124m\"\u001b[39m \u001b[38;5;129;01min\u001b[39;00m function_args\n\u001b[1;32m    150\u001b[0m \u001b[38;5;28mself\u001b[39m\u001b[38;5;241m.\u001b[39m_fn_expects_mask_arg \u001b[38;5;241m=\u001b[39m \u001b[38;5;124m\"\u001b[39m\u001b[38;5;124mmask\u001b[39m\u001b[38;5;124m\"\u001b[39m \u001b[38;5;129;01min\u001b[39;00m function_args\n",
      "File \u001b[0;32m~/miniconda3/envs/tf/lib/python3.10/site-packages/keras/utils/tf_inspect.py:276\u001b[0m, in \u001b[0;36mgetfullargspec\u001b[0;34m(obj)\u001b[0m\n\u001b[1;32m    274\u001b[0m     \u001b[38;5;28;01mif\u001b[39;00m d\u001b[38;5;241m.\u001b[39mdecorator_argspec \u001b[38;5;129;01mis\u001b[39;00m \u001b[38;5;129;01mnot\u001b[39;00m \u001b[38;5;28;01mNone\u001b[39;00m:\n\u001b[1;32m    275\u001b[0m         \u001b[38;5;28;01mreturn\u001b[39;00m _convert_maybe_argspec_to_fullargspec(d\u001b[38;5;241m.\u001b[39mdecorator_argspec)\n\u001b[0;32m--> 276\u001b[0m \u001b[38;5;28;01mreturn\u001b[39;00m \u001b[43m_getfullargspec\u001b[49m\u001b[43m(\u001b[49m\u001b[43mtarget\u001b[49m\u001b[43m)\u001b[49m\n",
      "File \u001b[0;32m~/miniconda3/envs/tf/lib/python3.10/inspect.py:1295\u001b[0m, in \u001b[0;36mgetfullargspec\u001b[0;34m(func)\u001b[0m\n\u001b[1;32m   1285\u001b[0m     sig \u001b[38;5;241m=\u001b[39m _signature_from_callable(func,\n\u001b[1;32m   1286\u001b[0m                                    follow_wrapper_chains\u001b[38;5;241m=\u001b[39m\u001b[38;5;28;01mFalse\u001b[39;00m,\n\u001b[1;32m   1287\u001b[0m                                    skip_bound_arg\u001b[38;5;241m=\u001b[39m\u001b[38;5;28;01mFalse\u001b[39;00m,\n\u001b[1;32m   1288\u001b[0m                                    sigcls\u001b[38;5;241m=\u001b[39mSignature,\n\u001b[1;32m   1289\u001b[0m                                    eval_str\u001b[38;5;241m=\u001b[39m\u001b[38;5;28;01mFalse\u001b[39;00m)\n\u001b[1;32m   1290\u001b[0m \u001b[38;5;28;01mexcept\u001b[39;00m \u001b[38;5;167;01mException\u001b[39;00m \u001b[38;5;28;01mas\u001b[39;00m ex:\n\u001b[1;32m   1291\u001b[0m     \u001b[38;5;66;03m# Most of the times 'signature' will raise ValueError.\u001b[39;00m\n\u001b[1;32m   1292\u001b[0m     \u001b[38;5;66;03m# But, it can also raise AttributeError, and, maybe something\u001b[39;00m\n\u001b[1;32m   1293\u001b[0m     \u001b[38;5;66;03m# else. So to be fully backwards compatible, we catch all\u001b[39;00m\n\u001b[1;32m   1294\u001b[0m     \u001b[38;5;66;03m# possible exceptions here, and reraise a TypeError.\u001b[39;00m\n\u001b[0;32m-> 1295\u001b[0m     \u001b[38;5;28;01mraise\u001b[39;00m \u001b[38;5;167;01mTypeError\u001b[39;00m(\u001b[38;5;124m'\u001b[39m\u001b[38;5;124munsupported callable\u001b[39m\u001b[38;5;124m'\u001b[39m) \u001b[38;5;28;01mfrom\u001b[39;00m \u001b[38;5;21;01mex\u001b[39;00m\n\u001b[1;32m   1297\u001b[0m args \u001b[38;5;241m=\u001b[39m []\n\u001b[1;32m   1298\u001b[0m varargs \u001b[38;5;241m=\u001b[39m \u001b[38;5;28;01mNone\u001b[39;00m\n",
      "\u001b[0;31mTypeError\u001b[0m: unsupported callable"
     ]
    }
   ],
   "source": [
    "input1 = keras.Input(shape = (1), dtype = tf.string)\n",
    "print('Input shape: ',input1.shape)\n",
    "\n",
    "# tokenize = text_text_vectorizer(input1)\n",
    "# print('tokenize shape: ', tokenize.shape)\n",
    "\n",
    "x = layers.Lambda(tf.strings.split(input1))\n",
    "\n",
    "embedd = text_embedding_layer(x)\n",
    "print('embedded shape: ',embedd.shape)\n",
    "\n",
    "# a conv1d layer\n",
    "x = layers.Conv1D(32, 5, 1, activation='relu')(embedd)\n",
    "x = layers.Dropout(.3)(x)\n",
    "x = layers.Dense(32, activation='relu')(x)\n",
    "output1 = layers.Dense(1, activation='relu')(x)\n",
    "\n",
    "#compile\n",
    "model1 = keras.Model(inputs = input1, outputs = output1)\n",
    "\n",
    "# model1 = keras.Sequential()\n",
    "# model1.add(keras.Input(shape = (1,), dtype = tf.string))\n",
    "# model1.add(text_text_vectorizer)\n",
    "# model1.add(text_embedding_layer)\n",
    "# model1.add(layers.Conv1D(32, 5, 1, activation='relu'))\n",
    "# # model1.add(layers.Dropout(.3))\n",
    "# model1.add(layers.Dense(32, activation='relu'))\n",
    "# model1.add(layers.Dense(1))\n",
    "\n",
    "#compile\n",
    "model1.compile(loss = tf.keras.losses.BinaryCrossentropy(),\n",
    "              optimizer = tf.keras.optimizers.Adam(learning_rate = .00001),\n",
    "              metrics = ['accuracy'])"
   ]
  },
  {
   "cell_type": "code",
   "execution_count": null,
   "metadata": {
    "id": "5LAteMQPXy94",
    "outputId": "73303883-30bc-4de9-81ba-d614bbfb5185"
   },
   "outputs": [],
   "source": [
    "EPOCHS = 50\n",
    "print(int(.9* (len(train_text_dataset)/EPOCHS)))\n",
    "print(len(train_text_dataset))"
   ]
  },
  {
   "cell_type": "code",
   "execution_count": 145,
   "metadata": {
    "id": "jZRz9ws1Xy94",
    "outputId": "44000ff9-6422-45e9-f3af-804385e241a9",
    "scrolled": true
   },
   "outputs": [
    {
     "name": "stdout",
     "output_type": "stream",
     "text": [
      "Saving TensorBoard log files to: tb/model1/20221111-133038\n",
      "Epoch 1/50\n",
      "10/10 [==============================] - 6s 541ms/step - loss: 4.7357 - accuracy: 0.5278 - val_loss: 4.1200 - val_accuracy: 0.5311\n",
      "Epoch 2/50\n",
      "10/10 [==============================] - 4s 450ms/step - loss: 3.8797 - accuracy: 0.5371 - val_loss: 3.9093 - val_accuracy: 0.5311\n",
      "Epoch 3/50\n",
      "10/10 [==============================] - 4s 451ms/step - loss: 3.9776 - accuracy: 0.5061 - val_loss: 3.8029 - val_accuracy: 0.5311\n",
      "Epoch 4/50\n",
      "10/10 [==============================] - 4s 443ms/step - loss: 4.2012 - accuracy: 0.4721 - val_loss: 3.7312 - val_accuracy: 0.5311\n",
      "Epoch 5/50\n",
      "10/10 [==============================] - 4s 437ms/step - loss: 3.4152 - accuracy: 0.5648 - val_loss: 3.6774 - val_accuracy: 0.5311\n",
      "Epoch 6/50\n",
      "10/10 [==============================] - 4s 440ms/step - loss: 3.8239 - accuracy: 0.5030 - val_loss: 3.6341 - val_accuracy: 0.5311\n",
      "Epoch 7/50\n",
      "10/10 [==============================] - 5s 464ms/step - loss: 3.6881 - accuracy: 0.5154 - val_loss: 3.5956 - val_accuracy: 0.5311\n",
      "Epoch 8/50\n",
      "10/10 [==============================] - 4s 444ms/step - loss: 3.8653 - accuracy: 0.4845 - val_loss: 3.5616 - val_accuracy: 0.5311\n",
      "Epoch 9/50\n",
      "10/10 [==============================] - 5s 466ms/step - loss: 3.7132 - accuracy: 0.4938 - val_loss: 3.5284 - val_accuracy: 0.5311\n",
      "Epoch 10/50\n",
      "10/10 [==============================] - 5s 462ms/step - loss: 3.2221 - accuracy: 0.5710 - val_loss: 3.5018 - val_accuracy: 0.5311\n",
      "Epoch 11/50\n",
      " 6/10 [=================>............] - ETA: 1s - loss: 3.6755 - accuracy: 0.4948"
     ]
    },
    {
     "ename": "KeyboardInterrupt",
     "evalue": "",
     "output_type": "error",
     "traceback": [
      "\u001b[0;31m---------------------------------------------------------------------------\u001b[0m",
      "\u001b[0;31mKeyboardInterrupt\u001b[0m                         Traceback (most recent call last)",
      "Input \u001b[0;32mIn [145]\u001b[0m, in \u001b[0;36m<cell line: 1>\u001b[0;34m()\u001b[0m\n\u001b[0;32m----> 1\u001b[0m hist1 \u001b[38;5;241m=\u001b[39m \u001b[43mmodel1\u001b[49m\u001b[38;5;241;43m.\u001b[39;49m\u001b[43mfit\u001b[49m\u001b[43m(\u001b[49m\u001b[43mtrain_text_dataset\u001b[49m\u001b[43m,\u001b[49m\u001b[43m \u001b[49m\u001b[43mepochs\u001b[49m\u001b[43m \u001b[49m\u001b[38;5;241;43m=\u001b[39;49m\u001b[43m \u001b[49m\u001b[43mEPOCHS\u001b[49m\u001b[43m,\u001b[49m\n\u001b[1;32m      2\u001b[0m \u001b[38;5;66;43;03m#                       steps_per_epoch = int(.9* (len(train_title_dataset)/EPOCHS)),\u001b[39;49;00m\n\u001b[1;32m      3\u001b[0m \u001b[43m                   \u001b[49m\u001b[43msteps_per_epoch\u001b[49m\u001b[43m \u001b[49m\u001b[38;5;241;43m=\u001b[39;49m\u001b[43m \u001b[49m\u001b[38;5;241;43m10\u001b[39;49m\u001b[43m,\u001b[49m\u001b[43m   \u001b[49m\n\u001b[1;32m      4\u001b[0m \u001b[43m                   \u001b[49m\u001b[43mvalidation_steps\u001b[49m\u001b[43m \u001b[49m\u001b[38;5;241;43m=\u001b[39;49m\u001b[43m \u001b[49m\u001b[38;5;28;43mint\u001b[39;49m\u001b[43m(\u001b[49m\u001b[38;5;241;43m.2\u001b[39;49m\u001b[38;5;241;43m*\u001b[39;49m\u001b[43m \u001b[49m\u001b[43m(\u001b[49m\u001b[38;5;28;43mlen\u001b[39;49m\u001b[43m(\u001b[49m\u001b[43mtrain_text_dataset\u001b[49m\u001b[43m)\u001b[49m\u001b[38;5;241;43m/\u001b[39;49m\u001b[43mEPOCHS\u001b[49m\u001b[43m)\u001b[49m\u001b[43m)\u001b[49m\u001b[43m,\u001b[49m\n\u001b[1;32m      5\u001b[0m \u001b[43m                      \u001b[49m\u001b[43mvalidation_data\u001b[49m\u001b[38;5;241;43m=\u001b[39;49m\u001b[43mtest_text_dataset\u001b[49m\u001b[43m,\u001b[49m\n\u001b[1;32m      6\u001b[0m \u001b[43m                      \u001b[49m\u001b[43mcallbacks\u001b[49m\u001b[43m \u001b[49m\u001b[38;5;241;43m=\u001b[39;49m\u001b[43m \u001b[49m\u001b[43m[\u001b[49m\u001b[43mcreate_tensorboard_callback\u001b[49m\u001b[43m(\u001b[49m\u001b[38;5;124;43m'\u001b[39;49m\u001b[38;5;124;43mtb\u001b[39;49m\u001b[38;5;124;43m'\u001b[39;49m\u001b[43m,\u001b[49m\u001b[38;5;124;43m'\u001b[39;49m\u001b[38;5;124;43mmodel1\u001b[39;49m\u001b[38;5;124;43m'\u001b[39;49m\u001b[43m)\u001b[49m\u001b[43m]\u001b[49m\n\u001b[1;32m      7\u001b[0m \u001b[43m                    \u001b[49m\u001b[43m)\u001b[49m\n",
      "File \u001b[0;32m~/miniconda3/envs/tf/lib/python3.10/site-packages/keras/utils/traceback_utils.py:65\u001b[0m, in \u001b[0;36mfilter_traceback.<locals>.error_handler\u001b[0;34m(*args, **kwargs)\u001b[0m\n\u001b[1;32m     63\u001b[0m filtered_tb \u001b[38;5;241m=\u001b[39m \u001b[38;5;28;01mNone\u001b[39;00m\n\u001b[1;32m     64\u001b[0m \u001b[38;5;28;01mtry\u001b[39;00m:\n\u001b[0;32m---> 65\u001b[0m     \u001b[38;5;28;01mreturn\u001b[39;00m \u001b[43mfn\u001b[49m\u001b[43m(\u001b[49m\u001b[38;5;241;43m*\u001b[39;49m\u001b[43margs\u001b[49m\u001b[43m,\u001b[49m\u001b[43m \u001b[49m\u001b[38;5;241;43m*\u001b[39;49m\u001b[38;5;241;43m*\u001b[39;49m\u001b[43mkwargs\u001b[49m\u001b[43m)\u001b[49m\n\u001b[1;32m     66\u001b[0m \u001b[38;5;28;01mexcept\u001b[39;00m \u001b[38;5;167;01mException\u001b[39;00m \u001b[38;5;28;01mas\u001b[39;00m e:\n\u001b[1;32m     67\u001b[0m     filtered_tb \u001b[38;5;241m=\u001b[39m _process_traceback_frames(e\u001b[38;5;241m.\u001b[39m__traceback__)\n",
      "File \u001b[0;32m~/miniconda3/envs/tf/lib/python3.10/site-packages/keras/engine/training.py:1564\u001b[0m, in \u001b[0;36mModel.fit\u001b[0;34m(self, x, y, batch_size, epochs, verbose, callbacks, validation_split, validation_data, shuffle, class_weight, sample_weight, initial_epoch, steps_per_epoch, validation_steps, validation_batch_size, validation_freq, max_queue_size, workers, use_multiprocessing)\u001b[0m\n\u001b[1;32m   1556\u001b[0m \u001b[38;5;28;01mwith\u001b[39;00m tf\u001b[38;5;241m.\u001b[39mprofiler\u001b[38;5;241m.\u001b[39mexperimental\u001b[38;5;241m.\u001b[39mTrace(\n\u001b[1;32m   1557\u001b[0m     \u001b[38;5;124m\"\u001b[39m\u001b[38;5;124mtrain\u001b[39m\u001b[38;5;124m\"\u001b[39m,\n\u001b[1;32m   1558\u001b[0m     epoch_num\u001b[38;5;241m=\u001b[39mepoch,\n\u001b[0;32m   (...)\u001b[0m\n\u001b[1;32m   1561\u001b[0m     _r\u001b[38;5;241m=\u001b[39m\u001b[38;5;241m1\u001b[39m,\n\u001b[1;32m   1562\u001b[0m ):\n\u001b[1;32m   1563\u001b[0m     callbacks\u001b[38;5;241m.\u001b[39mon_train_batch_begin(step)\n\u001b[0;32m-> 1564\u001b[0m     tmp_logs \u001b[38;5;241m=\u001b[39m \u001b[38;5;28;43mself\u001b[39;49m\u001b[38;5;241;43m.\u001b[39;49m\u001b[43mtrain_function\u001b[49m\u001b[43m(\u001b[49m\u001b[43miterator\u001b[49m\u001b[43m)\u001b[49m\n\u001b[1;32m   1565\u001b[0m     \u001b[38;5;28;01mif\u001b[39;00m data_handler\u001b[38;5;241m.\u001b[39mshould_sync:\n\u001b[1;32m   1566\u001b[0m         context\u001b[38;5;241m.\u001b[39masync_wait()\n",
      "File \u001b[0;32m~/miniconda3/envs/tf/lib/python3.10/site-packages/tensorflow/python/util/traceback_utils.py:150\u001b[0m, in \u001b[0;36mfilter_traceback.<locals>.error_handler\u001b[0;34m(*args, **kwargs)\u001b[0m\n\u001b[1;32m    148\u001b[0m filtered_tb \u001b[38;5;241m=\u001b[39m \u001b[38;5;28;01mNone\u001b[39;00m\n\u001b[1;32m    149\u001b[0m \u001b[38;5;28;01mtry\u001b[39;00m:\n\u001b[0;32m--> 150\u001b[0m   \u001b[38;5;28;01mreturn\u001b[39;00m \u001b[43mfn\u001b[49m\u001b[43m(\u001b[49m\u001b[38;5;241;43m*\u001b[39;49m\u001b[43margs\u001b[49m\u001b[43m,\u001b[49m\u001b[43m \u001b[49m\u001b[38;5;241;43m*\u001b[39;49m\u001b[38;5;241;43m*\u001b[39;49m\u001b[43mkwargs\u001b[49m\u001b[43m)\u001b[49m\n\u001b[1;32m    151\u001b[0m \u001b[38;5;28;01mexcept\u001b[39;00m \u001b[38;5;167;01mException\u001b[39;00m \u001b[38;5;28;01mas\u001b[39;00m e:\n\u001b[1;32m    152\u001b[0m   filtered_tb \u001b[38;5;241m=\u001b[39m _process_traceback_frames(e\u001b[38;5;241m.\u001b[39m__traceback__)\n",
      "File \u001b[0;32m~/miniconda3/envs/tf/lib/python3.10/site-packages/tensorflow/python/eager/def_function.py:915\u001b[0m, in \u001b[0;36mFunction.__call__\u001b[0;34m(self, *args, **kwds)\u001b[0m\n\u001b[1;32m    912\u001b[0m compiler \u001b[38;5;241m=\u001b[39m \u001b[38;5;124m\"\u001b[39m\u001b[38;5;124mxla\u001b[39m\u001b[38;5;124m\"\u001b[39m \u001b[38;5;28;01mif\u001b[39;00m \u001b[38;5;28mself\u001b[39m\u001b[38;5;241m.\u001b[39m_jit_compile \u001b[38;5;28;01melse\u001b[39;00m \u001b[38;5;124m\"\u001b[39m\u001b[38;5;124mnonXla\u001b[39m\u001b[38;5;124m\"\u001b[39m\n\u001b[1;32m    914\u001b[0m \u001b[38;5;28;01mwith\u001b[39;00m OptionalXlaContext(\u001b[38;5;28mself\u001b[39m\u001b[38;5;241m.\u001b[39m_jit_compile):\n\u001b[0;32m--> 915\u001b[0m   result \u001b[38;5;241m=\u001b[39m \u001b[38;5;28;43mself\u001b[39;49m\u001b[38;5;241;43m.\u001b[39;49m\u001b[43m_call\u001b[49m\u001b[43m(\u001b[49m\u001b[38;5;241;43m*\u001b[39;49m\u001b[43margs\u001b[49m\u001b[43m,\u001b[49m\u001b[43m \u001b[49m\u001b[38;5;241;43m*\u001b[39;49m\u001b[38;5;241;43m*\u001b[39;49m\u001b[43mkwds\u001b[49m\u001b[43m)\u001b[49m\n\u001b[1;32m    917\u001b[0m new_tracing_count \u001b[38;5;241m=\u001b[39m \u001b[38;5;28mself\u001b[39m\u001b[38;5;241m.\u001b[39mexperimental_get_tracing_count()\n\u001b[1;32m    918\u001b[0m without_tracing \u001b[38;5;241m=\u001b[39m (tracing_count \u001b[38;5;241m==\u001b[39m new_tracing_count)\n",
      "File \u001b[0;32m~/miniconda3/envs/tf/lib/python3.10/site-packages/tensorflow/python/eager/def_function.py:947\u001b[0m, in \u001b[0;36mFunction._call\u001b[0;34m(self, *args, **kwds)\u001b[0m\n\u001b[1;32m    944\u001b[0m   \u001b[38;5;28mself\u001b[39m\u001b[38;5;241m.\u001b[39m_lock\u001b[38;5;241m.\u001b[39mrelease()\n\u001b[1;32m    945\u001b[0m   \u001b[38;5;66;03m# In this case we have created variables on the first call, so we run the\u001b[39;00m\n\u001b[1;32m    946\u001b[0m   \u001b[38;5;66;03m# defunned version which is guaranteed to never create variables.\u001b[39;00m\n\u001b[0;32m--> 947\u001b[0m   \u001b[38;5;28;01mreturn\u001b[39;00m \u001b[38;5;28;43mself\u001b[39;49m\u001b[38;5;241;43m.\u001b[39;49m\u001b[43m_stateless_fn\u001b[49m\u001b[43m(\u001b[49m\u001b[38;5;241;43m*\u001b[39;49m\u001b[43margs\u001b[49m\u001b[43m,\u001b[49m\u001b[43m \u001b[49m\u001b[38;5;241;43m*\u001b[39;49m\u001b[38;5;241;43m*\u001b[39;49m\u001b[43mkwds\u001b[49m\u001b[43m)\u001b[49m  \u001b[38;5;66;03m# pylint: disable=not-callable\u001b[39;00m\n\u001b[1;32m    948\u001b[0m \u001b[38;5;28;01melif\u001b[39;00m \u001b[38;5;28mself\u001b[39m\u001b[38;5;241m.\u001b[39m_stateful_fn \u001b[38;5;129;01mis\u001b[39;00m \u001b[38;5;129;01mnot\u001b[39;00m \u001b[38;5;28;01mNone\u001b[39;00m:\n\u001b[1;32m    949\u001b[0m   \u001b[38;5;66;03m# Release the lock early so that multiple threads can perform the call\u001b[39;00m\n\u001b[1;32m    950\u001b[0m   \u001b[38;5;66;03m# in parallel.\u001b[39;00m\n\u001b[1;32m    951\u001b[0m   \u001b[38;5;28mself\u001b[39m\u001b[38;5;241m.\u001b[39m_lock\u001b[38;5;241m.\u001b[39mrelease()\n",
      "File \u001b[0;32m~/miniconda3/envs/tf/lib/python3.10/site-packages/tensorflow/python/eager/function.py:2496\u001b[0m, in \u001b[0;36mFunction.__call__\u001b[0;34m(self, *args, **kwargs)\u001b[0m\n\u001b[1;32m   2493\u001b[0m \u001b[38;5;28;01mwith\u001b[39;00m \u001b[38;5;28mself\u001b[39m\u001b[38;5;241m.\u001b[39m_lock:\n\u001b[1;32m   2494\u001b[0m   (graph_function,\n\u001b[1;32m   2495\u001b[0m    filtered_flat_args) \u001b[38;5;241m=\u001b[39m \u001b[38;5;28mself\u001b[39m\u001b[38;5;241m.\u001b[39m_maybe_define_function(args, kwargs)\n\u001b[0;32m-> 2496\u001b[0m \u001b[38;5;28;01mreturn\u001b[39;00m \u001b[43mgraph_function\u001b[49m\u001b[38;5;241;43m.\u001b[39;49m\u001b[43m_call_flat\u001b[49m\u001b[43m(\u001b[49m\n\u001b[1;32m   2497\u001b[0m \u001b[43m    \u001b[49m\u001b[43mfiltered_flat_args\u001b[49m\u001b[43m,\u001b[49m\u001b[43m \u001b[49m\u001b[43mcaptured_inputs\u001b[49m\u001b[38;5;241;43m=\u001b[39;49m\u001b[43mgraph_function\u001b[49m\u001b[38;5;241;43m.\u001b[39;49m\u001b[43mcaptured_inputs\u001b[49m\u001b[43m)\u001b[49m\n",
      "File \u001b[0;32m~/miniconda3/envs/tf/lib/python3.10/site-packages/tensorflow/python/eager/function.py:1862\u001b[0m, in \u001b[0;36mConcreteFunction._call_flat\u001b[0;34m(self, args, captured_inputs, cancellation_manager)\u001b[0m\n\u001b[1;32m   1858\u001b[0m possible_gradient_type \u001b[38;5;241m=\u001b[39m gradients_util\u001b[38;5;241m.\u001b[39mPossibleTapeGradientTypes(args)\n\u001b[1;32m   1859\u001b[0m \u001b[38;5;28;01mif\u001b[39;00m (possible_gradient_type \u001b[38;5;241m==\u001b[39m gradients_util\u001b[38;5;241m.\u001b[39mPOSSIBLE_GRADIENT_TYPES_NONE\n\u001b[1;32m   1860\u001b[0m     \u001b[38;5;129;01mand\u001b[39;00m executing_eagerly):\n\u001b[1;32m   1861\u001b[0m   \u001b[38;5;66;03m# No tape is watching; skip to running the function.\u001b[39;00m\n\u001b[0;32m-> 1862\u001b[0m   \u001b[38;5;28;01mreturn\u001b[39;00m \u001b[38;5;28mself\u001b[39m\u001b[38;5;241m.\u001b[39m_build_call_outputs(\u001b[38;5;28;43mself\u001b[39;49m\u001b[38;5;241;43m.\u001b[39;49m\u001b[43m_inference_function\u001b[49m\u001b[38;5;241;43m.\u001b[39;49m\u001b[43mcall\u001b[49m\u001b[43m(\u001b[49m\n\u001b[1;32m   1863\u001b[0m \u001b[43m      \u001b[49m\u001b[43mctx\u001b[49m\u001b[43m,\u001b[49m\u001b[43m \u001b[49m\u001b[43margs\u001b[49m\u001b[43m,\u001b[49m\u001b[43m \u001b[49m\u001b[43mcancellation_manager\u001b[49m\u001b[38;5;241;43m=\u001b[39;49m\u001b[43mcancellation_manager\u001b[49m\u001b[43m)\u001b[49m)\n\u001b[1;32m   1864\u001b[0m forward_backward \u001b[38;5;241m=\u001b[39m \u001b[38;5;28mself\u001b[39m\u001b[38;5;241m.\u001b[39m_select_forward_and_backward_functions(\n\u001b[1;32m   1865\u001b[0m     args,\n\u001b[1;32m   1866\u001b[0m     possible_gradient_type,\n\u001b[1;32m   1867\u001b[0m     executing_eagerly)\n\u001b[1;32m   1868\u001b[0m forward_function, args_with_tangents \u001b[38;5;241m=\u001b[39m forward_backward\u001b[38;5;241m.\u001b[39mforward()\n",
      "File \u001b[0;32m~/miniconda3/envs/tf/lib/python3.10/site-packages/tensorflow/python/eager/function.py:499\u001b[0m, in \u001b[0;36m_EagerDefinedFunction.call\u001b[0;34m(self, ctx, args, cancellation_manager)\u001b[0m\n\u001b[1;32m    497\u001b[0m \u001b[38;5;28;01mwith\u001b[39;00m _InterpolateFunctionError(\u001b[38;5;28mself\u001b[39m):\n\u001b[1;32m    498\u001b[0m   \u001b[38;5;28;01mif\u001b[39;00m cancellation_manager \u001b[38;5;129;01mis\u001b[39;00m \u001b[38;5;28;01mNone\u001b[39;00m:\n\u001b[0;32m--> 499\u001b[0m     outputs \u001b[38;5;241m=\u001b[39m \u001b[43mexecute\u001b[49m\u001b[38;5;241;43m.\u001b[39;49m\u001b[43mexecute\u001b[49m\u001b[43m(\u001b[49m\n\u001b[1;32m    500\u001b[0m \u001b[43m        \u001b[49m\u001b[38;5;28;43mstr\u001b[39;49m\u001b[43m(\u001b[49m\u001b[38;5;28;43mself\u001b[39;49m\u001b[38;5;241;43m.\u001b[39;49m\u001b[43msignature\u001b[49m\u001b[38;5;241;43m.\u001b[39;49m\u001b[43mname\u001b[49m\u001b[43m)\u001b[49m\u001b[43m,\u001b[49m\n\u001b[1;32m    501\u001b[0m \u001b[43m        \u001b[49m\u001b[43mnum_outputs\u001b[49m\u001b[38;5;241;43m=\u001b[39;49m\u001b[38;5;28;43mself\u001b[39;49m\u001b[38;5;241;43m.\u001b[39;49m\u001b[43m_num_outputs\u001b[49m\u001b[43m,\u001b[49m\n\u001b[1;32m    502\u001b[0m \u001b[43m        \u001b[49m\u001b[43minputs\u001b[49m\u001b[38;5;241;43m=\u001b[39;49m\u001b[43margs\u001b[49m\u001b[43m,\u001b[49m\n\u001b[1;32m    503\u001b[0m \u001b[43m        \u001b[49m\u001b[43mattrs\u001b[49m\u001b[38;5;241;43m=\u001b[39;49m\u001b[43mattrs\u001b[49m\u001b[43m,\u001b[49m\n\u001b[1;32m    504\u001b[0m \u001b[43m        \u001b[49m\u001b[43mctx\u001b[49m\u001b[38;5;241;43m=\u001b[39;49m\u001b[43mctx\u001b[49m\u001b[43m)\u001b[49m\n\u001b[1;32m    505\u001b[0m   \u001b[38;5;28;01melse\u001b[39;00m:\n\u001b[1;32m    506\u001b[0m     outputs \u001b[38;5;241m=\u001b[39m execute\u001b[38;5;241m.\u001b[39mexecute_with_cancellation(\n\u001b[1;32m    507\u001b[0m         \u001b[38;5;28mstr\u001b[39m(\u001b[38;5;28mself\u001b[39m\u001b[38;5;241m.\u001b[39msignature\u001b[38;5;241m.\u001b[39mname),\n\u001b[1;32m    508\u001b[0m         num_outputs\u001b[38;5;241m=\u001b[39m\u001b[38;5;28mself\u001b[39m\u001b[38;5;241m.\u001b[39m_num_outputs,\n\u001b[0;32m   (...)\u001b[0m\n\u001b[1;32m    511\u001b[0m         ctx\u001b[38;5;241m=\u001b[39mctx,\n\u001b[1;32m    512\u001b[0m         cancellation_manager\u001b[38;5;241m=\u001b[39mcancellation_manager)\n",
      "File \u001b[0;32m~/miniconda3/envs/tf/lib/python3.10/site-packages/tensorflow/python/eager/execute.py:54\u001b[0m, in \u001b[0;36mquick_execute\u001b[0;34m(op_name, num_outputs, inputs, attrs, ctx, name)\u001b[0m\n\u001b[1;32m     52\u001b[0m \u001b[38;5;28;01mtry\u001b[39;00m:\n\u001b[1;32m     53\u001b[0m   ctx\u001b[38;5;241m.\u001b[39mensure_initialized()\n\u001b[0;32m---> 54\u001b[0m   tensors \u001b[38;5;241m=\u001b[39m \u001b[43mpywrap_tfe\u001b[49m\u001b[38;5;241;43m.\u001b[39;49m\u001b[43mTFE_Py_Execute\u001b[49m\u001b[43m(\u001b[49m\u001b[43mctx\u001b[49m\u001b[38;5;241;43m.\u001b[39;49m\u001b[43m_handle\u001b[49m\u001b[43m,\u001b[49m\u001b[43m \u001b[49m\u001b[43mdevice_name\u001b[49m\u001b[43m,\u001b[49m\u001b[43m \u001b[49m\u001b[43mop_name\u001b[49m\u001b[43m,\u001b[49m\n\u001b[1;32m     55\u001b[0m \u001b[43m                                      \u001b[49m\u001b[43minputs\u001b[49m\u001b[43m,\u001b[49m\u001b[43m \u001b[49m\u001b[43mattrs\u001b[49m\u001b[43m,\u001b[49m\u001b[43m \u001b[49m\u001b[43mnum_outputs\u001b[49m\u001b[43m)\u001b[49m\n\u001b[1;32m     56\u001b[0m \u001b[38;5;28;01mexcept\u001b[39;00m core\u001b[38;5;241m.\u001b[39m_NotOkStatusException \u001b[38;5;28;01mas\u001b[39;00m e:\n\u001b[1;32m     57\u001b[0m   \u001b[38;5;28;01mif\u001b[39;00m name \u001b[38;5;129;01mis\u001b[39;00m \u001b[38;5;129;01mnot\u001b[39;00m \u001b[38;5;28;01mNone\u001b[39;00m:\n",
      "\u001b[0;31mKeyboardInterrupt\u001b[0m: "
     ]
    }
   ],
   "source": [
    "hist1 = model1.fit(train_text_dataset, epochs = EPOCHS,\n",
    "#                       steps_per_epoch = int(.9* (len(train_title_dataset)/EPOCHS)),\n",
    "                   steps_per_epoch = 10,   \n",
    "                   validation_steps = int(.2* (len(train_text_dataset)/EPOCHS)),\n",
    "                      validation_data=test_text_dataset,\n",
    "                      callbacks = [create_tensorboard_callback('tb','model1')]\n",
    "                    )"
   ]
  },
  {
   "cell_type": "code",
   "execution_count": null,
   "metadata": {
    "id": "IpDZitxtXy94"
   },
   "outputs": [],
   "source": []
  },
  {
   "cell_type": "code",
   "execution_count": null,
   "metadata": {
    "id": "OKnTjI50Xy94"
   },
   "outputs": [],
   "source": []
  },
  {
   "cell_type": "code",
   "execution_count": null,
   "metadata": {
    "id": "IlOfpwenXy94"
   },
   "outputs": [],
   "source": []
  },
  {
   "cell_type": "code",
   "execution_count": null,
   "metadata": {
    "id": "RhZXtNxsXy94"
   },
   "outputs": [],
   "source": []
  },
  {
   "cell_type": "code",
   "execution_count": null,
   "metadata": {
    "id": "X6sJXijmXy94"
   },
   "outputs": [],
   "source": []
  },
  {
   "cell_type": "code",
   "execution_count": null,
   "metadata": {
    "id": "j7cjCK7wXy95"
   },
   "outputs": [],
   "source": []
  },
  {
   "cell_type": "code",
   "execution_count": null,
   "metadata": {
    "id": "dGjBmsyRXy95"
   },
   "outputs": [],
   "source": []
  },
  {
   "cell_type": "code",
   "execution_count": null,
   "metadata": {
    "id": "X1B5n7GFXy95"
   },
   "outputs": [],
   "source": []
  },
  {
   "cell_type": "code",
   "execution_count": null,
   "metadata": {
    "id": "5pjHonMkXy95"
   },
   "outputs": [],
   "source": []
  },
  {
   "cell_type": "code",
   "execution_count": null,
   "metadata": {
    "id": "0L5G2mNWXy95"
   },
   "outputs": [],
   "source": []
  },
  {
   "cell_type": "markdown",
   "metadata": {
    "id": "mT_p6WhpjMGF"
   },
   "source": [
    "# Modeln\n"
   ]
  },
  {
   "cell_type": "code",
   "execution_count": null,
   "metadata": {
    "id": "o9AYnIxajMEp"
   },
   "outputs": [],
   "source": [
    "from tensorflow.keras import layers\n",
    "from tensorflow.keras.layers import GlobalAveragePooling1D, GlobalMaxPooling1D"
   ]
  },
  {
   "cell_type": "code",
   "execution_count": null,
   "metadata": {
    "colab": {
     "base_uri": "https://localhost:8080/"
    },
    "id": "R9cuQS59jMCH",
    "outputId": "7ddb61af-d381-4133-c699-9c3731cc7259"
   },
   "outputs": [
    {
     "name": "stdout",
     "output_type": "stream",
     "text": [
      "title output shape:  (None, 32)\n",
      "text output shape:  (None, 32)\n",
      "concatenated shape:  (None, 64)\n"
     ]
    }
   ],
   "source": [
    "input1 = layers.Input(shape = (1,), dtype = tf.string)\n",
    "token = title_text_vectorizer(input1)\n",
    "embed = title_embedder(token)\n",
    "x = layers.LSTM(32,return_sequences=True)(embed)\n",
    "x = layers.LSTM(32,return_sequences=True)(x)\n",
    "title_out = GlobalAveragePooling1D()(x)\n",
    "print('title output shape: ',title_out.shape)\n",
    "\n",
    "input2 = layers.Input(shape = (1,), dtype= tf.string)\n",
    "token2 = text_text_vectorizer(input2)\n",
    "embed2 = text_embedder(token2)\n",
    "x = layers.LSTM(32,return_sequences=True)(embed2)\n",
    "x = layers.LSTM(32,return_sequences=True)(x)\n",
    "text_out = GlobalAveragePooling1D()(x)\n",
    "print('text output shape: ',text_out.shape)\n",
    "\n",
    "concat = layers.Concatenate()([title_out, text_out])\n",
    "print('concatenated shape: ',concat.shape)\n",
    "\n",
    "x = layers.Dropout(.3)(concat)\n",
    "x = layers.Dense(128, activation = 'relu')(x)\n",
    "x = layers.Dense(128, activation = 'relu')(x)\n",
    "outputs = layers.Dense(1, activation = 'sigmoid')(x)\n",
    "\n",
    "modeln = keras.Model(inputs = [input1,input2], outputs = outputs)\n",
    "\n",
    "#COMPILE\n",
    "modeln.compile(loss = keras.losses.SparseCategoricalCrossentropy(),\n",
    "               optimizer = keras.optimizers.Adam(),\n",
    "               metrics = ['accuracy'])"
   ]
  },
  {
   "cell_type": "code",
   "execution_count": null,
   "metadata": {
    "colab": {
     "base_uri": "https://localhost:8080/"
    },
    "id": "uYkA2QVoTQzM",
    "outputId": "921fb00d-5d89-4388-eadc-accc73b9f0bc"
   },
   "outputs": [
    {
     "data": {
      "text/plain": [
       "(569, 64)"
      ]
     },
     "execution_count": 102,
     "metadata": {},
     "output_type": "execute_result"
    }
   ],
   "source": [
    "EPOCHS = 10\n",
    "len(train_dataset), len(test_dataset)"
   ]
  },
  {
   "cell_type": "code",
   "execution_count": null,
   "metadata": {
    "colab": {
     "base_uri": "https://localhost:8080/",
     "height": 363
    },
    "id": "_xs5tlRwjL_Z",
    "outputId": "3a012037-ecb7-48de-cdb6-8052a8259008"
   },
   "outputs": [
    {
     "name": "stdout",
     "output_type": "stream",
     "text": [
      "Saving TensorBoard log files to: tb/model1/20221110-214013\n",
      "Epoch 1/10\n",
      "28/28 [==============================] - 92s 3s/step - loss: nan - accuracy: 0.5246 - val_loss: nan - val_accuracy: 0.4688\n",
      "Epoch 2/10\n",
      "28/28 [==============================] - 13s 493ms/step - loss: nan - accuracy: 0.5134 - val_loss: nan - val_accuracy: 0.4688\n",
      "Epoch 3/10\n",
      "20/28 [====================>.........] - ETA: 21s - loss: nan - accuracy: 0.5063"
     ]
    },
    {
     "ename": "KeyboardInterrupt",
     "evalue": "",
     "output_type": "error",
     "traceback": [
      "\u001b[0;31m---------------------------------------------------------------------------\u001b[0m",
      "\u001b[0;31mKeyboardInterrupt\u001b[0m                         Traceback (most recent call last)",
      "Input \u001b[0;32mIn [103]\u001b[0m, in \u001b[0;36m<cell line: 1>\u001b[0;34m()\u001b[0m\n\u001b[0;32m----> 1\u001b[0m historyaa \u001b[38;5;241m=\u001b[39m \u001b[43mmodelaa\u001b[49m\u001b[38;5;241;43m.\u001b[39;49m\u001b[43mfit\u001b[49m\u001b[43m(\u001b[49m\u001b[43mtrain_dataset\u001b[49m\u001b[43m,\u001b[49m\u001b[43m \u001b[49m\u001b[43mepochs\u001b[49m\u001b[43m \u001b[49m\u001b[38;5;241;43m=\u001b[39;49m\u001b[43m \u001b[49m\u001b[43mEPOCHS\u001b[49m\u001b[43m,\u001b[49m\n\u001b[1;32m      2\u001b[0m \u001b[43m                      \u001b[49m\u001b[43msteps_per_epoch\u001b[49m\u001b[43m \u001b[49m\u001b[38;5;241;43m=\u001b[39;49m\u001b[43m \u001b[49m\u001b[38;5;28;43mint\u001b[39;49m\u001b[43m(\u001b[49m\u001b[38;5;241;43m.5\u001b[39;49m\u001b[38;5;241;43m*\u001b[39;49m\u001b[43m \u001b[49m\u001b[43m(\u001b[49m\u001b[38;5;28;43mlen\u001b[39;49m\u001b[43m(\u001b[49m\u001b[43mtrain_dataset\u001b[49m\u001b[43m)\u001b[49m\u001b[38;5;241;43m/\u001b[39;49m\u001b[43mEPOCHS\u001b[49m\u001b[43m)\u001b[49m\u001b[43m)\u001b[49m\u001b[43m,\u001b[49m\n\u001b[1;32m      3\u001b[0m \u001b[43m                      \u001b[49m\u001b[43mvalidation_steps\u001b[49m\u001b[43m \u001b[49m\u001b[38;5;241;43m=\u001b[39;49m\u001b[43m \u001b[49m\u001b[38;5;28;43mint\u001b[39;49m\u001b[43m(\u001b[49m\u001b[38;5;241;43m.2\u001b[39;49m\u001b[38;5;241;43m*\u001b[39;49m\u001b[43m \u001b[49m\u001b[43m(\u001b[49m\u001b[38;5;28;43mlen\u001b[39;49m\u001b[43m(\u001b[49m\u001b[43mtest_dataset\u001b[49m\u001b[43m)\u001b[49m\u001b[38;5;241;43m/\u001b[39;49m\u001b[43mEPOCHS\u001b[49m\u001b[43m)\u001b[49m\u001b[43m)\u001b[49m\u001b[43m,\u001b[49m\n\u001b[1;32m      4\u001b[0m \u001b[43m                      \u001b[49m\u001b[43mvalidation_data\u001b[49m\u001b[38;5;241;43m=\u001b[39;49m\u001b[43mtest_dataset\u001b[49m\u001b[43m,\u001b[49m\n\u001b[1;32m      5\u001b[0m \u001b[43m                      \u001b[49m\u001b[43mcallbacks\u001b[49m\u001b[43m \u001b[49m\u001b[38;5;241;43m=\u001b[39;49m\u001b[43m \u001b[49m\u001b[43m[\u001b[49m\u001b[43mcreate_tensorboard_callback\u001b[49m\u001b[43m(\u001b[49m\u001b[38;5;124;43m'\u001b[39;49m\u001b[38;5;124;43mtb\u001b[39;49m\u001b[38;5;124;43m'\u001b[39;49m\u001b[43m,\u001b[49m\u001b[38;5;124;43m'\u001b[39;49m\u001b[38;5;124;43mmodel1\u001b[39;49m\u001b[38;5;124;43m'\u001b[39;49m\u001b[43m)\u001b[49m\u001b[43m]\u001b[49m\n\u001b[1;32m      6\u001b[0m \u001b[43m                    \u001b[49m\u001b[43m)\u001b[49m\n",
      "File \u001b[0;32m~/miniconda3/envs/tf/lib/python3.10/site-packages/keras/utils/traceback_utils.py:65\u001b[0m, in \u001b[0;36mfilter_traceback.<locals>.error_handler\u001b[0;34m(*args, **kwargs)\u001b[0m\n\u001b[1;32m     63\u001b[0m filtered_tb \u001b[38;5;241m=\u001b[39m \u001b[38;5;28;01mNone\u001b[39;00m\n\u001b[1;32m     64\u001b[0m \u001b[38;5;28;01mtry\u001b[39;00m:\n\u001b[0;32m---> 65\u001b[0m     \u001b[38;5;28;01mreturn\u001b[39;00m \u001b[43mfn\u001b[49m\u001b[43m(\u001b[49m\u001b[38;5;241;43m*\u001b[39;49m\u001b[43margs\u001b[49m\u001b[43m,\u001b[49m\u001b[43m \u001b[49m\u001b[38;5;241;43m*\u001b[39;49m\u001b[38;5;241;43m*\u001b[39;49m\u001b[43mkwargs\u001b[49m\u001b[43m)\u001b[49m\n\u001b[1;32m     66\u001b[0m \u001b[38;5;28;01mexcept\u001b[39;00m \u001b[38;5;167;01mException\u001b[39;00m \u001b[38;5;28;01mas\u001b[39;00m e:\n\u001b[1;32m     67\u001b[0m     filtered_tb \u001b[38;5;241m=\u001b[39m _process_traceback_frames(e\u001b[38;5;241m.\u001b[39m__traceback__)\n",
      "File \u001b[0;32m~/miniconda3/envs/tf/lib/python3.10/site-packages/keras/engine/training.py:1564\u001b[0m, in \u001b[0;36mModel.fit\u001b[0;34m(self, x, y, batch_size, epochs, verbose, callbacks, validation_split, validation_data, shuffle, class_weight, sample_weight, initial_epoch, steps_per_epoch, validation_steps, validation_batch_size, validation_freq, max_queue_size, workers, use_multiprocessing)\u001b[0m\n\u001b[1;32m   1556\u001b[0m \u001b[38;5;28;01mwith\u001b[39;00m tf\u001b[38;5;241m.\u001b[39mprofiler\u001b[38;5;241m.\u001b[39mexperimental\u001b[38;5;241m.\u001b[39mTrace(\n\u001b[1;32m   1557\u001b[0m     \u001b[38;5;124m\"\u001b[39m\u001b[38;5;124mtrain\u001b[39m\u001b[38;5;124m\"\u001b[39m,\n\u001b[1;32m   1558\u001b[0m     epoch_num\u001b[38;5;241m=\u001b[39mepoch,\n\u001b[0;32m   (...)\u001b[0m\n\u001b[1;32m   1561\u001b[0m     _r\u001b[38;5;241m=\u001b[39m\u001b[38;5;241m1\u001b[39m,\n\u001b[1;32m   1562\u001b[0m ):\n\u001b[1;32m   1563\u001b[0m     callbacks\u001b[38;5;241m.\u001b[39mon_train_batch_begin(step)\n\u001b[0;32m-> 1564\u001b[0m     tmp_logs \u001b[38;5;241m=\u001b[39m \u001b[38;5;28;43mself\u001b[39;49m\u001b[38;5;241;43m.\u001b[39;49m\u001b[43mtrain_function\u001b[49m\u001b[43m(\u001b[49m\u001b[43miterator\u001b[49m\u001b[43m)\u001b[49m\n\u001b[1;32m   1565\u001b[0m     \u001b[38;5;28;01mif\u001b[39;00m data_handler\u001b[38;5;241m.\u001b[39mshould_sync:\n\u001b[1;32m   1566\u001b[0m         context\u001b[38;5;241m.\u001b[39masync_wait()\n",
      "File \u001b[0;32m~/miniconda3/envs/tf/lib/python3.10/site-packages/tensorflow/python/util/traceback_utils.py:150\u001b[0m, in \u001b[0;36mfilter_traceback.<locals>.error_handler\u001b[0;34m(*args, **kwargs)\u001b[0m\n\u001b[1;32m    148\u001b[0m filtered_tb \u001b[38;5;241m=\u001b[39m \u001b[38;5;28;01mNone\u001b[39;00m\n\u001b[1;32m    149\u001b[0m \u001b[38;5;28;01mtry\u001b[39;00m:\n\u001b[0;32m--> 150\u001b[0m   \u001b[38;5;28;01mreturn\u001b[39;00m \u001b[43mfn\u001b[49m\u001b[43m(\u001b[49m\u001b[38;5;241;43m*\u001b[39;49m\u001b[43margs\u001b[49m\u001b[43m,\u001b[49m\u001b[43m \u001b[49m\u001b[38;5;241;43m*\u001b[39;49m\u001b[38;5;241;43m*\u001b[39;49m\u001b[43mkwargs\u001b[49m\u001b[43m)\u001b[49m\n\u001b[1;32m    151\u001b[0m \u001b[38;5;28;01mexcept\u001b[39;00m \u001b[38;5;167;01mException\u001b[39;00m \u001b[38;5;28;01mas\u001b[39;00m e:\n\u001b[1;32m    152\u001b[0m   filtered_tb \u001b[38;5;241m=\u001b[39m _process_traceback_frames(e\u001b[38;5;241m.\u001b[39m__traceback__)\n",
      "File \u001b[0;32m~/miniconda3/envs/tf/lib/python3.10/site-packages/tensorflow/python/eager/def_function.py:915\u001b[0m, in \u001b[0;36mFunction.__call__\u001b[0;34m(self, *args, **kwds)\u001b[0m\n\u001b[1;32m    912\u001b[0m compiler \u001b[38;5;241m=\u001b[39m \u001b[38;5;124m\"\u001b[39m\u001b[38;5;124mxla\u001b[39m\u001b[38;5;124m\"\u001b[39m \u001b[38;5;28;01mif\u001b[39;00m \u001b[38;5;28mself\u001b[39m\u001b[38;5;241m.\u001b[39m_jit_compile \u001b[38;5;28;01melse\u001b[39;00m \u001b[38;5;124m\"\u001b[39m\u001b[38;5;124mnonXla\u001b[39m\u001b[38;5;124m\"\u001b[39m\n\u001b[1;32m    914\u001b[0m \u001b[38;5;28;01mwith\u001b[39;00m OptionalXlaContext(\u001b[38;5;28mself\u001b[39m\u001b[38;5;241m.\u001b[39m_jit_compile):\n\u001b[0;32m--> 915\u001b[0m   result \u001b[38;5;241m=\u001b[39m \u001b[38;5;28;43mself\u001b[39;49m\u001b[38;5;241;43m.\u001b[39;49m\u001b[43m_call\u001b[49m\u001b[43m(\u001b[49m\u001b[38;5;241;43m*\u001b[39;49m\u001b[43margs\u001b[49m\u001b[43m,\u001b[49m\u001b[43m \u001b[49m\u001b[38;5;241;43m*\u001b[39;49m\u001b[38;5;241;43m*\u001b[39;49m\u001b[43mkwds\u001b[49m\u001b[43m)\u001b[49m\n\u001b[1;32m    917\u001b[0m new_tracing_count \u001b[38;5;241m=\u001b[39m \u001b[38;5;28mself\u001b[39m\u001b[38;5;241m.\u001b[39mexperimental_get_tracing_count()\n\u001b[1;32m    918\u001b[0m without_tracing \u001b[38;5;241m=\u001b[39m (tracing_count \u001b[38;5;241m==\u001b[39m new_tracing_count)\n",
      "File \u001b[0;32m~/miniconda3/envs/tf/lib/python3.10/site-packages/tensorflow/python/eager/def_function.py:947\u001b[0m, in \u001b[0;36mFunction._call\u001b[0;34m(self, *args, **kwds)\u001b[0m\n\u001b[1;32m    944\u001b[0m   \u001b[38;5;28mself\u001b[39m\u001b[38;5;241m.\u001b[39m_lock\u001b[38;5;241m.\u001b[39mrelease()\n\u001b[1;32m    945\u001b[0m   \u001b[38;5;66;03m# In this case we have created variables on the first call, so we run the\u001b[39;00m\n\u001b[1;32m    946\u001b[0m   \u001b[38;5;66;03m# defunned version which is guaranteed to never create variables.\u001b[39;00m\n\u001b[0;32m--> 947\u001b[0m   \u001b[38;5;28;01mreturn\u001b[39;00m \u001b[38;5;28;43mself\u001b[39;49m\u001b[38;5;241;43m.\u001b[39;49m\u001b[43m_stateless_fn\u001b[49m\u001b[43m(\u001b[49m\u001b[38;5;241;43m*\u001b[39;49m\u001b[43margs\u001b[49m\u001b[43m,\u001b[49m\u001b[43m \u001b[49m\u001b[38;5;241;43m*\u001b[39;49m\u001b[38;5;241;43m*\u001b[39;49m\u001b[43mkwds\u001b[49m\u001b[43m)\u001b[49m  \u001b[38;5;66;03m# pylint: disable=not-callable\u001b[39;00m\n\u001b[1;32m    948\u001b[0m \u001b[38;5;28;01melif\u001b[39;00m \u001b[38;5;28mself\u001b[39m\u001b[38;5;241m.\u001b[39m_stateful_fn \u001b[38;5;129;01mis\u001b[39;00m \u001b[38;5;129;01mnot\u001b[39;00m \u001b[38;5;28;01mNone\u001b[39;00m:\n\u001b[1;32m    949\u001b[0m   \u001b[38;5;66;03m# Release the lock early so that multiple threads can perform the call\u001b[39;00m\n\u001b[1;32m    950\u001b[0m   \u001b[38;5;66;03m# in parallel.\u001b[39;00m\n\u001b[1;32m    951\u001b[0m   \u001b[38;5;28mself\u001b[39m\u001b[38;5;241m.\u001b[39m_lock\u001b[38;5;241m.\u001b[39mrelease()\n",
      "File \u001b[0;32m~/miniconda3/envs/tf/lib/python3.10/site-packages/tensorflow/python/eager/function.py:2496\u001b[0m, in \u001b[0;36mFunction.__call__\u001b[0;34m(self, *args, **kwargs)\u001b[0m\n\u001b[1;32m   2493\u001b[0m \u001b[38;5;28;01mwith\u001b[39;00m \u001b[38;5;28mself\u001b[39m\u001b[38;5;241m.\u001b[39m_lock:\n\u001b[1;32m   2494\u001b[0m   (graph_function,\n\u001b[1;32m   2495\u001b[0m    filtered_flat_args) \u001b[38;5;241m=\u001b[39m \u001b[38;5;28mself\u001b[39m\u001b[38;5;241m.\u001b[39m_maybe_define_function(args, kwargs)\n\u001b[0;32m-> 2496\u001b[0m \u001b[38;5;28;01mreturn\u001b[39;00m \u001b[43mgraph_function\u001b[49m\u001b[38;5;241;43m.\u001b[39;49m\u001b[43m_call_flat\u001b[49m\u001b[43m(\u001b[49m\n\u001b[1;32m   2497\u001b[0m \u001b[43m    \u001b[49m\u001b[43mfiltered_flat_args\u001b[49m\u001b[43m,\u001b[49m\u001b[43m \u001b[49m\u001b[43mcaptured_inputs\u001b[49m\u001b[38;5;241;43m=\u001b[39;49m\u001b[43mgraph_function\u001b[49m\u001b[38;5;241;43m.\u001b[39;49m\u001b[43mcaptured_inputs\u001b[49m\u001b[43m)\u001b[49m\n",
      "File \u001b[0;32m~/miniconda3/envs/tf/lib/python3.10/site-packages/tensorflow/python/eager/function.py:1862\u001b[0m, in \u001b[0;36mConcreteFunction._call_flat\u001b[0;34m(self, args, captured_inputs, cancellation_manager)\u001b[0m\n\u001b[1;32m   1858\u001b[0m possible_gradient_type \u001b[38;5;241m=\u001b[39m gradients_util\u001b[38;5;241m.\u001b[39mPossibleTapeGradientTypes(args)\n\u001b[1;32m   1859\u001b[0m \u001b[38;5;28;01mif\u001b[39;00m (possible_gradient_type \u001b[38;5;241m==\u001b[39m gradients_util\u001b[38;5;241m.\u001b[39mPOSSIBLE_GRADIENT_TYPES_NONE\n\u001b[1;32m   1860\u001b[0m     \u001b[38;5;129;01mand\u001b[39;00m executing_eagerly):\n\u001b[1;32m   1861\u001b[0m   \u001b[38;5;66;03m# No tape is watching; skip to running the function.\u001b[39;00m\n\u001b[0;32m-> 1862\u001b[0m   \u001b[38;5;28;01mreturn\u001b[39;00m \u001b[38;5;28mself\u001b[39m\u001b[38;5;241m.\u001b[39m_build_call_outputs(\u001b[38;5;28;43mself\u001b[39;49m\u001b[38;5;241;43m.\u001b[39;49m\u001b[43m_inference_function\u001b[49m\u001b[38;5;241;43m.\u001b[39;49m\u001b[43mcall\u001b[49m\u001b[43m(\u001b[49m\n\u001b[1;32m   1863\u001b[0m \u001b[43m      \u001b[49m\u001b[43mctx\u001b[49m\u001b[43m,\u001b[49m\u001b[43m \u001b[49m\u001b[43margs\u001b[49m\u001b[43m,\u001b[49m\u001b[43m \u001b[49m\u001b[43mcancellation_manager\u001b[49m\u001b[38;5;241;43m=\u001b[39;49m\u001b[43mcancellation_manager\u001b[49m\u001b[43m)\u001b[49m)\n\u001b[1;32m   1864\u001b[0m forward_backward \u001b[38;5;241m=\u001b[39m \u001b[38;5;28mself\u001b[39m\u001b[38;5;241m.\u001b[39m_select_forward_and_backward_functions(\n\u001b[1;32m   1865\u001b[0m     args,\n\u001b[1;32m   1866\u001b[0m     possible_gradient_type,\n\u001b[1;32m   1867\u001b[0m     executing_eagerly)\n\u001b[1;32m   1868\u001b[0m forward_function, args_with_tangents \u001b[38;5;241m=\u001b[39m forward_backward\u001b[38;5;241m.\u001b[39mforward()\n",
      "File \u001b[0;32m~/miniconda3/envs/tf/lib/python3.10/site-packages/tensorflow/python/eager/function.py:499\u001b[0m, in \u001b[0;36m_EagerDefinedFunction.call\u001b[0;34m(self, ctx, args, cancellation_manager)\u001b[0m\n\u001b[1;32m    497\u001b[0m \u001b[38;5;28;01mwith\u001b[39;00m _InterpolateFunctionError(\u001b[38;5;28mself\u001b[39m):\n\u001b[1;32m    498\u001b[0m   \u001b[38;5;28;01mif\u001b[39;00m cancellation_manager \u001b[38;5;129;01mis\u001b[39;00m \u001b[38;5;28;01mNone\u001b[39;00m:\n\u001b[0;32m--> 499\u001b[0m     outputs \u001b[38;5;241m=\u001b[39m \u001b[43mexecute\u001b[49m\u001b[38;5;241;43m.\u001b[39;49m\u001b[43mexecute\u001b[49m\u001b[43m(\u001b[49m\n\u001b[1;32m    500\u001b[0m \u001b[43m        \u001b[49m\u001b[38;5;28;43mstr\u001b[39;49m\u001b[43m(\u001b[49m\u001b[38;5;28;43mself\u001b[39;49m\u001b[38;5;241;43m.\u001b[39;49m\u001b[43msignature\u001b[49m\u001b[38;5;241;43m.\u001b[39;49m\u001b[43mname\u001b[49m\u001b[43m)\u001b[49m\u001b[43m,\u001b[49m\n\u001b[1;32m    501\u001b[0m \u001b[43m        \u001b[49m\u001b[43mnum_outputs\u001b[49m\u001b[38;5;241;43m=\u001b[39;49m\u001b[38;5;28;43mself\u001b[39;49m\u001b[38;5;241;43m.\u001b[39;49m\u001b[43m_num_outputs\u001b[49m\u001b[43m,\u001b[49m\n\u001b[1;32m    502\u001b[0m \u001b[43m        \u001b[49m\u001b[43minputs\u001b[49m\u001b[38;5;241;43m=\u001b[39;49m\u001b[43margs\u001b[49m\u001b[43m,\u001b[49m\n\u001b[1;32m    503\u001b[0m \u001b[43m        \u001b[49m\u001b[43mattrs\u001b[49m\u001b[38;5;241;43m=\u001b[39;49m\u001b[43mattrs\u001b[49m\u001b[43m,\u001b[49m\n\u001b[1;32m    504\u001b[0m \u001b[43m        \u001b[49m\u001b[43mctx\u001b[49m\u001b[38;5;241;43m=\u001b[39;49m\u001b[43mctx\u001b[49m\u001b[43m)\u001b[49m\n\u001b[1;32m    505\u001b[0m   \u001b[38;5;28;01melse\u001b[39;00m:\n\u001b[1;32m    506\u001b[0m     outputs \u001b[38;5;241m=\u001b[39m execute\u001b[38;5;241m.\u001b[39mexecute_with_cancellation(\n\u001b[1;32m    507\u001b[0m         \u001b[38;5;28mstr\u001b[39m(\u001b[38;5;28mself\u001b[39m\u001b[38;5;241m.\u001b[39msignature\u001b[38;5;241m.\u001b[39mname),\n\u001b[1;32m    508\u001b[0m         num_outputs\u001b[38;5;241m=\u001b[39m\u001b[38;5;28mself\u001b[39m\u001b[38;5;241m.\u001b[39m_num_outputs,\n\u001b[0;32m   (...)\u001b[0m\n\u001b[1;32m    511\u001b[0m         ctx\u001b[38;5;241m=\u001b[39mctx,\n\u001b[1;32m    512\u001b[0m         cancellation_manager\u001b[38;5;241m=\u001b[39mcancellation_manager)\n",
      "File \u001b[0;32m~/miniconda3/envs/tf/lib/python3.10/site-packages/tensorflow/python/eager/execute.py:54\u001b[0m, in \u001b[0;36mquick_execute\u001b[0;34m(op_name, num_outputs, inputs, attrs, ctx, name)\u001b[0m\n\u001b[1;32m     52\u001b[0m \u001b[38;5;28;01mtry\u001b[39;00m:\n\u001b[1;32m     53\u001b[0m   ctx\u001b[38;5;241m.\u001b[39mensure_initialized()\n\u001b[0;32m---> 54\u001b[0m   tensors \u001b[38;5;241m=\u001b[39m \u001b[43mpywrap_tfe\u001b[49m\u001b[38;5;241;43m.\u001b[39;49m\u001b[43mTFE_Py_Execute\u001b[49m\u001b[43m(\u001b[49m\u001b[43mctx\u001b[49m\u001b[38;5;241;43m.\u001b[39;49m\u001b[43m_handle\u001b[49m\u001b[43m,\u001b[49m\u001b[43m \u001b[49m\u001b[43mdevice_name\u001b[49m\u001b[43m,\u001b[49m\u001b[43m \u001b[49m\u001b[43mop_name\u001b[49m\u001b[43m,\u001b[49m\n\u001b[1;32m     55\u001b[0m \u001b[43m                                      \u001b[49m\u001b[43minputs\u001b[49m\u001b[43m,\u001b[49m\u001b[43m \u001b[49m\u001b[43mattrs\u001b[49m\u001b[43m,\u001b[49m\u001b[43m \u001b[49m\u001b[43mnum_outputs\u001b[49m\u001b[43m)\u001b[49m\n\u001b[1;32m     56\u001b[0m \u001b[38;5;28;01mexcept\u001b[39;00m core\u001b[38;5;241m.\u001b[39m_NotOkStatusException \u001b[38;5;28;01mas\u001b[39;00m e:\n\u001b[1;32m     57\u001b[0m   \u001b[38;5;28;01mif\u001b[39;00m name \u001b[38;5;129;01mis\u001b[39;00m \u001b[38;5;129;01mnot\u001b[39;00m \u001b[38;5;28;01mNone\u001b[39;00m:\n",
      "\u001b[0;31mKeyboardInterrupt\u001b[0m: "
     ]
    }
   ],
   "source": [
    "historyn = modeln.fit(train_dataset, epochs = EPOCHS,\n",
    "                      steps_per_epoch = int(.3* (len(train_dataset)/EPOCHS)),\n",
    "                      validation_steps = int(.2* (len(test_dataset)/EPOCHS)),\n",
    "                      validation_data=test_dataset,\n",
    "                      callbacks = [create_tensorboard_callback('tb','model1')]\n",
    "                    )"
   ]
  },
  {
   "cell_type": "code",
   "execution_count": null,
   "metadata": {
    "id": "ybkTe7zKjL9U"
   },
   "outputs": [],
   "source": [
    "loss = history1.history['loss']\n",
    "val_loss = history1.history['val_loss']\n",
    "\n",
    "accuracy = history1.history['accuracy']\n",
    "val_accuracy = history1.history['val_accuracy']\n",
    "\n",
    "# print(val_accuracy)\n",
    "plt.figure(figsize = (25,7))\n",
    "\n",
    "plt.subplot(1,2,1)\n",
    "plt.grid(True)\n",
    "plt.plot(np.arange(len(loss)), loss, 'r', label='Training loss')\n",
    "plt.plot(np.arange(len(val_loss)), val_loss, 'bo', label='Validation loss')\n",
    "plt.title('Training and Validation Loss')\n",
    "plt.xlabel('Epoch')\n",
    "plt.ylabel('Loss Value')\n",
    "plt.legend()\n",
    "\n",
    "plt.subplot(1,2,2)\n",
    "plt.grid(True)\n",
    "plt.plot(np.arange(len(accuracy)), accuracy, 'r', label='Training accuracy')\n",
    "plt.plot(np.arange(len(val_accuracy)), val_accuracy, 'bo', label='Validation accuracy')\n",
    "plt.title('Training and Validation Accuracy')\n",
    "plt.xlabel('Epoch')\n",
    "plt.ylabel('Accracy Value')\n",
    "plt.legend()\n",
    "\n",
    "plt.show()"
   ]
  },
  {
   "cell_type": "code",
   "execution_count": null,
   "metadata": {
    "id": "11CtKjszjL7z"
   },
   "outputs": [],
   "source": []
  },
  {
   "cell_type": "code",
   "execution_count": null,
   "metadata": {
    "id": "jWPQ_JNXjL56"
   },
   "outputs": [],
   "source": []
  },
  {
   "cell_type": "code",
   "execution_count": null,
   "metadata": {
    "id": "QHNII4XQjL4P"
   },
   "outputs": [],
   "source": []
  },
  {
   "cell_type": "code",
   "execution_count": null,
   "metadata": {
    "id": "WkryvfmjjL2k"
   },
   "outputs": [],
   "source": []
  },
  {
   "cell_type": "code",
   "execution_count": null,
   "metadata": {
    "id": "swPTJ1UajL0M"
   },
   "outputs": [],
   "source": []
  },
  {
   "cell_type": "code",
   "execution_count": null,
   "metadata": {
    "id": "HPE_ba6ejLwu"
   },
   "outputs": [],
   "source": []
  },
  {
   "cell_type": "code",
   "execution_count": null,
   "metadata": {
    "id": "RhbxtNP7jLru"
   },
   "outputs": [],
   "source": []
  },
  {
   "cell_type": "code",
   "execution_count": null,
   "metadata": {
    "id": "HBzKuHIYjLo8"
   },
   "outputs": [],
   "source": []
  },
  {
   "cell_type": "code",
   "execution_count": null,
   "metadata": {
    "id": "bQiQQagQjLmf"
   },
   "outputs": [],
   "source": []
  },
  {
   "cell_type": "code",
   "execution_count": null,
   "metadata": {
    "id": "eoX1DcxBjLku"
   },
   "outputs": [],
   "source": []
  },
  {
   "cell_type": "code",
   "execution_count": null,
   "metadata": {
    "id": "RPTPwYbBjLdU"
   },
   "outputs": [],
   "source": []
  },
  {
   "cell_type": "code",
   "execution_count": null,
   "metadata": {
    "id": "5A9TzpdfjLbn"
   },
   "outputs": [],
   "source": []
  },
  {
   "cell_type": "code",
   "execution_count": null,
   "metadata": {
    "id": "kPs9zFI8jLaS"
   },
   "outputs": [],
   "source": []
  },
  {
   "cell_type": "code",
   "execution_count": null,
   "metadata": {
    "id": "Xb5xPJncjLYU"
   },
   "outputs": [],
   "source": []
  },
  {
   "cell_type": "code",
   "execution_count": null,
   "metadata": {
    "id": "qrN83y3mjLU0"
   },
   "outputs": [],
   "source": []
  },
  {
   "cell_type": "code",
   "execution_count": null,
   "metadata": {
    "id": "3S4B-htDjLSV"
   },
   "outputs": [],
   "source": []
  },
  {
   "cell_type": "code",
   "execution_count": null,
   "metadata": {
    "id": "ko2VnLZfjLQq"
   },
   "outputs": [],
   "source": []
  },
  {
   "cell_type": "code",
   "execution_count": null,
   "metadata": {
    "id": "g50oNoMDjLON"
   },
   "outputs": [],
   "source": []
  },
  {
   "cell_type": "code",
   "execution_count": null,
   "metadata": {
    "id": "4c9rILbZjLLL"
   },
   "outputs": [],
   "source": []
  },
  {
   "cell_type": "code",
   "execution_count": null,
   "metadata": {
    "id": "P6Mcfxa1jLIC"
   },
   "outputs": [],
   "source": []
  },
  {
   "cell_type": "code",
   "execution_count": null,
   "metadata": {
    "id": "vVEEYB_ojLFa"
   },
   "outputs": [],
   "source": []
  },
  {
   "cell_type": "code",
   "execution_count": null,
   "metadata": {
    "id": "rhAO7pJ6jLCy"
   },
   "outputs": [],
   "source": []
  },
  {
   "cell_type": "code",
   "execution_count": null,
   "metadata": {
    "id": "VxzqPgIwjLAA"
   },
   "outputs": [],
   "source": []
  },
  {
   "cell_type": "code",
   "execution_count": null,
   "metadata": {
    "id": "7r0f3aeejK9A"
   },
   "outputs": [],
   "source": []
  },
  {
   "cell_type": "code",
   "execution_count": null,
   "metadata": {
    "id": "hS8DZMHJjK6c"
   },
   "outputs": [],
   "source": []
  },
  {
   "cell_type": "code",
   "execution_count": null,
   "metadata": {
    "id": "iTXVCRjZjK33"
   },
   "outputs": [],
   "source": []
  }
 ],
 "metadata": {
  "accelerator": "GPU",
  "colab": {
   "collapsed_sections": [],
   "include_colab_link": true,
   "provenance": []
  },
  "gpuClass": "standard",
  "kernelspec": {
   "display_name": "tf",
   "language": "python",
   "name": "tf"
  },
  "language_info": {
   "codemirror_mode": {
    "name": "ipython",
    "version": 3
   },
   "file_extension": ".py",
   "mimetype": "text/x-python",
   "name": "python",
   "nbconvert_exporter": "python",
   "pygments_lexer": "ipython3",
   "version": "3.10.6"
  }
 },
 "nbformat": 4,
 "nbformat_minor": 1
}

{
 "cells": [
  {
   "cell_type": "markdown",
   "metadata": {
    "colab_type": "text",
    "id": "view-in-github"
   },
   "source": [
    "<a href=\"https://colab.research.google.com/github/tikendraw/fake_news_classifier/blob/main/fake_news_classifier.ipynb\" target=\"_parent\"><img src=\"https://colab.research.google.com/assets/colab-badge.svg\" alt=\"Open In Colab\"/></a>"
   ]
  },
  {
   "cell_type": "markdown",
   "metadata": {
    "id": "eEzAsBIOMloc"
   },
   "source": [
    "# FAKE NEWS CLASSIFIER : Build a system to identify unreliable news articles\n",
    "Develop a machine learning program to identify when an article might be fake news. Run by the UTK Machine Learning Club.\n",
    "\n"
   ]
  },
  {
   "cell_type": "markdown",
   "metadata": {
    "id": "oODj5SvHMPXG"
   },
   "source": [
    "## Dataset Description\n",
    "[Dataset Here](https://www.kaggle.com/competitions/fake-news/code)\n",
    "\n",
    "\n",
    "**train.csv** : A full training dataset with the following attributes:\n",
    "\n",
    "* id: unique id for a news article\n",
    "* title: the title of a news article\n",
    "* author: author of the news article\n",
    "* text: the text of the article; could be incomplete\n",
    "* label: a label that marks the article as potentially unreliable\n",
    "\n",
    "    1: unreliable\n",
    "    \n",
    "    0: reliable"
   ]
  },
  {
   "cell_type": "code",
   "execution_count": 2,
   "metadata": {
    "colab": {
     "base_uri": "https://localhost:8080/"
    },
    "id": "dDB8AO1jXy9i",
    "outputId": "904234c2-4ef6-40a0-97d0-ef404932d70e"
   },
   "outputs": [
    {
     "name": "stdout",
     "output_type": "stream",
     "text": [
      "2.10.0\n",
      "GPU: 1\n"
     ]
    }
   ],
   "source": [
    "import tensorflow as tf\n",
    "print(tf.__version__)\n",
    "print('GPU:',len(tf.config.list_physical_devices('GPU')))"
   ]
  },
  {
   "cell_type": "code",
   "execution_count": 99,
   "metadata": {
    "colab": {
     "base_uri": "https://localhost:8080/"
    },
    "id": "DIv9bTXG7Ipy",
    "outputId": "1c56df5c-c5cf-42c2-b6d5-f72490b22230"
   },
   "outputs": [
    {
     "name": "stdout",
     "output_type": "stream",
     "text": [
      "4.2.0\n"
     ]
    }
   ],
   "source": [
    "# !pip install numpy pandas matplotlib -q\n",
    "# !pip install nltk textblob -q\n",
    "\n",
    "from packaging import version\n",
    "if version.parse(gensim.__version__) < version.parse(\"4.2.0\"):\n",
    "    !pip install --upgrade gensim\n",
    "\n",
    "import datetime\n",
    "import pandas as pd\n",
    "import numpy as np\n",
    "import matplotlib.pyplot as plt\n",
    "# import textblob\n",
    "import nltk\n",
    "from nltk.stem import WordNetLemmatizer\n",
    "from nltk.corpus import stopwords\n",
    "from nltk.tokenize import word_tokenize\n",
    "import gensim\n",
    "print(gensim.__version__)\n",
    "\n",
    "# !git clone https://github.com/tikendraw/funcyou.git -q\n",
    "import funcyou"
   ]
  },
  {
   "cell_type": "code",
   "execution_count": 7,
   "metadata": {
    "id": "fBUgHWJuK4Wf"
   },
   "outputs": [],
   "source": [
    "import re\n",
    "from sklearn.model_selection import train_test_split"
   ]
  },
  {
   "cell_type": "code",
   "execution_count": 8,
   "metadata": {
    "id": "9iLPf9nh7U31"
   },
   "outputs": [],
   "source": [
    "# DOWNLOADING EXTRA FILES\n",
    "# nltk.download('all')\n",
    "# !python -m textblob.download_corpora"
   ]
  },
  {
   "cell_type": "markdown",
   "metadata": {
    "id": "cNiI7DQH7eG7"
   },
   "source": [
    "# GET THE DATA"
   ]
  },
  {
   "cell_type": "code",
   "execution_count": 9,
   "metadata": {
    "id": "43uazWbA8tjw"
   },
   "outputs": [],
   "source": [
    "from funcyou.dataset import download_kaggle_dataset"
   ]
  },
  {
   "cell_type": "code",
   "execution_count": 10,
   "metadata": {
    "id": "f_GQR_s48q2h"
   },
   "outputs": [],
   "source": [
    "# IMPORT THE DATA\n",
    "DATA_LINK = 'https://www.kaggle.com/competitions/fake-news/code'\n",
    "\n",
    "## uncomment this if don't have data locally \n",
    "# download_kaggle_dataset(url = DATA_LINK)              # keep the kaggle.json in current working directory\n",
    "\n",
    "# UNZIP THE DATA\n",
    "# !unzip fake-news.zip -d dataset"
   ]
  },
  {
   "cell_type": "code",
   "execution_count": null,
   "metadata": {
    "colab": {
     "base_uri": "https://localhost:8080/"
    },
    "id": "J28gtZhIYw9p",
    "outputId": "f1feaadf-10d8-4863-f6cf-fe833e91dd50"
   },
   "outputs": [],
   "source": [
    "#OR\n",
    "# !git clone https://github.com/tikendraw/fake_news_classifier.git -q\n",
    "# !unzip fake_news_classifier/dataset/train.csv.zip -d dataset"
   ]
  },
  {
   "cell_type": "code",
   "execution_count": null,
   "metadata": {
    "id": "oO9XUdXN9oa9"
   },
   "outputs": [],
   "source": []
  },
  {
   "cell_type": "markdown",
   "metadata": {
    "id": "QCwL2MrT-twt"
   },
   "source": [
    "## READ THE DATA"
   ]
  },
  {
   "cell_type": "code",
   "execution_count": 12,
   "metadata": {
    "colab": {
     "base_uri": "https://localhost:8080/"
    },
    "id": "_yQOZPJV_GZX",
    "outputId": "026e34ae-2972-4683-ea99-72a989c19a2e"
   },
   "outputs": [
    {
     "name": "stdout",
     "output_type": "stream",
     "text": [
      "datset.shape:  (20800, 5)\n",
      "<class 'pandas.core.frame.DataFrame'>\n",
      "RangeIndex: 20800 entries, 0 to 20799\n",
      "Data columns (total 5 columns):\n",
      " #   Column  Non-Null Count  Dtype \n",
      "---  ------  --------------  ----- \n",
      " 0   id      20800 non-null  int64 \n",
      " 1   title   20242 non-null  object\n",
      " 2   author  18843 non-null  object\n",
      " 3   text    20761 non-null  object\n",
      " 4   label   20800 non-null  int64 \n",
      "dtypes: int64(2), object(3)\n",
      "memory usage: 812.6+ KB\n",
      "dataset info:  None\n"
     ]
    }
   ],
   "source": [
    "data = pd.read_csv('./dataset/train.csv')\n",
    "print('datset.shape: ',data.shape)\n",
    "print('dataset info: ',data.info())"
   ]
  },
  {
   "cell_type": "code",
   "execution_count": 13,
   "metadata": {
    "colab": {
     "base_uri": "https://localhost:8080/",
     "height": 424
    },
    "id": "KgpINmqF_GWi",
    "outputId": "ac0bcccf-5be9-49a6-ed11-695b38197787"
   },
   "outputs": [
    {
     "data": {
      "text/html": [
       "<div>\n",
       "<style scoped>\n",
       "    .dataframe tbody tr th:only-of-type {\n",
       "        vertical-align: middle;\n",
       "    }\n",
       "\n",
       "    .dataframe tbody tr th {\n",
       "        vertical-align: top;\n",
       "    }\n",
       "\n",
       "    .dataframe thead th {\n",
       "        text-align: right;\n",
       "    }\n",
       "</style>\n",
       "<table border=\"1\" class=\"dataframe\">\n",
       "  <thead>\n",
       "    <tr style=\"text-align: right;\">\n",
       "      <th></th>\n",
       "      <th>id</th>\n",
       "      <th>title</th>\n",
       "      <th>author</th>\n",
       "      <th>text</th>\n",
       "      <th>label</th>\n",
       "    </tr>\n",
       "  </thead>\n",
       "  <tbody>\n",
       "    <tr>\n",
       "      <th>0</th>\n",
       "      <td>0</td>\n",
       "      <td>House Dem Aide: We Didn’t Even See Comey’s Let...</td>\n",
       "      <td>Darrell Lucus</td>\n",
       "      <td>House Dem Aide: We Didn’t Even See Comey’s Let...</td>\n",
       "      <td>1</td>\n",
       "    </tr>\n",
       "    <tr>\n",
       "      <th>1</th>\n",
       "      <td>1</td>\n",
       "      <td>FLYNN: Hillary Clinton, Big Woman on Campus - ...</td>\n",
       "      <td>Daniel J. Flynn</td>\n",
       "      <td>Ever get the feeling your life circles the rou...</td>\n",
       "      <td>0</td>\n",
       "    </tr>\n",
       "    <tr>\n",
       "      <th>2</th>\n",
       "      <td>2</td>\n",
       "      <td>Why the Truth Might Get You Fired</td>\n",
       "      <td>Consortiumnews.com</td>\n",
       "      <td>Why the Truth Might Get You Fired October 29, ...</td>\n",
       "      <td>1</td>\n",
       "    </tr>\n",
       "    <tr>\n",
       "      <th>3</th>\n",
       "      <td>3</td>\n",
       "      <td>15 Civilians Killed In Single US Airstrike Hav...</td>\n",
       "      <td>Jessica Purkiss</td>\n",
       "      <td>Videos 15 Civilians Killed In Single US Airstr...</td>\n",
       "      <td>1</td>\n",
       "    </tr>\n",
       "    <tr>\n",
       "      <th>4</th>\n",
       "      <td>4</td>\n",
       "      <td>Iranian woman jailed for fictional unpublished...</td>\n",
       "      <td>Howard Portnoy</td>\n",
       "      <td>Print \\nAn Iranian woman has been sentenced to...</td>\n",
       "      <td>1</td>\n",
       "    </tr>\n",
       "    <tr>\n",
       "      <th>...</th>\n",
       "      <td>...</td>\n",
       "      <td>...</td>\n",
       "      <td>...</td>\n",
       "      <td>...</td>\n",
       "      <td>...</td>\n",
       "    </tr>\n",
       "    <tr>\n",
       "      <th>20795</th>\n",
       "      <td>20795</td>\n",
       "      <td>Rapper T.I.: Trump a ’Poster Child For White S...</td>\n",
       "      <td>Jerome Hudson</td>\n",
       "      <td>Rapper T. I. unloaded on black celebrities who...</td>\n",
       "      <td>0</td>\n",
       "    </tr>\n",
       "    <tr>\n",
       "      <th>20796</th>\n",
       "      <td>20796</td>\n",
       "      <td>N.F.L. Playoffs: Schedule, Matchups and Odds -...</td>\n",
       "      <td>Benjamin Hoffman</td>\n",
       "      <td>When the Green Bay Packers lost to the Washing...</td>\n",
       "      <td>0</td>\n",
       "    </tr>\n",
       "    <tr>\n",
       "      <th>20797</th>\n",
       "      <td>20797</td>\n",
       "      <td>Macy’s Is Said to Receive Takeover Approach by...</td>\n",
       "      <td>Michael J. de la Merced and Rachel Abrams</td>\n",
       "      <td>The Macy’s of today grew from the union of sev...</td>\n",
       "      <td>0</td>\n",
       "    </tr>\n",
       "    <tr>\n",
       "      <th>20798</th>\n",
       "      <td>20798</td>\n",
       "      <td>NATO, Russia To Hold Parallel Exercises In Bal...</td>\n",
       "      <td>Alex Ansary</td>\n",
       "      <td>NATO, Russia To Hold Parallel Exercises In Bal...</td>\n",
       "      <td>1</td>\n",
       "    </tr>\n",
       "    <tr>\n",
       "      <th>20799</th>\n",
       "      <td>20799</td>\n",
       "      <td>What Keeps the F-35 Alive</td>\n",
       "      <td>David Swanson</td>\n",
       "      <td>David Swanson is an author, activist, journa...</td>\n",
       "      <td>1</td>\n",
       "    </tr>\n",
       "  </tbody>\n",
       "</table>\n",
       "<p>20800 rows × 5 columns</p>\n",
       "</div>"
      ],
      "text/plain": [
       "          id                                              title  \\\n",
       "0          0  House Dem Aide: We Didn’t Even See Comey’s Let...   \n",
       "1          1  FLYNN: Hillary Clinton, Big Woman on Campus - ...   \n",
       "2          2                  Why the Truth Might Get You Fired   \n",
       "3          3  15 Civilians Killed In Single US Airstrike Hav...   \n",
       "4          4  Iranian woman jailed for fictional unpublished...   \n",
       "...      ...                                                ...   \n",
       "20795  20795  Rapper T.I.: Trump a ’Poster Child For White S...   \n",
       "20796  20796  N.F.L. Playoffs: Schedule, Matchups and Odds -...   \n",
       "20797  20797  Macy’s Is Said to Receive Takeover Approach by...   \n",
       "20798  20798  NATO, Russia To Hold Parallel Exercises In Bal...   \n",
       "20799  20799                          What Keeps the F-35 Alive   \n",
       "\n",
       "                                          author  \\\n",
       "0                                  Darrell Lucus   \n",
       "1                                Daniel J. Flynn   \n",
       "2                             Consortiumnews.com   \n",
       "3                                Jessica Purkiss   \n",
       "4                                 Howard Portnoy   \n",
       "...                                          ...   \n",
       "20795                              Jerome Hudson   \n",
       "20796                           Benjamin Hoffman   \n",
       "20797  Michael J. de la Merced and Rachel Abrams   \n",
       "20798                                Alex Ansary   \n",
       "20799                              David Swanson   \n",
       "\n",
       "                                                    text  label  \n",
       "0      House Dem Aide: We Didn’t Even See Comey’s Let...      1  \n",
       "1      Ever get the feeling your life circles the rou...      0  \n",
       "2      Why the Truth Might Get You Fired October 29, ...      1  \n",
       "3      Videos 15 Civilians Killed In Single US Airstr...      1  \n",
       "4      Print \\nAn Iranian woman has been sentenced to...      1  \n",
       "...                                                  ...    ...  \n",
       "20795  Rapper T. I. unloaded on black celebrities who...      0  \n",
       "20796  When the Green Bay Packers lost to the Washing...      0  \n",
       "20797  The Macy’s of today grew from the union of sev...      0  \n",
       "20798  NATO, Russia To Hold Parallel Exercises In Bal...      1  \n",
       "20799    David Swanson is an author, activist, journa...      1  \n",
       "\n",
       "[20800 rows x 5 columns]"
      ]
     },
     "execution_count": 13,
     "metadata": {},
     "output_type": "execute_result"
    }
   ],
   "source": [
    "data"
   ]
  },
  {
   "cell_type": "markdown",
   "metadata": {
    "id": "x0lIRYLU_GUr"
   },
   "source": [
    "\n",
    "\n",
    "Here We will be dropping `id` (unique value does not provide any value to \n",
    "\n",
    "instance) and `author` (to no create a biasness towards it)"
   ]
  },
  {
   "cell_type": "code",
   "execution_count": 14,
   "metadata": {
    "id": "s_hK1MAS_GTQ"
   },
   "outputs": [],
   "source": [
    "# DROPPING ID AND AUTHOR\n",
    "data.drop(['id','author'], axis = 1, inplace = True)"
   ]
  },
  {
   "cell_type": "code",
   "execution_count": 15,
   "metadata": {
    "colab": {
     "base_uri": "https://localhost:8080/",
     "height": 206
    },
    "id": "j56TeGol_GRr",
    "outputId": "d69ccb70-bce6-4600-c3ad-cee3d0d8ce33"
   },
   "outputs": [
    {
     "data": {
      "text/html": [
       "<div>\n",
       "<style scoped>\n",
       "    .dataframe tbody tr th:only-of-type {\n",
       "        vertical-align: middle;\n",
       "    }\n",
       "\n",
       "    .dataframe tbody tr th {\n",
       "        vertical-align: top;\n",
       "    }\n",
       "\n",
       "    .dataframe thead th {\n",
       "        text-align: right;\n",
       "    }\n",
       "</style>\n",
       "<table border=\"1\" class=\"dataframe\">\n",
       "  <thead>\n",
       "    <tr style=\"text-align: right;\">\n",
       "      <th></th>\n",
       "      <th>title</th>\n",
       "      <th>text</th>\n",
       "      <th>label</th>\n",
       "    </tr>\n",
       "  </thead>\n",
       "  <tbody>\n",
       "    <tr>\n",
       "      <th>0</th>\n",
       "      <td>House Dem Aide: We Didn’t Even See Comey’s Let...</td>\n",
       "      <td>House Dem Aide: We Didn’t Even See Comey’s Let...</td>\n",
       "      <td>1</td>\n",
       "    </tr>\n",
       "    <tr>\n",
       "      <th>1</th>\n",
       "      <td>FLYNN: Hillary Clinton, Big Woman on Campus - ...</td>\n",
       "      <td>Ever get the feeling your life circles the rou...</td>\n",
       "      <td>0</td>\n",
       "    </tr>\n",
       "    <tr>\n",
       "      <th>2</th>\n",
       "      <td>Why the Truth Might Get You Fired</td>\n",
       "      <td>Why the Truth Might Get You Fired October 29, ...</td>\n",
       "      <td>1</td>\n",
       "    </tr>\n",
       "    <tr>\n",
       "      <th>3</th>\n",
       "      <td>15 Civilians Killed In Single US Airstrike Hav...</td>\n",
       "      <td>Videos 15 Civilians Killed In Single US Airstr...</td>\n",
       "      <td>1</td>\n",
       "    </tr>\n",
       "    <tr>\n",
       "      <th>4</th>\n",
       "      <td>Iranian woman jailed for fictional unpublished...</td>\n",
       "      <td>Print \\nAn Iranian woman has been sentenced to...</td>\n",
       "      <td>1</td>\n",
       "    </tr>\n",
       "  </tbody>\n",
       "</table>\n",
       "</div>"
      ],
      "text/plain": [
       "                                               title  \\\n",
       "0  House Dem Aide: We Didn’t Even See Comey’s Let...   \n",
       "1  FLYNN: Hillary Clinton, Big Woman on Campus - ...   \n",
       "2                  Why the Truth Might Get You Fired   \n",
       "3  15 Civilians Killed In Single US Airstrike Hav...   \n",
       "4  Iranian woman jailed for fictional unpublished...   \n",
       "\n",
       "                                                text  label  \n",
       "0  House Dem Aide: We Didn’t Even See Comey’s Let...      1  \n",
       "1  Ever get the feeling your life circles the rou...      0  \n",
       "2  Why the Truth Might Get You Fired October 29, ...      1  \n",
       "3  Videos 15 Civilians Killed In Single US Airstr...      1  \n",
       "4  Print \\nAn Iranian woman has been sentenced to...      1  "
      ]
     },
     "execution_count": 15,
     "metadata": {},
     "output_type": "execute_result"
    }
   ],
   "source": [
    "data.head(5)"
   ]
  },
  {
   "cell_type": "code",
   "execution_count": 16,
   "metadata": {
    "colab": {
     "base_uri": "https://localhost:8080/",
     "height": 35
    },
    "id": "ZGTgQRu0Xy9m",
    "outputId": "04272aa1-1349-401b-b276-369bba922873"
   },
   "outputs": [
    {
     "data": {
      "text/plain": [
       "'House Dem Aide: We Didn’t Even See Comey’s Letter Until Jason Chaffetz Tweeted It'"
      ]
     },
     "execution_count": 16,
     "metadata": {},
     "output_type": "execute_result"
    }
   ],
   "source": [
    "data.title[0]"
   ]
  },
  {
   "cell_type": "markdown",
   "metadata": {
    "id": "qQ95Pq4E_GQA"
   },
   "source": [
    "# Preprocessing"
   ]
  },
  {
   "cell_type": "markdown",
   "metadata": {
    "id": "9dvnHFKuI89V"
   },
   "source": [
    "### Handling Missing values"
   ]
  },
  {
   "cell_type": "code",
   "execution_count": 17,
   "metadata": {
    "colab": {
     "base_uri": "https://localhost:8080/"
    },
    "id": "IpdIH1dE_GOc",
    "outputId": "2aa27b7f-1cdc-4503-a3bd-4003bfb333b5"
   },
   "outputs": [
    {
     "data": {
      "text/plain": [
       "title    558\n",
       "text      39\n",
       "label      0\n",
       "dtype: int64"
      ]
     },
     "execution_count": 17,
     "metadata": {},
     "output_type": "execute_result"
    }
   ],
   "source": [
    "# CHECK FOR NAN VALUES\n",
    "data.isnull().sum()"
   ]
  },
  {
   "cell_type": "code",
   "execution_count": 18,
   "metadata": {
    "colab": {
     "base_uri": "https://localhost:8080/"
    },
    "id": "tsvnSrDE_GMx",
    "outputId": "36472d17-5fb1-40c2-bb17-94297906c309"
   },
   "outputs": [
    {
     "data": {
      "text/plain": [
       "(20800, 3)"
      ]
     },
     "execution_count": 18,
     "metadata": {},
     "output_type": "execute_result"
    }
   ],
   "source": [
    "data.shape"
   ]
  },
  {
   "cell_type": "code",
   "execution_count": 19,
   "metadata": {
    "colab": {
     "base_uri": "https://localhost:8080/"
    },
    "id": "tjndL91D_GJa",
    "outputId": "3563d514-1fc7-4ec1-9b2c-2ae1b74725ee"
   },
   "outputs": [
    {
     "data": {
      "text/plain": [
       "(0, 3)"
      ]
     },
     "execution_count": 19,
     "metadata": {},
     "output_type": "execute_result"
    }
   ],
   "source": [
    "# CHECK IF TEXT AND TITLE IS MISSING TOGATHER\n",
    "data[(data['text'] == np.nan) & (data['title']== np.nan)].shape"
   ]
  },
  {
   "cell_type": "markdown",
   "metadata": {
    "id": "dOOZSlPIDKL6"
   },
   "source": [
    "There are no values where both 'text' and 'title' are missing"
   ]
  },
  {
   "cell_type": "code",
   "execution_count": 20,
   "metadata": {
    "id": "t8rYyhHFDg32"
   },
   "outputs": [],
   "source": [
    "text_nulls = data[data['text'].isnull()].index.tolist()\n",
    "title_nulls  = data[data['title'].isnull()].index.tolist()"
   ]
  },
  {
   "cell_type": "code",
   "execution_count": 21,
   "metadata": {
    "colab": {
     "base_uri": "https://localhost:8080/"
    },
    "id": "kkeN1DV6_GCG",
    "outputId": "7635132d-cd60-48e2-cee5-2e827a6ba585"
   },
   "outputs": [
    {
     "name": "stdout",
     "output_type": "stream",
     "text": [
      "missing title values:  558\n",
      "missing title label counts:  1    558\n",
      "Name: label, dtype: int64\n",
      "\n",
      "missing text values:  39\n",
      "missing TEXT  label counts:  1    39\n",
      "Name: label, dtype: int64\n"
     ]
    }
   ],
   "source": [
    "# VALUE COUNTS OF MISSING TEXT AND TITLE\n",
    "print('missing title values: ', len(title_nulls))\n",
    "print('missing title label counts: ', data[data['title'].isnull()]['label'].value_counts())\n",
    "\n",
    "# VALUE COUNTS OF MISSING TITLE AND TITLE\n",
    "print('\\nmissing text values: ', len(text_nulls))\n",
    "print('missing TEXT  label counts: ', data[data['text'].isnull()]['label'].value_counts())\n"
   ]
  },
  {
   "cell_type": "markdown",
   "metadata": {
    "id": "uwAQ3rBu_GBC"
   },
   "source": [
    "Here we can see that if either text or title is missing then it is classified as Fake news explicitely"
   ]
  },
  {
   "cell_type": "markdown",
   "metadata": {
    "id": "R5EG8X5G_F_L"
   },
   "source": [
    "So, we dropping nulls"
   ]
  },
  {
   "cell_type": "code",
   "execution_count": 22,
   "metadata": {
    "colab": {
     "base_uri": "https://localhost:8080/"
    },
    "id": "xIsnv1Va_F9O",
    "outputId": "90465c9d-3f2a-4a7a-979a-b5c739ead38e"
   },
   "outputs": [
    {
     "name": "stdout",
     "output_type": "stream",
     "text": [
      "before dropping na:  (20800, 3)\n",
      "after dropping na:  (20203, 3)\n"
     ]
    }
   ],
   "source": [
    "print('before dropping na: ',data.shape)\n",
    "data.dropna(axis = 0, inplace = True)\n",
    "print('after dropping na: ',data.shape)"
   ]
  },
  {
   "cell_type": "markdown",
   "metadata": {
    "id": "ojR1GvPB_FtP"
   },
   "source": [
    "## Cleaning and Preprocessing\n",
    "\n",
    "\n",
    "* Replacing Contractions\n",
    "* removing punctuation\n",
    "* remove special characters from text column\n",
    "* Remove digits\n",
    "* remove \"'s\"\n",
    "* Remove www\n",
    "* remove urls\n",
    "* remove multiple spaces with single space\n",
    "* remove all single characters\n"
   ]
  },
  {
   "cell_type": "code",
   "execution_count": 23,
   "metadata": {
    "cellView": "form",
    "id": "lAZExuJj_Fr9"
   },
   "outputs": [],
   "source": [
    "#@title this is contractions :: too long don't open\n",
    "contractions_dict = { \n",
    "\"ain't\": \"am not / are not / is not / has not / have not\",\n",
    "\"aren't\": \"are not / am not\",\n",
    "\"can't\": \"cannot\",\n",
    "\"can't've\": \"cannot have\",\n",
    "\"'cause\": \"because\",\n",
    "\"could've\": \"could have\",\n",
    "\"couldn't\": \"could not\",\n",
    "\"couldn't've\": \"could not have\",\n",
    "\"didn't\": \"did not\",\n",
    "\"didn`t\": \"did not\",\n",
    "\"doesn't\": \"does not\",\n",
    "\"don't\": \"do not\",\n",
    "\"hadn't\": \"had not\",\n",
    "\"hadn't've\": \"had not have\",\n",
    "\"hasn't\": \"has not\",\n",
    "\"haven't\": \"have not\",\n",
    "\"he'd\": \"he had / he would\",\n",
    "\"he'd've\": \"he would have\",\n",
    "\"he'll\": \"he shall / he will\",\n",
    "\"he'll've\": \"he shall have / he will have\",\n",
    "\"he's\": \"he has / he is\",\n",
    "\"how'd\": \"how did\",\n",
    "\"how'd'y\": \"how do you\",\n",
    "\"how'll\": \"how will\",\n",
    "\"how's\": \"how has / how is / how does\",\n",
    "\"I'd\": \"I had / I would\",\n",
    "\"I'd've\": \"I would have\",\n",
    "\"I'll\": \"I shall / I will\",\n",
    "\"I'll've\": \"I shall have / I will have\",\n",
    "\"I'm\": \"I am\",\n",
    "\"I've\": \"I have\",\n",
    "\"isn't\": \"is not\",\n",
    "\"it'd\": \"it had / it would\",\n",
    "\"it'd've\": \"it would have\",\n",
    "\"it'll\": \"it shall / it will\",\n",
    "\"it'll've\": \"it shall have / it will have\",\n",
    "\"it's\": \"it has / it is\",\n",
    "\"let's\": \"let us\",\n",
    "\"ma'am\": \"madam\",\n",
    "\"mayn't\": \"may not\",\n",
    "\"might've\": \"might have\",\n",
    "\"mightn't\": \"might not\",\n",
    "\"mightn't've\": \"might not have\",\n",
    "\"must've\": \"must have\",\n",
    "\"mustn't\": \"must not\",\n",
    "\"mustn't've\": \"must not have\",\n",
    "\"needn't\": \"need not\",\n",
    "\"needn't've\": \"need not have\",\n",
    "\"o'clock\": \"of the clock\",\n",
    "\"oughtn't\": \"ought not\",\n",
    "\"oughtn't've\": \"ought not have\",\n",
    "\"shan't\": \"shall not\",\n",
    "\"sha'n't\": \"shall not\",\n",
    "\"shan't've\": \"shall not have\",\n",
    "\"she'd\": \"she had / she would\",\n",
    "\"she'd've\": \"she would have\",\n",
    "\"she'll\": \"she shall / she will\",\n",
    "\"she'll've\": \"she shall have / she will have\",\n",
    "\"she's\": \"she has / she is\",\n",
    "\"should've\": \"should have\",\n",
    "\"shouldn't\": \"should not\",\n",
    "\"shouldn't've\": \"should not have\",\n",
    "\"so've\": \"so have\",\n",
    "\"so's\": \"so as / so is\",\n",
    "\"that'd\": \"that would / that had\",\n",
    "\"that'd've\": \"that would have\",\n",
    "\"that's\": \"that has / that is\",\n",
    "\"there'd\": \"there had / there would\",\n",
    "\"there'd've\": \"there would have\",\n",
    "\"there's\": \"there has / there is\",\n",
    "\"they'd\": \"they had / they would\",\n",
    "\"they'd've\": \"they would have\",\n",
    "\"they'll\": \"they shall / they will\",\n",
    "\"they'll've\": \"they shall have / they will have\",\n",
    "\"they're\": \"they are\",\n",
    "\"they've\": \"they have\",\n",
    "\"to've\": \"to have\",\n",
    "\"wasn't\": \"was not\",\n",
    "\"we'd\": \"we had / we would\",\n",
    "\"we'd've\": \"we would have\",\n",
    "\"we'll\": \"we will\",\n",
    "\"we'll've\": \"we will have\",\n",
    "\"we're\": \"we are\",\n",
    "\"we've\": \"we have\",\n",
    "\"weren't\": \"were not\",\n",
    "\"what'll\": \"what shall / what will\",\n",
    "\"what'll've\": \"what shall have / what will have\",\n",
    "\"what're\": \"what are\",\n",
    "\"what's\": \"what has / what is\",\n",
    "\"what've\": \"what have\",\n",
    "\"when's\": \"when has / when is\",\n",
    "\"when've\": \"when have\",\n",
    "\"where'd\": \"where did\",\n",
    "\"where's\": \"where has / where is\",\n",
    "\"where've\": \"where have\",\n",
    "\"who'll\": \"who shall / who will\",\n",
    "\"who'll've\": \"who shall have / who will have\",\n",
    "\"who's\": \"who has / who is\",\n",
    "\"who've\": \"who have\",\n",
    "\"why's\": \"why has / why is\",\n",
    "\"why've\": \"why have\",\n",
    "\"will've\": \"will have\",\n",
    "\"won't\": \"will not\",\n",
    "\"won't've\": \"will not have\",\n",
    "\"would've\": \"would have\",\n",
    "\"wouldn't\": \"would not\",\n",
    "\"wouldn't've\": \"would not have\",\n",
    "\"y'all\": \"you all\",\n",
    "\"y'all'd\": \"you all would\",\n",
    "\"y'all'd've\": \"you all would have\",\n",
    "\"y'all're\": \"you all are\",\n",
    "\"y'all've\": \"you all have\",\n",
    "\"you'd\": \"you had / you would\",\n",
    "\"you'd've\": \"you would have\",\n",
    "\"you'll\": \"you shall / you will\",\n",
    "\"you'll've\": \"you shall have / you will have\",\n",
    "\"you're\": \"you are\",\n",
    "\"you've\": \"you have\"\n",
    "}"
   ]
  },
  {
   "cell_type": "code",
   "execution_count": 24,
   "metadata": {
    "id": "MTMo-giyXy9q"
   },
   "outputs": [],
   "source": [
    "# very necessary function you can't tell differece between \"’\" and \"'\", I don't even have that symbol in my keyboard\n",
    "\n",
    "def text_cleaning_apos(text):\n",
    "    text = str(text)\n",
    "    text = text.lower()\n",
    "    text = re.sub(\"’\", \"'\", text) # removing punctuation\n",
    "    return text"
   ]
  },
  {
   "cell_type": "code",
   "execution_count": 25,
   "metadata": {
    "id": "hm70b9MM_FlV"
   },
   "outputs": [],
   "source": [
    "# FUNCTIONS TO EXPAND CONTRACTIONS\n",
    "def cont_to_exp(x):\n",
    "    x = str(x).lower()\n",
    "    xsplited = x.split(' ')\n",
    "    exp_sentence = []\n",
    "    for s in x.split():\n",
    "        if s in contractions_dict.keys():\n",
    "            \n",
    "            s = contractions_dict.get(s)\n",
    "        exp_sentence.append(s)\n",
    "        \n",
    "    x = ' '.join(exp_sentence)\n",
    "    return x\n",
    "#     print(xsplited)\n",
    "#     return xsplited"
   ]
  },
  {
   "cell_type": "code",
   "execution_count": 26,
   "metadata": {
    "colab": {
     "base_uri": "https://localhost:8080/"
    },
    "id": "0nMow2Yn_FiA",
    "outputId": "f339a87b-e7ce-4727-bd0a-02f885129689"
   },
   "outputs": [
    {
     "name": "stdout",
     "output_type": "stream",
     "text": [
      "CPU times: user 5.5 s, sys: 149 ms, total: 5.65 s\n",
      "Wall time: 5.65 s\n"
     ]
    }
   ],
   "source": [
    "%%time\n",
    "data['text'] = data['text'].apply(text_cleaning_apos)\n",
    "data['title'] = data['title'].apply(text_cleaning_apos)\n",
    "\n",
    "data['text'] = data['text'].apply(cont_to_exp)\n",
    "data['title'] = data['title'].apply(cont_to_exp)"
   ]
  },
  {
   "cell_type": "code",
   "execution_count": 27,
   "metadata": {
    "id": "ZWsnhtN1Xy9s"
   },
   "outputs": [],
   "source": [
    "def text_cleaning(text):\n",
    "    text = str(text)\n",
    "    text = text.lower()\n",
    "    text = re.sub(\"[^a-zA-Z]\", \" \", text) # removing punctuation\n",
    "    # remove special characters from text column\n",
    "    text = re.sub('[#,@,&]', '',text)\n",
    "    # Remove digits\n",
    "    text = re.sub('\\d*','', text)\n",
    "    # remove \"'s\"\n",
    "    text = re.sub(\"'s\",'', text)\n",
    "    #Remove www\n",
    "    text = re.sub('w{3}','', text)\n",
    "    # remove urls\n",
    "    text = re.sub(\"http\\S+\", \"\", text)\n",
    "    # remove multiple spaces with single space\n",
    "    text = re.sub('\\s+', ' ', text)\n",
    "    #remove all single characters\n",
    "    text = re.sub(r'\\s+[a-zA-Z]\\s+', ' ', text)\n",
    "\n",
    "    return text"
   ]
  },
  {
   "cell_type": "code",
   "execution_count": 28,
   "metadata": {
    "colab": {
     "base_uri": "https://localhost:8080/"
    },
    "id": "8aywaNJjXy9t",
    "outputId": "adde018d-75d9-4092-e65e-5c65797faf37"
   },
   "outputs": [
    {
     "name": "stdout",
     "output_type": "stream",
     "text": [
      "CPU times: user 24.4 s, sys: 7.49 ms, total: 24.4 s\n",
      "Wall time: 24.4 s\n"
     ]
    }
   ],
   "source": [
    "%%time\n",
    "data['title'] = data['title'].apply(text_cleaning) \n",
    "data['text'] = data['text'].apply(text_cleaning) "
   ]
  },
  {
   "cell_type": "code",
   "execution_count": 29,
   "metadata": {
    "colab": {
     "base_uri": "https://localhost:8080/",
     "height": 206
    },
    "id": "vdpGpTh5Xy9t",
    "outputId": "14e02cc4-653b-4ce1-e5f3-f423814550ca"
   },
   "outputs": [
    {
     "data": {
      "text/html": [
       "<div>\n",
       "<style scoped>\n",
       "    .dataframe tbody tr th:only-of-type {\n",
       "        vertical-align: middle;\n",
       "    }\n",
       "\n",
       "    .dataframe tbody tr th {\n",
       "        vertical-align: top;\n",
       "    }\n",
       "\n",
       "    .dataframe thead th {\n",
       "        text-align: right;\n",
       "    }\n",
       "</style>\n",
       "<table border=\"1\" class=\"dataframe\">\n",
       "  <thead>\n",
       "    <tr style=\"text-align: right;\">\n",
       "      <th></th>\n",
       "      <th>title</th>\n",
       "      <th>text</th>\n",
       "      <th>label</th>\n",
       "    </tr>\n",
       "  </thead>\n",
       "  <tbody>\n",
       "    <tr>\n",
       "      <th>0</th>\n",
       "      <td>house dem aide we did not even see comey lette...</td>\n",
       "      <td>house dem aide we did not even see comey lette...</td>\n",
       "      <td>1</td>\n",
       "    </tr>\n",
       "    <tr>\n",
       "      <th>1</th>\n",
       "      <td>flynn hillary clinton big woman on campus brei...</td>\n",
       "      <td>ever get the feeling your life circles the rou...</td>\n",
       "      <td>0</td>\n",
       "    </tr>\n",
       "    <tr>\n",
       "      <th>2</th>\n",
       "      <td>why the truth might get you fired</td>\n",
       "      <td>why the truth might get you fired october the ...</td>\n",
       "      <td>1</td>\n",
       "    </tr>\n",
       "    <tr>\n",
       "      <th>3</th>\n",
       "      <td>civilians killed in single us airstrike have ...</td>\n",
       "      <td>videos civilians killed in single us airstrike...</td>\n",
       "      <td>1</td>\n",
       "    </tr>\n",
       "    <tr>\n",
       "      <th>4</th>\n",
       "      <td>iranian woman jailed for fictional unpublished...</td>\n",
       "      <td>print an iranian woman has been sentenced to s...</td>\n",
       "      <td>1</td>\n",
       "    </tr>\n",
       "  </tbody>\n",
       "</table>\n",
       "</div>"
      ],
      "text/plain": [
       "                                               title  \\\n",
       "0  house dem aide we did not even see comey lette...   \n",
       "1  flynn hillary clinton big woman on campus brei...   \n",
       "2                  why the truth might get you fired   \n",
       "3   civilians killed in single us airstrike have ...   \n",
       "4  iranian woman jailed for fictional unpublished...   \n",
       "\n",
       "                                                text  label  \n",
       "0  house dem aide we did not even see comey lette...      1  \n",
       "1  ever get the feeling your life circles the rou...      0  \n",
       "2  why the truth might get you fired october the ...      1  \n",
       "3  videos civilians killed in single us airstrike...      1  \n",
       "4  print an iranian woman has been sentenced to s...      1  "
      ]
     },
     "execution_count": 29,
     "metadata": {},
     "output_type": "execute_result"
    }
   ],
   "source": [
    "data.head()"
   ]
  },
  {
   "cell_type": "code",
   "execution_count": 30,
   "metadata": {
    "id": "4bzPaaqWXy9t"
   },
   "outputs": [],
   "source": [
    "# # Cleaning the words\n",
    "# lemmatizer = WordNetLemmatizer()\n",
    "\n",
    "# def nltk_clean(text):\n",
    "#     text = str(text).lower()\n",
    "#     text = [lemmatizer.lemmatize(word) for word in word_tokenize(text) if word not in stopwords.words('english')]\n",
    "#     text = ' '.join(text)\n",
    "#     return text"
   ]
  },
  {
   "cell_type": "code",
   "execution_count": 31,
   "metadata": {
    "id": "Pq4BQ6CAXy9t"
   },
   "outputs": [],
   "source": [
    "# %%time\n",
    "\n",
    "# # takes alot of time\n",
    "# data['title'] = data['title'].apply(nltk_clean) \n",
    "# data['text'] = data['text'].apply(nltk_clean) "
   ]
  },
  {
   "cell_type": "code",
   "execution_count": 32,
   "metadata": {
    "colab": {
     "base_uri": "https://localhost:8080/",
     "height": 206
    },
    "id": "EzTz2G8OXy9u",
    "outputId": "b41639e8-eedf-4970-e09f-ed2101b13043"
   },
   "outputs": [
    {
     "data": {
      "text/html": [
       "<div>\n",
       "<style scoped>\n",
       "    .dataframe tbody tr th:only-of-type {\n",
       "        vertical-align: middle;\n",
       "    }\n",
       "\n",
       "    .dataframe tbody tr th {\n",
       "        vertical-align: top;\n",
       "    }\n",
       "\n",
       "    .dataframe thead th {\n",
       "        text-align: right;\n",
       "    }\n",
       "</style>\n",
       "<table border=\"1\" class=\"dataframe\">\n",
       "  <thead>\n",
       "    <tr style=\"text-align: right;\">\n",
       "      <th></th>\n",
       "      <th>title</th>\n",
       "      <th>text</th>\n",
       "      <th>label</th>\n",
       "    </tr>\n",
       "  </thead>\n",
       "  <tbody>\n",
       "    <tr>\n",
       "      <th>0</th>\n",
       "      <td>house dem aide we did not even see comey lette...</td>\n",
       "      <td>house dem aide we did not even see comey lette...</td>\n",
       "      <td>1</td>\n",
       "    </tr>\n",
       "    <tr>\n",
       "      <th>1</th>\n",
       "      <td>flynn hillary clinton big woman on campus brei...</td>\n",
       "      <td>ever get the feeling your life circles the rou...</td>\n",
       "      <td>0</td>\n",
       "    </tr>\n",
       "    <tr>\n",
       "      <th>2</th>\n",
       "      <td>why the truth might get you fired</td>\n",
       "      <td>why the truth might get you fired october the ...</td>\n",
       "      <td>1</td>\n",
       "    </tr>\n",
       "    <tr>\n",
       "      <th>3</th>\n",
       "      <td>civilians killed in single us airstrike have ...</td>\n",
       "      <td>videos civilians killed in single us airstrike...</td>\n",
       "      <td>1</td>\n",
       "    </tr>\n",
       "    <tr>\n",
       "      <th>4</th>\n",
       "      <td>iranian woman jailed for fictional unpublished...</td>\n",
       "      <td>print an iranian woman has been sentenced to s...</td>\n",
       "      <td>1</td>\n",
       "    </tr>\n",
       "  </tbody>\n",
       "</table>\n",
       "</div>"
      ],
      "text/plain": [
       "                                               title  \\\n",
       "0  house dem aide we did not even see comey lette...   \n",
       "1  flynn hillary clinton big woman on campus brei...   \n",
       "2                  why the truth might get you fired   \n",
       "3   civilians killed in single us airstrike have ...   \n",
       "4  iranian woman jailed for fictional unpublished...   \n",
       "\n",
       "                                                text  label  \n",
       "0  house dem aide we did not even see comey lette...      1  \n",
       "1  ever get the feeling your life circles the rou...      0  \n",
       "2  why the truth might get you fired october the ...      1  \n",
       "3  videos civilians killed in single us airstrike...      1  \n",
       "4  print an iranian woman has been sentenced to s...      1  "
      ]
     },
     "execution_count": 32,
     "metadata": {},
     "output_type": "execute_result"
    }
   ],
   "source": [
    "data.head()"
   ]
  },
  {
   "cell_type": "code",
   "execution_count": 33,
   "metadata": {
    "colab": {
     "base_uri": "https://localhost:8080/",
     "height": 35
    },
    "id": "TtHCVDcH_FgD",
    "outputId": "89319fae-52c3-4be2-ca8e-196c03ed7c2d"
   },
   "outputs": [
    {
     "data": {
      "text/plain": [
       "'house dem aide we did not even see comey letter until jason chaffetz tweeted it'"
      ]
     },
     "execution_count": 33,
     "metadata": {},
     "output_type": "execute_result"
    }
   ],
   "source": [
    "data.title[0]"
   ]
  },
  {
   "cell_type": "markdown",
   "metadata": {
    "id": "RW1tA6rB_Fep"
   },
   "source": [
    "# Feature Engineering"
   ]
  },
  {
   "cell_type": "code",
   "execution_count": 34,
   "metadata": {
    "id": "SyWuKE9w_Fco"
   },
   "outputs": [],
   "source": [
    "data['title_len'] = data['title'].apply(lambda x: len(str(x).split(' ')))\n",
    "data['text_len'] = data['text'].apply(lambda x: len(str(x).split(' ')))\n",
    "data['title_text_ratio'] = data['title_len']/data['text_len']\n",
    "# train['avg_title_len'] = train['title'].apply(lambda x: len(str(x).split()))"
   ]
  },
  {
   "cell_type": "code",
   "execution_count": 35,
   "metadata": {
    "colab": {
     "base_uri": "https://localhost:8080/",
     "height": 424
    },
    "id": "BRr5g2HY_FZT",
    "outputId": "125c8d95-3380-43fc-8b80-403c85ab49d8"
   },
   "outputs": [
    {
     "data": {
      "text/html": [
       "<div>\n",
       "<style scoped>\n",
       "    .dataframe tbody tr th:only-of-type {\n",
       "        vertical-align: middle;\n",
       "    }\n",
       "\n",
       "    .dataframe tbody tr th {\n",
       "        vertical-align: top;\n",
       "    }\n",
       "\n",
       "    .dataframe thead th {\n",
       "        text-align: right;\n",
       "    }\n",
       "</style>\n",
       "<table border=\"1\" class=\"dataframe\">\n",
       "  <thead>\n",
       "    <tr style=\"text-align: right;\">\n",
       "      <th></th>\n",
       "      <th>title</th>\n",
       "      <th>text</th>\n",
       "      <th>label</th>\n",
       "      <th>title_len</th>\n",
       "      <th>text_len</th>\n",
       "      <th>title_text_ratio</th>\n",
       "    </tr>\n",
       "  </thead>\n",
       "  <tbody>\n",
       "    <tr>\n",
       "      <th>0</th>\n",
       "      <td>house dem aide we did not even see comey lette...</td>\n",
       "      <td>house dem aide we did not even see comey lette...</td>\n",
       "      <td>1</td>\n",
       "      <td>15</td>\n",
       "      <td>812</td>\n",
       "      <td>0.018473</td>\n",
       "    </tr>\n",
       "    <tr>\n",
       "      <th>1</th>\n",
       "      <td>flynn hillary clinton big woman on campus brei...</td>\n",
       "      <td>ever get the feeling your life circles the rou...</td>\n",
       "      <td>0</td>\n",
       "      <td>8</td>\n",
       "      <td>673</td>\n",
       "      <td>0.011887</td>\n",
       "    </tr>\n",
       "    <tr>\n",
       "      <th>2</th>\n",
       "      <td>why the truth might get you fired</td>\n",
       "      <td>why the truth might get you fired october the ...</td>\n",
       "      <td>1</td>\n",
       "      <td>7</td>\n",
       "      <td>1227</td>\n",
       "      <td>0.005705</td>\n",
       "    </tr>\n",
       "    <tr>\n",
       "      <th>3</th>\n",
       "      <td>civilians killed in single us airstrike have ...</td>\n",
       "      <td>videos civilians killed in single us airstrike...</td>\n",
       "      <td>1</td>\n",
       "      <td>10</td>\n",
       "      <td>530</td>\n",
       "      <td>0.018868</td>\n",
       "    </tr>\n",
       "    <tr>\n",
       "      <th>4</th>\n",
       "      <td>iranian woman jailed for fictional unpublished...</td>\n",
       "      <td>print an iranian woman has been sentenced to s...</td>\n",
       "      <td>1</td>\n",
       "      <td>14</td>\n",
       "      <td>143</td>\n",
       "      <td>0.097902</td>\n",
       "    </tr>\n",
       "    <tr>\n",
       "      <th>...</th>\n",
       "      <td>...</td>\n",
       "      <td>...</td>\n",
       "      <td>...</td>\n",
       "      <td>...</td>\n",
       "      <td>...</td>\n",
       "      <td>...</td>\n",
       "    </tr>\n",
       "    <tr>\n",
       "      <th>20795</th>\n",
       "      <td>rapper i trump poster child for white supremacy</td>\n",
       "      <td>rapper i unloaded on black celebrities who met...</td>\n",
       "      <td>0</td>\n",
       "      <td>9</td>\n",
       "      <td>296</td>\n",
       "      <td>0.030405</td>\n",
       "    </tr>\n",
       "    <tr>\n",
       "      <th>20796</th>\n",
       "      <td>n l playoffs schedule matchups and odds the ne...</td>\n",
       "      <td>when the green bay packers lost to the washing...</td>\n",
       "      <td>0</td>\n",
       "      <td>11</td>\n",
       "      <td>1014</td>\n",
       "      <td>0.010848</td>\n",
       "    </tr>\n",
       "    <tr>\n",
       "      <th>20797</th>\n",
       "      <td>macy is said to receive takeover approach by h...</td>\n",
       "      <td>the macy of today grew from the union of sever...</td>\n",
       "      <td>0</td>\n",
       "      <td>14</td>\n",
       "      <td>755</td>\n",
       "      <td>0.018543</td>\n",
       "    </tr>\n",
       "    <tr>\n",
       "      <th>20798</th>\n",
       "      <td>nato russia to hold parallel exercises in balkans</td>\n",
       "      <td>nato russia to hold parallel exercises in balk...</td>\n",
       "      <td>1</td>\n",
       "      <td>8</td>\n",
       "      <td>261</td>\n",
       "      <td>0.030651</td>\n",
       "    </tr>\n",
       "    <tr>\n",
       "      <th>20799</th>\n",
       "      <td>what keeps the alive</td>\n",
       "      <td>david swanson is an author activist journalist...</td>\n",
       "      <td>1</td>\n",
       "      <td>4</td>\n",
       "      <td>1105</td>\n",
       "      <td>0.003620</td>\n",
       "    </tr>\n",
       "  </tbody>\n",
       "</table>\n",
       "<p>20203 rows × 6 columns</p>\n",
       "</div>"
      ],
      "text/plain": [
       "                                                   title  \\\n",
       "0      house dem aide we did not even see comey lette...   \n",
       "1      flynn hillary clinton big woman on campus brei...   \n",
       "2                      why the truth might get you fired   \n",
       "3       civilians killed in single us airstrike have ...   \n",
       "4      iranian woman jailed for fictional unpublished...   \n",
       "...                                                  ...   \n",
       "20795   rapper i trump poster child for white supremacy    \n",
       "20796  n l playoffs schedule matchups and odds the ne...   \n",
       "20797  macy is said to receive takeover approach by h...   \n",
       "20798  nato russia to hold parallel exercises in balkans   \n",
       "20799                               what keeps the alive   \n",
       "\n",
       "                                                    text  label  title_len  \\\n",
       "0      house dem aide we did not even see comey lette...      1         15   \n",
       "1      ever get the feeling your life circles the rou...      0          8   \n",
       "2      why the truth might get you fired october the ...      1          7   \n",
       "3      videos civilians killed in single us airstrike...      1         10   \n",
       "4      print an iranian woman has been sentenced to s...      1         14   \n",
       "...                                                  ...    ...        ...   \n",
       "20795  rapper i unloaded on black celebrities who met...      0          9   \n",
       "20796  when the green bay packers lost to the washing...      0         11   \n",
       "20797  the macy of today grew from the union of sever...      0         14   \n",
       "20798  nato russia to hold parallel exercises in balk...      1          8   \n",
       "20799  david swanson is an author activist journalist...      1          4   \n",
       "\n",
       "       text_len  title_text_ratio  \n",
       "0           812          0.018473  \n",
       "1           673          0.011887  \n",
       "2          1227          0.005705  \n",
       "3           530          0.018868  \n",
       "4           143          0.097902  \n",
       "...         ...               ...  \n",
       "20795       296          0.030405  \n",
       "20796      1014          0.010848  \n",
       "20797       755          0.018543  \n",
       "20798       261          0.030651  \n",
       "20799      1105          0.003620  \n",
       "\n",
       "[20203 rows x 6 columns]"
      ]
     },
     "execution_count": 35,
     "metadata": {},
     "output_type": "execute_result"
    }
   ],
   "source": [
    "data"
   ]
  },
  {
   "cell_type": "code",
   "execution_count": 36,
   "metadata": {
    "colab": {
     "base_uri": "https://localhost:8080/"
    },
    "id": "a6Eip6dsXy9u",
    "outputId": "073a7f6e-082a-436c-a18d-c2a4dc19e62c"
   },
   "outputs": [
    {
     "data": {
      "text/plain": [
       "<bound method IndexOpsMixin.value_counts of 0        15\n",
       "1         8\n",
       "2         7\n",
       "3        10\n",
       "4        14\n",
       "         ..\n",
       "20795     9\n",
       "20796    11\n",
       "20797    14\n",
       "20798     8\n",
       "20799     4\n",
       "Name: title_len, Length: 20203, dtype: int64>"
      ]
     },
     "execution_count": 36,
     "metadata": {},
     "output_type": "execute_result"
    }
   ],
   "source": [
    "data.title_len.value_counts"
   ]
  },
  {
   "cell_type": "code",
   "execution_count": 37,
   "metadata": {
    "colab": {
     "base_uri": "https://localhost:8080/",
     "height": 458
    },
    "id": "VHi8kbvwbDrM",
    "outputId": "a0b21d06-9c6c-4cd8-d799-e3cc1dc137f3"
   },
   "outputs": [
    {
     "data": {
      "image/png": "[encoded data removed]",
      "text/plain": [
       "<Figure size 1500x700 with 1 Axes>"
      ]
     },
     "metadata": {},
     "output_type": "display_data"
    }
   ],
   "source": [
    "# Title Word Count distribution\n",
    "plt.figure(figsize = (15,7))\n",
    "plt.grid()\n",
    "plt.hist(x = data.title_len, bins=25)\n",
    "plt.xlabel('word length')\n",
    "plt.ylabel('Count')\n",
    "percent = 99\n",
    "for i in range(95,100):\n",
    "    plt.axvline(x = np.percentile(data.title_len, i), color = 'r', label = 'axvline - full height')\n",
    "plt.title(f'Title Word Count distribution: {np.percentile(data.title_len, percent)} words cover {percent}% of title data')\n",
    "plt.show()"
   ]
  },
  {
   "cell_type": "code",
   "execution_count": 38,
   "metadata": {
    "colab": {
     "base_uri": "https://localhost:8080/",
     "height": 458
    },
    "id": "S0idro9ifJZ5",
    "outputId": "2cd0c1a1-eb8a-46ce-dea4-6612ac8cc490"
   },
   "outputs": [
    {
     "data": {
      "image/png": "[encoded data removed]",
      "text/plain": [
       "<Figure size 1500x700 with 1 Axes>"
      ]
     },
     "metadata": {},
     "output_type": "display_data"
    }
   ],
   "source": [
    "# Title Word Count distribution\n",
    "plt.figure(figsize = (15,7))\n",
    "plt.grid()\n",
    "plt.hist(x = data.text_len, bins=25)\n",
    "plt.xlabel('word length')\n",
    "plt.ylabel('Count')\n",
    "# plt.plot(x = , y = 0)\n",
    "percent = 99\n",
    "for i in range(95,100):\n",
    "    plt.axvline(x = np.percentile(data.text_len, i), color = 'b', label = 'axvline - full height')\n",
    "plt.title(f'Text Word Count distribution: {np.percentile(data.text_len, percent)} words cover {percent}% of text data')\n",
    "plt.show()"
   ]
  },
  {
   "cell_type": "markdown",
   "metadata": {
    "id": "Z147GJikd5mN"
   },
   "source": [
    "so word lenghth upto 22 covers 99% of the dataset title\n",
    "so word lenghth upto 4061 covers 99% of the dataset text"
   ]
  },
  {
   "cell_type": "markdown",
   "metadata": {
    "id": "zMzg6P0U_FW-"
   },
   "source": [
    "# Text Vectorization"
   ]
  },
  {
   "cell_type": "code",
   "execution_count": 39,
   "metadata": {
    "id": "b8FYNVAP_FUl"
   },
   "outputs": [],
   "source": [
    "from sklearn.feature_extraction.text import TfidfVectorizer"
   ]
  },
  {
   "cell_type": "code",
   "execution_count": 40,
   "metadata": {
    "colab": {
     "base_uri": "https://localhost:8080/",
     "height": 122
    },
    "id": "UyVdezFA5CJg",
    "outputId": "3f87f6b0-9808-4e3d-acdd-906a4fc46809"
   },
   "outputs": [
    {
     "data": {
      "text/plain": [
       "'the bbc produced spoof on the real housewives tv programmes which has comedic islamic state twist has been criticised by leftists and muslims who claim the sketch is offensive the bbc released the trailer earlier this week and were immediately slammed by those on the left and muslims who thought that making fun of the brides of members of the terror group was out of the bounds of conventional humour the sketch is part of new programme called revolting written by jolyon rubinstein and heydon prowse which according to the bbc is satirising the state of the nation lololol pic twitter raheem kassam raheemkassam january the bbc facebook page was inundated with criticism one user wrote m mortified that the bbc had produced such programme this is simply bad taste the fact it is comedy makes it even more worrying that humour should be associated with the actions of isis is this really what tv licenses are funding others took different point of view including muslim saying as muslim find this hilarious brilliant the satire is on point highlighting the pathetic ideals of pathetic group like isis not all muslims agreed with the sentiment and users on twitter expressed just as much outrage for the sketch one man bangladeshi said the bbc really made satirical show called the real housewives of isis while the real housewives of isis are being raped and abused daily the bbc really made satirical show called the real housewives of isis while the real housewives of isis are being raped and abused daily meraj unclemeraj january another wrote real housewives of isis will make hijabis feel more isolated targeted by islamophobes thanks bbc for adding to the negative stereotype real housewives of isis will make hijabis feel more isolated targeted by islamophobes thanks bbc for adding to the negative stereotype ashkaneskittles january leftists also articulated how offended they were that the public broadcaster would dare create such sketch mocking islamic state some questioned whether the use of taxpayer money via the tv license fee should go toward the funding of the programme as if people tv license in this country is going towards funding the production of programme called the real housewives of isis wow cameron edgar cammyyyedgar january the video itself has already been viewed millions of times on facebook and other social media platforms the clip shows several women in hijabs talking to each other in house taking selfies and showing off their suicide belts to each other one woman even mentions that she had not come from birmingham to do this as she scrubbed the floor of the home women joining islamic state and travelling to syria to become brides has become real problem in european countries as the terror group promises young girls more glamorous lifestyle in eight schoolgirls from bethnal green travelled to syria to become brides of islamic state fighters all of them under the age of '"
      ]
     },
     "execution_count": 40,
     "metadata": {},
     "output_type": "execute_result"
    }
   ],
   "source": [
    "s = data.text[11]\n",
    "s"
   ]
  },
  {
   "cell_type": "code",
   "execution_count": 41,
   "metadata": {
    "colab": {
     "base_uri": "https://localhost:8080/"
    },
    "id": "Quf6G8vV_FOz",
    "outputId": "a82547c8-b45f-4375-c895-2a6908f3b8bf"
   },
   "outputs": [
    {
     "data": {
      "text/plain": [
       "<1x244 sparse matrix of type '<class 'numpy.float64'>'\n",
       "\twith 244 stored elements in Compressed Sparse Row format>"
      ]
     },
     "execution_count": 41,
     "metadata": {},
     "output_type": "execute_result"
    }
   ],
   "source": [
    "from scipy import sparse\n",
    "tfidf = TfidfVectorizer()\n",
    "ddd = tfidf.fit_transform(np.array([s]))\n",
    "ddd"
   ]
  },
  {
   "cell_type": "code",
   "execution_count": 42,
   "metadata": {
    "id": "DUxY_1R2_FBH"
   },
   "outputs": [],
   "source": [
    "# tfidf.get_feature_names()"
   ]
  },
  {
   "cell_type": "code",
   "execution_count": 43,
   "metadata": {
    "colab": {
     "base_uri": "https://localhost:8080/",
     "height": 424
    },
    "id": "y0qR_1mD8b_p",
    "outputId": "05472a60-7d74-4768-98d3-2bcedeb403bf"
   },
   "outputs": [
    {
     "data": {
      "text/html": [
       "<div>\n",
       "<style scoped>\n",
       "    .dataframe tbody tr th:only-of-type {\n",
       "        vertical-align: middle;\n",
       "    }\n",
       "\n",
       "    .dataframe tbody tr th {\n",
       "        vertical-align: top;\n",
       "    }\n",
       "\n",
       "    .dataframe thead th {\n",
       "        text-align: right;\n",
       "    }\n",
       "</style>\n",
       "<table border=\"1\" class=\"dataframe\">\n",
       "  <thead>\n",
       "    <tr style=\"text-align: right;\">\n",
       "      <th></th>\n",
       "      <th>text</th>\n",
       "      <th>title</th>\n",
       "      <th>label</th>\n",
       "    </tr>\n",
       "  </thead>\n",
       "  <tbody>\n",
       "    <tr>\n",
       "      <th>0</th>\n",
       "      <td>house dem aide we did not even see comey lette...</td>\n",
       "      <td>house dem aide we did not even see comey lette...</td>\n",
       "      <td>1</td>\n",
       "    </tr>\n",
       "    <tr>\n",
       "      <th>1</th>\n",
       "      <td>ever get the feeling your life circles the rou...</td>\n",
       "      <td>flynn hillary clinton big woman on campus brei...</td>\n",
       "      <td>0</td>\n",
       "    </tr>\n",
       "    <tr>\n",
       "      <th>2</th>\n",
       "      <td>why the truth might get you fired october the ...</td>\n",
       "      <td>why the truth might get you fired</td>\n",
       "      <td>1</td>\n",
       "    </tr>\n",
       "    <tr>\n",
       "      <th>3</th>\n",
       "      <td>videos civilians killed in single us airstrike...</td>\n",
       "      <td>civilians killed in single us airstrike have ...</td>\n",
       "      <td>1</td>\n",
       "    </tr>\n",
       "    <tr>\n",
       "      <th>4</th>\n",
       "      <td>print an iranian woman has been sentenced to s...</td>\n",
       "      <td>iranian woman jailed for fictional unpublished...</td>\n",
       "      <td>1</td>\n",
       "    </tr>\n",
       "    <tr>\n",
       "      <th>...</th>\n",
       "      <td>...</td>\n",
       "      <td>...</td>\n",
       "      <td>...</td>\n",
       "    </tr>\n",
       "    <tr>\n",
       "      <th>20795</th>\n",
       "      <td>rapper i unloaded on black celebrities who met...</td>\n",
       "      <td>rapper i trump poster child for white supremacy</td>\n",
       "      <td>0</td>\n",
       "    </tr>\n",
       "    <tr>\n",
       "      <th>20796</th>\n",
       "      <td>when the green bay packers lost to the washing...</td>\n",
       "      <td>n l playoffs schedule matchups and odds the ne...</td>\n",
       "      <td>0</td>\n",
       "    </tr>\n",
       "    <tr>\n",
       "      <th>20797</th>\n",
       "      <td>the macy of today grew from the union of sever...</td>\n",
       "      <td>macy is said to receive takeover approach by h...</td>\n",
       "      <td>0</td>\n",
       "    </tr>\n",
       "    <tr>\n",
       "      <th>20798</th>\n",
       "      <td>nato russia to hold parallel exercises in balk...</td>\n",
       "      <td>nato russia to hold parallel exercises in balkans</td>\n",
       "      <td>1</td>\n",
       "    </tr>\n",
       "    <tr>\n",
       "      <th>20799</th>\n",
       "      <td>david swanson is an author activist journalist...</td>\n",
       "      <td>what keeps the alive</td>\n",
       "      <td>1</td>\n",
       "    </tr>\n",
       "  </tbody>\n",
       "</table>\n",
       "<p>20203 rows × 3 columns</p>\n",
       "</div>"
      ],
      "text/plain": [
       "                                                    text  \\\n",
       "0      house dem aide we did not even see comey lette...   \n",
       "1      ever get the feeling your life circles the rou...   \n",
       "2      why the truth might get you fired october the ...   \n",
       "3      videos civilians killed in single us airstrike...   \n",
       "4      print an iranian woman has been sentenced to s...   \n",
       "...                                                  ...   \n",
       "20795  rapper i unloaded on black celebrities who met...   \n",
       "20796  when the green bay packers lost to the washing...   \n",
       "20797  the macy of today grew from the union of sever...   \n",
       "20798  nato russia to hold parallel exercises in balk...   \n",
       "20799  david swanson is an author activist journalist...   \n",
       "\n",
       "                                                   title  label  \n",
       "0      house dem aide we did not even see comey lette...      1  \n",
       "1      flynn hillary clinton big woman on campus brei...      0  \n",
       "2                      why the truth might get you fired      1  \n",
       "3       civilians killed in single us airstrike have ...      1  \n",
       "4      iranian woman jailed for fictional unpublished...      1  \n",
       "...                                                  ...    ...  \n",
       "20795   rapper i trump poster child for white supremacy       0  \n",
       "20796  n l playoffs schedule matchups and odds the ne...      0  \n",
       "20797  macy is said to receive takeover approach by h...      0  \n",
       "20798  nato russia to hold parallel exercises in balkans      1  \n",
       "20799                               what keeps the alive      1  \n",
       "\n",
       "[20203 rows x 3 columns]"
      ]
     },
     "execution_count": 43,
     "metadata": {},
     "output_type": "execute_result"
    }
   ],
   "source": [
    "data[['text','title','label']]"
   ]
  },
  {
   "cell_type": "markdown",
   "metadata": {
    "id": "_Rg4Vd1tATFP"
   },
   "source": [
    "# Helper functions"
   ]
  },
  {
   "cell_type": "code",
   "execution_count": 44,
   "metadata": {
    "id": "WFMFybLvASGp"
   },
   "outputs": [],
   "source": [
    "# Function to evaluate: accuracy, precision, recall, f1-score\n",
    "from sklearn.metrics import accuracy_score, precision_recall_fscore_support\n",
    "import datetime\n",
    "\n",
    "\n",
    "def calculate_results(y_true, y_pred):\n",
    "  \"\"\"\n",
    "  Calculates model accuracy, precision, recall and f1 score of a binary classification model.\n",
    "  Args:\n",
    "      y_true: true labels in the form of a 1D array\n",
    "      y_pred: predicted labels in the form of a 1D array\n",
    "  Returns a dictionary of accuracy, precision, recall, f1-score.\n",
    "  \"\"\"\n",
    "  # Calculate model accuracy\n",
    "  model_accuracy = accuracy_score(y_true, y_pred) * 100\n",
    "  # Calculate model precision, recall and f1 score using \"weighted average\n",
    "  model_precision, model_recall, model_f1, _ = precision_recall_fscore_support(y_true, y_pred, average=\"weighted\")\n",
    "  model_results = {\"accuracy\": model_accuracy,\n",
    "                  \"precision\": model_precision,\n",
    "                  \"recall\": model_recall,\n",
    "                  \"f1\": model_f1}\n",
    "  return model_results"
   ]
  },
  {
   "cell_type": "code",
   "execution_count": 45,
   "metadata": {
    "id": "Zcf_IY5nUxmy"
   },
   "outputs": [],
   "source": [
    "def create_tensorboard_callback(dir_name, experiment_name):\n",
    "    \"\"\"\n",
    "    Creates a TensorBoard callback instand to store log files.\n",
    "    Stores log files with the filepath:\n",
    "    \"dir_name/experiment_name/current_datetime/\"\n",
    "    Args:\n",
    "    dir_name: target directory to store TensorBoard log files\n",
    "    experiment_name: name of experiment directory (e.g. efficientnet_model_1)\n",
    "    \"\"\"\n",
    "    log_dir = dir_name + \"/\" + experiment_name + \"/\" + datetime.datetime.now().strftime(\"%Y%m%d-%H%M%S\")\n",
    "    tensorboard_callback = tf.keras.callbacks.TensorBoard(\n",
    "        log_dir=log_dir\n",
    "    )\n",
    "    print(f\"Saving TensorBoard log files to: {log_dir}\")\n",
    "    return tensorboard_callback\n"
   ]
  },
  {
   "cell_type": "code",
   "execution_count": 113,
   "metadata": {},
   "outputs": [],
   "source": [
    "\n",
    "def plot_loss_curves(history):\n",
    "  \"\"\"\n",
    "  Returns separate loss curves for training and validation metrics.\n",
    "  Args:\n",
    "    history: TensorFlow model History object (see: https://www.tensorflow.org/api_docs/python/tf/keras/callbacks/History)\n",
    "  \"\"\" \n",
    "  loss = history.history['loss']\n",
    "  val_loss = history.history['val_loss']\n",
    "\n",
    "  accuracy = history.history['accuracy']\n",
    "  val_accuracy = history.history['val_accuracy']\n",
    "\n",
    "  epochs = range(len(history.history['loss']))\n",
    "\n",
    "  # Plot loss\n",
    "  plt.plot(epochs, loss, label='training_loss')\n",
    "  plt.plot(epochs, val_loss, label='val_loss')\n",
    "  plt.title('Loss')\n",
    "  plt.xlabel('Epochs')\n",
    "  plt.legend()\n",
    "\n",
    "  # Plot accuracy\n",
    "  plt.figure()\n",
    "  plt.plot(epochs, accuracy, label='training_accuracy')\n",
    "  plt.plot(epochs, val_accuracy, label='val_accuracy')\n",
    "  plt.title('Accuracy')\n",
    "  plt.xlabel('Epochs')\n",
    "  plt.legend();\n",
    "\n",
    "def compare_historys(original_history, new_history, initial_epochs=5):\n",
    "    \"\"\"\n",
    "    Compares two TensorFlow model History objects.\n",
    "    \n",
    "    Args:\n",
    "      original_history: History object from original model (before new_history)\n",
    "      new_history: History object from continued model training (after original_history)\n",
    "      initial_epochs: Number of epochs in original_history (new_history plot starts from here) \n",
    "    \"\"\"\n",
    "    \n",
    "    # Get original history measurements\n",
    "    acc = original_history.history[\"accuracy\"]\n",
    "    loss = original_history.history[\"loss\"]\n",
    "\n",
    "    val_acc = original_history.history[\"val_accuracy\"]\n",
    "    val_loss = original_history.history[\"val_loss\"]\n",
    "\n",
    "    # Combine original history with new history\n",
    "    total_acc = acc + new_history.history[\"accuracy\"]\n",
    "    total_loss = loss + new_history.history[\"loss\"]\n",
    "\n",
    "    total_val_acc = val_acc + new_history.history[\"val_accuracy\"]\n",
    "    total_val_loss = val_loss + new_history.history[\"val_loss\"]\n",
    "\n",
    "    # Make plots\n",
    "    plt.figure(figsize=(8, 8))\n",
    "    plt.subplot(2, 1, 1)\n",
    "    plt.plot(total_acc, label='Training Accuracy')\n",
    "    plt.plot(total_val_acc, label='Validation Accuracy')\n",
    "    plt.plot([initial_epochs-1, initial_epochs-1],\n",
    "              plt.ylim(), label='Start Fine Tuning') # reshift plot around epochs\n",
    "    plt.legend(loc='lower right')\n",
    "    plt.title('Training and Validation Accuracy')\n",
    "\n",
    "    plt.subplot(2, 1, 2)\n",
    "    plt.plot(total_loss, label='Training Loss')\n",
    "    plt.plot(total_val_loss, label='Validation Loss')\n",
    "    plt.plot([initial_epochs-1, initial_epochs-1],\n",
    "              plt.ylim(), label='Start Fine Tuning') # reshift plot around epochs\n",
    "    plt.legend(loc='upper right')\n",
    "    plt.title('Training and Validation Loss')\n",
    "    plt.xlabel('epoch')\n",
    "    plt.show()"
   ]
  },
  {
   "cell_type": "markdown",
   "metadata": {
    "id": "fYCxuEbx8GpN"
   },
   "source": [
    "# Spliting data"
   ]
  },
  {
   "cell_type": "code",
   "execution_count": 46,
   "metadata": {
    "id": "RwAYgl0Y8RT5"
   },
   "outputs": [],
   "source": [
    "xtrain, xtest, ytrain, ytest = train_test_split(data[['title', 'text']], data['label'], test_size = .1, random_state=3, stratify = data.label)"
   ]
  },
  {
   "cell_type": "code",
   "execution_count": 47,
   "metadata": {
    "colab": {
     "base_uri": "https://localhost:8080/"
    },
    "id": "TVS6xmT69LtI",
    "outputId": "5e9d5f31-f6f0-47d9-d2cd-a09a2e37c49d"
   },
   "outputs": [
    {
     "name": "stdout",
     "output_type": "stream",
     "text": [
      "xtrain:  (18182, 2)\n",
      "ytrain:  (18182,)\n",
      "xtest:  (2021, 2)\n",
      "ytest:  (2021,)\n"
     ]
    }
   ],
   "source": [
    "print('xtrain: ', xtrain.shape)\n",
    "print('ytrain: ', ytrain.shape)\n",
    "print('xtest: ', xtest.shape)\n",
    "print('ytest: ', ytest.shape)"
   ]
  },
  {
   "cell_type": "markdown",
   "metadata": {
    "id": "WR65StrW_E-b"
   },
   "source": [
    "# Baseline : Model 0"
   ]
  },
  {
   "cell_type": "code",
   "execution_count": 48,
   "metadata": {
    "id": "Yl8DR4a-_E79"
   },
   "outputs": [],
   "source": [
    "from sklearn.naive_bayes import MultinomialNB\n",
    "from sklearn.feature_extraction.text import TfidfVectorizer\n",
    "from sklearn.pipeline import Pipeline"
   ]
  },
  {
   "cell_type": "code",
   "execution_count": 49,
   "metadata": {
    "colab": {
     "base_uri": "https://localhost:8080/"
    },
    "id": "zxB-WRIf_E5S",
    "outputId": "0921a222-c091-4934-a96f-b62eb4c543f9"
   },
   "outputs": [
    {
     "data": {
      "text/plain": [
       "Pipeline(steps=[('tfidf', TfidfVectorizer()), ('clf', MultinomialNB())])"
      ]
     },
     "execution_count": 49,
     "metadata": {},
     "output_type": "execute_result"
    }
   ],
   "source": [
    "model0 = Pipeline([\n",
    "    ('tfidf', TfidfVectorizer()),\n",
    "    ('clf', MultinomialNB())\n",
    "])\n",
    "\n",
    "#fit model\n",
    "model0.fit(xtrain.title.to_list(), ytrain.to_list())\n"
   ]
  },
  {
   "cell_type": "code",
   "execution_count": 50,
   "metadata": {
    "id": "gYv_3EjD_E18"
   },
   "outputs": [],
   "source": [
    "ytrue0 = ytest.to_list()\n",
    "ypred0 = model0.predict(xtest.title.to_list())"
   ]
  },
  {
   "cell_type": "code",
   "execution_count": 51,
   "metadata": {
    "colab": {
     "base_uri": "https://localhost:8080/"
    },
    "id": "rtm5_5lG_EzO",
    "outputId": "52905548-bd5e-4345-db0e-5b6ce510a529",
    "scrolled": true
   },
   "outputs": [
    {
     "data": {
      "text/plain": [
       "{'accuracy': 86.7887184562098,\n",
       " 'precision': 0.8776860580323497,\n",
       " 'recall': 0.867887184562098,\n",
       " 'f1': 0.8666621593840541}"
      ]
     },
     "execution_count": 51,
     "metadata": {},
     "output_type": "execute_result"
    }
   ],
   "source": [
    "calculate_results(ytrue0, ypred0)"
   ]
  },
  {
   "cell_type": "code",
   "execution_count": null,
   "metadata": {
    "id": "MrIM8-LTCBz4"
   },
   "outputs": [],
   "source": []
  },
  {
   "cell_type": "markdown",
   "metadata": {
    "id": "ZhPJC09lURkP"
   },
   "source": [
    "# Token Vectorization"
   ]
  },
  {
   "cell_type": "code",
   "execution_count": 52,
   "metadata": {
    "id": "SWbytWt0VTIS"
   },
   "outputs": [],
   "source": [
    "from tensorflow.keras.layers import TextVectorization, Conv1D, GlobalMaxPooling1D, GlobalAveragePooling1D\n",
    "from tensorflow.keras import layers\n",
    "import tensorflow as tf\n",
    "from tensorflow import keras"
   ]
  },
  {
   "cell_type": "code",
   "execution_count": 53,
   "metadata": {
    "colab": {
     "base_uri": "https://localhost:8080/"
    },
    "id": "8G6ZxzPqWHy6",
    "outputId": "4e173304-906f-4eb0-c390-31df091f9378"
   },
   "outputs": [
    {
     "name": "stdout",
     "output_type": "stream",
     "text": [
      "total token in titles:  19905\n",
      "total token in text:  140458\n",
      "total token combined:  140868\n"
     ]
    }
   ],
   "source": [
    "# number of unique words in dataset\n",
    "# %%time\n",
    "all_title_words_list = [words.split() for words in xtrain.title]\n",
    "all_title_words = set(num for sublist in all_title_words_list for num in sublist)\n",
    "print('total token in titles: ',len(all_title_words))\n",
    "\n",
    "all_text_words_list = [words.split() for words in xtrain.text]\n",
    "all_text_words = set(num for sublist in all_text_words_list for num in sublist)\n",
    "print('total token in text: ',len(all_text_words))\n",
    "\n",
    "all_words_combined_list = all_text_words_list + all_title_words_list\n",
    "all_words_combined = set(num for sublist in all_words_combined_list for num in sublist)\n",
    "\n",
    "print('total token combined: ',len(all_words_combined))"
   ]
  },
  {
   "cell_type": "code",
   "execution_count": 54,
   "metadata": {
    "colab": {
     "base_uri": "https://localhost:8080/"
    },
    "id": "QJVYZJ8razeb",
    "outputId": "1fe593e5-1a54-44bb-d602-1e37880ffbbe"
   },
   "outputs": [
    {
     "name": "stdout",
     "output_type": "stream",
     "text": [
      "output_sequence_len_title:  22\n",
      "output_sequence_len_text:  3967\n"
     ]
    }
   ],
   "source": [
    "# output_sequence_length\n",
    "percent_of_the_data_to_cover = 99\n",
    "output_sequence_len_title = int(np.percentile(data.title_len, percent_of_the_data_to_cover))\n",
    "print('output_sequence_len_title: ',output_sequence_len_title)\n",
    "output_sequence_len_text = int(np.percentile(data.text_len, percent_of_the_data_to_cover))\n",
    "print('output_sequence_len_text: ',output_sequence_len_text)"
   ]
  },
  {
   "cell_type": "markdown",
   "metadata": {
    "id": "rpORWcfEmzYR"
   },
   "source": [
    "we do not want every word to tokenize , there happens to be alot of less occuring words that we do not want. Thats why we will substract 500 words"
   ]
  },
  {
   "cell_type": "code",
   "execution_count": 55,
   "metadata": {
    "colab": {
     "base_uri": "https://localhost:8080/"
    },
    "id": "LZClqL1gWBED",
    "outputId": "2aec3d7e-2209-4704-af29-c4a7799b3cd3",
    "scrolled": true
   },
   "outputs": [
    {
     "name": "stdout",
     "output_type": "stream",
     "text": [
      "max_token_title:  17405\n",
      "max_token_text:  40458\n"
     ]
    }
   ],
   "source": [
    "max_token_title = len(all_title_words) - 2500          #number of words to tokenize -500 as we do not want every word to tokenize \n",
    "print('max_token_title: ',max_token_title)\n",
    "max_token_text = len(all_text_words) -100_000     # minus 100000 because there are alot of useless words in the data\n",
    "print('max_token_text: ',max_token_text)"
   ]
  },
  {
   "cell_type": "markdown",
   "metadata": {
    "id": "iyncHTnIXy9y"
   },
   "source": [
    "### VECTORIZER FOR TITLE\n"
   ]
  },
  {
   "cell_type": "code",
   "execution_count": 56,
   "metadata": {
    "id": "G77Vrdd7Vr9J",
    "scrolled": true
   },
   "outputs": [
    {
     "name": "stderr",
     "output_type": "stream",
     "text": [
      "2022-11-11 21:00:18.729484: I tensorflow/core/platform/cpu_feature_guard.cc:193] This TensorFlow binary is optimized with oneAPI Deep Neural Network Library (oneDNN) to use the following CPU instructions in performance-critical operations:  AVX2 FMA\n",
      "To enable them in other operations, rebuild TensorFlow with the appropriate compiler flags.\n",
      "2022-11-11 21:00:18.730300: I tensorflow/stream_executor/cuda/cuda_gpu_executor.cc:980] successful NUMA node read from SysFS had negative value (-1), but there must be at least one NUMA node, so returning NUMA node zero\n",
      "2022-11-11 21:00:18.730573: I tensorflow/stream_executor/cuda/cuda_gpu_executor.cc:980] successful NUMA node read from SysFS had negative value (-1), but there must be at least one NUMA node, so returning NUMA node zero\n",
      "2022-11-11 21:00:18.730770: I tensorflow/stream_executor/cuda/cuda_gpu_executor.cc:980] successful NUMA node read from SysFS had negative value (-1), but there must be at least one NUMA node, so returning NUMA node zero\n",
      "2022-11-11 21:00:19.742484: I tensorflow/stream_executor/cuda/cuda_gpu_executor.cc:980] successful NUMA node read from SysFS had negative value (-1), but there must be at least one NUMA node, so returning NUMA node zero\n",
      "2022-11-11 21:00:19.743383: I tensorflow/stream_executor/cuda/cuda_gpu_executor.cc:980] successful NUMA node read from SysFS had negative value (-1), but there must be at least one NUMA node, so returning NUMA node zero\n",
      "2022-11-11 21:00:19.743608: I tensorflow/stream_executor/cuda/cuda_gpu_executor.cc:980] successful NUMA node read from SysFS had negative value (-1), but there must be at least one NUMA node, so returning NUMA node zero\n",
      "2022-11-11 21:00:19.743799: I tensorflow/core/common_runtime/gpu/gpu_device.cc:1616] Created device /job:localhost/replica:0/task:0/device:GPU:0 with 2522 MB memory:  -> device: 0, name: NVIDIA GeForce GTX 1650, pci bus id: 0000:01:00.0, compute capability: 7.5\n"
     ]
    }
   ],
   "source": [
    "# VECTORIZER FOR TITLE\n",
    "title_text_vectorizer = TextVectorization(max_tokens=max_token_title, \n",
    "                                          output_sequence_length=output_sequence_len_title,\n",
    "                                          pad_to_max_tokens = True)"
   ]
  },
  {
   "cell_type": "code",
   "execution_count": 57,
   "metadata": {
    "id": "cAjRWMQ1Xy9z"
   },
   "outputs": [],
   "source": [
    "# Adapt text vectorizer to training titles\n",
    "# %%time\n",
    "title_text_vectorizer.adapt(xtrain.title.to_list())"
   ]
  },
  {
   "cell_type": "code",
   "execution_count": 58,
   "metadata": {
    "colab": {
     "base_uri": "https://localhost:8080/"
    },
    "id": "cxpBoQ4Kld_g",
    "outputId": "39d05dc7-5d31-4293-eb33-f4dc43adf735"
   },
   "outputs": [
    {
     "name": "stdout",
     "output_type": "stream",
     "text": [
      "total no. of words:  17405\n",
      "5 Most frequent words ['', '[UNK]', 'the', 'new', 'york']\n",
      "5 Least frequent words ['ehemalige', 'egyptology', 'egregious', 'egotism', 'egot']\n"
     ]
    }
   ],
   "source": [
    "# how many words are there\n",
    "total_title_words =  len(title_text_vectorizer.get_vocabulary())\n",
    "print('total no. of words: ', total_title_words)\n",
    "print('5 Most frequent words', title_text_vectorizer.get_vocabulary()[:5])\n",
    "print('5 Least frequent words', title_text_vectorizer.get_vocabulary()[-5:])"
   ]
  },
  {
   "cell_type": "code",
   "execution_count": 59,
   "metadata": {
    "colab": {
     "base_uri": "https://localhost:8080/"
    },
    "id": "Ir9sHImXkgx9",
    "outputId": "7dd9b8a6-e255-4b86-9341-c089184fbe85"
   },
   "outputs": [
    {
     "name": "stdout",
     "output_type": "stream",
     "text": [
      "Text:\n",
      "trump and clinton have both assembled an army of lawyers to file lawsuits and contest the election results\n",
      "\n",
      "Length of text: 18\n",
      "\n",
      "Vectorized text:\n",
      "[[    9    11    17    49   973 10624    55   433     8  2349     6  4834\n",
      "   2756    11  4279     2    30   921     0     0     0     0]]\n"
     ]
    }
   ],
   "source": [
    "# Test out text vectorizer\n",
    "import random\n",
    "target_title_sentence = random.choice(xtest.title.to_list())\n",
    "print(f\"Text:\\n{target_title_sentence}\")\n",
    "print(f\"\\nLength of text: {len(target_title_sentence.split())}\")\n",
    "print(f\"\\nVectorized text:\\n{title_text_vectorizer([target_title_sentence])}\")"
   ]
  },
  {
   "cell_type": "markdown",
   "metadata": {
    "id": "pP8YD35rXy9z"
   },
   "source": [
    "### VECTORIZER FOR TEXT\n"
   ]
  },
  {
   "cell_type": "code",
   "execution_count": 60,
   "metadata": {
    "id": "7mpKov53iUEk"
   },
   "outputs": [],
   "source": [
    "# VECTORIZER FOR TEXT\n",
    "text_text_vectorizer = TextVectorization(max_tokens=max_token_text, \n",
    "                                          output_sequence_length=output_sequence_len_text,\n",
    "                                          pad_to_max_tokens = True)"
   ]
  },
  {
   "cell_type": "markdown",
   "metadata": {
    "id": "Pq07Ix54XQX0"
   },
   "source": [
    "**Note:** Here instead of Directly adapting to a list of string, we will convert it into \n",
    "tf.data.dataset to overcome fitting it the memory problem. It crashed the system if used a list. while a tf.data adjust according to the memory."
   ]
  },
  {
   "cell_type": "code",
   "execution_count": 61,
   "metadata": {
    "colab": {
     "base_uri": "https://localhost:8080/"
    },
    "id": "KsLLNcSnjMKi",
    "outputId": "5602e349-f4c4-4791-b830-21429030bfcb"
   },
   "outputs": [
    {
     "name": "stdout",
     "output_type": "stream",
     "text": [
      "CPU times: user 41 s, sys: 3.02 s, total: 44 s\n",
      "Wall time: 23.5 s\n"
     ]
    }
   ],
   "source": [
    "%%time\n",
    "# Adapt text vectorizer to training text\n",
    "train_text = tf.data.Dataset.from_tensor_slices(xtrain.text.to_list())\n",
    "text_text_vectorizer.adapt(train_text)"
   ]
  },
  {
   "cell_type": "code",
   "execution_count": 62,
   "metadata": {
    "colab": {
     "base_uri": "https://localhost:8080/"
    },
    "id": "EmobBWb7ln5v",
    "outputId": "358952a6-979b-435b-8663-9b505e5eed21"
   },
   "outputs": [
    {
     "name": "stdout",
     "output_type": "stream",
     "text": [
      "total no. of words:  40458\n",
      "5 Most frequent words ['', '[UNK]', 'the', 'to', 'of']\n",
      "5 Least frequent words ['sequestered', 'septuagenarian', 'septembre', 'sentinelese', 'sensuous']\n"
     ]
    }
   ],
   "source": [
    "# how many words are there\n",
    "total_text_words =  len(text_text_vectorizer.get_vocabulary())\n",
    "print('total no. of words: ', total_text_words)\n",
    "print('5 Most frequent words', text_text_vectorizer.get_vocabulary()[:5])\n",
    "print('5 Least frequent words', text_text_vectorizer.get_vocabulary()[-5:])"
   ]
  },
  {
   "cell_type": "markdown",
   "metadata": {
    "id": "Sv0mNOldl1Gv"
   },
   "source": [
    "As we have seen above there are low frequency words that do not need to tokenize\n",
    "as they occure less. so set max_token to less than actual unique words."
   ]
  },
  {
   "cell_type": "code",
   "execution_count": 63,
   "metadata": {
    "colab": {
     "base_uri": "https://localhost:8080/"
    },
    "id": "VQFaJIpnjMJF",
    "outputId": "da1d1e7b-e84e-4ee0-90c2-255cc66adc2f"
   },
   "outputs": [
    {
     "name": "stdout",
     "output_type": "stream",
     "text": [
      "Text:\n",
      "hong kong billionaire who has forged financial ties with some of the country most powerful families was taken by the chinese police from his apartment at the four seasons hotel in hong kong late last \n",
      "\n",
      "Length of text: 735\n",
      "\n",
      "Vectorized text:\n",
      "[[3826 3667 2370 ...    0    0    0]]\n"
     ]
    }
   ],
   "source": [
    "# Test out text vectorizer\n",
    "import random\n",
    "target_text_sentence = random.choice(xtest.text.to_list())\n",
    "print(f\"Text:\\n{target_text_sentence[:200]}\")\n",
    "print(f\"\\nLength of text: {len(target_text_sentence.split())}\")\n",
    "print(f\"\\nVectorized text:\\n{text_text_vectorizer([target_text_sentence])}\")"
   ]
  },
  {
   "cell_type": "code",
   "execution_count": 64,
   "metadata": {
    "colab": {
     "base_uri": "https://localhost:8080/"
    },
    "id": "kEKa2Q5WXy90",
    "outputId": "652b2435-505b-4903-80de-5925a9cf43d1"
   },
   "outputs": [
    {
     "data": {
      "text/plain": [
       "<tf.Tensor: shape=(22,), dtype=int64, numpy=\n",
       "array([ 221, 5279,  591,   26,   35, 4618, 8912,   74,  502, 1031,    6,\n",
       "        172,  171,    0,    0,    0,    0,    0,    0,    0,    0,    0])>"
      ]
     },
     "execution_count": 64,
     "metadata": {},
     "output_type": "execute_result"
    }
   ],
   "source": [
    "## testing\n",
    "title_text_vectorizer('foreign sec britain will be perfectly ok if eu refuses to make deal')"
   ]
  },
  {
   "cell_type": "markdown",
   "metadata": {
    "id": "1rVfLlZkCBz7"
   },
   "source": [
    "# Word embedding using GENSIM"
   ]
  },
  {
   "cell_type": "code",
   "execution_count": 65,
   "metadata": {
    "colab": {
     "base_uri": "https://localhost:8080/"
    },
    "id": "BSm9qLF_CBz7",
    "outputId": "ea2c306d-ec85-4ce3-cfb8-bcfd12cb24f9"
   },
   "outputs": [
    {
     "name": "stdout",
     "output_type": "stream",
     "text": [
      "xtrain:  (18182, 2)\n",
      "ytrain:  (18182,)\n",
      "xtest:  (2021, 2)\n",
      "ytest:  (2021,)\n"
     ]
    }
   ],
   "source": [
    "xtrain0, xtest0, ytrain0, ytest0 = train_test_split(data[['title', 'text']], data['label'], test_size = .1, random_state=3, stratify = data.label)\n",
    "\n",
    "print('xtrain: ', xtrain0.shape)\n",
    "print('ytrain: ', ytrain0.shape)\n",
    "print('xtest: ', xtest0.shape)\n",
    "print('ytest: ', ytest0.shape)"
   ]
  },
  {
   "cell_type": "markdown",
   "metadata": {
    "id": "-_8jVzSfCBz7"
   },
   "source": [
    "Here we will be embedding the model on only text data because. the titles are mostly subset of the text corpus. Every word in titles comes form the text."
   ]
  },
  {
   "cell_type": "code",
   "execution_count": 66,
   "metadata": {
    "colab": {
     "base_uri": "https://localhost:8080/"
    },
    "id": "IC9dK8LBCBz7",
    "outputId": "ddaeb72c-a253-4a86-a865-124d40aca47c"
   },
   "outputs": [
    {
     "name": "stdout",
     "output_type": "stream",
     "text": [
      "20203\n"
     ]
    }
   ],
   "source": [
    "# create a list of lists of dataset\n",
    "x_texts = data.text.apply(lambda x: str(x).split()).to_list()\n",
    "print(len(x_texts))"
   ]
  },
  {
   "cell_type": "code",
   "execution_count": 67,
   "metadata": {
    "colab": {
     "base_uri": "https://localhost:8080/"
    },
    "id": "W4ON0dXYCBz7",
    "outputId": "d52d1afb-e5f2-459d-ac2f-20a1dde3d9da"
   },
   "outputs": [
    {
     "name": "stdout",
     "output_type": "stream",
     "text": [
      "['house', 'dem', 'aide', 'we', 'did', 'not', 'even', 'see', 'comey', 'letter', 'until', 'jason', 'chaffetz', 'tweeted', 'it', 'by', 'darrell', 'lucus', 'on', 'october']\n"
     ]
    }
   ],
   "source": [
    "print(x_texts[0][:20]) # there are alot of words, we will just see 20 for now"
   ]
  },
  {
   "cell_type": "code",
   "execution_count": 68,
   "metadata": {
    "colab": {
     "base_uri": "https://localhost:8080/"
    },
    "id": "owD_GC_hCBz8",
    "outputId": "ff516e75-701f-43d8-9ddc-2743efd0e05f"
   },
   "outputs": [
    {
     "name": "stdout",
     "output_type": "stream",
     "text": [
      "This cell takes 2 minute 30 set usually\n",
      "CPU times: user 2min 2s, sys: 376 ms, total: 2min 2s\n",
      "Wall time: 44.3 s\n"
     ]
    }
   ],
   "source": [
    "%%time \n",
    "print('Started at: ',datetime.datetime.now().strftime(\"%H:%M:%S\"))\n",
    "print('This cell takes 2 minute 30 set usually')\n",
    "DIM = 100\n",
    "# gen_embedd_model = gensim.models.Word2Vec(sentences=x_texts, size = DIM, window=5, min_count=2) # if gensim version is  less than 4.2.0\n",
    "gen_embedd_model = gensim.models.Word2Vec(sentences=x_texts, vector_size = DIM, window=5, min_count=2) # locally"
   ]
  },
  {
   "cell_type": "code",
   "execution_count": 69,
   "metadata": {
    "colab": {
     "base_uri": "https://localhost:8080/"
    },
    "id": "QWM5QmrVCBz8",
    "outputId": "c0e0b372-e2b7-4f04-c0da-2a9dbaba32b9"
   },
   "outputs": [
    {
     "data": {
      "text/plain": [
       "90545"
      ]
     },
     "execution_count": 69,
     "metadata": {},
     "output_type": "execute_result"
    }
   ],
   "source": [
    "len(gen_embedd_model.wv.key_to_index)"
   ]
  },
  {
   "cell_type": "code",
   "execution_count": 70,
   "metadata": {
    "colab": {
     "base_uri": "https://localhost:8080/"
    },
    "id": "XJYI5vKNCBz8",
    "outputId": "34eb8a40-1ea8-47c7-e5a9-3d5c0bea71a7"
   },
   "outputs": [
    {
     "data": {
      "text/plain": [
       "array([-1.98160195e+00, -1.01457678e-01, -8.09064090e-01, -1.57536507e-01,\n",
       "       -4.01388526e-01,  2.64293885e+00, -3.57511908e-01, -1.97462809e+00,\n",
       "       -6.16439819e-01,  1.00321698e+00,  4.62897539e-01, -5.79307675e-01,\n",
       "        1.70403838e+00,  5.36529124e-02, -1.51782855e-01,  1.07395196e+00,\n",
       "       -1.17338347e+00, -6.43887997e-01, -9.11423743e-01, -4.80694413e-01,\n",
       "        1.14923704e+00, -1.30379394e-01, -4.10480917e-01, -1.28491390e-02,\n",
       "        4.51412797e-01, -3.28204185e-01,  8.44884574e-01, -8.69225681e-01,\n",
       "        9.08191800e-01,  5.61054885e-01,  3.42853546e-01,  6.57547116e-01,\n",
       "       -8.79657686e-01, -2.95347944e-02,  9.65764999e-01, -2.41643357e+00,\n",
       "        1.71773851e+00, -5.89359343e-01,  1.88297749e+00, -4.02373087e-04,\n",
       "        2.32997864e-01,  1.46217668e+00, -2.06295180e+00, -6.37638986e-01,\n",
       "       -1.48726773e+00, -4.85862195e-02,  1.16721416e+00,  1.93405139e+00,\n",
       "       -2.01919153e-01, -9.64743078e-01,  5.48565239e-02,  1.77059495e+00,\n",
       "        5.30500054e-01,  2.13364422e-01, -1.81402624e+00,  1.24259189e-01,\n",
       "        2.43016053e-02,  6.51516676e-01, -2.47053310e-01,  9.60388109e-02,\n",
       "       -1.28926051e+00,  1.19536996e-01, -2.41344357e+00, -2.79017717e-01,\n",
       "        1.56832123e+00, -1.14067960e+00, -1.93800136e-01, -5.63399374e-01,\n",
       "        7.20628381e-01, -1.19302571e+00,  1.31589103e+00, -1.58083066e-02,\n",
       "        8.82110655e-01, -1.84265339e+00, -3.87451738e-01, -1.08967936e+00,\n",
       "        3.33873004e-01,  7.51595736e-01,  7.14439511e-01,  1.27956784e+00,\n",
       "       -4.62165892e-01, -1.02621675e+00,  9.83108044e-01, -2.68599719e-01,\n",
       "        9.00117040e-01, -1.86433315e+00, -3.13350141e-01, -5.91617405e-01,\n",
       "       -2.44789338e+00, -2.54390836e-01, -1.20075607e+00,  3.98793399e-01,\n",
       "        3.64659816e-01, -2.54848385e+00,  1.15625072e+00, -3.91220182e-01,\n",
       "       -1.57875311e+00, -5.03854334e-01, -1.19692969e+00,  3.65219176e-01],\n",
       "      dtype=float32)"
      ]
     },
     "execution_count": 70,
     "metadata": {},
     "output_type": "execute_result"
    }
   ],
   "source": [
    "gen_embedd_model.wv['the']"
   ]
  },
  {
   "cell_type": "code",
   "execution_count": 71,
   "metadata": {
    "colab": {
     "base_uri": "https://localhost:8080/"
    },
    "id": "9kqh15YFCBz8",
    "outputId": "80396eef-bb1d-43f8-db98-5c213d405b2c",
    "scrolled": true
   },
   "outputs": [
    {
     "data": {
      "text/plain": [
       "[('japan', 0.8035088181495667),\n",
       " ('thailand', 0.776268482208252),\n",
       " ('china', 0.7734401822090149),\n",
       " ('canada', 0.7253293395042419),\n",
       " ('kazakhstan', 0.7202501893043518),\n",
       " ('malaysia', 0.714119553565979),\n",
       " ('asia', 0.7089793682098389),\n",
       " ('singapore', 0.698257327079773),\n",
       " ('norway', 0.6934484839439392),\n",
       " ('indonesia', 0.691578209400177)]"
      ]
     },
     "execution_count": 71,
     "metadata": {},
     "output_type": "execute_result"
    }
   ],
   "source": [
    "gen_embedd_model.wv.similar_by_word('india')"
   ]
  },
  {
   "cell_type": "markdown",
   "metadata": {
    "id": "WL8VZ_JPCBz8"
   },
   "source": [
    "Gensim model already give us adjusted embedding of word in dataset that do not need to retrain in over DL model."
   ]
  },
  {
   "cell_type": "markdown",
   "metadata": {
    "id": "cvV_hn97GmqD"
   },
   "source": [
    "# Word Embedding"
   ]
  },
  {
   "cell_type": "code",
   "execution_count": 72,
   "metadata": {
    "id": "7nOKht4HGmnO"
   },
   "outputs": [],
   "source": [
    "from tensorflow.keras.layers import Embedding"
   ]
  },
  {
   "cell_type": "markdown",
   "metadata": {
    "id": "_RbfOA38JrKh"
   },
   "source": [
    "### Text embedding"
   ]
  },
  {
   "cell_type": "code",
   "execution_count": 73,
   "metadata": {
    "colab": {
     "base_uri": "https://localhost:8080/"
    },
    "id": "AknweDF6GmgO",
    "outputId": "f33d620c-eeca-4110-b11f-7960190ac0d1"
   },
   "outputs": [
    {
     "name": "stdout",
     "output_type": "stream",
     "text": [
      "40458\n"
     ]
    }
   ],
   "source": [
    "total_text_words =  len(text_text_vectorizer.get_vocabulary())\n",
    "print(total_text_words)"
   ]
  },
  {
   "cell_type": "code",
   "execution_count": 74,
   "metadata": {
    "id": "Y8UT_Yy_Gmcy"
   },
   "outputs": [],
   "source": [
    "def get_embedded_matrix(model, tokenizer):\n",
    "    total_words = len(tokenizer.get_vocabulary())\n",
    "    embed_matrix = np.zeros(shape = (total_words, DIM))\n",
    "    \n",
    "    for idx, word in enumerate(tokenizer.get_vocabulary()):\n",
    "#         print(idx, word)\n",
    "        if idx in [0,1]:  # because gensim embedding doesn't include `[UNK]` we have to leave it . \n",
    "            continue\n",
    "        else:\n",
    "            try:\n",
    "                embed_matrix[idx] = model.wv[word]\n",
    "            except KeyError:\n",
    "                embed_matrix[idx] = np.zeros(shape=(DIM,))\n",
    "    print('embed_matrix shape: ',embed_matrix.shape)\n",
    "    return embed_matrix\n",
    "        "
   ]
  },
  {
   "cell_type": "code",
   "execution_count": 75,
   "metadata": {
    "colab": {
     "base_uri": "https://localhost:8080/"
    },
    "id": "hseWrZ3oCBz9",
    "outputId": "058702b2-4ded-4164-90f3-2ff5dafdd39c"
   },
   "outputs": [
    {
     "name": "stdout",
     "output_type": "stream",
     "text": [
      "embed_matrix shape:  (40458, 100)\n"
     ]
    }
   ],
   "source": [
    "text_embedded_matrix = get_embedded_matrix(gen_embedd_model, text_text_vectorizer)"
   ]
  },
  {
   "cell_type": "code",
   "execution_count": 76,
   "metadata": {
    "id": "ZGBqa5zpCBz9"
   },
   "outputs": [],
   "source": [
    "text_embedding_layer = layers.Embedding(input_dim = total_text_words,\n",
    "                           output_dim = DIM,\n",
    "                           mask_zero = True,\n",
    "                        weights= [text_embedded_matrix],\n",
    "                          input_length=output_sequence_len_text)"
   ]
  },
  {
   "cell_type": "code",
   "execution_count": 77,
   "metadata": {
    "colab": {
     "base_uri": "https://localhost:8080/"
    },
    "id": "_V_OraOkGmY7",
    "outputId": "286f4487-09a6-4518-dca0-82cefd4329ee"
   },
   "outputs": [
    {
     "name": "stdout",
     "output_type": "stream",
     "text": [
      "sentence:  hong kong billionaire who has forged financial ties with some of the country most powerful families \n",
      "sentence len:  4247\n",
      "\n",
      "\n",
      "vectorized:  tf.Tensor([[3826 3667 2370 ...    0    0    0]], shape=(1, 3967), dtype=int64)\n",
      "\n",
      "\n",
      "embedded shape (1, 3967, 100)\n",
      "embedded:  tf.Tensor(\n",
      "[[[-1.3433285   0.75634354  2.5342588   2.0970454  -1.5074741 ]\n",
      "  [-1.5148728   0.6860429   1.8816934   1.0280415   0.8840363 ]\n",
      "  [-1.5916392   1.6337556  -0.26645905  2.0801735   0.44249064]\n",
      "  [ 1.6255431   0.98445594  1.6350322  -0.8016892  -1.0159328 ]\n",
      "  [-0.53221935  0.7258252  -0.34178728 -0.33393684  1.066457  ]]], shape=(1, 5, 5), dtype=float32)\n"
     ]
    }
   ],
   "source": [
    "print('sentence: ', target_text_sentence[:100] ,end = '\\n')\n",
    "print('sentence len: ', len(target_text_sentence) ,end = '\\n')\n",
    "\n",
    "print('\\n')\n",
    "vectorized_sentence = text_text_vectorizer([target_text_sentence])\n",
    "print('vectorized: ', vectorized_sentence)\n",
    "print('\\n')\n",
    "embedded_sentence = text_embedding_layer(vectorized_sentence)\n",
    "print('embedded shape', embedded_sentence.shape)\n",
    "print('embedded: ', embedded_sentence[:,:5,:5]) #This is too long to print \n"
   ]
  },
  {
   "cell_type": "markdown",
   "metadata": {
    "id": "sDyU42mtJwDz"
   },
   "source": [
    "### Title Embedding"
   ]
  },
  {
   "cell_type": "code",
   "execution_count": 78,
   "metadata": {
    "id": "2nHO5tlUIq1z"
   },
   "outputs": [],
   "source": [
    "# total_title_words =  len(title_text_vectorizer.get_vocabulary())\n",
    "# print(total_title_words)"
   ]
  },
  {
   "cell_type": "code",
   "execution_count": 79,
   "metadata": {
    "id": "-vlBGNUsCBz-"
   },
   "outputs": [],
   "source": [
    "# title_embedding_layer = layers.Embedding(input_dim = total_title_words,\n",
    "#                            output_dim = DIM,\n",
    "#                            mask_zero = True,\n",
    "#                         weights= [text_embedded_matrix],\n",
    "#                           input_length=output_sequence_len_title)"
   ]
  },
  {
   "cell_type": "code",
   "execution_count": 80,
   "metadata": {
    "id": "m9YOlnlECBz-"
   },
   "outputs": [],
   "source": [
    "# title_embedded_matrix = get_embedded_matrix(gen_embedd_model, title_text_vectorizer)"
   ]
  },
  {
   "cell_type": "code",
   "execution_count": 81,
   "metadata": {
    "id": "5w4BRtNpCBz-"
   },
   "outputs": [],
   "source": [
    "# title_embedding_layer = layers.Embedding(input_dim = total_title_words,\n",
    "#                            output_dim = DIM,\n",
    "#                            mask_zero = True,\n",
    "#                             weights= [title_embedded_matrix],\n",
    "#                           input_length=output_sequence_len_title)"
   ]
  },
  {
   "cell_type": "code",
   "execution_count": 82,
   "metadata": {
    "id": "FMvZxku8Gmhl"
   },
   "outputs": [],
   "source": [
    "# print('sentence: ', target_title_sentence ,end = '\\n')\n",
    "# print('sentence len: ', len(target_title_sentence) ,end = '\\n')\n",
    "# print('\\n')\n",
    "# vectorized_sentence = title_text_vectorizer([target_title_sentence])\n",
    "# print('vectorized: ', vectorized_sentence)\n",
    "# print('\\n')\n",
    "# embedded_sentence = title_embedding_layer(vectorized_sentence)\n",
    "# print('embedded shape', embedded_sentence.shape)\n",
    "# print('embedded: ', embedded_sentence)\n"
   ]
  },
  {
   "cell_type": "markdown",
   "metadata": {
    "id": "ZDFXJJlqOjSa"
   },
   "source": [
    "# Creating `tf.Data`"
   ]
  },
  {
   "cell_type": "code",
   "execution_count": null,
   "metadata": {
    "id": "WJUP51TYCBz-"
   },
   "outputs": [],
   "source": []
  },
  {
   "cell_type": "code",
   "execution_count": 83,
   "metadata": {
    "id": "mnRhUqKfCBz-"
   },
   "outputs": [],
   "source": [
    "xtrain['splittext'] = xtrain.text.apply(lambda x: str(x).split()).to_list()\n",
    "xtest['splittext'] = xtest.text.apply(lambda x: str(x).split()).to_list()\n"
   ]
  },
  {
   "cell_type": "code",
   "execution_count": 84,
   "metadata": {
    "colab": {
     "base_uri": "https://localhost:8080/",
     "height": 206
    },
    "id": "l4pF7xiULPjM",
    "outputId": "1aeaacef-eea5-401e-a004-31640c125bb5"
   },
   "outputs": [
    {
     "data": {
      "text/html": [
       "<div>\n",
       "<style scoped>\n",
       "    .dataframe tbody tr th:only-of-type {\n",
       "        vertical-align: middle;\n",
       "    }\n",
       "\n",
       "    .dataframe tbody tr th {\n",
       "        vertical-align: top;\n",
       "    }\n",
       "\n",
       "    .dataframe thead th {\n",
       "        text-align: right;\n",
       "    }\n",
       "</style>\n",
       "<table border=\"1\" class=\"dataframe\">\n",
       "  <thead>\n",
       "    <tr style=\"text-align: right;\">\n",
       "      <th></th>\n",
       "      <th>title</th>\n",
       "      <th>text</th>\n",
       "      <th>splittext</th>\n",
       "    </tr>\n",
       "  </thead>\n",
       "  <tbody>\n",
       "    <tr>\n",
       "      <th>2974</th>\n",
       "      <td>former dea prescription head drops bombshell c...</td>\n",
       "      <td>former dea prescription head drops bombshell c...</td>\n",
       "      <td>[former, dea, prescription, head, drops, bombs...</td>\n",
       "    </tr>\n",
       "    <tr>\n",
       "      <th>3314</th>\n",
       "      <td>minute game changing video electronic voting ...</td>\n",
       "      <td>black box voting bev harris explains the follo...</td>\n",
       "      <td>[black, box, voting, bev, harris, explains, th...</td>\n",
       "    </tr>\n",
       "    <tr>\n",
       "      <th>6048</th>\n",
       "      <td>hacked transcripts reveal genial hillary clint...</td>\n",
       "      <td>in paid speech hosted by goldman sachs hillary...</td>\n",
       "      <td>[in, paid, speech, hosted, by, goldman, sachs,...</td>\n",
       "    </tr>\n",
       "    <tr>\n",
       "      <th>18433</th>\n",
       "      <td></td>\n",
       "      <td>reuters ktx hyundai motor gallup korea</td>\n",
       "      <td>[reuters, ktx, hyundai, motor, gallup, korea]</td>\n",
       "    </tr>\n",
       "    <tr>\n",
       "      <th>10405</th>\n",
       "      <td>tehran usa</td>\n",
       "      <td>i not an immigrant but my grandparents are mor...</td>\n",
       "      <td>[i, not, an, immigrant, but, my, grandparents,...</td>\n",
       "    </tr>\n",
       "  </tbody>\n",
       "</table>\n",
       "</div>"
      ],
      "text/plain": [
       "                                                   title  \\\n",
       "2974   former dea prescription head drops bombshell c...   \n",
       "3314    minute game changing video electronic voting ...   \n",
       "6048   hacked transcripts reveal genial hillary clint...   \n",
       "18433                                                      \n",
       "10405                                         tehran usa   \n",
       "\n",
       "                                                    text  \\\n",
       "2974   former dea prescription head drops bombshell c...   \n",
       "3314   black box voting bev harris explains the follo...   \n",
       "6048   in paid speech hosted by goldman sachs hillary...   \n",
       "18433            reuters ktx hyundai motor gallup korea    \n",
       "10405  i not an immigrant but my grandparents are mor...   \n",
       "\n",
       "                                               splittext  \n",
       "2974   [former, dea, prescription, head, drops, bombs...  \n",
       "3314   [black, box, voting, bev, harris, explains, th...  \n",
       "6048   [in, paid, speech, hosted, by, goldman, sachs,...  \n",
       "18433      [reuters, ktx, hyundai, motor, gallup, korea]  \n",
       "10405  [i, not, an, immigrant, but, my, grandparents,...  "
      ]
     },
     "execution_count": 84,
     "metadata": {},
     "output_type": "execute_result"
    }
   ],
   "source": [
    "xtrain.head()"
   ]
  },
  {
   "cell_type": "code",
   "execution_count": 85,
   "metadata": {
    "colab": {
     "base_uri": "https://localhost:8080/"
    },
    "id": "4VyNdJK1Li0k",
    "outputId": "fffcbfba-6345-4cfd-a5a1-49cec73bbbf2"
   },
   "outputs": [
    {
     "name": "stdout",
     "output_type": "stream",
     "text": [
      "<class 'pandas.core.frame.DataFrame'>\n",
      "Int64Index: 18182 entries, 2974 to 18800\n",
      "Data columns (total 3 columns):\n",
      " #   Column     Non-Null Count  Dtype \n",
      "---  ------     --------------  ----- \n",
      " 0   title      18182 non-null  object\n",
      " 1   text       18182 non-null  object\n",
      " 2   splittext  18182 non-null  object\n",
      "dtypes: object(3)\n",
      "memory usage: 568.2+ KB\n"
     ]
    }
   ],
   "source": [
    "xtrain.info()"
   ]
  },
  {
   "cell_type": "code",
   "execution_count": 120,
   "metadata": {
    "id": "377zdUTkO20W"
   },
   "outputs": [],
   "source": [
    "# train tf.data\n",
    "train_title = tf.data.Dataset.from_tensor_slices(xtrain.title.to_list())\n",
    "train_text  = tf.data.Dataset.from_tensor_slices(xtrain.text.values)\n",
    "train_label = tf.data.Dataset.from_tensor_slices(ytrain)\n",
    "\n",
    "# test tf.data\n",
    "test_title = tf.data.Dataset.from_tensor_slices(xtest.title.to_list())\n",
    "test_text  = tf.data.Dataset.from_tensor_slices(xtest.text.values)\n",
    "test_label = tf.data.Dataset.from_tensor_slices(ytest)\n"
   ]
  },
  {
   "cell_type": "markdown",
   "metadata": {
    "id": "H9_cKUf0Xy92"
   },
   "source": [
    "## Title dataset"
   ]
  },
  {
   "cell_type": "code",
   "execution_count": 121,
   "metadata": {
    "id": "YGV_gFFOXy92"
   },
   "outputs": [],
   "source": [
    "# train_title_dataset = tf.data.Dataset.zip((train_title, train_label))\n",
    "# test_title_dataset  = tf.data.Dataset.zip((test_title, test_label))"
   ]
  },
  {
   "cell_type": "markdown",
   "metadata": {
    "id": "FioWHDh_CBz_"
   },
   "source": [
    "## Text dataset"
   ]
  },
  {
   "cell_type": "code",
   "execution_count": 135,
   "metadata": {
    "id": "twGewEUUCBz_"
   },
   "outputs": [],
   "source": [
    "train_text_dataset = tf.data.Dataset.zip((train_text, train_label))\n",
    "test_text_dataset  = tf.data.Dataset.zip((test_text, test_label))"
   ]
  },
  {
   "cell_type": "code",
   "execution_count": 136,
   "metadata": {
    "colab": {
     "base_uri": "https://localhost:8080/"
    },
    "id": "b-T2cWtSCBz_",
    "outputId": "ee8e4d02-0bdd-4c17-c7ec-b033bb1033a5"
   },
   "outputs": [
    {
     "name": "stdout",
     "output_type": "stream",
     "text": [
      "<ZipDataset element_spec=(TensorSpec(shape=(), dtype=tf.string, name=None), TensorSpec(shape=(), dtype=tf.int64, name=None))>\n"
     ]
    }
   ],
   "source": [
    "print(train_text_dataset)"
   ]
  },
  {
   "cell_type": "markdown",
   "metadata": {
    "id": "qMxbjhUJXy92"
   },
   "source": [
    "## Title + Text dataset"
   ]
  },
  {
   "cell_type": "code",
   "execution_count": 137,
   "metadata": {
    "id": "pHuEe-WCXy92"
   },
   "outputs": [],
   "source": [
    "# train_features = tf.data.Dataset.from_tensor_slices((xtrain.title.to_list(), xtrain.text.to_list()))\n",
    "# train_dataset  = tf.data.Dataset.zip((train_features, train_label))\n",
    "\n",
    "# test_features = tf.data.Dataset.from_tensor_slices((xtest.title.to_list(), xtest.text.to_list()))\n",
    "# test_dataset  = tf.data.Dataset.zip((test_features, test_label))"
   ]
  },
  {
   "cell_type": "code",
   "execution_count": 138,
   "metadata": {
    "colab": {
     "base_uri": "https://localhost:8080/"
    },
    "id": "qZ2G11cGSmbG",
    "outputId": "e8d8368e-2f49-4144-a8e3-8a4ffb81240f",
    "scrolled": true
   },
   "outputs": [
    {
     "name": "stdout",
     "output_type": "stream",
     "text": [
      "tf.Tensor(b'former dea prescription head drops bombshell congress protects big pharma fuels opioid crisis source claire bernish congress would rather protect the profits of pharmaceutical companies than the health of those addicted to dangerous opioid drugs says former head of the dea responsible for preventing abuse of medications joseph rannazzisi former deputy assistant administrator at the s drug enforcement agency asserts big pharma and its lobbyists have stranglehold on legislators in congress and have engineered the protection of billion per year industry over the health of american citizens according to report from the guardian congress would rather listen to people who had profit motive rather than public health and safety motive he said according to the outlet as long as the industry has this stranglehold through lobbyists nothing going to change rannazzisi explained lobbyists have spent millions thwarting legislative and policy efforts to provide guidelines for reducing the prescribing of opioid medications closely related to heroin and helped limit the dea powers to discipline those who dispense unusually high dosages of the same pharmacist himself rannazzisi severely criticized lawmakers he claims hold double standard publicly vowing to combat the opioid epidemic while essentially working on behalf of pharmaceutical companies to ensure the industry profits these congressmen and senators who are using this because they are up for re election it has it is sham he told the guardian the congressmen and senators who are championing this fight the ones who really believe in what they are doing their voices are drowned out because the industry has too much influence with the unique insight of having been an insider rannazzisi excoriated the duplicity evidenced between legislators public lamentation of addiction and deaths from the opioid crisis during election years and private efforts to protect drugmakers from liability and he would know according to rannazzisi linkedin profile as chief of diversion he had been tasked with oversight and control of all regulatory compliance inspections and civil and criminal investigations of approximately million dea registrants but if the standards are lowered by congress to allow greater leeway in prescribing opioids the threshold of criminality is raised as the guardian points out legislation to fight the opioid epidemic comprehensive addiction and recovery act did in fact pass in july but partisan controversy erupted when republicans failed to provide funding to give the law sharp teeth democrats then issued report titled dying waiting for treatment in response which likened the republican response to the opioid crisis to using piece of chewing gum to patch cracked dam indeed the report sharply criticized the bill equating its policies to empty promises for the lack of financial follow through as the washington post detailed in report earlier this month the dea launched an aggressive campaign to rein in distribution of opioids by pharmaceutical manufacturers to illegal pill mills and corrupt pharmacies who cared little whether the drugs wound up on the streets headed by rannazzisi the office of diversion control sent investigators into the field and began issuing hefty fines and filing lawsuits against the distributors responsible for the proliferation of opioids on the streets but the disproportionately powerful pharmaceutical industry fearing potential significant loss in profits fought back hard according to the post the deputy attorney general summoned rannazzisi to meeting in concerning the cases of two unnamed major drug companies that meeting was to chastise me for going after industry and that has that is all that meeting was about the now retired dea official told the post then in came what constituted hand out to the pharmaceutical industry by the department of justice and congressional legislators the ensuring patient access and effective drug enforcement act legislation initiated by the healthcare distribution management association the industry group representing distributors at the heart of the controversy an analysis of lobbying records by the post found the healthcare distribution alliance spent million lobbying house and senate members and their staffs on the legislation and other issues between and rannazzisi argued his case to congressional staffers in phone conference in july and recalled telling them this bill passes the way it has it is written we will not be able to get immediate suspension orders we will not be able to stop the hemorrhaging of these drugs out of these bad pharmacies and these bad corporations stunned at the massive and ultimately successful effort to take the bite out of dea attempts to hold distributors and drugmakers responsible for their role in an epidemic estimated to take lives every year rannazzisi likened the legislation to free pass for legal drug pushers this does not ensure patient access and it does not help drug enforcement at all he told the guardian what this bill does has nothing to do with the medical process what this bill does is take away dea ability to go after pharmacist wholesaler manufacturer or distributor this was gift gift to the industry he added after heading the diversion office for decade rannazzisi retired in likely disgusted over legislators dedication to the legal drug industry rather than the people whose interests they are ostensibly obligated to protect the bill passed because big pharma wanted it to pass he told the guardian in no uncertain terms the dea is both an enforcement agency and regulatory agency when was in charge what tried to do was explain to my investigators and my agents that our job was to regulate the industry and they are not going to like being regulated big pharma relies overwhelmingly on lobbyists filling the coffers of politicians to ensure they ignore the crisis gripping the nation as the center for public integrity found the guardian noted purdue pharma at the heart of the epidemic for its highly addictive drug introduced in the late oxycontin spent breathtaking million in the last ten years on congressional lobbying efforts however big pharma power to influence policy and legislation extends far beyond simple but effective lobbying the government run interagency pain research coordinating committee iprcc has been accused by sen ron wyden of being tool to weaken cdc guidelines for limiting overprescribing of opioids wyden wrote to secretary of health and human services sylvia burwell of his concerns the iprcc had been staffed with experts with conflicts of interest for their close ties to big pharma including scientist with million endowment from purdue reported the guardian you ve got panel that has that is certainly got fair number of people that have vested interest in this problem of overprescribing that has that is something you have got to root out wyden asserted the role of the pharmaceutical companies on these advisory panels troubles me greatly science is getting short shrift compared to the political clout of these influential interests families of countless addicts and victims of the opioid industry would undoubtedly find the direct influence of big pharma pro opioid cash appalling yet it continues to this day policies and legislation have not yet been given the appropriate funding needed to effectively combat the problem which swirls out of control while politicians and drugmakers reap blood tainted profits corporations have no conscience rannazzisi flatly told the guardian unfortunately with my job was the guy who had to go out and talk to families that lost kids if one of those ceos went out there and talked to anybody or if one of those ceos happened to lose kid to this horrible horrible domestic tragedy we have d bet you they had they would change their mind when you sit with parent who cannot understand why there has there is so many pharmaceuticals out in the illicit marketplace and why is not the government doing anything well the dea was doing something unfortunately what we are trying to do is thwarted by people who are writing laws share this article ', shape=(), dtype=string) tf.Tensor(1, shape=(), dtype=int64)\n"
     ]
    }
   ],
   "source": [
    "# Visualizing the data\n",
    "for i,j in train_text_dataset.take(1):\n",
    "    print(i,j)\n",
    "    break"
   ]
  },
  {
   "cell_type": "code",
   "execution_count": 139,
   "metadata": {
    "id": "j2oDVex2Xy93"
   },
   "outputs": [],
   "source": [
    "BATCH_SIZE = 8"
   ]
  },
  {
   "cell_type": "code",
   "execution_count": 140,
   "metadata": {
    "id": "PGzTCzESO2tv"
   },
   "outputs": [
    {
     "name": "stdout",
     "output_type": "stream",
     "text": [
      "5682 632\n"
     ]
    }
   ],
   "source": [
    "# prefetching \n",
    "# train_dataset = train_dataset.batch(BATCH_SIZE).prefetch(tf.data.AUTOTUNE)\n",
    "# test_dataset = test_dataset.batch(BATCH_SIZE).prefetch(tf.data.AUTOTUNE)\n",
    "\n",
    "# train_title_dataset = train_title_dataset.batch(BATCH_SIZE).prefetch(tf.data.AUTOTUNE)\n",
    "# test_title_dataset = test_title_dataset.batch(BATCH_SIZE).prefetch(tf.data.AUTOTUNE)\n",
    "\n",
    "train_text_dataset = train_text_dataset.repeat(10).batch(BATCH_SIZE).prefetch(tf.data.AUTOTUNE)\n",
    "test_text_dataset = test_text_dataset.repeat(10).batch(BATCH_SIZE).prefetch(tf.data.AUTOTUNE)\n",
    "print(len(train_text_dataset),len(test_text_dataset))"
   ]
  },
  {
   "cell_type": "markdown",
   "metadata": {
    "id": "N5hquM68Xy93"
   },
   "source": [
    "# Model 1 : Conv1D model"
   ]
  },
  {
   "cell_type": "code",
   "execution_count": 94,
   "metadata": {
    "id": "n03HstlaCB0A"
   },
   "outputs": [],
   "source": [
    "def line_breaker(x):\n",
    "# aa = tf.constant(ss)\n",
    "    return tf.strings.split(x)"
   ]
  },
  {
   "cell_type": "code",
   "execution_count": 95,
   "metadata": {
    "colab": {
     "base_uri": "https://localhost:8080/"
    },
    "id": "B1QG5sDlCB0A",
    "outputId": "5a8a560d-c261-4153-ea54-f1dafacc250e"
   },
   "outputs": [
    {
     "data": {
      "text/plain": [
       "<tf.Tensor: shape=(4,), dtype=string, numpy=array([b'this', b'is', b'a', b'string'], dtype=object)>"
      ]
     },
     "execution_count": 95,
     "metadata": {},
     "output_type": "execute_result"
    }
   ],
   "source": [
    "ss = 'this is a string'\n",
    "line_breaker(ss)"
   ]
  },
  {
   "cell_type": "code",
   "execution_count": 128,
   "metadata": {
    "colab": {
     "base_uri": "https://localhost:8080/"
    },
    "id": "92p0eK7tXy94",
    "outputId": "0e6762bf-ab58-4fb3-ae49-1b3762cfede2"
   },
   "outputs": [
    {
     "name": "stdout",
     "output_type": "stream",
     "text": [
      "Input shape:  (None, 1)\n",
      "tokenize shape:  (None, 3967)\n",
      "embedded shape:  (None, 3967, 100)\n"
     ]
    }
   ],
   "source": [
    "input1 = keras.Input(shape = (1), dtype = tf.string)\n",
    "print('Input shape: ',input1.shape)\n",
    "\n",
    "tokenize = text_text_vectorizer(input1)\n",
    "print('tokenize shape: ', tokenize.shape)\n",
    "\n",
    "# x = layers.Lambda(tf.strings.split(input1))\n",
    "\n",
    "embedd = text_embedding_layer(tokenize)\n",
    "print('embedded shape: ',embedd.shape)\n",
    "\n",
    "# a conv1d layer\n",
    "x = layers.Conv1D(64, 5, 1, activation='relu')(embedd)\n",
    "x = layers.Dropout(.2)(x)\n",
    "\n",
    "x = layers.Conv1D(64, 5, 1, activation='relu')(x)\n",
    "x = layers.Dropout(.2)(x)\n",
    "\n",
    "x = layers.Conv1D(64, 5, 1, activation='relu')(x)\n",
    "x = layers.Dropout(.2)(x)\n",
    "\n",
    "x = layers.Conv1D(64, 5, 1, activation='relu')(x)\n",
    "x = layers.Dropout(.2)(x)\n",
    "\n",
    "x = layers.Dense(32, activation='relu')(x)\n",
    "x = layers.GlobalMaxPooling1D()(x)\n",
    "output1 = layers.Dense(1, activation='sigmoid')(x)\n",
    "\n",
    "#compile\n",
    "model1 = keras.Model(inputs = input1, outputs = output1)\n",
    "\n",
    "# model1 = keras.Sequential()\n",
    "# model1.add(keras.Input(shape = (1,), dtype = tf.string))\n",
    "# model1.add(text_text_vectorizer)\n",
    "# model1.add(text_embedding_layer)\n",
    "# model1.add(layers.Conv1D(32, 5, 1, activation='relu'))\n",
    "# # model1.add(layers.Dropout(.3))\n",
    "# model1.add(layers.Dense(32, activation='relu'))\n",
    "# model1.add(layers.Dense(1))\n",
    "\n",
    "#compile\n",
    "model1.compile(loss = 'binary_crossentropy',\n",
    "              optimizer = tf.keras.optimizers.Adam(learning_rate = .0001),\n",
    "              metrics = ['accuracy'])"
   ]
  },
  {
   "cell_type": "code",
   "execution_count": 129,
   "metadata": {
    "colab": {
     "base_uri": "https://localhost:8080/"
    },
    "id": "5LAteMQPXy94",
    "outputId": "fcfe1741-74a6-48d3-f122-0275cdef5ea0"
   },
   "outputs": [
    {
     "name": "stdout",
     "output_type": "stream",
     "text": [
      "569\n"
     ]
    }
   ],
   "source": [
    "EPOCHS = 200\n",
    "print(len(train_text_dataset))"
   ]
  },
  {
   "cell_type": "code",
   "execution_count": 141,
   "metadata": {
    "colab": {
     "base_uri": "https://localhost:8080/"
    },
    "id": "jZRz9ws1Xy94",
    "outputId": "947db851-33ce-49e6-e940-2dee330c7d64",
    "scrolled": true
   },
   "outputs": [
    {
     "name": "stdout",
     "output_type": "stream",
     "text": [
      "Saving TensorBoard log files to: tb/model1/20221111-214803\n",
      "Epoch 1/200\n",
      "28/28 [==============================] - 3s 112ms/step - loss: 0.3670 - accuracy: 0.8359 - val_loss: 0.3926 - val_accuracy: 0.8125\n",
      "Epoch 2/200\n",
      "28/28 [==============================] - 3s 102ms/step - loss: 0.3768 - accuracy: 0.8393 - val_loss: 0.3859 - val_accuracy: 0.8125\n",
      "Epoch 3/200\n",
      "28/28 [==============================] - 3s 102ms/step - loss: 0.3538 - accuracy: 0.8359 - val_loss: 0.4227 - val_accuracy: 0.8125\n",
      "Epoch 4/200\n",
      "28/28 [==============================] - 3s 102ms/step - loss: 0.3474 - accuracy: 0.8460 - val_loss: 0.3373 - val_accuracy: 0.8542\n",
      "Epoch 5/200\n",
      "28/28 [==============================] - 3s 103ms/step - loss: 0.3029 - accuracy: 0.8694 - val_loss: 0.3040 - val_accuracy: 0.8854\n",
      "Epoch 6/200\n",
      "28/28 [==============================] - 3s 102ms/step - loss: 0.2935 - accuracy: 0.8694 - val_loss: 0.2923 - val_accuracy: 0.8750\n",
      "Epoch 7/200\n",
      "28/28 [==============================] - 3s 102ms/step - loss: 0.3026 - accuracy: 0.8717 - val_loss: 0.3144 - val_accuracy: 0.8646\n",
      "Epoch 8/200\n",
      "28/28 [==============================] - 3s 102ms/step - loss: 0.2692 - accuracy: 0.8850 - val_loss: 0.3107 - val_accuracy: 0.8750\n",
      "Epoch 9/200\n",
      "28/28 [==============================] - 3s 102ms/step - loss: 0.3165 - accuracy: 0.8661 - val_loss: 0.2903 - val_accuracy: 0.8854\n",
      "Epoch 10/200\n",
      "28/28 [==============================] - 3s 102ms/step - loss: 0.2726 - accuracy: 0.8772 - val_loss: 0.3136 - val_accuracy: 0.8750\n",
      "Epoch 11/200\n",
      "28/28 [==============================] - 3s 105ms/step - loss: 0.3063 - accuracy: 0.8717 - val_loss: 0.2836 - val_accuracy: 0.8854\n",
      "Epoch 12/200\n",
      "28/28 [==============================] - 3s 102ms/step - loss: 0.2721 - accuracy: 0.8817 - val_loss: 0.2952 - val_accuracy: 0.8646\n",
      "Epoch 13/200\n",
      "28/28 [==============================] - 3s 101ms/step - loss: 0.2676 - accuracy: 0.8862 - val_loss: 0.3170 - val_accuracy: 0.8646\n",
      "Epoch 14/200\n",
      "28/28 [==============================] - 3s 102ms/step - loss: 0.2572 - accuracy: 0.8929 - val_loss: 0.3045 - val_accuracy: 0.8854\n",
      "Epoch 15/200\n",
      "28/28 [==============================] - 3s 101ms/step - loss: 0.2525 - accuracy: 0.9007 - val_loss: 0.2651 - val_accuracy: 0.8854\n",
      "Epoch 16/200\n",
      "28/28 [==============================] - 3s 102ms/step - loss: 0.3188 - accuracy: 0.8516 - val_loss: 0.3112 - val_accuracy: 0.8542\n",
      "Epoch 17/200\n",
      "28/28 [==============================] - 3s 101ms/step - loss: 0.2597 - accuracy: 0.8817 - val_loss: 0.2830 - val_accuracy: 0.8750\n",
      "Epoch 18/200\n",
      "28/28 [==============================] - 3s 97ms/step - loss: 0.2532 - accuracy: 0.8895 - val_loss: 0.2680 - val_accuracy: 0.8750\n",
      "Epoch 19/200\n",
      "28/28 [==============================] - 2s 86ms/step - loss: 0.2669 - accuracy: 0.8906 - val_loss: 0.2644 - val_accuracy: 0.8854\n",
      "Epoch 20/200\n",
      "28/28 [==============================] - 2s 86ms/step - loss: 0.2889 - accuracy: 0.8806 - val_loss: 0.2700 - val_accuracy: 0.8854\n",
      "Epoch 21/200\n",
      "28/28 [==============================] - 2s 85ms/step - loss: 0.2428 - accuracy: 0.9085 - val_loss: 0.2753 - val_accuracy: 0.8958\n",
      "Epoch 22/200\n",
      "28/28 [==============================] - 2s 88ms/step - loss: 0.2697 - accuracy: 0.8783 - val_loss: 0.2606 - val_accuracy: 0.8958\n",
      "Epoch 23/200\n",
      "28/28 [==============================] - 2s 88ms/step - loss: 0.2650 - accuracy: 0.8895 - val_loss: 0.2708 - val_accuracy: 0.8750\n",
      "Epoch 24/200\n",
      "28/28 [==============================] - 2s 87ms/step - loss: 0.2513 - accuracy: 0.8962 - val_loss: 0.2459 - val_accuracy: 0.8854\n",
      "Epoch 25/200\n",
      "28/28 [==============================] - 2s 89ms/step - loss: 0.2238 - accuracy: 0.9007 - val_loss: 0.2587 - val_accuracy: 0.8750\n",
      "Epoch 26/200\n",
      "28/28 [==============================] - 2s 87ms/step - loss: 0.2535 - accuracy: 0.8817 - val_loss: 0.2896 - val_accuracy: 0.8750\n",
      "Epoch 27/200\n",
      "28/28 [==============================] - 2s 86ms/step - loss: 0.2319 - accuracy: 0.8973 - val_loss: 0.2896 - val_accuracy: 0.8750\n",
      "Epoch 28/200\n",
      "28/28 [==============================] - 2s 86ms/step - loss: 0.2257 - accuracy: 0.9007 - val_loss: 0.2562 - val_accuracy: 0.8854\n",
      "Epoch 29/200\n",
      "28/28 [==============================] - 2s 86ms/step - loss: 0.2349 - accuracy: 0.9018 - val_loss: 0.2799 - val_accuracy: 0.8646\n",
      "Epoch 30/200\n",
      "28/28 [==============================] - 2s 86ms/step - loss: 0.2394 - accuracy: 0.8917 - val_loss: 0.2750 - val_accuracy: 0.8646\n",
      "Epoch 31/200\n",
      "28/28 [==============================] - 2s 86ms/step - loss: 0.2463 - accuracy: 0.9007 - val_loss: 0.2520 - val_accuracy: 0.8646\n",
      "Epoch 32/200\n",
      "28/28 [==============================] - 2s 86ms/step - loss: 0.2270 - accuracy: 0.9062 - val_loss: 0.2559 - val_accuracy: 0.8542\n",
      "Epoch 33/200\n",
      "28/28 [==============================] - 2s 86ms/step - loss: 0.2226 - accuracy: 0.9029 - val_loss: 0.2467 - val_accuracy: 0.8750\n",
      "Epoch 34/200\n",
      "28/28 [==============================] - 2s 86ms/step - loss: 0.2193 - accuracy: 0.9096 - val_loss: 0.2433 - val_accuracy: 0.8958\n",
      "Epoch 35/200\n",
      "28/28 [==============================] - 2s 89ms/step - loss: 0.1824 - accuracy: 0.9263 - val_loss: 0.2652 - val_accuracy: 0.8646\n",
      "Epoch 36/200\n",
      "28/28 [==============================] - 2s 84ms/step - loss: 0.2342 - accuracy: 0.9007 - val_loss: 0.2361 - val_accuracy: 0.9167\n",
      "Epoch 37/200\n",
      "28/28 [==============================] - 2s 84ms/step - loss: 0.2283 - accuracy: 0.9062 - val_loss: 0.2366 - val_accuracy: 0.8854\n",
      "Epoch 38/200\n",
      "28/28 [==============================] - 2s 85ms/step - loss: 0.1952 - accuracy: 0.9219 - val_loss: 0.2388 - val_accuracy: 0.8750\n",
      "Epoch 39/200\n",
      "28/28 [==============================] - 2s 86ms/step - loss: 0.2155 - accuracy: 0.9074 - val_loss: 0.2523 - val_accuracy: 0.8646\n",
      "Epoch 40/200\n",
      "28/28 [==============================] - 2s 86ms/step - loss: 0.2680 - accuracy: 0.8984 - val_loss: 0.2520 - val_accuracy: 0.8750\n",
      "Epoch 41/200\n",
      "28/28 [==============================] - 2s 84ms/step - loss: 0.2162 - accuracy: 0.9219 - val_loss: 0.2481 - val_accuracy: 0.8750\n",
      "Epoch 42/200\n",
      "28/28 [==============================] - 2s 84ms/step - loss: 0.2150 - accuracy: 0.8973 - val_loss: 0.2759 - val_accuracy: 0.8542\n",
      "Epoch 43/200\n",
      "28/28 [==============================] - 2s 86ms/step - loss: 0.2512 - accuracy: 0.9029 - val_loss: 0.2490 - val_accuracy: 0.8750\n",
      "Epoch 44/200\n",
      "28/28 [==============================] - 2s 85ms/step - loss: 0.2011 - accuracy: 0.9185 - val_loss: 0.2437 - val_accuracy: 0.9062\n",
      "Epoch 45/200\n",
      "28/28 [==============================] - 2s 85ms/step - loss: 0.2213 - accuracy: 0.9118 - val_loss: 0.2401 - val_accuracy: 0.9062\n",
      "Epoch 46/200\n",
      "28/28 [==============================] - 2s 85ms/step - loss: 0.2136 - accuracy: 0.9029 - val_loss: 0.2551 - val_accuracy: 0.8542\n",
      "Epoch 47/200\n",
      "28/28 [==============================] - 2s 84ms/step - loss: 0.2017 - accuracy: 0.9107 - val_loss: 0.2432 - val_accuracy: 0.8854\n",
      "Epoch 48/200\n",
      "28/28 [==============================] - 2s 84ms/step - loss: 0.1963 - accuracy: 0.9219 - val_loss: 0.2526 - val_accuracy: 0.8854\n",
      "Epoch 49/200\n",
      "28/28 [==============================] - 2s 86ms/step - loss: 0.2048 - accuracy: 0.9174 - val_loss: 0.2462 - val_accuracy: 0.8958\n",
      "Epoch 50/200\n",
      "28/28 [==============================] - 2s 89ms/step - loss: 0.2200 - accuracy: 0.9107 - val_loss: 0.2456 - val_accuracy: 0.8958\n",
      "Epoch 51/200\n",
      "28/28 [==============================] - 3s 93ms/step - loss: 0.1806 - accuracy: 0.9252 - val_loss: 0.2396 - val_accuracy: 0.8854\n",
      "Epoch 52/200\n",
      "28/28 [==============================] - 3s 90ms/step - loss: 0.2240 - accuracy: 0.8940 - val_loss: 0.2489 - val_accuracy: 0.8542\n",
      "Epoch 53/200\n",
      "28/28 [==============================] - 3s 92ms/step - loss: 0.2021 - accuracy: 0.9185 - val_loss: 0.2399 - val_accuracy: 0.8854\n",
      "Epoch 54/200\n",
      "28/28 [==============================] - 3s 93ms/step - loss: 0.2025 - accuracy: 0.9263 - val_loss: 0.2356 - val_accuracy: 0.8854\n",
      "Epoch 55/200\n",
      "28/28 [==============================] - 3s 93ms/step - loss: 0.1891 - accuracy: 0.9308 - val_loss: 0.2443 - val_accuracy: 0.8542\n",
      "Epoch 56/200\n",
      "28/28 [==============================] - 3s 92ms/step - loss: 0.1851 - accuracy: 0.9230 - val_loss: 0.2684 - val_accuracy: 0.8646\n",
      "Epoch 57/200\n",
      "28/28 [==============================] - 2s 86ms/step - loss: 0.2292 - accuracy: 0.9107 - val_loss: 0.2381 - val_accuracy: 0.8646\n"
     ]
    },
    {
     "name": "stdout",
     "output_type": "stream",
     "text": [
      "Epoch 58/200\n",
      "28/28 [==============================] - 2s 85ms/step - loss: 0.1669 - accuracy: 0.9408 - val_loss: 0.2327 - val_accuracy: 0.8750\n",
      "Epoch 59/200\n",
      "28/28 [==============================] - 2s 85ms/step - loss: 0.2022 - accuracy: 0.9163 - val_loss: 0.2269 - val_accuracy: 0.9062\n",
      "Epoch 60/200\n",
      "28/28 [==============================] - 2s 87ms/step - loss: 0.2182 - accuracy: 0.9129 - val_loss: 0.2379 - val_accuracy: 0.8750\n",
      "Epoch 61/200\n",
      "28/28 [==============================] - 3s 98ms/step - loss: 0.2287 - accuracy: 0.9118 - val_loss: 0.2350 - val_accuracy: 0.9062\n",
      "Epoch 62/200\n",
      "28/28 [==============================] - 3s 96ms/step - loss: 0.1821 - accuracy: 0.9263 - val_loss: 0.2347 - val_accuracy: 0.9062\n",
      "Epoch 63/200\n",
      "28/28 [==============================] - 3s 92ms/step - loss: 0.2108 - accuracy: 0.9185 - val_loss: 0.2434 - val_accuracy: 0.8750\n",
      "Epoch 64/200\n",
      "28/28 [==============================] - 3s 95ms/step - loss: 0.1840 - accuracy: 0.9185 - val_loss: 0.2419 - val_accuracy: 0.8646\n",
      "Epoch 65/200\n",
      "28/28 [==============================] - 3s 89ms/step - loss: 0.1968 - accuracy: 0.9185 - val_loss: 0.2436 - val_accuracy: 0.8750\n",
      "Epoch 66/200\n",
      "28/28 [==============================] - 2s 88ms/step - loss: 0.2014 - accuracy: 0.9096 - val_loss: 0.2490 - val_accuracy: 0.8854\n",
      "Epoch 67/200\n",
      "28/28 [==============================] - 2s 86ms/step - loss: 0.1674 - accuracy: 0.9208 - val_loss: 0.2443 - val_accuracy: 0.8854\n",
      "Epoch 68/200\n",
      "28/28 [==============================] - 2s 84ms/step - loss: 0.1927 - accuracy: 0.9241 - val_loss: 0.2443 - val_accuracy: 0.8958\n",
      "Epoch 69/200\n",
      "28/28 [==============================] - 2s 85ms/step - loss: 0.1819 - accuracy: 0.9308 - val_loss: 0.2381 - val_accuracy: 0.8958\n",
      "Epoch 70/200\n",
      "28/28 [==============================] - 2s 85ms/step - loss: 0.1907 - accuracy: 0.9185 - val_loss: 0.2393 - val_accuracy: 0.8958\n",
      "Epoch 71/200\n",
      "28/28 [==============================] - 2s 86ms/step - loss: 0.1696 - accuracy: 0.9364 - val_loss: 0.2412 - val_accuracy: 0.8958\n",
      "Epoch 72/200\n",
      "28/28 [==============================] - 2s 87ms/step - loss: 0.1892 - accuracy: 0.9152 - val_loss: 0.2368 - val_accuracy: 0.8958\n",
      "Epoch 73/200\n",
      "28/28 [==============================] - 2s 87ms/step - loss: 0.2033 - accuracy: 0.9152 - val_loss: 0.2383 - val_accuracy: 0.8854\n",
      "Epoch 74/200\n",
      "28/28 [==============================] - 2s 86ms/step - loss: 0.1962 - accuracy: 0.9208 - val_loss: 0.2782 - val_accuracy: 0.8750\n",
      "Epoch 75/200\n",
      "28/28 [==============================] - 2s 89ms/step - loss: 0.1716 - accuracy: 0.9353 - val_loss: 0.2374 - val_accuracy: 0.8958\n",
      "Epoch 76/200\n",
      "28/28 [==============================] - 2s 88ms/step - loss: 0.1595 - accuracy: 0.9308 - val_loss: 0.2322 - val_accuracy: 0.8958\n",
      "Epoch 77/200\n",
      "28/28 [==============================] - 2s 86ms/step - loss: 0.2305 - accuracy: 0.9085 - val_loss: 0.2340 - val_accuracy: 0.8854\n",
      "Epoch 78/200\n",
      "28/28 [==============================] - 2s 86ms/step - loss: 0.1527 - accuracy: 0.9397 - val_loss: 0.2297 - val_accuracy: 0.8958\n",
      "Epoch 79/200\n",
      "28/28 [==============================] - 2s 88ms/step - loss: 0.1824 - accuracy: 0.9286 - val_loss: 0.2295 - val_accuracy: 0.8958\n",
      "Epoch 80/200\n",
      "28/28 [==============================] - 3s 91ms/step - loss: 0.1914 - accuracy: 0.9174 - val_loss: 0.2301 - val_accuracy: 0.9062\n",
      "Epoch 81/200\n",
      "28/28 [==============================] - 2s 85ms/step - loss: 0.2149 - accuracy: 0.9096 - val_loss: 0.2318 - val_accuracy: 0.9062\n",
      "Epoch 82/200\n",
      "28/28 [==============================] - 2s 87ms/step - loss: 0.1667 - accuracy: 0.9397 - val_loss: 0.2309 - val_accuracy: 0.9062\n",
      "Epoch 83/200\n",
      "28/28 [==============================] - 2s 88ms/step - loss: 0.1934 - accuracy: 0.9163 - val_loss: 0.2393 - val_accuracy: 0.8854\n",
      "Epoch 84/200\n",
      "28/28 [==============================] - 2s 85ms/step - loss: 0.1722 - accuracy: 0.9241 - val_loss: 0.2419 - val_accuracy: 0.8750\n",
      "Epoch 85/200\n",
      "28/28 [==============================] - 2s 88ms/step - loss: 0.1932 - accuracy: 0.9319 - val_loss: 0.2308 - val_accuracy: 0.8958\n",
      "Epoch 86/200\n",
      "28/28 [==============================] - 2s 87ms/step - loss: 0.1677 - accuracy: 0.9286 - val_loss: 0.2289 - val_accuracy: 0.8854\n",
      "Epoch 87/200\n",
      "28/28 [==============================] - 2s 87ms/step - loss: 0.1713 - accuracy: 0.9196 - val_loss: 0.2348 - val_accuracy: 0.8958\n",
      "Epoch 88/200\n",
      "28/28 [==============================] - 2s 88ms/step - loss: 0.1636 - accuracy: 0.9319 - val_loss: 0.2548 - val_accuracy: 0.8854\n",
      "Epoch 89/200\n",
      "28/28 [==============================] - 2s 88ms/step - loss: 0.1640 - accuracy: 0.9420 - val_loss: 0.2376 - val_accuracy: 0.8958\n",
      "Epoch 90/200\n",
      "28/28 [==============================] - 2s 86ms/step - loss: 0.1654 - accuracy: 0.9275 - val_loss: 0.2404 - val_accuracy: 0.9062\n",
      "Epoch 91/200\n",
      "28/28 [==============================] - 2s 85ms/step - loss: 0.1760 - accuracy: 0.9286 - val_loss: 0.2575 - val_accuracy: 0.8750\n",
      "Epoch 92/200\n",
      "28/28 [==============================] - 2s 85ms/step - loss: 0.1951 - accuracy: 0.9275 - val_loss: 0.2382 - val_accuracy: 0.9062\n",
      "Epoch 93/200\n",
      "28/28 [==============================] - 2s 87ms/step - loss: 0.1715 - accuracy: 0.9208 - val_loss: 0.2340 - val_accuracy: 0.9062\n",
      "Epoch 94/200\n",
      "28/28 [==============================] - 2s 88ms/step - loss: 0.1791 - accuracy: 0.9275 - val_loss: 0.2364 - val_accuracy: 0.8958\n",
      "Epoch 95/200\n",
      "28/28 [==============================] - 2s 86ms/step - loss: 0.1820 - accuracy: 0.9241 - val_loss: 0.2299 - val_accuracy: 0.8958\n",
      "Epoch 96/200\n",
      "28/28 [==============================] - 2s 85ms/step - loss: 0.1424 - accuracy: 0.9464 - val_loss: 0.2330 - val_accuracy: 0.8958\n",
      "Epoch 97/200\n",
      "28/28 [==============================] - 2s 88ms/step - loss: 0.2043 - accuracy: 0.9241 - val_loss: 0.2368 - val_accuracy: 0.8854\n",
      "Epoch 98/200\n",
      "28/28 [==============================] - 2s 88ms/step - loss: 0.1696 - accuracy: 0.9319 - val_loss: 0.2257 - val_accuracy: 0.9062\n",
      "Epoch 99/200\n",
      "28/28 [==============================] - 2s 85ms/step - loss: 0.1375 - accuracy: 0.9487 - val_loss: 0.2303 - val_accuracy: 0.9167\n",
      "Epoch 100/200\n",
      "28/28 [==============================] - 2s 88ms/step - loss: 0.1880 - accuracy: 0.9185 - val_loss: 0.2308 - val_accuracy: 0.9062\n",
      "Epoch 101/200\n",
      "28/28 [==============================] - 2s 85ms/step - loss: 0.2237 - accuracy: 0.9185 - val_loss: 0.2289 - val_accuracy: 0.9062\n",
      "Epoch 102/200\n",
      "28/28 [==============================] - 3s 92ms/step - loss: 0.1659 - accuracy: 0.9330 - val_loss: 0.2371 - val_accuracy: 0.9062\n",
      "Epoch 103/200\n",
      "28/28 [==============================] - 3s 90ms/step - loss: 0.1618 - accuracy: 0.9330 - val_loss: 0.2317 - val_accuracy: 0.9167\n",
      "Epoch 104/200\n",
      "28/28 [==============================] - 2s 84ms/step - loss: 0.1892 - accuracy: 0.9263 - val_loss: 0.2312 - val_accuracy: 0.9167\n",
      "Epoch 105/200\n",
      "28/28 [==============================] - 2s 85ms/step - loss: 0.1715 - accuracy: 0.9342 - val_loss: 0.2238 - val_accuracy: 0.9167\n",
      "Epoch 106/200\n",
      "28/28 [==============================] - 3s 90ms/step - loss: 0.1785 - accuracy: 0.9330 - val_loss: 0.2209 - val_accuracy: 0.9062\n",
      "Epoch 107/200\n",
      "28/28 [==============================] - 2s 84ms/step - loss: 0.1609 - accuracy: 0.9297 - val_loss: 0.2387 - val_accuracy: 0.9062\n",
      "Epoch 108/200\n",
      "28/28 [==============================] - 2s 86ms/step - loss: 0.1528 - accuracy: 0.9308 - val_loss: 0.2351 - val_accuracy: 0.9167\n",
      "Epoch 109/200\n",
      "28/28 [==============================] - 3s 93ms/step - loss: 0.1525 - accuracy: 0.9375 - val_loss: 0.2422 - val_accuracy: 0.9167\n",
      "Epoch 110/200\n",
      "28/28 [==============================] - 3s 92ms/step - loss: 0.1561 - accuracy: 0.9263 - val_loss: 0.2471 - val_accuracy: 0.8854\n",
      "Epoch 111/200\n",
      "28/28 [==============================] - 3s 90ms/step - loss: 0.1619 - accuracy: 0.9364 - val_loss: 0.2459 - val_accuracy: 0.9062\n",
      "Epoch 112/200\n",
      "28/28 [==============================] - 2s 87ms/step - loss: 0.1548 - accuracy: 0.9442 - val_loss: 0.2445 - val_accuracy: 0.8958\n",
      "Epoch 113/200\n",
      "28/28 [==============================] - 2s 88ms/step - loss: 0.1713 - accuracy: 0.9286 - val_loss: 0.2542 - val_accuracy: 0.8646\n",
      "Epoch 114/200\n",
      "28/28 [==============================] - 2s 84ms/step - loss: 0.1610 - accuracy: 0.9286 - val_loss: 0.2476 - val_accuracy: 0.8750\n",
      "Epoch 115/200\n",
      "28/28 [==============================] - 2s 84ms/step - loss: 0.1726 - accuracy: 0.9319 - val_loss: 0.2210 - val_accuracy: 0.9375\n",
      "Epoch 116/200\n",
      "28/28 [==============================] - 2s 84ms/step - loss: 0.1424 - accuracy: 0.9498 - val_loss: 0.2456 - val_accuracy: 0.8854\n",
      "Epoch 117/200\n",
      "28/28 [==============================] - 2s 84ms/step - loss: 0.1903 - accuracy: 0.9196 - val_loss: 0.2351 - val_accuracy: 0.8958\n",
      "Epoch 118/200\n",
      "28/28 [==============================] - 2s 86ms/step - loss: 0.1738 - accuracy: 0.9397 - val_loss: 0.2199 - val_accuracy: 0.9062\n",
      "Epoch 119/200\n",
      "28/28 [==============================] - 2s 85ms/step - loss: 0.1317 - accuracy: 0.9509 - val_loss: 0.2208 - val_accuracy: 0.9062\n",
      "Epoch 120/200\n",
      "28/28 [==============================] - 2s 86ms/step - loss: 0.1627 - accuracy: 0.9330 - val_loss: 0.2172 - val_accuracy: 0.9271\n",
      "Epoch 121/200\n",
      "28/28 [==============================] - 2s 84ms/step - loss: 0.1780 - accuracy: 0.9353 - val_loss: 0.2136 - val_accuracy: 0.9271\n",
      "Epoch 122/200\n",
      "28/28 [==============================] - 2s 84ms/step - loss: 0.1704 - accuracy: 0.9330 - val_loss: 0.2136 - val_accuracy: 0.9271\n",
      "Epoch 123/200\n",
      "28/28 [==============================] - 2s 84ms/step - loss: 0.1629 - accuracy: 0.9364 - val_loss: 0.2235 - val_accuracy: 0.9062\n",
      "Epoch 124/200\n",
      "28/28 [==============================] - 2s 84ms/step - loss: 0.1802 - accuracy: 0.9286 - val_loss: 0.2284 - val_accuracy: 0.9062\n",
      "Epoch 125/200\n",
      "28/28 [==============================] - 2s 87ms/step - loss: 0.1493 - accuracy: 0.9431 - val_loss: 0.2229 - val_accuracy: 0.9062\n",
      "Epoch 126/200\n",
      "28/28 [==============================] - 2s 87ms/step - loss: 0.1738 - accuracy: 0.9308 - val_loss: 0.2185 - val_accuracy: 0.9062\n",
      "Epoch 127/200\n",
      "28/28 [==============================] - 3s 90ms/step - loss: 0.1589 - accuracy: 0.9319 - val_loss: 0.2140 - val_accuracy: 0.9167\n",
      "Epoch 128/200\n",
      "28/28 [==============================] - 2s 87ms/step - loss: 0.1295 - accuracy: 0.9453 - val_loss: 0.2148 - val_accuracy: 0.9062\n",
      "Epoch 129/200\n",
      "28/28 [==============================] - 2s 87ms/step - loss: 0.1401 - accuracy: 0.9420 - val_loss: 0.2149 - val_accuracy: 0.9167\n",
      "Epoch 130/200\n",
      "28/28 [==============================] - 2s 86ms/step - loss: 0.1405 - accuracy: 0.9453 - val_loss: 0.2153 - val_accuracy: 0.9167\n",
      "Epoch 131/200\n",
      "28/28 [==============================] - 2s 86ms/step - loss: 0.1572 - accuracy: 0.9230 - val_loss: 0.2254 - val_accuracy: 0.9062\n",
      "Epoch 132/200\n",
      "28/28 [==============================] - 3s 90ms/step - loss: 0.1379 - accuracy: 0.9386 - val_loss: 0.2193 - val_accuracy: 0.9167\n",
      "Epoch 133/200\n",
      "28/28 [==============================] - 3s 90ms/step - loss: 0.1711 - accuracy: 0.9330 - val_loss: 0.2194 - val_accuracy: 0.9062\n",
      "Epoch 134/200\n",
      "28/28 [==============================] - 2s 87ms/step - loss: 0.1498 - accuracy: 0.9386 - val_loss: 0.2121 - val_accuracy: 0.9167\n",
      "Epoch 135/200\n",
      "28/28 [==============================] - 2s 87ms/step - loss: 0.1461 - accuracy: 0.9408 - val_loss: 0.2237 - val_accuracy: 0.9167\n",
      "Epoch 136/200\n",
      "28/28 [==============================] - 2s 88ms/step - loss: 0.1483 - accuracy: 0.9408 - val_loss: 0.2077 - val_accuracy: 0.9167\n",
      "Epoch 137/200\n",
      "28/28 [==============================] - 2s 86ms/step - loss: 0.1445 - accuracy: 0.9420 - val_loss: 0.1993 - val_accuracy: 0.9167\n",
      "Epoch 138/200\n",
      "28/28 [==============================] - 2s 84ms/step - loss: 0.1831 - accuracy: 0.9297 - val_loss: 0.2098 - val_accuracy: 0.9062\n",
      "Epoch 139/200\n",
      "28/28 [==============================] - 2s 85ms/step - loss: 0.1342 - accuracy: 0.9520 - val_loss: 0.2024 - val_accuracy: 0.9167\n",
      "Epoch 140/200\n",
      "28/28 [==============================] - 2s 87ms/step - loss: 0.1551 - accuracy: 0.9397 - val_loss: 0.2020 - val_accuracy: 0.9167\n",
      "Epoch 141/200\n",
      "28/28 [==============================] - 2s 89ms/step - loss: 0.1547 - accuracy: 0.9431 - val_loss: 0.2010 - val_accuracy: 0.9167\n",
      "Epoch 142/200\n",
      "28/28 [==============================] - 3s 91ms/step - loss: 0.1903 - accuracy: 0.9263 - val_loss: 0.2028 - val_accuracy: 0.9271\n",
      "Epoch 143/200\n",
      "28/28 [==============================] - 2s 88ms/step - loss: 0.1386 - accuracy: 0.9442 - val_loss: 0.2047 - val_accuracy: 0.8958\n",
      "Epoch 144/200\n",
      "28/28 [==============================] - 2s 88ms/step - loss: 0.1645 - accuracy: 0.9342 - val_loss: 0.2053 - val_accuracy: 0.9062\n",
      "Epoch 145/200\n",
      "28/28 [==============================] - 3s 90ms/step - loss: 0.1206 - accuracy: 0.9464 - val_loss: 0.2106 - val_accuracy: 0.9167\n",
      "Epoch 146/200\n",
      "28/28 [==============================] - 2s 86ms/step - loss: 0.1701 - accuracy: 0.9375 - val_loss: 0.2132 - val_accuracy: 0.9167\n",
      "Epoch 147/200\n",
      "28/28 [==============================] - 2s 85ms/step - loss: 0.1361 - accuracy: 0.9431 - val_loss: 0.2105 - val_accuracy: 0.9167\n",
      "Epoch 148/200\n",
      "28/28 [==============================] - 2s 85ms/step - loss: 0.1442 - accuracy: 0.9353 - val_loss: 0.2043 - val_accuracy: 0.9167\n",
      "Epoch 149/200\n",
      "28/28 [==============================] - 2s 85ms/step - loss: 0.1459 - accuracy: 0.9408 - val_loss: 0.2214 - val_accuracy: 0.9167\n",
      "Epoch 150/200\n",
      "28/28 [==============================] - 2s 87ms/step - loss: 0.1328 - accuracy: 0.9542 - val_loss: 0.2112 - val_accuracy: 0.8854\n",
      "Epoch 151/200\n",
      "28/28 [==============================] - 2s 88ms/step - loss: 0.1422 - accuracy: 0.9509 - val_loss: 0.2178 - val_accuracy: 0.8958\n",
      "Epoch 152/200\n",
      "28/28 [==============================] - 3s 90ms/step - loss: 0.1350 - accuracy: 0.9431 - val_loss: 0.2339 - val_accuracy: 0.8958\n",
      "Epoch 153/200\n",
      "28/28 [==============================] - 2s 86ms/step - loss: 0.1509 - accuracy: 0.9386 - val_loss: 0.2128 - val_accuracy: 0.9062\n",
      "Epoch 154/200\n",
      "28/28 [==============================] - 2s 87ms/step - loss: 0.1410 - accuracy: 0.9353 - val_loss: 0.2102 - val_accuracy: 0.8958\n",
      "Epoch 155/200\n",
      "28/28 [==============================] - 2s 87ms/step - loss: 0.1582 - accuracy: 0.9397 - val_loss: 0.2101 - val_accuracy: 0.9062\n",
      "Epoch 156/200\n",
      "28/28 [==============================] - 2s 86ms/step - loss: 0.1432 - accuracy: 0.9464 - val_loss: 0.2010 - val_accuracy: 0.9062\n",
      "Epoch 157/200\n",
      "28/28 [==============================] - 2s 87ms/step - loss: 0.1067 - accuracy: 0.9531 - val_loss: 0.1979 - val_accuracy: 0.9062\n",
      "Epoch 158/200\n",
      "28/28 [==============================] - 2s 87ms/step - loss: 0.1855 - accuracy: 0.9208 - val_loss: 0.2254 - val_accuracy: 0.9271\n",
      "Epoch 159/200\n",
      "28/28 [==============================] - 2s 86ms/step - loss: 0.1293 - accuracy: 0.9509 - val_loss: 0.1964 - val_accuracy: 0.8854\n",
      "Epoch 160/200\n",
      "28/28 [==============================] - 2s 86ms/step - loss: 0.1168 - accuracy: 0.9520 - val_loss: 0.2009 - val_accuracy: 0.9167\n",
      "Epoch 161/200\n",
      "28/28 [==============================] - 2s 86ms/step - loss: 0.1419 - accuracy: 0.9420 - val_loss: 0.1951 - val_accuracy: 0.9062\n",
      "Epoch 162/200\n",
      "28/28 [==============================] - 2s 86ms/step - loss: 0.1971 - accuracy: 0.9342 - val_loss: 0.1980 - val_accuracy: 0.9062\n",
      "Epoch 163/200\n",
      "28/28 [==============================] - 2s 86ms/step - loss: 0.1319 - accuracy: 0.9498 - val_loss: 0.2074 - val_accuracy: 0.9167\n",
      "Epoch 164/200\n",
      "28/28 [==============================] - 2s 86ms/step - loss: 0.1248 - accuracy: 0.9509 - val_loss: 0.2158 - val_accuracy: 0.9062\n",
      "Epoch 165/200\n",
      "28/28 [==============================] - 2s 86ms/step - loss: 0.1432 - accuracy: 0.9364 - val_loss: 0.2209 - val_accuracy: 0.9062\n",
      "Epoch 166/200\n",
      "28/28 [==============================] - 2s 86ms/step - loss: 0.1436 - accuracy: 0.9464 - val_loss: 0.2055 - val_accuracy: 0.8854\n",
      "Epoch 167/200\n",
      "28/28 [==============================] - 2s 87ms/step - loss: 0.1378 - accuracy: 0.9498 - val_loss: 0.2059 - val_accuracy: 0.8958\n",
      "Epoch 168/200\n",
      "28/28 [==============================] - 2s 86ms/step - loss: 0.1278 - accuracy: 0.9420 - val_loss: 0.2130 - val_accuracy: 0.9167\n",
      "Epoch 169/200\n",
      "28/28 [==============================] - 2s 86ms/step - loss: 0.1254 - accuracy: 0.9509 - val_loss: 0.2124 - val_accuracy: 0.9167\n",
      "Epoch 170/200\n",
      "28/28 [==============================] - 2s 86ms/step - loss: 0.1322 - accuracy: 0.9487 - val_loss: 0.2242 - val_accuracy: 0.9062\n",
      "Epoch 171/200\n",
      "28/28 [==============================] - 2s 86ms/step - loss: 0.1212 - accuracy: 0.9565 - val_loss: 0.2256 - val_accuracy: 0.8958\n"
     ]
    },
    {
     "name": "stdout",
     "output_type": "stream",
     "text": [
      "Epoch 172/200\n",
      "28/28 [==============================] - 2s 84ms/step - loss: 0.1396 - accuracy: 0.9442 - val_loss: 0.2315 - val_accuracy: 0.8958\n",
      "Epoch 173/200\n",
      "28/28 [==============================] - 2s 85ms/step - loss: 0.1422 - accuracy: 0.9509 - val_loss: 0.2149 - val_accuracy: 0.9062\n",
      "Epoch 174/200\n",
      "28/28 [==============================] - 2s 87ms/step - loss: 0.1152 - accuracy: 0.9520 - val_loss: 0.2211 - val_accuracy: 0.8958\n",
      "Epoch 175/200\n",
      "28/28 [==============================] - 2s 86ms/step - loss: 0.1400 - accuracy: 0.9442 - val_loss: 0.2127 - val_accuracy: 0.8854\n",
      "Epoch 176/200\n",
      "28/28 [==============================] - 2s 86ms/step - loss: 0.1494 - accuracy: 0.9520 - val_loss: 0.2055 - val_accuracy: 0.9062\n",
      "Epoch 177/200\n",
      "28/28 [==============================] - 2s 86ms/step - loss: 0.0982 - accuracy: 0.9598 - val_loss: 0.2218 - val_accuracy: 0.8958\n",
      "Epoch 178/200\n",
      "28/28 [==============================] - 2s 86ms/step - loss: 0.1709 - accuracy: 0.9208 - val_loss: 0.1938 - val_accuracy: 0.8854\n",
      "Epoch 179/200\n",
      "28/28 [==============================] - 2s 86ms/step - loss: 0.1537 - accuracy: 0.9353 - val_loss: 0.1950 - val_accuracy: 0.8958\n",
      "Epoch 180/200\n",
      "28/28 [==============================] - 2s 86ms/step - loss: 0.0972 - accuracy: 0.9676 - val_loss: 0.2043 - val_accuracy: 0.9062\n",
      "Epoch 181/200\n",
      "28/28 [==============================] - 2s 87ms/step - loss: 0.1296 - accuracy: 0.9487 - val_loss: 0.2091 - val_accuracy: 0.9062\n",
      "Epoch 182/200\n",
      "28/28 [==============================] - 2s 86ms/step - loss: 0.1684 - accuracy: 0.9408 - val_loss: 0.1984 - val_accuracy: 0.9167\n",
      "Epoch 183/200\n",
      "28/28 [==============================] - 2s 86ms/step - loss: 0.1308 - accuracy: 0.9475 - val_loss: 0.1969 - val_accuracy: 0.9167\n",
      "Epoch 184/200\n",
      "28/28 [==============================] - 2s 86ms/step - loss: 0.1202 - accuracy: 0.9475 - val_loss: 0.2003 - val_accuracy: 0.9167\n",
      "Epoch 185/200\n",
      "28/28 [==============================] - 2s 86ms/step - loss: 0.1560 - accuracy: 0.9397 - val_loss: 0.2041 - val_accuracy: 0.9167\n",
      "Epoch 186/200\n",
      "28/28 [==============================] - 2s 86ms/step - loss: 0.1358 - accuracy: 0.9431 - val_loss: 0.2021 - val_accuracy: 0.8854\n",
      "Epoch 187/200\n",
      "28/28 [==============================] - 2s 87ms/step - loss: 0.1345 - accuracy: 0.9453 - val_loss: 0.2022 - val_accuracy: 0.8854\n",
      "Epoch 188/200\n",
      "28/28 [==============================] - 2s 87ms/step - loss: 0.1282 - accuracy: 0.9453 - val_loss: 0.2137 - val_accuracy: 0.9062\n",
      "Epoch 189/200\n",
      "28/28 [==============================] - 2s 86ms/step - loss: 0.1037 - accuracy: 0.9598 - val_loss: 0.2028 - val_accuracy: 0.9062\n",
      "Epoch 190/200\n",
      "28/28 [==============================] - 2s 86ms/step - loss: 0.1082 - accuracy: 0.9498 - val_loss: 0.2136 - val_accuracy: 0.9062\n",
      "Epoch 191/200\n",
      "28/28 [==============================] - 2s 86ms/step - loss: 0.1149 - accuracy: 0.9565 - val_loss: 0.2075 - val_accuracy: 0.8854\n",
      "Epoch 192/200\n",
      "28/28 [==============================] - 2s 86ms/step - loss: 0.1438 - accuracy: 0.9397 - val_loss: 0.2057 - val_accuracy: 0.8958\n",
      "Epoch 193/200\n",
      "28/28 [==============================] - 2s 86ms/step - loss: 0.1126 - accuracy: 0.9587 - val_loss: 0.2068 - val_accuracy: 0.9062\n",
      "Epoch 194/200\n",
      "28/28 [==============================] - 2s 86ms/step - loss: 0.1310 - accuracy: 0.9509 - val_loss: 0.2088 - val_accuracy: 0.9062\n",
      "Epoch 195/200\n",
      "28/28 [==============================] - 2s 86ms/step - loss: 0.1304 - accuracy: 0.9475 - val_loss: 0.2041 - val_accuracy: 0.9062\n",
      "Epoch 196/200\n",
      "28/28 [==============================] - 2s 86ms/step - loss: 0.1216 - accuracy: 0.9475 - val_loss: 0.2059 - val_accuracy: 0.9062\n",
      "Epoch 197/200\n",
      "28/28 [==============================] - 2s 86ms/step - loss: 0.1121 - accuracy: 0.9609 - val_loss: 0.2288 - val_accuracy: 0.9062\n",
      "Epoch 198/200\n",
      "28/28 [==============================] - 2s 86ms/step - loss: 0.1326 - accuracy: 0.9442 - val_loss: 0.2071 - val_accuracy: 0.8958\n",
      "Epoch 199/200\n",
      "28/28 [==============================] - 2s 86ms/step - loss: 0.1626 - accuracy: 0.9420 - val_loss: 0.1954 - val_accuracy: 0.9062\n",
      "Epoch 200/200\n",
      "28/28 [==============================] - 2s 86ms/step - loss: 0.0913 - accuracy: 0.9621 - val_loss: 0.1924 - val_accuracy: 0.9062\n"
     ]
    }
   ],
   "source": [
    "hist1 = model1.fit(train_text_dataset, epochs = EPOCHS,\n",
    "                      steps_per_epoch = int(1* (len(train_text_dataset)/EPOCHS)),\n",
    "#                    steps_per_epoch = 10,   \n",
    "                   validation_steps = int(1* (len(test_text_dataset)/EPOCHS)),\n",
    "                      validation_data=test_text_dataset,\n",
    "                      callbacks = [create_tensorboard_callback('tb','model1')]\n",
    "                    )"
   ]
  },
  {
   "cell_type": "code",
   "execution_count": 142,
   "metadata": {
    "id": "IpDZitxtXy94"
   },
   "outputs": [
    {
     "data": {
      "text/html": [
       "<div>\n",
       "<style scoped>\n",
       "    .dataframe tbody tr th:only-of-type {\n",
       "        vertical-align: middle;\n",
       "    }\n",
       "\n",
       "    .dataframe tbody tr th {\n",
       "        vertical-align: top;\n",
       "    }\n",
       "\n",
       "    .dataframe thead th {\n",
       "        text-align: right;\n",
       "    }\n",
       "</style>\n",
       "<table border=\"1\" class=\"dataframe\">\n",
       "  <thead>\n",
       "    <tr style=\"text-align: right;\">\n",
       "      <th></th>\n",
       "      <th>loss</th>\n",
       "      <th>accuracy</th>\n",
       "      <th>val_loss</th>\n",
       "      <th>val_accuracy</th>\n",
       "    </tr>\n",
       "  </thead>\n",
       "  <tbody>\n",
       "    <tr>\n",
       "      <th>0</th>\n",
       "      <td>0.367040</td>\n",
       "      <td>0.835938</td>\n",
       "      <td>0.392610</td>\n",
       "      <td>0.812500</td>\n",
       "    </tr>\n",
       "    <tr>\n",
       "      <th>1</th>\n",
       "      <td>0.376797</td>\n",
       "      <td>0.839286</td>\n",
       "      <td>0.385905</td>\n",
       "      <td>0.812500</td>\n",
       "    </tr>\n",
       "    <tr>\n",
       "      <th>2</th>\n",
       "      <td>0.353788</td>\n",
       "      <td>0.835938</td>\n",
       "      <td>0.422655</td>\n",
       "      <td>0.812500</td>\n",
       "    </tr>\n",
       "    <tr>\n",
       "      <th>3</th>\n",
       "      <td>0.347386</td>\n",
       "      <td>0.845982</td>\n",
       "      <td>0.337286</td>\n",
       "      <td>0.854167</td>\n",
       "    </tr>\n",
       "    <tr>\n",
       "      <th>4</th>\n",
       "      <td>0.302946</td>\n",
       "      <td>0.869420</td>\n",
       "      <td>0.303963</td>\n",
       "      <td>0.885417</td>\n",
       "    </tr>\n",
       "    <tr>\n",
       "      <th>...</th>\n",
       "      <td>...</td>\n",
       "      <td>...</td>\n",
       "      <td>...</td>\n",
       "      <td>...</td>\n",
       "    </tr>\n",
       "    <tr>\n",
       "      <th>195</th>\n",
       "      <td>0.121626</td>\n",
       "      <td>0.947545</td>\n",
       "      <td>0.205904</td>\n",
       "      <td>0.906250</td>\n",
       "    </tr>\n",
       "    <tr>\n",
       "      <th>196</th>\n",
       "      <td>0.112106</td>\n",
       "      <td>0.960938</td>\n",
       "      <td>0.228761</td>\n",
       "      <td>0.906250</td>\n",
       "    </tr>\n",
       "    <tr>\n",
       "      <th>197</th>\n",
       "      <td>0.132597</td>\n",
       "      <td>0.944196</td>\n",
       "      <td>0.207123</td>\n",
       "      <td>0.895833</td>\n",
       "    </tr>\n",
       "    <tr>\n",
       "      <th>198</th>\n",
       "      <td>0.162599</td>\n",
       "      <td>0.941964</td>\n",
       "      <td>0.195354</td>\n",
       "      <td>0.906250</td>\n",
       "    </tr>\n",
       "    <tr>\n",
       "      <th>199</th>\n",
       "      <td>0.091296</td>\n",
       "      <td>0.962054</td>\n",
       "      <td>0.192408</td>\n",
       "      <td>0.906250</td>\n",
       "    </tr>\n",
       "  </tbody>\n",
       "</table>\n",
       "<p>200 rows × 4 columns</p>\n",
       "</div>"
      ],
      "text/plain": [
       "         loss  accuracy  val_loss  val_accuracy\n",
       "0    0.367040  0.835938  0.392610      0.812500\n",
       "1    0.376797  0.839286  0.385905      0.812500\n",
       "2    0.353788  0.835938  0.422655      0.812500\n",
       "3    0.347386  0.845982  0.337286      0.854167\n",
       "4    0.302946  0.869420  0.303963      0.885417\n",
       "..        ...       ...       ...           ...\n",
       "195  0.121626  0.947545  0.205904      0.906250\n",
       "196  0.112106  0.960938  0.228761      0.906250\n",
       "197  0.132597  0.944196  0.207123      0.895833\n",
       "198  0.162599  0.941964  0.195354      0.906250\n",
       "199  0.091296  0.962054  0.192408      0.906250\n",
       "\n",
       "[200 rows x 4 columns]"
      ]
     },
     "execution_count": 142,
     "metadata": {},
     "output_type": "execute_result"
    }
   ],
   "source": [
    "# plot_loss_curves(hist1)\n",
    "pd.DataFrame(hist1.history)"
   ]
  },
  {
   "cell_type": "code",
   "execution_count": 172,
   "metadata": {
    "id": "OKnTjI50Xy94"
   },
   "outputs": [
    {
     "name": "stdout",
     "output_type": "stream",
     "text": [
      "[('loss', 'accuracy'), ('loss', 'train'), ('loss', 'val'), ('accuracy', 'train'), ('accuracy', 'val'), ('train', 'val')]\n"
     ]
    },
    {
     "data": {
      "image/png": "[encoded data removed]",
      "text/plain": [
       "<Figure size 2000x1000 with 4 Axes>"
      ]
     },
     "metadata": {},
     "output_type": "display_data"
    }
   ],
   "source": [
    "import itertools\n",
    "\n",
    "# itertools.combinations(iterable, r) \n",
    "def plot_loss_accuracy(history, plot = ['loss','accuracy'], split = ['train','val'],figsize = (20,10), **kwargs ):\n",
    "    \n",
    "    hist = pd.DataFrame(history.history)\n",
    "    \n",
    "    cols = []\n",
    "    \n",
    "    for i in plot:\n",
    "        for j in split:\n",
    "            if j == 'val':\n",
    "                cols.append(j+'_'+i)\n",
    "            else:\n",
    "                cols.append(i)\n",
    "    \n",
    "    def display(col,plot_num):\n",
    "        plt.subplot(len(plot),len(split),plot_num)\n",
    "        plt.grid(True)\n",
    "        plt.plot(history.epoch, hist[col], 'b', label=col)\n",
    "        plt.title((' '.join(col.split('_'))).upper())\n",
    "        plt.xlabel('epochs')\n",
    "#         plt.ylabel('loss') if 'loss' in col \n",
    "        plt.legend()\n",
    "\n",
    "    plt.figure(figsize = figsize)\n",
    "    for plot_num,col in enumerate(cols,1):\n",
    "\n",
    "        display(col,plot_num)\n",
    "    \n",
    "plot_loss_accuracy(hist1)"
   ]
  },
  {
   "cell_type": "code",
   "execution_count": null,
   "metadata": {
    "id": "X6sJXijmXy94"
   },
   "outputs": [],
   "source": []
  },
  {
   "cell_type": "code",
   "execution_count": null,
   "metadata": {
    "id": "j7cjCK7wXy95"
   },
   "outputs": [],
   "source": []
  },
  {
   "cell_type": "code",
   "execution_count": null,
   "metadata": {
    "id": "dGjBmsyRXy95"
   },
   "outputs": [],
   "source": []
  },
  {
   "cell_type": "code",
   "execution_count": null,
   "metadata": {
    "id": "X1B5n7GFXy95"
   },
   "outputs": [],
   "source": []
  },
  {
   "cell_type": "code",
   "execution_count": null,
   "metadata": {
    "id": "5pjHonMkXy95"
   },
   "outputs": [],
   "source": []
  },
  {
   "cell_type": "code",
   "execution_count": null,
   "metadata": {
    "id": "0L5G2mNWXy95"
   },
   "outputs": [],
   "source": []
  },
  {
   "cell_type": "markdown",
   "metadata": {
    "id": "mT_p6WhpjMGF"
   },
   "source": [
    "# Modeln\n"
   ]
  },
  {
   "cell_type": "code",
   "execution_count": null,
   "metadata": {
    "id": "o9AYnIxajMEp"
   },
   "outputs": [],
   "source": [
    "from tensorflow.keras import layers\n",
    "from tensorflow.keras.layers import GlobalAveragePooling1D, GlobalMaxPooling1D"
   ]
  },
  {
   "cell_type": "code",
   "execution_count": null,
   "metadata": {
    "id": "R9cuQS59jMCH"
   },
   "outputs": [],
   "source": [
    "input1 = layers.Input(shape = (1,), dtype = tf.string)\n",
    "token = title_text_vectorizer(input1)\n",
    "embed = title_embedder(token)\n",
    "x = layers.LSTM(32,return_sequences=True)(embed)\n",
    "x = layers.LSTM(32,return_sequences=True)(x)\n",
    "title_out = GlobalAveragePooling1D()(x)\n",
    "print('title output shape: ',title_out.shape)\n",
    "\n",
    "input2 = layers.Input(shape = (1,), dtype= tf.string)\n",
    "token2 = text_text_vectorizer(input2)\n",
    "embed2 = text_embedder(token2)\n",
    "x = layers.LSTM(32,return_sequences=True)(embed2)\n",
    "x = layers.LSTM(32,return_sequences=True)(x)\n",
    "text_out = GlobalAveragePooling1D()(x)\n",
    "print('text output shape: ',text_out.shape)\n",
    "\n",
    "concat = layers.Concatenate()([title_out, text_out])\n",
    "print('concatenated shape: ',concat.shape)\n",
    "\n",
    "x = layers.Dropout(.3)(concat)\n",
    "x = layers.Dense(128, activation = 'relu')(x)\n",
    "x = layers.Dense(128, activation = 'relu')(x)\n",
    "outputs = layers.Dense(1, activation = 'sigmoid')(x)\n",
    "\n",
    "modeln = keras.Model(inputs = [input1,input2], outputs = outputs)\n",
    "\n",
    "#COMPILE\n",
    "modeln.compile(loss = keras.losses.SparseCategoricalCrossentropy(),\n",
    "               optimizer = keras.optimizers.Adam(),\n",
    "               metrics = ['accuracy'])"
   ]
  },
  {
   "cell_type": "code",
   "execution_count": null,
   "metadata": {
    "id": "uYkA2QVoTQzM"
   },
   "outputs": [],
   "source": [
    "EPOCHS = 10\n",
    "len(train_dataset), len(test_dataset)"
   ]
  },
  {
   "cell_type": "code",
   "execution_count": null,
   "metadata": {
    "id": "_xs5tlRwjL_Z"
   },
   "outputs": [],
   "source": [
    "historyn = modeln.fit(train_dataset, epochs = EPOCHS,\n",
    "                      steps_per_epoch = int(.3* (len(train_dataset)/EPOCHS)),\n",
    "                      validation_steps = int(.2* (len(test_dataset)/EPOCHS)),\n",
    "                      validation_data=test_dataset,\n",
    "                      callbacks = [create_tensorboard_callback('tb','model1')]\n",
    "                    )"
   ]
  },
  {
   "cell_type": "code",
   "execution_count": null,
   "metadata": {
    "id": "ybkTe7zKjL9U"
   },
   "outputs": [],
   "source": [
    "loss = history1.history['loss']\n",
    "val_loss = history1.history['val_loss']\n",
    "\n",
    "accuracy = history1.history['accuracy']\n",
    "val_accuracy = history1.history['val_accuracy']\n",
    "\n",
    "# print(val_accuracy)\n",
    "plt.figure(figsize = (25,7))\n",
    "\n",
    "plt.subplot(1,2,1)\n",
    "plt.grid(True)\n",
    "plt.plot(np.arange(len(loss)), loss, 'r', label='Training loss')\n",
    "plt.plot(np.arange(len(val_loss)), val_loss, 'bo', label='Validation loss')\n",
    "plt.title('Training and Validation Loss')\n",
    "plt.xlabel('Epoch')\n",
    "plt.ylabel('Loss Value')\n",
    "plt.legend()\n",
    "\n",
    "plt.subplot(1,2,2)\n",
    "plt.grid(True)\n",
    "plt.plot(np.arange(len(accuracy)), accuracy, 'r', label='Training accuracy')\n",
    "plt.plot(np.arange(len(val_accuracy)), val_accuracy, 'bo', label='Validation accuracy')\n",
    "plt.title('Training and Validation Accuracy')\n",
    "plt.xlabel('Epoch')\n",
    "plt.ylabel('Accracy Value')\n",
    "plt.legend()\n",
    "\n",
    "plt.show()"
   ]
  },
  {
   "cell_type": "code",
   "execution_count": null,
   "metadata": {
    "id": "11CtKjszjL7z"
   },
   "outputs": [],
   "source": []
  },
  {
   "cell_type": "code",
   "execution_count": null,
   "metadata": {
    "id": "jWPQ_JNXjL56"
   },
   "outputs": [],
   "source": []
  },
  {
   "cell_type": "code",
   "execution_count": null,
   "metadata": {
    "id": "QHNII4XQjL4P"
   },
   "outputs": [],
   "source": []
  },
  {
   "cell_type": "code",
   "execution_count": null,
   "metadata": {
    "id": "WkryvfmjjL2k"
   },
   "outputs": [],
   "source": []
  },
  {
   "cell_type": "code",
   "execution_count": null,
   "metadata": {
    "id": "swPTJ1UajL0M"
   },
   "outputs": [],
   "source": []
  },
  {
   "cell_type": "code",
   "execution_count": null,
   "metadata": {
    "id": "HPE_ba6ejLwu"
   },
   "outputs": [],
   "source": []
  },
  {
   "cell_type": "code",
   "execution_count": null,
   "metadata": {
    "id": "RhbxtNP7jLru"
   },
   "outputs": [],
   "source": []
  },
  {
   "cell_type": "code",
   "execution_count": null,
   "metadata": {
    "id": "HBzKuHIYjLo8"
   },
   "outputs": [],
   "source": []
  },
  {
   "cell_type": "code",
   "execution_count": null,
   "metadata": {
    "id": "bQiQQagQjLmf"
   },
   "outputs": [],
   "source": []
  },
  {
   "cell_type": "code",
   "execution_count": null,
   "metadata": {
    "id": "eoX1DcxBjLku"
   },
   "outputs": [],
   "source": []
  },
  {
   "cell_type": "code",
   "execution_count": null,
   "metadata": {
    "id": "RPTPwYbBjLdU"
   },
   "outputs": [],
   "source": []
  },
  {
   "cell_type": "code",
   "execution_count": null,
   "metadata": {
    "id": "5A9TzpdfjLbn"
   },
   "outputs": [],
   "source": []
  },
  {
   "cell_type": "code",
   "execution_count": null,
   "metadata": {
    "id": "kPs9zFI8jLaS"
   },
   "outputs": [],
   "source": []
  },
  {
   "cell_type": "code",
   "execution_count": null,
   "metadata": {
    "id": "Xb5xPJncjLYU"
   },
   "outputs": [],
   "source": []
  },
  {
   "cell_type": "code",
   "execution_count": null,
   "metadata": {
    "id": "qrN83y3mjLU0"
   },
   "outputs": [],
   "source": []
  },
  {
   "cell_type": "code",
   "execution_count": null,
   "metadata": {
    "id": "3S4B-htDjLSV"
   },
   "outputs": [],
   "source": []
  },
  {
   "cell_type": "code",
   "execution_count": null,
   "metadata": {
    "id": "ko2VnLZfjLQq"
   },
   "outputs": [],
   "source": []
  },
  {
   "cell_type": "code",
   "execution_count": null,
   "metadata": {
    "id": "g50oNoMDjLON"
   },
   "outputs": [],
   "source": []
  },
  {
   "cell_type": "code",
   "execution_count": null,
   "metadata": {
    "id": "4c9rILbZjLLL"
   },
   "outputs": [],
   "source": []
  },
  {
   "cell_type": "code",
   "execution_count": null,
   "metadata": {
    "id": "P6Mcfxa1jLIC"
   },
   "outputs": [],
   "source": []
  },
  {
   "cell_type": "code",
   "execution_count": null,
   "metadata": {
    "id": "vVEEYB_ojLFa"
   },
   "outputs": [],
   "source": []
  },
  {
   "cell_type": "code",
   "execution_count": null,
   "metadata": {
    "id": "rhAO7pJ6jLCy"
   },
   "outputs": [],
   "source": []
  },
  {
   "cell_type": "code",
   "execution_count": null,
   "metadata": {
    "id": "VxzqPgIwjLAA"
   },
   "outputs": [],
   "source": []
  },
  {
   "cell_type": "code",
   "execution_count": null,
   "metadata": {
    "id": "7r0f3aeejK9A"
   },
   "outputs": [],
   "source": []
  },
  {
   "cell_type": "code",
   "execution_count": null,
   "metadata": {
    "id": "hS8DZMHJjK6c"
   },
   "outputs": [],
   "source": []
  },
  {
   "cell_type": "code",
   "execution_count": null,
   "metadata": {
    "id": "iTXVCRjZjK33"
   },
   "outputs": [],
   "source": []
  }
 ],
 "metadata": {
  "colab": {
   "collapsed_sections": [],
   "include_colab_link": true,
   "provenance": []
  },
  "gpuClass": "standard",
  "kernelspec": {
   "display_name": "tf",
   "language": "python",
   "name": "tf"
  },
  "language_info": {
   "codemirror_mode": {
    "name": "ipython",
    "version": 3
   },
   "file_extension": ".py",
   "mimetype": "text/x-python",
   "name": "python",
   "nbconvert_exporter": "python",
   "pygments_lexer": "ipython3",
   "version": "3.10.6"
  }
 },
 "nbformat": 4,
 "nbformat_minor": 1
}

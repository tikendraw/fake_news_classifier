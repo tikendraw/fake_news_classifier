{
  "cells": [
    {
      "cell_type": "markdown",
      "metadata": {
        "id": "view-in-github",
        "colab_type": "text"
      },
      "source": [
        "<a href=\"https://colab.research.google.com/github/tikendraw/fake_news_classifier/blob/main/fake_news_classifier.ipynb\" target=\"_parent\"><img src=\"https://colab.research.google.com/assets/colab-badge.svg\" alt=\"Open In Colab\"/></a>"
      ]
    },
    {
      "cell_type": "markdown",
      "metadata": {
        "id": "eEzAsBIOMloc"
      },
      "source": [
        "# FAKE NEWS CLASSIFIER : Build a system to identify unreliable news articles\n",
        "Develop a machine learning program to identify when an article might be fake news. Run by the UTK Machine Learning Club.\n",
        "\n"
      ]
    },
    {
      "cell_type": "markdown",
      "metadata": {
        "id": "oODj5SvHMPXG"
      },
      "source": [
        "## Dataset Description\n",
        "[Dataset Here](https://www.kaggle.com/competitions/fake-news/code)\n",
        "\n",
        "\n",
        "**train.csv** : A full training dataset with the following attributes:\n",
        "\n",
        "* id: unique id for a news article\n",
        "* title: the title of a news article\n",
        "* author: author of the news article\n",
        "* text: the text of the article; could be incomplete\n",
        "* label: a label that marks the article as potentially unreliable\n",
        "\n",
        "    1: unreliable\n",
        "    \n",
        "    0: reliable"
      ]
    },
    {
      "cell_type": "code",
      "execution_count": 1,
      "metadata": {
        "id": "dDB8AO1jXy9i",
        "outputId": "904234c2-4ef6-40a0-97d0-ef404932d70e",
        "colab": {
          "base_uri": "https://localhost:8080/"
        }
      },
      "outputs": [
        {
          "output_type": "stream",
          "name": "stdout",
          "text": [
            "2.9.2\n",
            "GPU: 0\n"
          ]
        }
      ],
      "source": [
        "import tensorflow as tf\n",
        "print(tf.__version__)\n",
        "print('GPU:',len(tf.config.list_physical_devices('GPU')))"
      ]
    },
    {
      "cell_type": "code",
      "source": [
        "from packaging import version\n",
        "if version.parse(gensim.__version__) < version.parse(\"4.2.0\"):\n",
        "    !pip install --upgrade gensim\n",
        "\n",
        "print(gensim.__version__)\n"
      ],
      "metadata": {
        "id": "Rw6b89RnDsdM",
        "outputId": "3aae4497-e140-4283-babc-b24c7755ec12",
        "colab": {
          "base_uri": "https://localhost:8080/"
        }
      },
      "execution_count": 114,
      "outputs": [
        {
          "output_type": "stream",
          "name": "stdout",
          "text": [
            "<class 'str'> 4.2.0\n"
          ]
        }
      ]
    },
    {
      "cell_type": "code",
      "execution_count": 3,
      "metadata": {
        "id": "DIv9bTXG7Ipy",
        "outputId": "1c56df5c-c5cf-42c2-b6d5-f72490b22230",
        "colab": {
          "base_uri": "https://localhost:8080/"
        }
      },
      "outputs": [
        {
          "output_type": "stream",
          "name": "stdout",
          "text": [
            "fatal: destination path 'funcyou' already exists and is not an empty directory.\n"
          ]
        }
      ],
      "source": [
        "# !pip install numpy pandas matplotlib -q\n",
        "# !pip install nltk textblob -q\n",
        "import pandas as pd\n",
        "import numpy as np\n",
        "import matplotlib.pyplot as plt\n",
        "# import textblob\n",
        "import nltk\n",
        "from nltk.stem import WordNetLemmatizer\n",
        "from nltk.corpus import stopwords\n",
        "from nltk.tokenize import word_tokenize\n",
        "import gensim\n",
        "\n",
        "# !git clone https://github.com/tikendraw/funcyou.git -q\n",
        "import funcyou"
      ]
    },
    {
      "cell_type": "code",
      "execution_count": 4,
      "metadata": {
        "id": "fBUgHWJuK4Wf"
      },
      "outputs": [],
      "source": [
        "import re\n",
        "from sklearn.model_selection import train_test_split"
      ]
    },
    {
      "cell_type": "code",
      "execution_count": 5,
      "metadata": {
        "id": "9iLPf9nh7U31"
      },
      "outputs": [],
      "source": [
        "# DOWNLOADING EXTRA FILES\n",
        "# nltk.download('all')\n",
        "# !python -m textblob.download_corpora"
      ]
    },
    {
      "cell_type": "markdown",
      "metadata": {
        "id": "cNiI7DQH7eG7"
      },
      "source": [
        "# GET THE DATA"
      ]
    },
    {
      "cell_type": "code",
      "execution_count": 6,
      "metadata": {
        "id": "43uazWbA8tjw"
      },
      "outputs": [],
      "source": [
        "from funcyou.dataset import download_kaggle_dataset"
      ]
    },
    {
      "cell_type": "code",
      "execution_count": 7,
      "metadata": {
        "id": "f_GQR_s48q2h"
      },
      "outputs": [],
      "source": [
        "# IMPORT THE DATA\n",
        "DATA_LINK = 'https://www.kaggle.com/competitions/fake-news/code'\n",
        "\n",
        "## uncomment this if don't have data locally \n",
        "# download_kaggle_dataset(url = DATA_LINK)              # keep the kaggle.json in current working directory\n",
        "\n",
        "# UNZIP THE DATA\n",
        "# !unzip fake-news.zip -d dataset"
      ]
    },
    {
      "cell_type": "code",
      "execution_count": 8,
      "metadata": {
        "colab": {
          "base_uri": "https://localhost:8080/"
        },
        "id": "J28gtZhIYw9p",
        "outputId": "f1feaadf-10d8-4863-f6cf-fe833e91dd50"
      },
      "outputs": [
        {
          "output_type": "stream",
          "name": "stdout",
          "text": [
            "fatal: destination path 'fake_news_classifier' already exists and is not an empty directory.\n",
            "Archive:  fake_news_classifier/dataset/train.csv.zip\n",
            "replace dataset/train.csv? [y]es, [n]o, [A]ll, [N]one, [r]ename: y\n",
            "  inflating: dataset/train.csv       \n"
          ]
        }
      ],
      "source": [
        "#OR\n",
        "!git clone https://github.com/tikendraw/fake_news_classifier.git -q\n",
        "!unzip fake_news_classifier/dataset/train.csv.zip -d dataset"
      ]
    },
    {
      "cell_type": "code",
      "execution_count": 8,
      "metadata": {
        "id": "oO9XUdXN9oa9"
      },
      "outputs": [],
      "source": []
    },
    {
      "cell_type": "markdown",
      "metadata": {
        "id": "QCwL2MrT-twt"
      },
      "source": [
        "## READ THE DATA"
      ]
    },
    {
      "cell_type": "code",
      "execution_count": 9,
      "metadata": {
        "colab": {
          "base_uri": "https://localhost:8080/"
        },
        "id": "_yQOZPJV_GZX",
        "outputId": "026e34ae-2972-4683-ea99-72a989c19a2e"
      },
      "outputs": [
        {
          "output_type": "stream",
          "name": "stdout",
          "text": [
            "datset.shape:  (20800, 5)\n",
            "<class 'pandas.core.frame.DataFrame'>\n",
            "RangeIndex: 20800 entries, 0 to 20799\n",
            "Data columns (total 5 columns):\n",
            " #   Column  Non-Null Count  Dtype \n",
            "---  ------  --------------  ----- \n",
            " 0   id      20800 non-null  int64 \n",
            " 1   title   20242 non-null  object\n",
            " 2   author  18843 non-null  object\n",
            " 3   text    20761 non-null  object\n",
            " 4   label   20800 non-null  int64 \n",
            "dtypes: int64(2), object(3)\n",
            "memory usage: 812.6+ KB\n",
            "dataset info:  None\n"
          ]
        }
      ],
      "source": [
        "data = pd.read_csv('./dataset/train.csv')\n",
        "print('datset.shape: ',data.shape)\n",
        "print('dataset info: ',data.info())"
      ]
    },
    {
      "cell_type": "code",
      "execution_count": 10,
      "metadata": {
        "colab": {
          "base_uri": "https://localhost:8080/",
          "height": 424
        },
        "id": "KgpINmqF_GWi",
        "outputId": "ac0bcccf-5be9-49a6-ed11-695b38197787"
      },
      "outputs": [
        {
          "output_type": "execute_result",
          "data": {
            "text/plain": [
              "          id                                              title  \\\n",
              "0          0  House Dem Aide: We Didn’t Even See Comey’s Let...   \n",
              "1          1  FLYNN: Hillary Clinton, Big Woman on Campus - ...   \n",
              "2          2                  Why the Truth Might Get You Fired   \n",
              "3          3  15 Civilians Killed In Single US Airstrike Hav...   \n",
              "4          4  Iranian woman jailed for fictional unpublished...   \n",
              "...      ...                                                ...   \n",
              "20795  20795  Rapper T.I.: Trump a ’Poster Child For White S...   \n",
              "20796  20796  N.F.L. Playoffs: Schedule, Matchups and Odds -...   \n",
              "20797  20797  Macy’s Is Said to Receive Takeover Approach by...   \n",
              "20798  20798  NATO, Russia To Hold Parallel Exercises In Bal...   \n",
              "20799  20799                          What Keeps the F-35 Alive   \n",
              "\n",
              "                                          author  \\\n",
              "0                                  Darrell Lucus   \n",
              "1                                Daniel J. Flynn   \n",
              "2                             Consortiumnews.com   \n",
              "3                                Jessica Purkiss   \n",
              "4                                 Howard Portnoy   \n",
              "...                                          ...   \n",
              "20795                              Jerome Hudson   \n",
              "20796                           Benjamin Hoffman   \n",
              "20797  Michael J. de la Merced and Rachel Abrams   \n",
              "20798                                Alex Ansary   \n",
              "20799                              David Swanson   \n",
              "\n",
              "                                                    text  label  \n",
              "0      House Dem Aide: We Didn’t Even See Comey’s Let...      1  \n",
              "1      Ever get the feeling your life circles the rou...      0  \n",
              "2      Why the Truth Might Get You Fired October 29, ...      1  \n",
              "3      Videos 15 Civilians Killed In Single US Airstr...      1  \n",
              "4      Print \\nAn Iranian woman has been sentenced to...      1  \n",
              "...                                                  ...    ...  \n",
              "20795  Rapper T. I. unloaded on black celebrities who...      0  \n",
              "20796  When the Green Bay Packers lost to the Washing...      0  \n",
              "20797  The Macy’s of today grew from the union of sev...      0  \n",
              "20798  NATO, Russia To Hold Parallel Exercises In Bal...      1  \n",
              "20799    David Swanson is an author, activist, journa...      1  \n",
              "\n",
              "[20800 rows x 5 columns]"
            ],
            "text/html": [
              "\n",
              "  <div id=\"df-6c83979e-5581-443e-8dc6-6fca4f985ff6\">\n",
              "    <div class=\"colab-df-container\">\n",
              "      <div>\n",
              "<style scoped>\n",
              "    .dataframe tbody tr th:only-of-type {\n",
              "        vertical-align: middle;\n",
              "    }\n",
              "\n",
              "    .dataframe tbody tr th {\n",
              "        vertical-align: top;\n",
              "    }\n",
              "\n",
              "    .dataframe thead th {\n",
              "        text-align: right;\n",
              "    }\n",
              "</style>\n",
              "<table border=\"1\" class=\"dataframe\">\n",
              "  <thead>\n",
              "    <tr style=\"text-align: right;\">\n",
              "      <th></th>\n",
              "      <th>id</th>\n",
              "      <th>title</th>\n",
              "      <th>author</th>\n",
              "      <th>text</th>\n",
              "      <th>label</th>\n",
              "    </tr>\n",
              "  </thead>\n",
              "  <tbody>\n",
              "    <tr>\n",
              "      <th>0</th>\n",
              "      <td>0</td>\n",
              "      <td>House Dem Aide: We Didn’t Even See Comey’s Let...</td>\n",
              "      <td>Darrell Lucus</td>\n",
              "      <td>House Dem Aide: We Didn’t Even See Comey’s Let...</td>\n",
              "      <td>1</td>\n",
              "    </tr>\n",
              "    <tr>\n",
              "      <th>1</th>\n",
              "      <td>1</td>\n",
              "      <td>FLYNN: Hillary Clinton, Big Woman on Campus - ...</td>\n",
              "      <td>Daniel J. Flynn</td>\n",
              "      <td>Ever get the feeling your life circles the rou...</td>\n",
              "      <td>0</td>\n",
              "    </tr>\n",
              "    <tr>\n",
              "      <th>2</th>\n",
              "      <td>2</td>\n",
              "      <td>Why the Truth Might Get You Fired</td>\n",
              "      <td>Consortiumnews.com</td>\n",
              "      <td>Why the Truth Might Get You Fired October 29, ...</td>\n",
              "      <td>1</td>\n",
              "    </tr>\n",
              "    <tr>\n",
              "      <th>3</th>\n",
              "      <td>3</td>\n",
              "      <td>15 Civilians Killed In Single US Airstrike Hav...</td>\n",
              "      <td>Jessica Purkiss</td>\n",
              "      <td>Videos 15 Civilians Killed In Single US Airstr...</td>\n",
              "      <td>1</td>\n",
              "    </tr>\n",
              "    <tr>\n",
              "      <th>4</th>\n",
              "      <td>4</td>\n",
              "      <td>Iranian woman jailed for fictional unpublished...</td>\n",
              "      <td>Howard Portnoy</td>\n",
              "      <td>Print \\nAn Iranian woman has been sentenced to...</td>\n",
              "      <td>1</td>\n",
              "    </tr>\n",
              "    <tr>\n",
              "      <th>...</th>\n",
              "      <td>...</td>\n",
              "      <td>...</td>\n",
              "      <td>...</td>\n",
              "      <td>...</td>\n",
              "      <td>...</td>\n",
              "    </tr>\n",
              "    <tr>\n",
              "      <th>20795</th>\n",
              "      <td>20795</td>\n",
              "      <td>Rapper T.I.: Trump a ’Poster Child For White S...</td>\n",
              "      <td>Jerome Hudson</td>\n",
              "      <td>Rapper T. I. unloaded on black celebrities who...</td>\n",
              "      <td>0</td>\n",
              "    </tr>\n",
              "    <tr>\n",
              "      <th>20796</th>\n",
              "      <td>20796</td>\n",
              "      <td>N.F.L. Playoffs: Schedule, Matchups and Odds -...</td>\n",
              "      <td>Benjamin Hoffman</td>\n",
              "      <td>When the Green Bay Packers lost to the Washing...</td>\n",
              "      <td>0</td>\n",
              "    </tr>\n",
              "    <tr>\n",
              "      <th>20797</th>\n",
              "      <td>20797</td>\n",
              "      <td>Macy’s Is Said to Receive Takeover Approach by...</td>\n",
              "      <td>Michael J. de la Merced and Rachel Abrams</td>\n",
              "      <td>The Macy’s of today grew from the union of sev...</td>\n",
              "      <td>0</td>\n",
              "    </tr>\n",
              "    <tr>\n",
              "      <th>20798</th>\n",
              "      <td>20798</td>\n",
              "      <td>NATO, Russia To Hold Parallel Exercises In Bal...</td>\n",
              "      <td>Alex Ansary</td>\n",
              "      <td>NATO, Russia To Hold Parallel Exercises In Bal...</td>\n",
              "      <td>1</td>\n",
              "    </tr>\n",
              "    <tr>\n",
              "      <th>20799</th>\n",
              "      <td>20799</td>\n",
              "      <td>What Keeps the F-35 Alive</td>\n",
              "      <td>David Swanson</td>\n",
              "      <td>David Swanson is an author, activist, journa...</td>\n",
              "      <td>1</td>\n",
              "    </tr>\n",
              "  </tbody>\n",
              "</table>\n",
              "<p>20800 rows × 5 columns</p>\n",
              "</div>\n",
              "      <button class=\"colab-df-convert\" onclick=\"convertToInteractive('df-6c83979e-5581-443e-8dc6-6fca4f985ff6')\"\n",
              "              title=\"Convert this dataframe to an interactive table.\"\n",
              "              style=\"display:none;\">\n",
              "        \n",
              "  <svg xmlns=\"http://www.w3.org/2000/svg\" height=\"24px\"viewBox=\"0 0 24 24\"\n",
              "       width=\"24px\">\n",
              "    <path d=\"M0 0h24v24H0V0z\" fill=\"none\"/>\n",
              "    <path d=\"M18.56 5.44l.94 2.06.94-2.06 2.06-.94-2.06-.94-.94-2.06-.94 2.06-2.06.94zm-11 1L8.5 8.5l.94-2.06 2.06-.94-2.06-.94L8.5 2.5l-.94 2.06-2.06.94zm10 10l.94 2.06.94-2.06 2.06-.94-2.06-.94-.94-2.06-.94 2.06-2.06.94z\"/><path d=\"M17.41 7.96l-1.37-1.37c-.4-.4-.92-.59-1.43-.59-.52 0-1.04.2-1.43.59L10.3 9.45l-7.72 7.72c-.78.78-.78 2.05 0 2.83L4 21.41c.39.39.9.59 1.41.59.51 0 1.02-.2 1.41-.59l7.78-7.78 2.81-2.81c.8-.78.8-2.07 0-2.86zM5.41 20L4 18.59l7.72-7.72 1.47 1.35L5.41 20z\"/>\n",
              "  </svg>\n",
              "      </button>\n",
              "      \n",
              "  <style>\n",
              "    .colab-df-container {\n",
              "      display:flex;\n",
              "      flex-wrap:wrap;\n",
              "      gap: 12px;\n",
              "    }\n",
              "\n",
              "    .colab-df-convert {\n",
              "      background-color: #E8F0FE;\n",
              "      border: none;\n",
              "      border-radius: 50%;\n",
              "      cursor: pointer;\n",
              "      display: none;\n",
              "      fill: #1967D2;\n",
              "      height: 32px;\n",
              "      padding: 0 0 0 0;\n",
              "      width: 32px;\n",
              "    }\n",
              "\n",
              "    .colab-df-convert:hover {\n",
              "      background-color: #E2EBFA;\n",
              "      box-shadow: 0px 1px 2px rgba(60, 64, 67, 0.3), 0px 1px 3px 1px rgba(60, 64, 67, 0.15);\n",
              "      fill: #174EA6;\n",
              "    }\n",
              "\n",
              "    [theme=dark] .colab-df-convert {\n",
              "      background-color: #3B4455;\n",
              "      fill: #D2E3FC;\n",
              "    }\n",
              "\n",
              "    [theme=dark] .colab-df-convert:hover {\n",
              "      background-color: #434B5C;\n",
              "      box-shadow: 0px 1px 3px 1px rgba(0, 0, 0, 0.15);\n",
              "      filter: drop-shadow(0px 1px 2px rgba(0, 0, 0, 0.3));\n",
              "      fill: #FFFFFF;\n",
              "    }\n",
              "  </style>\n",
              "\n",
              "      <script>\n",
              "        const buttonEl =\n",
              "          document.querySelector('#df-6c83979e-5581-443e-8dc6-6fca4f985ff6 button.colab-df-convert');\n",
              "        buttonEl.style.display =\n",
              "          google.colab.kernel.accessAllowed ? 'block' : 'none';\n",
              "\n",
              "        async function convertToInteractive(key) {\n",
              "          const element = document.querySelector('#df-6c83979e-5581-443e-8dc6-6fca4f985ff6');\n",
              "          const dataTable =\n",
              "            await google.colab.kernel.invokeFunction('convertToInteractive',\n",
              "                                                     [key], {});\n",
              "          if (!dataTable) return;\n",
              "\n",
              "          const docLinkHtml = 'Like what you see? Visit the ' +\n",
              "            '<a target=\"_blank\" href=https://colab.research.google.com/notebooks/data_table.ipynb>data table notebook</a>'\n",
              "            + ' to learn more about interactive tables.';\n",
              "          element.innerHTML = '';\n",
              "          dataTable['output_type'] = 'display_data';\n",
              "          await google.colab.output.renderOutput(dataTable, element);\n",
              "          const docLink = document.createElement('div');\n",
              "          docLink.innerHTML = docLinkHtml;\n",
              "          element.appendChild(docLink);\n",
              "        }\n",
              "      </script>\n",
              "    </div>\n",
              "  </div>\n",
              "  "
            ]
          },
          "metadata": {},
          "execution_count": 10
        }
      ],
      "source": [
        "data"
      ]
    },
    {
      "cell_type": "markdown",
      "metadata": {
        "id": "x0lIRYLU_GUr"
      },
      "source": [
        "\n",
        "\n",
        "Here We will be dropping `id` (unique value does not provide any value to \n",
        "\n",
        "instance) and `author` (to no create a biasness towards it)"
      ]
    },
    {
      "cell_type": "code",
      "execution_count": 11,
      "metadata": {
        "id": "s_hK1MAS_GTQ"
      },
      "outputs": [],
      "source": [
        "# DROPPING ID AND AUTHOR\n",
        "data.drop(['id','author'], axis = 1, inplace = True)"
      ]
    },
    {
      "cell_type": "code",
      "execution_count": 12,
      "metadata": {
        "colab": {
          "base_uri": "https://localhost:8080/",
          "height": 206
        },
        "id": "j56TeGol_GRr",
        "outputId": "d69ccb70-bce6-4600-c3ad-cee3d0d8ce33"
      },
      "outputs": [
        {
          "output_type": "execute_result",
          "data": {
            "text/plain": [
              "                                               title  \\\n",
              "0  House Dem Aide: We Didn’t Even See Comey’s Let...   \n",
              "1  FLYNN: Hillary Clinton, Big Woman on Campus - ...   \n",
              "2                  Why the Truth Might Get You Fired   \n",
              "3  15 Civilians Killed In Single US Airstrike Hav...   \n",
              "4  Iranian woman jailed for fictional unpublished...   \n",
              "\n",
              "                                                text  label  \n",
              "0  House Dem Aide: We Didn’t Even See Comey’s Let...      1  \n",
              "1  Ever get the feeling your life circles the rou...      0  \n",
              "2  Why the Truth Might Get You Fired October 29, ...      1  \n",
              "3  Videos 15 Civilians Killed In Single US Airstr...      1  \n",
              "4  Print \\nAn Iranian woman has been sentenced to...      1  "
            ],
            "text/html": [
              "\n",
              "  <div id=\"df-7190594f-1f4e-4b45-a205-ba365c5770a3\">\n",
              "    <div class=\"colab-df-container\">\n",
              "      <div>\n",
              "<style scoped>\n",
              "    .dataframe tbody tr th:only-of-type {\n",
              "        vertical-align: middle;\n",
              "    }\n",
              "\n",
              "    .dataframe tbody tr th {\n",
              "        vertical-align: top;\n",
              "    }\n",
              "\n",
              "    .dataframe thead th {\n",
              "        text-align: right;\n",
              "    }\n",
              "</style>\n",
              "<table border=\"1\" class=\"dataframe\">\n",
              "  <thead>\n",
              "    <tr style=\"text-align: right;\">\n",
              "      <th></th>\n",
              "      <th>title</th>\n",
              "      <th>text</th>\n",
              "      <th>label</th>\n",
              "    </tr>\n",
              "  </thead>\n",
              "  <tbody>\n",
              "    <tr>\n",
              "      <th>0</th>\n",
              "      <td>House Dem Aide: We Didn’t Even See Comey’s Let...</td>\n",
              "      <td>House Dem Aide: We Didn’t Even See Comey’s Let...</td>\n",
              "      <td>1</td>\n",
              "    </tr>\n",
              "    <tr>\n",
              "      <th>1</th>\n",
              "      <td>FLYNN: Hillary Clinton, Big Woman on Campus - ...</td>\n",
              "      <td>Ever get the feeling your life circles the rou...</td>\n",
              "      <td>0</td>\n",
              "    </tr>\n",
              "    <tr>\n",
              "      <th>2</th>\n",
              "      <td>Why the Truth Might Get You Fired</td>\n",
              "      <td>Why the Truth Might Get You Fired October 29, ...</td>\n",
              "      <td>1</td>\n",
              "    </tr>\n",
              "    <tr>\n",
              "      <th>3</th>\n",
              "      <td>15 Civilians Killed In Single US Airstrike Hav...</td>\n",
              "      <td>Videos 15 Civilians Killed In Single US Airstr...</td>\n",
              "      <td>1</td>\n",
              "    </tr>\n",
              "    <tr>\n",
              "      <th>4</th>\n",
              "      <td>Iranian woman jailed for fictional unpublished...</td>\n",
              "      <td>Print \\nAn Iranian woman has been sentenced to...</td>\n",
              "      <td>1</td>\n",
              "    </tr>\n",
              "  </tbody>\n",
              "</table>\n",
              "</div>\n",
              "      <button class=\"colab-df-convert\" onclick=\"convertToInteractive('df-7190594f-1f4e-4b45-a205-ba365c5770a3')\"\n",
              "              title=\"Convert this dataframe to an interactive table.\"\n",
              "              style=\"display:none;\">\n",
              "        \n",
              "  <svg xmlns=\"http://www.w3.org/2000/svg\" height=\"24px\"viewBox=\"0 0 24 24\"\n",
              "       width=\"24px\">\n",
              "    <path d=\"M0 0h24v24H0V0z\" fill=\"none\"/>\n",
              "    <path d=\"M18.56 5.44l.94 2.06.94-2.06 2.06-.94-2.06-.94-.94-2.06-.94 2.06-2.06.94zm-11 1L8.5 8.5l.94-2.06 2.06-.94-2.06-.94L8.5 2.5l-.94 2.06-2.06.94zm10 10l.94 2.06.94-2.06 2.06-.94-2.06-.94-.94-2.06-.94 2.06-2.06.94z\"/><path d=\"M17.41 7.96l-1.37-1.37c-.4-.4-.92-.59-1.43-.59-.52 0-1.04.2-1.43.59L10.3 9.45l-7.72 7.72c-.78.78-.78 2.05 0 2.83L4 21.41c.39.39.9.59 1.41.59.51 0 1.02-.2 1.41-.59l7.78-7.78 2.81-2.81c.8-.78.8-2.07 0-2.86zM5.41 20L4 18.59l7.72-7.72 1.47 1.35L5.41 20z\"/>\n",
              "  </svg>\n",
              "      </button>\n",
              "      \n",
              "  <style>\n",
              "    .colab-df-container {\n",
              "      display:flex;\n",
              "      flex-wrap:wrap;\n",
              "      gap: 12px;\n",
              "    }\n",
              "\n",
              "    .colab-df-convert {\n",
              "      background-color: #E8F0FE;\n",
              "      border: none;\n",
              "      border-radius: 50%;\n",
              "      cursor: pointer;\n",
              "      display: none;\n",
              "      fill: #1967D2;\n",
              "      height: 32px;\n",
              "      padding: 0 0 0 0;\n",
              "      width: 32px;\n",
              "    }\n",
              "\n",
              "    .colab-df-convert:hover {\n",
              "      background-color: #E2EBFA;\n",
              "      box-shadow: 0px 1px 2px rgba(60, 64, 67, 0.3), 0px 1px 3px 1px rgba(60, 64, 67, 0.15);\n",
              "      fill: #174EA6;\n",
              "    }\n",
              "\n",
              "    [theme=dark] .colab-df-convert {\n",
              "      background-color: #3B4455;\n",
              "      fill: #D2E3FC;\n",
              "    }\n",
              "\n",
              "    [theme=dark] .colab-df-convert:hover {\n",
              "      background-color: #434B5C;\n",
              "      box-shadow: 0px 1px 3px 1px rgba(0, 0, 0, 0.15);\n",
              "      filter: drop-shadow(0px 1px 2px rgba(0, 0, 0, 0.3));\n",
              "      fill: #FFFFFF;\n",
              "    }\n",
              "  </style>\n",
              "\n",
              "      <script>\n",
              "        const buttonEl =\n",
              "          document.querySelector('#df-7190594f-1f4e-4b45-a205-ba365c5770a3 button.colab-df-convert');\n",
              "        buttonEl.style.display =\n",
              "          google.colab.kernel.accessAllowed ? 'block' : 'none';\n",
              "\n",
              "        async function convertToInteractive(key) {\n",
              "          const element = document.querySelector('#df-7190594f-1f4e-4b45-a205-ba365c5770a3');\n",
              "          const dataTable =\n",
              "            await google.colab.kernel.invokeFunction('convertToInteractive',\n",
              "                                                     [key], {});\n",
              "          if (!dataTable) return;\n",
              "\n",
              "          const docLinkHtml = 'Like what you see? Visit the ' +\n",
              "            '<a target=\"_blank\" href=https://colab.research.google.com/notebooks/data_table.ipynb>data table notebook</a>'\n",
              "            + ' to learn more about interactive tables.';\n",
              "          element.innerHTML = '';\n",
              "          dataTable['output_type'] = 'display_data';\n",
              "          await google.colab.output.renderOutput(dataTable, element);\n",
              "          const docLink = document.createElement('div');\n",
              "          docLink.innerHTML = docLinkHtml;\n",
              "          element.appendChild(docLink);\n",
              "        }\n",
              "      </script>\n",
              "    </div>\n",
              "  </div>\n",
              "  "
            ]
          },
          "metadata": {},
          "execution_count": 12
        }
      ],
      "source": [
        "data.head(5)"
      ]
    },
    {
      "cell_type": "code",
      "execution_count": 13,
      "metadata": {
        "id": "ZGTgQRu0Xy9m",
        "outputId": "04272aa1-1349-401b-b276-369bba922873",
        "colab": {
          "base_uri": "https://localhost:8080/",
          "height": 35
        }
      },
      "outputs": [
        {
          "output_type": "execute_result",
          "data": {
            "text/plain": [
              "'House Dem Aide: We Didn’t Even See Comey’s Letter Until Jason Chaffetz Tweeted It'"
            ],
            "application/vnd.google.colaboratory.intrinsic+json": {
              "type": "string"
            }
          },
          "metadata": {},
          "execution_count": 13
        }
      ],
      "source": [
        "data.title[0]"
      ]
    },
    {
      "cell_type": "markdown",
      "metadata": {
        "id": "qQ95Pq4E_GQA"
      },
      "source": [
        "# Preprocessing"
      ]
    },
    {
      "cell_type": "markdown",
      "metadata": {
        "id": "9dvnHFKuI89V"
      },
      "source": [
        "### Handling Missing values"
      ]
    },
    {
      "cell_type": "code",
      "execution_count": 14,
      "metadata": {
        "colab": {
          "base_uri": "https://localhost:8080/"
        },
        "id": "IpdIH1dE_GOc",
        "outputId": "2aa27b7f-1cdc-4503-a3bd-4003bfb333b5"
      },
      "outputs": [
        {
          "output_type": "execute_result",
          "data": {
            "text/plain": [
              "title    558\n",
              "text      39\n",
              "label      0\n",
              "dtype: int64"
            ]
          },
          "metadata": {},
          "execution_count": 14
        }
      ],
      "source": [
        "# CHECK FOR NAN VALUES\n",
        "data.isnull().sum()"
      ]
    },
    {
      "cell_type": "code",
      "execution_count": 15,
      "metadata": {
        "colab": {
          "base_uri": "https://localhost:8080/"
        },
        "id": "tsvnSrDE_GMx",
        "outputId": "36472d17-5fb1-40c2-bb17-94297906c309"
      },
      "outputs": [
        {
          "output_type": "execute_result",
          "data": {
            "text/plain": [
              "(20800, 3)"
            ]
          },
          "metadata": {},
          "execution_count": 15
        }
      ],
      "source": [
        "data.shape"
      ]
    },
    {
      "cell_type": "code",
      "execution_count": 16,
      "metadata": {
        "colab": {
          "base_uri": "https://localhost:8080/"
        },
        "id": "tjndL91D_GJa",
        "outputId": "3563d514-1fc7-4ec1-9b2c-2ae1b74725ee"
      },
      "outputs": [
        {
          "output_type": "execute_result",
          "data": {
            "text/plain": [
              "(0, 3)"
            ]
          },
          "metadata": {},
          "execution_count": 16
        }
      ],
      "source": [
        "# CHECK IF TEXT AND TITLE IS MISSING TOGATHER\n",
        "data[(data['text'] == np.nan) & (data['title']== np.nan)].shape"
      ]
    },
    {
      "cell_type": "markdown",
      "metadata": {
        "id": "dOOZSlPIDKL6"
      },
      "source": [
        "There are no values where both 'text' and 'title' are missing"
      ]
    },
    {
      "cell_type": "code",
      "execution_count": 17,
      "metadata": {
        "id": "t8rYyhHFDg32"
      },
      "outputs": [],
      "source": [
        "text_nulls = data[data['text'].isnull()].index.tolist()\n",
        "title_nulls  = data[data['title'].isnull()].index.tolist()"
      ]
    },
    {
      "cell_type": "code",
      "execution_count": 18,
      "metadata": {
        "colab": {
          "base_uri": "https://localhost:8080/"
        },
        "id": "kkeN1DV6_GCG",
        "outputId": "7635132d-cd60-48e2-cee5-2e827a6ba585"
      },
      "outputs": [
        {
          "output_type": "stream",
          "name": "stdout",
          "text": [
            "missing title values:  558\n",
            "missing title label counts:  1    558\n",
            "Name: label, dtype: int64\n",
            "\n",
            "missing text values:  39\n",
            "missing TEXT  label counts:  1    39\n",
            "Name: label, dtype: int64\n"
          ]
        }
      ],
      "source": [
        "# VALUE COUNTS OF MISSING TEXT AND TITLE\n",
        "print('missing title values: ', len(title_nulls))\n",
        "print('missing title label counts: ', data[data['title'].isnull()]['label'].value_counts())\n",
        "\n",
        "# VALUE COUNTS OF MISSING TITLE AND TITLE\n",
        "print('\\nmissing text values: ', len(text_nulls))\n",
        "print('missing TEXT  label counts: ', data[data['text'].isnull()]['label'].value_counts())\n"
      ]
    },
    {
      "cell_type": "markdown",
      "metadata": {
        "id": "uwAQ3rBu_GBC"
      },
      "source": [
        "Here we can see that if either text or title is missing then it is classified as Fake news explicitely"
      ]
    },
    {
      "cell_type": "markdown",
      "metadata": {
        "id": "R5EG8X5G_F_L"
      },
      "source": [
        "So, we dropping nulls"
      ]
    },
    {
      "cell_type": "code",
      "execution_count": 19,
      "metadata": {
        "colab": {
          "base_uri": "https://localhost:8080/"
        },
        "id": "xIsnv1Va_F9O",
        "outputId": "90465c9d-3f2a-4a7a-979a-b5c739ead38e"
      },
      "outputs": [
        {
          "output_type": "stream",
          "name": "stdout",
          "text": [
            "before dropping na:  (20800, 3)\n",
            "after dropping na:  (20203, 3)\n"
          ]
        }
      ],
      "source": [
        "print('before dropping na: ',data.shape)\n",
        "data.dropna(axis = 0, inplace = True)\n",
        "print('after dropping na: ',data.shape)"
      ]
    },
    {
      "cell_type": "markdown",
      "metadata": {
        "id": "ojR1GvPB_FtP"
      },
      "source": [
        "## Cleaning and Preprocessing\n",
        "\n",
        "\n",
        "* Replacing Contractions\n",
        "* removing punctuation\n",
        "* remove special characters from text column\n",
        "* Remove digits\n",
        "* remove \"'s\"\n",
        "* Remove www\n",
        "* remove urls\n",
        "* remove multiple spaces with single space\n",
        "* remove all single characters\n"
      ]
    },
    {
      "cell_type": "code",
      "execution_count": 20,
      "metadata": {
        "cellView": "form",
        "id": "lAZExuJj_Fr9"
      },
      "outputs": [],
      "source": [
        "#@title this is contractions :: too long don't open\n",
        "contractions_dict = { \n",
        "\"ain't\": \"am not / are not / is not / has not / have not\",\n",
        "\"aren't\": \"are not / am not\",\n",
        "\"can't\": \"cannot\",\n",
        "\"can't've\": \"cannot have\",\n",
        "\"'cause\": \"because\",\n",
        "\"could've\": \"could have\",\n",
        "\"couldn't\": \"could not\",\n",
        "\"couldn't've\": \"could not have\",\n",
        "\"didn't\": \"did not\",\n",
        "\"didn`t\": \"did not\",\n",
        "\"doesn't\": \"does not\",\n",
        "\"don't\": \"do not\",\n",
        "\"hadn't\": \"had not\",\n",
        "\"hadn't've\": \"had not have\",\n",
        "\"hasn't\": \"has not\",\n",
        "\"haven't\": \"have not\",\n",
        "\"he'd\": \"he had / he would\",\n",
        "\"he'd've\": \"he would have\",\n",
        "\"he'll\": \"he shall / he will\",\n",
        "\"he'll've\": \"he shall have / he will have\",\n",
        "\"he's\": \"he has / he is\",\n",
        "\"how'd\": \"how did\",\n",
        "\"how'd'y\": \"how do you\",\n",
        "\"how'll\": \"how will\",\n",
        "\"how's\": \"how has / how is / how does\",\n",
        "\"I'd\": \"I had / I would\",\n",
        "\"I'd've\": \"I would have\",\n",
        "\"I'll\": \"I shall / I will\",\n",
        "\"I'll've\": \"I shall have / I will have\",\n",
        "\"I'm\": \"I am\",\n",
        "\"I've\": \"I have\",\n",
        "\"isn't\": \"is not\",\n",
        "\"it'd\": \"it had / it would\",\n",
        "\"it'd've\": \"it would have\",\n",
        "\"it'll\": \"it shall / it will\",\n",
        "\"it'll've\": \"it shall have / it will have\",\n",
        "\"it's\": \"it has / it is\",\n",
        "\"let's\": \"let us\",\n",
        "\"ma'am\": \"madam\",\n",
        "\"mayn't\": \"may not\",\n",
        "\"might've\": \"might have\",\n",
        "\"mightn't\": \"might not\",\n",
        "\"mightn't've\": \"might not have\",\n",
        "\"must've\": \"must have\",\n",
        "\"mustn't\": \"must not\",\n",
        "\"mustn't've\": \"must not have\",\n",
        "\"needn't\": \"need not\",\n",
        "\"needn't've\": \"need not have\",\n",
        "\"o'clock\": \"of the clock\",\n",
        "\"oughtn't\": \"ought not\",\n",
        "\"oughtn't've\": \"ought not have\",\n",
        "\"shan't\": \"shall not\",\n",
        "\"sha'n't\": \"shall not\",\n",
        "\"shan't've\": \"shall not have\",\n",
        "\"she'd\": \"she had / she would\",\n",
        "\"she'd've\": \"she would have\",\n",
        "\"she'll\": \"she shall / she will\",\n",
        "\"she'll've\": \"she shall have / she will have\",\n",
        "\"she's\": \"she has / she is\",\n",
        "\"should've\": \"should have\",\n",
        "\"shouldn't\": \"should not\",\n",
        "\"shouldn't've\": \"should not have\",\n",
        "\"so've\": \"so have\",\n",
        "\"so's\": \"so as / so is\",\n",
        "\"that'd\": \"that would / that had\",\n",
        "\"that'd've\": \"that would have\",\n",
        "\"that's\": \"that has / that is\",\n",
        "\"there'd\": \"there had / there would\",\n",
        "\"there'd've\": \"there would have\",\n",
        "\"there's\": \"there has / there is\",\n",
        "\"they'd\": \"they had / they would\",\n",
        "\"they'd've\": \"they would have\",\n",
        "\"they'll\": \"they shall / they will\",\n",
        "\"they'll've\": \"they shall have / they will have\",\n",
        "\"they're\": \"they are\",\n",
        "\"they've\": \"they have\",\n",
        "\"to've\": \"to have\",\n",
        "\"wasn't\": \"was not\",\n",
        "\"we'd\": \"we had / we would\",\n",
        "\"we'd've\": \"we would have\",\n",
        "\"we'll\": \"we will\",\n",
        "\"we'll've\": \"we will have\",\n",
        "\"we're\": \"we are\",\n",
        "\"we've\": \"we have\",\n",
        "\"weren't\": \"were not\",\n",
        "\"what'll\": \"what shall / what will\",\n",
        "\"what'll've\": \"what shall have / what will have\",\n",
        "\"what're\": \"what are\",\n",
        "\"what's\": \"what has / what is\",\n",
        "\"what've\": \"what have\",\n",
        "\"when's\": \"when has / when is\",\n",
        "\"when've\": \"when have\",\n",
        "\"where'd\": \"where did\",\n",
        "\"where's\": \"where has / where is\",\n",
        "\"where've\": \"where have\",\n",
        "\"who'll\": \"who shall / who will\",\n",
        "\"who'll've\": \"who shall have / who will have\",\n",
        "\"who's\": \"who has / who is\",\n",
        "\"who've\": \"who have\",\n",
        "\"why's\": \"why has / why is\",\n",
        "\"why've\": \"why have\",\n",
        "\"will've\": \"will have\",\n",
        "\"won't\": \"will not\",\n",
        "\"won't've\": \"will not have\",\n",
        "\"would've\": \"would have\",\n",
        "\"wouldn't\": \"would not\",\n",
        "\"wouldn't've\": \"would not have\",\n",
        "\"y'all\": \"you all\",\n",
        "\"y'all'd\": \"you all would\",\n",
        "\"y'all'd've\": \"you all would have\",\n",
        "\"y'all're\": \"you all are\",\n",
        "\"y'all've\": \"you all have\",\n",
        "\"you'd\": \"you had / you would\",\n",
        "\"you'd've\": \"you would have\",\n",
        "\"you'll\": \"you shall / you will\",\n",
        "\"you'll've\": \"you shall have / you will have\",\n",
        "\"you're\": \"you are\",\n",
        "\"you've\": \"you have\"\n",
        "}"
      ]
    },
    {
      "cell_type": "code",
      "execution_count": 21,
      "metadata": {
        "id": "MTMo-giyXy9q"
      },
      "outputs": [],
      "source": [
        "# very necessary function you can't tell differece between \"’\" and \"'\", I don't even have that symbol in my keyboard\n",
        "\n",
        "def text_cleaning_apos(text):\n",
        "    text = str(text)\n",
        "    text = text.lower()\n",
        "    text = re.sub(\"’\", \"'\", text) # removing punctuation\n",
        "    return text"
      ]
    },
    {
      "cell_type": "code",
      "execution_count": 22,
      "metadata": {
        "id": "hm70b9MM_FlV"
      },
      "outputs": [],
      "source": [
        "# FUNCTIONS TO EXPAND CONTRACTIONS\n",
        "def cont_to_exp(x):\n",
        "    x = str(x).lower()\n",
        "    xsplited = x.split(' ')\n",
        "    exp_sentence = []\n",
        "    for s in x.split():\n",
        "        if s in contractions_dict.keys():\n",
        "            \n",
        "            s = contractions_dict.get(s)\n",
        "        exp_sentence.append(s)\n",
        "        \n",
        "    x = ' '.join(exp_sentence)\n",
        "    return x\n",
        "#     print(xsplited)\n",
        "#     return xsplited"
      ]
    },
    {
      "cell_type": "code",
      "execution_count": 23,
      "metadata": {
        "colab": {
          "base_uri": "https://localhost:8080/"
        },
        "id": "0nMow2Yn_FiA",
        "outputId": "f339a87b-e7ce-4727-bd0a-02f885129689"
      },
      "outputs": [
        {
          "output_type": "stream",
          "name": "stdout",
          "text": [
            "CPU times: user 7.75 s, sys: 335 ms, total: 8.09 s\n",
            "Wall time: 8.22 s\n"
          ]
        }
      ],
      "source": [
        "%%time\n",
        "data['text'] = data['text'].apply(text_cleaning_apos)\n",
        "data['title'] = data['title'].apply(text_cleaning_apos)\n",
        "\n",
        "data['text'] = data['text'].apply(cont_to_exp)\n",
        "data['title'] = data['title'].apply(cont_to_exp)"
      ]
    },
    {
      "cell_type": "code",
      "execution_count": 24,
      "metadata": {
        "id": "ZWsnhtN1Xy9s"
      },
      "outputs": [],
      "source": [
        "def text_cleaning(text):\n",
        "    text = str(text)\n",
        "    text = text.lower()\n",
        "    text = re.sub(\"[^a-zA-Z]\", \" \", text) # removing punctuation\n",
        "    # remove special characters from text column\n",
        "    text = re.sub('[#,@,&]', '',text)\n",
        "    # Remove digits\n",
        "    text = re.sub('\\d*','', text)\n",
        "    # remove \"'s\"\n",
        "    text = re.sub(\"'s\",'', text)\n",
        "    #Remove www\n",
        "    text = re.sub('w{3}','', text)\n",
        "    # remove urls\n",
        "    text = re.sub(\"http\\S+\", \"\", text)\n",
        "    # remove multiple spaces with single space\n",
        "    text = re.sub('\\s+', ' ', text)\n",
        "    #remove all single characters\n",
        "    text = re.sub(r'\\s+[a-zA-Z]\\s+', ' ', text)\n",
        "\n",
        "    return text"
      ]
    },
    {
      "cell_type": "code",
      "execution_count": 25,
      "metadata": {
        "id": "8aywaNJjXy9t",
        "outputId": "adde018d-75d9-4092-e65e-5c65797faf37",
        "colab": {
          "base_uri": "https://localhost:8080/"
        }
      },
      "outputs": [
        {
          "output_type": "stream",
          "name": "stdout",
          "text": [
            "CPU times: user 42.1 s, sys: 165 ms, total: 42.3 s\n",
            "Wall time: 50.7 s\n"
          ]
        }
      ],
      "source": [
        "%%time\n",
        "data['title'] = data['title'].apply(text_cleaning) \n",
        "data['text'] = data['text'].apply(text_cleaning) "
      ]
    },
    {
      "cell_type": "code",
      "execution_count": 26,
      "metadata": {
        "id": "vdpGpTh5Xy9t",
        "outputId": "14e02cc4-653b-4ce1-e5f3-f423814550ca",
        "colab": {
          "base_uri": "https://localhost:8080/",
          "height": 206
        }
      },
      "outputs": [
        {
          "output_type": "execute_result",
          "data": {
            "text/plain": [
              "                                               title  \\\n",
              "0  house dem aide we did not even see comey lette...   \n",
              "1  flynn hillary clinton big woman on campus brei...   \n",
              "2                  why the truth might get you fired   \n",
              "3   civilians killed in single us airstrike have ...   \n",
              "4  iranian woman jailed for fictional unpublished...   \n",
              "\n",
              "                                                text  label  \n",
              "0  house dem aide we did not even see comey lette...      1  \n",
              "1  ever get the feeling your life circles the rou...      0  \n",
              "2  why the truth might get you fired october the ...      1  \n",
              "3  videos civilians killed in single us airstrike...      1  \n",
              "4  print an iranian woman has been sentenced to s...      1  "
            ],
            "text/html": [
              "\n",
              "  <div id=\"df-9c987338-0e1e-4d07-8872-b18a9dc9e908\">\n",
              "    <div class=\"colab-df-container\">\n",
              "      <div>\n",
              "<style scoped>\n",
              "    .dataframe tbody tr th:only-of-type {\n",
              "        vertical-align: middle;\n",
              "    }\n",
              "\n",
              "    .dataframe tbody tr th {\n",
              "        vertical-align: top;\n",
              "    }\n",
              "\n",
              "    .dataframe thead th {\n",
              "        text-align: right;\n",
              "    }\n",
              "</style>\n",
              "<table border=\"1\" class=\"dataframe\">\n",
              "  <thead>\n",
              "    <tr style=\"text-align: right;\">\n",
              "      <th></th>\n",
              "      <th>title</th>\n",
              "      <th>text</th>\n",
              "      <th>label</th>\n",
              "    </tr>\n",
              "  </thead>\n",
              "  <tbody>\n",
              "    <tr>\n",
              "      <th>0</th>\n",
              "      <td>house dem aide we did not even see comey lette...</td>\n",
              "      <td>house dem aide we did not even see comey lette...</td>\n",
              "      <td>1</td>\n",
              "    </tr>\n",
              "    <tr>\n",
              "      <th>1</th>\n",
              "      <td>flynn hillary clinton big woman on campus brei...</td>\n",
              "      <td>ever get the feeling your life circles the rou...</td>\n",
              "      <td>0</td>\n",
              "    </tr>\n",
              "    <tr>\n",
              "      <th>2</th>\n",
              "      <td>why the truth might get you fired</td>\n",
              "      <td>why the truth might get you fired october the ...</td>\n",
              "      <td>1</td>\n",
              "    </tr>\n",
              "    <tr>\n",
              "      <th>3</th>\n",
              "      <td>civilians killed in single us airstrike have ...</td>\n",
              "      <td>videos civilians killed in single us airstrike...</td>\n",
              "      <td>1</td>\n",
              "    </tr>\n",
              "    <tr>\n",
              "      <th>4</th>\n",
              "      <td>iranian woman jailed for fictional unpublished...</td>\n",
              "      <td>print an iranian woman has been sentenced to s...</td>\n",
              "      <td>1</td>\n",
              "    </tr>\n",
              "  </tbody>\n",
              "</table>\n",
              "</div>\n",
              "      <button class=\"colab-df-convert\" onclick=\"convertToInteractive('df-9c987338-0e1e-4d07-8872-b18a9dc9e908')\"\n",
              "              title=\"Convert this dataframe to an interactive table.\"\n",
              "              style=\"display:none;\">\n",
              "        \n",
              "  <svg xmlns=\"http://www.w3.org/2000/svg\" height=\"24px\"viewBox=\"0 0 24 24\"\n",
              "       width=\"24px\">\n",
              "    <path d=\"M0 0h24v24H0V0z\" fill=\"none\"/>\n",
              "    <path d=\"M18.56 5.44l.94 2.06.94-2.06 2.06-.94-2.06-.94-.94-2.06-.94 2.06-2.06.94zm-11 1L8.5 8.5l.94-2.06 2.06-.94-2.06-.94L8.5 2.5l-.94 2.06-2.06.94zm10 10l.94 2.06.94-2.06 2.06-.94-2.06-.94-.94-2.06-.94 2.06-2.06.94z\"/><path d=\"M17.41 7.96l-1.37-1.37c-.4-.4-.92-.59-1.43-.59-.52 0-1.04.2-1.43.59L10.3 9.45l-7.72 7.72c-.78.78-.78 2.05 0 2.83L4 21.41c.39.39.9.59 1.41.59.51 0 1.02-.2 1.41-.59l7.78-7.78 2.81-2.81c.8-.78.8-2.07 0-2.86zM5.41 20L4 18.59l7.72-7.72 1.47 1.35L5.41 20z\"/>\n",
              "  </svg>\n",
              "      </button>\n",
              "      \n",
              "  <style>\n",
              "    .colab-df-container {\n",
              "      display:flex;\n",
              "      flex-wrap:wrap;\n",
              "      gap: 12px;\n",
              "    }\n",
              "\n",
              "    .colab-df-convert {\n",
              "      background-color: #E8F0FE;\n",
              "      border: none;\n",
              "      border-radius: 50%;\n",
              "      cursor: pointer;\n",
              "      display: none;\n",
              "      fill: #1967D2;\n",
              "      height: 32px;\n",
              "      padding: 0 0 0 0;\n",
              "      width: 32px;\n",
              "    }\n",
              "\n",
              "    .colab-df-convert:hover {\n",
              "      background-color: #E2EBFA;\n",
              "      box-shadow: 0px 1px 2px rgba(60, 64, 67, 0.3), 0px 1px 3px 1px rgba(60, 64, 67, 0.15);\n",
              "      fill: #174EA6;\n",
              "    }\n",
              "\n",
              "    [theme=dark] .colab-df-convert {\n",
              "      background-color: #3B4455;\n",
              "      fill: #D2E3FC;\n",
              "    }\n",
              "\n",
              "    [theme=dark] .colab-df-convert:hover {\n",
              "      background-color: #434B5C;\n",
              "      box-shadow: 0px 1px 3px 1px rgba(0, 0, 0, 0.15);\n",
              "      filter: drop-shadow(0px 1px 2px rgba(0, 0, 0, 0.3));\n",
              "      fill: #FFFFFF;\n",
              "    }\n",
              "  </style>\n",
              "\n",
              "      <script>\n",
              "        const buttonEl =\n",
              "          document.querySelector('#df-9c987338-0e1e-4d07-8872-b18a9dc9e908 button.colab-df-convert');\n",
              "        buttonEl.style.display =\n",
              "          google.colab.kernel.accessAllowed ? 'block' : 'none';\n",
              "\n",
              "        async function convertToInteractive(key) {\n",
              "          const element = document.querySelector('#df-9c987338-0e1e-4d07-8872-b18a9dc9e908');\n",
              "          const dataTable =\n",
              "            await google.colab.kernel.invokeFunction('convertToInteractive',\n",
              "                                                     [key], {});\n",
              "          if (!dataTable) return;\n",
              "\n",
              "          const docLinkHtml = 'Like what you see? Visit the ' +\n",
              "            '<a target=\"_blank\" href=https://colab.research.google.com/notebooks/data_table.ipynb>data table notebook</a>'\n",
              "            + ' to learn more about interactive tables.';\n",
              "          element.innerHTML = '';\n",
              "          dataTable['output_type'] = 'display_data';\n",
              "          await google.colab.output.renderOutput(dataTable, element);\n",
              "          const docLink = document.createElement('div');\n",
              "          docLink.innerHTML = docLinkHtml;\n",
              "          element.appendChild(docLink);\n",
              "        }\n",
              "      </script>\n",
              "    </div>\n",
              "  </div>\n",
              "  "
            ]
          },
          "metadata": {},
          "execution_count": 26
        }
      ],
      "source": [
        "data.head()"
      ]
    },
    {
      "cell_type": "code",
      "execution_count": 27,
      "metadata": {
        "id": "4bzPaaqWXy9t"
      },
      "outputs": [],
      "source": [
        "# # Cleaning the words\n",
        "# lemmatizer = WordNetLemmatizer()\n",
        "\n",
        "# def nltk_clean(text):\n",
        "#     text = str(text).lower()\n",
        "#     text = [lemmatizer.lemmatize(word) for word in word_tokenize(text) if word not in stopwords.words('english')]\n",
        "#     text = ' '.join(text)\n",
        "#     return text"
      ]
    },
    {
      "cell_type": "code",
      "execution_count": 28,
      "metadata": {
        "id": "Pq4BQ6CAXy9t"
      },
      "outputs": [],
      "source": [
        "# %%time\n",
        "\n",
        "# # takes alot of time\n",
        "# data['title'] = data['title'].apply(nltk_clean) \n",
        "# data['text'] = data['text'].apply(nltk_clean) "
      ]
    },
    {
      "cell_type": "code",
      "execution_count": 29,
      "metadata": {
        "id": "EzTz2G8OXy9u",
        "outputId": "b41639e8-eedf-4970-e09f-ed2101b13043",
        "colab": {
          "base_uri": "https://localhost:8080/",
          "height": 206
        }
      },
      "outputs": [
        {
          "output_type": "execute_result",
          "data": {
            "text/plain": [
              "                                               title  \\\n",
              "0  house dem aide we did not even see comey lette...   \n",
              "1  flynn hillary clinton big woman on campus brei...   \n",
              "2                  why the truth might get you fired   \n",
              "3   civilians killed in single us airstrike have ...   \n",
              "4  iranian woman jailed for fictional unpublished...   \n",
              "\n",
              "                                                text  label  \n",
              "0  house dem aide we did not even see comey lette...      1  \n",
              "1  ever get the feeling your life circles the rou...      0  \n",
              "2  why the truth might get you fired october the ...      1  \n",
              "3  videos civilians killed in single us airstrike...      1  \n",
              "4  print an iranian woman has been sentenced to s...      1  "
            ],
            "text/html": [
              "\n",
              "  <div id=\"df-0c4f4bc4-61f8-4e66-a411-3cc9a00ddb81\">\n",
              "    <div class=\"colab-df-container\">\n",
              "      <div>\n",
              "<style scoped>\n",
              "    .dataframe tbody tr th:only-of-type {\n",
              "        vertical-align: middle;\n",
              "    }\n",
              "\n",
              "    .dataframe tbody tr th {\n",
              "        vertical-align: top;\n",
              "    }\n",
              "\n",
              "    .dataframe thead th {\n",
              "        text-align: right;\n",
              "    }\n",
              "</style>\n",
              "<table border=\"1\" class=\"dataframe\">\n",
              "  <thead>\n",
              "    <tr style=\"text-align: right;\">\n",
              "      <th></th>\n",
              "      <th>title</th>\n",
              "      <th>text</th>\n",
              "      <th>label</th>\n",
              "    </tr>\n",
              "  </thead>\n",
              "  <tbody>\n",
              "    <tr>\n",
              "      <th>0</th>\n",
              "      <td>house dem aide we did not even see comey lette...</td>\n",
              "      <td>house dem aide we did not even see comey lette...</td>\n",
              "      <td>1</td>\n",
              "    </tr>\n",
              "    <tr>\n",
              "      <th>1</th>\n",
              "      <td>flynn hillary clinton big woman on campus brei...</td>\n",
              "      <td>ever get the feeling your life circles the rou...</td>\n",
              "      <td>0</td>\n",
              "    </tr>\n",
              "    <tr>\n",
              "      <th>2</th>\n",
              "      <td>why the truth might get you fired</td>\n",
              "      <td>why the truth might get you fired october the ...</td>\n",
              "      <td>1</td>\n",
              "    </tr>\n",
              "    <tr>\n",
              "      <th>3</th>\n",
              "      <td>civilians killed in single us airstrike have ...</td>\n",
              "      <td>videos civilians killed in single us airstrike...</td>\n",
              "      <td>1</td>\n",
              "    </tr>\n",
              "    <tr>\n",
              "      <th>4</th>\n",
              "      <td>iranian woman jailed for fictional unpublished...</td>\n",
              "      <td>print an iranian woman has been sentenced to s...</td>\n",
              "      <td>1</td>\n",
              "    </tr>\n",
              "  </tbody>\n",
              "</table>\n",
              "</div>\n",
              "      <button class=\"colab-df-convert\" onclick=\"convertToInteractive('df-0c4f4bc4-61f8-4e66-a411-3cc9a00ddb81')\"\n",
              "              title=\"Convert this dataframe to an interactive table.\"\n",
              "              style=\"display:none;\">\n",
              "        \n",
              "  <svg xmlns=\"http://www.w3.org/2000/svg\" height=\"24px\"viewBox=\"0 0 24 24\"\n",
              "       width=\"24px\">\n",
              "    <path d=\"M0 0h24v24H0V0z\" fill=\"none\"/>\n",
              "    <path d=\"M18.56 5.44l.94 2.06.94-2.06 2.06-.94-2.06-.94-.94-2.06-.94 2.06-2.06.94zm-11 1L8.5 8.5l.94-2.06 2.06-.94-2.06-.94L8.5 2.5l-.94 2.06-2.06.94zm10 10l.94 2.06.94-2.06 2.06-.94-2.06-.94-.94-2.06-.94 2.06-2.06.94z\"/><path d=\"M17.41 7.96l-1.37-1.37c-.4-.4-.92-.59-1.43-.59-.52 0-1.04.2-1.43.59L10.3 9.45l-7.72 7.72c-.78.78-.78 2.05 0 2.83L4 21.41c.39.39.9.59 1.41.59.51 0 1.02-.2 1.41-.59l7.78-7.78 2.81-2.81c.8-.78.8-2.07 0-2.86zM5.41 20L4 18.59l7.72-7.72 1.47 1.35L5.41 20z\"/>\n",
              "  </svg>\n",
              "      </button>\n",
              "      \n",
              "  <style>\n",
              "    .colab-df-container {\n",
              "      display:flex;\n",
              "      flex-wrap:wrap;\n",
              "      gap: 12px;\n",
              "    }\n",
              "\n",
              "    .colab-df-convert {\n",
              "      background-color: #E8F0FE;\n",
              "      border: none;\n",
              "      border-radius: 50%;\n",
              "      cursor: pointer;\n",
              "      display: none;\n",
              "      fill: #1967D2;\n",
              "      height: 32px;\n",
              "      padding: 0 0 0 0;\n",
              "      width: 32px;\n",
              "    }\n",
              "\n",
              "    .colab-df-convert:hover {\n",
              "      background-color: #E2EBFA;\n",
              "      box-shadow: 0px 1px 2px rgba(60, 64, 67, 0.3), 0px 1px 3px 1px rgba(60, 64, 67, 0.15);\n",
              "      fill: #174EA6;\n",
              "    }\n",
              "\n",
              "    [theme=dark] .colab-df-convert {\n",
              "      background-color: #3B4455;\n",
              "      fill: #D2E3FC;\n",
              "    }\n",
              "\n",
              "    [theme=dark] .colab-df-convert:hover {\n",
              "      background-color: #434B5C;\n",
              "      box-shadow: 0px 1px 3px 1px rgba(0, 0, 0, 0.15);\n",
              "      filter: drop-shadow(0px 1px 2px rgba(0, 0, 0, 0.3));\n",
              "      fill: #FFFFFF;\n",
              "    }\n",
              "  </style>\n",
              "\n",
              "      <script>\n",
              "        const buttonEl =\n",
              "          document.querySelector('#df-0c4f4bc4-61f8-4e66-a411-3cc9a00ddb81 button.colab-df-convert');\n",
              "        buttonEl.style.display =\n",
              "          google.colab.kernel.accessAllowed ? 'block' : 'none';\n",
              "\n",
              "        async function convertToInteractive(key) {\n",
              "          const element = document.querySelector('#df-0c4f4bc4-61f8-4e66-a411-3cc9a00ddb81');\n",
              "          const dataTable =\n",
              "            await google.colab.kernel.invokeFunction('convertToInteractive',\n",
              "                                                     [key], {});\n",
              "          if (!dataTable) return;\n",
              "\n",
              "          const docLinkHtml = 'Like what you see? Visit the ' +\n",
              "            '<a target=\"_blank\" href=https://colab.research.google.com/notebooks/data_table.ipynb>data table notebook</a>'\n",
              "            + ' to learn more about interactive tables.';\n",
              "          element.innerHTML = '';\n",
              "          dataTable['output_type'] = 'display_data';\n",
              "          await google.colab.output.renderOutput(dataTable, element);\n",
              "          const docLink = document.createElement('div');\n",
              "          docLink.innerHTML = docLinkHtml;\n",
              "          element.appendChild(docLink);\n",
              "        }\n",
              "      </script>\n",
              "    </div>\n",
              "  </div>\n",
              "  "
            ]
          },
          "metadata": {},
          "execution_count": 29
        }
      ],
      "source": [
        "data.head()"
      ]
    },
    {
      "cell_type": "code",
      "execution_count": 30,
      "metadata": {
        "colab": {
          "base_uri": "https://localhost:8080/",
          "height": 35
        },
        "id": "TtHCVDcH_FgD",
        "outputId": "89319fae-52c3-4be2-ca8e-196c03ed7c2d"
      },
      "outputs": [
        {
          "output_type": "execute_result",
          "data": {
            "text/plain": [
              "'house dem aide we did not even see comey letter until jason chaffetz tweeted it'"
            ],
            "application/vnd.google.colaboratory.intrinsic+json": {
              "type": "string"
            }
          },
          "metadata": {},
          "execution_count": 30
        }
      ],
      "source": [
        "data.title[0]"
      ]
    },
    {
      "cell_type": "markdown",
      "metadata": {
        "id": "RW1tA6rB_Fep"
      },
      "source": [
        "# Feature Engineering"
      ]
    },
    {
      "cell_type": "code",
      "execution_count": 31,
      "metadata": {
        "id": "SyWuKE9w_Fco"
      },
      "outputs": [],
      "source": [
        "data['title_len'] = data['title'].apply(lambda x: len(str(x).split(' ')))\n",
        "data['text_len'] = data['text'].apply(lambda x: len(str(x).split(' ')))\n",
        "data['title_text_ratio'] = data['title_len']/data['text_len']\n",
        "# train['avg_title_len'] = train['title'].apply(lambda x: len(str(x).split()))"
      ]
    },
    {
      "cell_type": "code",
      "execution_count": 32,
      "metadata": {
        "colab": {
          "base_uri": "https://localhost:8080/",
          "height": 424
        },
        "id": "BRr5g2HY_FZT",
        "outputId": "125c8d95-3380-43fc-8b80-403c85ab49d8"
      },
      "outputs": [
        {
          "output_type": "execute_result",
          "data": {
            "text/plain": [
              "                                                   title  \\\n",
              "0      house dem aide we did not even see comey lette...   \n",
              "1      flynn hillary clinton big woman on campus brei...   \n",
              "2                      why the truth might get you fired   \n",
              "3       civilians killed in single us airstrike have ...   \n",
              "4      iranian woman jailed for fictional unpublished...   \n",
              "...                                                  ...   \n",
              "20795   rapper i trump poster child for white supremacy    \n",
              "20796  n l playoffs schedule matchups and odds the ne...   \n",
              "20797  macy is said to receive takeover approach by h...   \n",
              "20798  nato russia to hold parallel exercises in balkans   \n",
              "20799                               what keeps the alive   \n",
              "\n",
              "                                                    text  label  title_len  \\\n",
              "0      house dem aide we did not even see comey lette...      1         15   \n",
              "1      ever get the feeling your life circles the rou...      0          8   \n",
              "2      why the truth might get you fired october the ...      1          7   \n",
              "3      videos civilians killed in single us airstrike...      1         10   \n",
              "4      print an iranian woman has been sentenced to s...      1         14   \n",
              "...                                                  ...    ...        ...   \n",
              "20795  rapper i unloaded on black celebrities who met...      0          9   \n",
              "20796  when the green bay packers lost to the washing...      0         11   \n",
              "20797  the macy of today grew from the union of sever...      0         14   \n",
              "20798  nato russia to hold parallel exercises in balk...      1          8   \n",
              "20799  david swanson is an author activist journalist...      1          4   \n",
              "\n",
              "       text_len  title_text_ratio  \n",
              "0           812          0.018473  \n",
              "1           673          0.011887  \n",
              "2          1227          0.005705  \n",
              "3           530          0.018868  \n",
              "4           143          0.097902  \n",
              "...         ...               ...  \n",
              "20795       296          0.030405  \n",
              "20796      1014          0.010848  \n",
              "20797       755          0.018543  \n",
              "20798       261          0.030651  \n",
              "20799      1105          0.003620  \n",
              "\n",
              "[20203 rows x 6 columns]"
            ],
            "text/html": [
              "\n",
              "  <div id=\"df-4a103879-9420-4a0c-8e5a-369c96f5494c\">\n",
              "    <div class=\"colab-df-container\">\n",
              "      <div>\n",
              "<style scoped>\n",
              "    .dataframe tbody tr th:only-of-type {\n",
              "        vertical-align: middle;\n",
              "    }\n",
              "\n",
              "    .dataframe tbody tr th {\n",
              "        vertical-align: top;\n",
              "    }\n",
              "\n",
              "    .dataframe thead th {\n",
              "        text-align: right;\n",
              "    }\n",
              "</style>\n",
              "<table border=\"1\" class=\"dataframe\">\n",
              "  <thead>\n",
              "    <tr style=\"text-align: right;\">\n",
              "      <th></th>\n",
              "      <th>title</th>\n",
              "      <th>text</th>\n",
              "      <th>label</th>\n",
              "      <th>title_len</th>\n",
              "      <th>text_len</th>\n",
              "      <th>title_text_ratio</th>\n",
              "    </tr>\n",
              "  </thead>\n",
              "  <tbody>\n",
              "    <tr>\n",
              "      <th>0</th>\n",
              "      <td>house dem aide we did not even see comey lette...</td>\n",
              "      <td>house dem aide we did not even see comey lette...</td>\n",
              "      <td>1</td>\n",
              "      <td>15</td>\n",
              "      <td>812</td>\n",
              "      <td>0.018473</td>\n",
              "    </tr>\n",
              "    <tr>\n",
              "      <th>1</th>\n",
              "      <td>flynn hillary clinton big woman on campus brei...</td>\n",
              "      <td>ever get the feeling your life circles the rou...</td>\n",
              "      <td>0</td>\n",
              "      <td>8</td>\n",
              "      <td>673</td>\n",
              "      <td>0.011887</td>\n",
              "    </tr>\n",
              "    <tr>\n",
              "      <th>2</th>\n",
              "      <td>why the truth might get you fired</td>\n",
              "      <td>why the truth might get you fired october the ...</td>\n",
              "      <td>1</td>\n",
              "      <td>7</td>\n",
              "      <td>1227</td>\n",
              "      <td>0.005705</td>\n",
              "    </tr>\n",
              "    <tr>\n",
              "      <th>3</th>\n",
              "      <td>civilians killed in single us airstrike have ...</td>\n",
              "      <td>videos civilians killed in single us airstrike...</td>\n",
              "      <td>1</td>\n",
              "      <td>10</td>\n",
              "      <td>530</td>\n",
              "      <td>0.018868</td>\n",
              "    </tr>\n",
              "    <tr>\n",
              "      <th>4</th>\n",
              "      <td>iranian woman jailed for fictional unpublished...</td>\n",
              "      <td>print an iranian woman has been sentenced to s...</td>\n",
              "      <td>1</td>\n",
              "      <td>14</td>\n",
              "      <td>143</td>\n",
              "      <td>0.097902</td>\n",
              "    </tr>\n",
              "    <tr>\n",
              "      <th>...</th>\n",
              "      <td>...</td>\n",
              "      <td>...</td>\n",
              "      <td>...</td>\n",
              "      <td>...</td>\n",
              "      <td>...</td>\n",
              "      <td>...</td>\n",
              "    </tr>\n",
              "    <tr>\n",
              "      <th>20795</th>\n",
              "      <td>rapper i trump poster child for white supremacy</td>\n",
              "      <td>rapper i unloaded on black celebrities who met...</td>\n",
              "      <td>0</td>\n",
              "      <td>9</td>\n",
              "      <td>296</td>\n",
              "      <td>0.030405</td>\n",
              "    </tr>\n",
              "    <tr>\n",
              "      <th>20796</th>\n",
              "      <td>n l playoffs schedule matchups and odds the ne...</td>\n",
              "      <td>when the green bay packers lost to the washing...</td>\n",
              "      <td>0</td>\n",
              "      <td>11</td>\n",
              "      <td>1014</td>\n",
              "      <td>0.010848</td>\n",
              "    </tr>\n",
              "    <tr>\n",
              "      <th>20797</th>\n",
              "      <td>macy is said to receive takeover approach by h...</td>\n",
              "      <td>the macy of today grew from the union of sever...</td>\n",
              "      <td>0</td>\n",
              "      <td>14</td>\n",
              "      <td>755</td>\n",
              "      <td>0.018543</td>\n",
              "    </tr>\n",
              "    <tr>\n",
              "      <th>20798</th>\n",
              "      <td>nato russia to hold parallel exercises in balkans</td>\n",
              "      <td>nato russia to hold parallel exercises in balk...</td>\n",
              "      <td>1</td>\n",
              "      <td>8</td>\n",
              "      <td>261</td>\n",
              "      <td>0.030651</td>\n",
              "    </tr>\n",
              "    <tr>\n",
              "      <th>20799</th>\n",
              "      <td>what keeps the alive</td>\n",
              "      <td>david swanson is an author activist journalist...</td>\n",
              "      <td>1</td>\n",
              "      <td>4</td>\n",
              "      <td>1105</td>\n",
              "      <td>0.003620</td>\n",
              "    </tr>\n",
              "  </tbody>\n",
              "</table>\n",
              "<p>20203 rows × 6 columns</p>\n",
              "</div>\n",
              "      <button class=\"colab-df-convert\" onclick=\"convertToInteractive('df-4a103879-9420-4a0c-8e5a-369c96f5494c')\"\n",
              "              title=\"Convert this dataframe to an interactive table.\"\n",
              "              style=\"display:none;\">\n",
              "        \n",
              "  <svg xmlns=\"http://www.w3.org/2000/svg\" height=\"24px\"viewBox=\"0 0 24 24\"\n",
              "       width=\"24px\">\n",
              "    <path d=\"M0 0h24v24H0V0z\" fill=\"none\"/>\n",
              "    <path d=\"M18.56 5.44l.94 2.06.94-2.06 2.06-.94-2.06-.94-.94-2.06-.94 2.06-2.06.94zm-11 1L8.5 8.5l.94-2.06 2.06-.94-2.06-.94L8.5 2.5l-.94 2.06-2.06.94zm10 10l.94 2.06.94-2.06 2.06-.94-2.06-.94-.94-2.06-.94 2.06-2.06.94z\"/><path d=\"M17.41 7.96l-1.37-1.37c-.4-.4-.92-.59-1.43-.59-.52 0-1.04.2-1.43.59L10.3 9.45l-7.72 7.72c-.78.78-.78 2.05 0 2.83L4 21.41c.39.39.9.59 1.41.59.51 0 1.02-.2 1.41-.59l7.78-7.78 2.81-2.81c.8-.78.8-2.07 0-2.86zM5.41 20L4 18.59l7.72-7.72 1.47 1.35L5.41 20z\"/>\n",
              "  </svg>\n",
              "      </button>\n",
              "      \n",
              "  <style>\n",
              "    .colab-df-container {\n",
              "      display:flex;\n",
              "      flex-wrap:wrap;\n",
              "      gap: 12px;\n",
              "    }\n",
              "\n",
              "    .colab-df-convert {\n",
              "      background-color: #E8F0FE;\n",
              "      border: none;\n",
              "      border-radius: 50%;\n",
              "      cursor: pointer;\n",
              "      display: none;\n",
              "      fill: #1967D2;\n",
              "      height: 32px;\n",
              "      padding: 0 0 0 0;\n",
              "      width: 32px;\n",
              "    }\n",
              "\n",
              "    .colab-df-convert:hover {\n",
              "      background-color: #E2EBFA;\n",
              "      box-shadow: 0px 1px 2px rgba(60, 64, 67, 0.3), 0px 1px 3px 1px rgba(60, 64, 67, 0.15);\n",
              "      fill: #174EA6;\n",
              "    }\n",
              "\n",
              "    [theme=dark] .colab-df-convert {\n",
              "      background-color: #3B4455;\n",
              "      fill: #D2E3FC;\n",
              "    }\n",
              "\n",
              "    [theme=dark] .colab-df-convert:hover {\n",
              "      background-color: #434B5C;\n",
              "      box-shadow: 0px 1px 3px 1px rgba(0, 0, 0, 0.15);\n",
              "      filter: drop-shadow(0px 1px 2px rgba(0, 0, 0, 0.3));\n",
              "      fill: #FFFFFF;\n",
              "    }\n",
              "  </style>\n",
              "\n",
              "      <script>\n",
              "        const buttonEl =\n",
              "          document.querySelector('#df-4a103879-9420-4a0c-8e5a-369c96f5494c button.colab-df-convert');\n",
              "        buttonEl.style.display =\n",
              "          google.colab.kernel.accessAllowed ? 'block' : 'none';\n",
              "\n",
              "        async function convertToInteractive(key) {\n",
              "          const element = document.querySelector('#df-4a103879-9420-4a0c-8e5a-369c96f5494c');\n",
              "          const dataTable =\n",
              "            await google.colab.kernel.invokeFunction('convertToInteractive',\n",
              "                                                     [key], {});\n",
              "          if (!dataTable) return;\n",
              "\n",
              "          const docLinkHtml = 'Like what you see? Visit the ' +\n",
              "            '<a target=\"_blank\" href=https://colab.research.google.com/notebooks/data_table.ipynb>data table notebook</a>'\n",
              "            + ' to learn more about interactive tables.';\n",
              "          element.innerHTML = '';\n",
              "          dataTable['output_type'] = 'display_data';\n",
              "          await google.colab.output.renderOutput(dataTable, element);\n",
              "          const docLink = document.createElement('div');\n",
              "          docLink.innerHTML = docLinkHtml;\n",
              "          element.appendChild(docLink);\n",
              "        }\n",
              "      </script>\n",
              "    </div>\n",
              "  </div>\n",
              "  "
            ]
          },
          "metadata": {},
          "execution_count": 32
        }
      ],
      "source": [
        "data"
      ]
    },
    {
      "cell_type": "code",
      "execution_count": 33,
      "metadata": {
        "id": "a6Eip6dsXy9u",
        "outputId": "073a7f6e-082a-436c-a18d-c2a4dc19e62c",
        "colab": {
          "base_uri": "https://localhost:8080/"
        }
      },
      "outputs": [
        {
          "output_type": "execute_result",
          "data": {
            "text/plain": [
              "<bound method IndexOpsMixin.value_counts of 0        15\n",
              "1         8\n",
              "2         7\n",
              "3        10\n",
              "4        14\n",
              "         ..\n",
              "20795     9\n",
              "20796    11\n",
              "20797    14\n",
              "20798     8\n",
              "20799     4\n",
              "Name: title_len, Length: 20203, dtype: int64>"
            ]
          },
          "metadata": {},
          "execution_count": 33
        }
      ],
      "source": [
        "data.title_len.value_counts"
      ]
    },
    {
      "cell_type": "code",
      "execution_count": 34,
      "metadata": {
        "colab": {
          "base_uri": "https://localhost:8080/",
          "height": 458
        },
        "id": "VHi8kbvwbDrM",
        "outputId": "a0b21d06-9c6c-4cd8-d799-e3cc1dc137f3"
      },
      "outputs": [
        {
          "output_type": "display_data",
          "data": {
            "text/plain": [
              "<Figure size 1080x504 with 1 Axes>"
            ],
            "image/png": "[encoded data removed]"
          },
          "metadata": {
            "needs_background": "light"
          }
        }
      ],
      "source": [
        "# Title Word Count distribution\n",
        "plt.figure(figsize = (15,7))\n",
        "plt.grid()\n",
        "plt.hist(x = data.title_len, bins=25)\n",
        "plt.xlabel('word length')\n",
        "plt.ylabel('Count')\n",
        "percent = 99\n",
        "for i in range(95,100):\n",
        "    plt.axvline(x = np.percentile(data.title_len, i), color = 'r', label = 'axvline - full height')\n",
        "plt.title(f'Title Word Count distribution: {np.percentile(data.title_len, percent)} words cover {percent}% of title data')\n",
        "plt.show()"
      ]
    },
    {
      "cell_type": "code",
      "execution_count": 35,
      "metadata": {
        "colab": {
          "base_uri": "https://localhost:8080/",
          "height": 458
        },
        "id": "S0idro9ifJZ5",
        "outputId": "2cd0c1a1-eb8a-46ce-dea4-6612ac8cc490"
      },
      "outputs": [
        {
          "output_type": "display_data",
          "data": {
            "text/plain": [
              "<Figure size 1080x504 with 1 Axes>"
            ],
            "image/png": "[encoded data removed]"
          },
          "metadata": {
            "needs_background": "light"
          }
        }
      ],
      "source": [
        "# Title Word Count distribution\n",
        "plt.figure(figsize = (15,7))\n",
        "plt.grid()\n",
        "plt.hist(x = data.text_len, bins=25)\n",
        "plt.xlabel('word length')\n",
        "plt.ylabel('Count')\n",
        "# plt.plot(x = , y = 0)\n",
        "percent = 99\n",
        "for i in range(95,100):\n",
        "    plt.axvline(x = np.percentile(data.text_len, i), color = 'b', label = 'axvline - full height')\n",
        "plt.title(f'Text Word Count distribution: {np.percentile(data.text_len, percent)} words cover {percent}% of text data')\n",
        "plt.show()"
      ]
    },
    {
      "cell_type": "markdown",
      "metadata": {
        "id": "Z147GJikd5mN"
      },
      "source": [
        "so word lenghth upto 22 covers 99% of the dataset title\n",
        "so word lenghth upto 4061 covers 99% of the dataset text"
      ]
    },
    {
      "cell_type": "markdown",
      "metadata": {
        "id": "zMzg6P0U_FW-"
      },
      "source": [
        "# Text Vectorization"
      ]
    },
    {
      "cell_type": "code",
      "execution_count": 36,
      "metadata": {
        "id": "b8FYNVAP_FUl"
      },
      "outputs": [],
      "source": [
        "from sklearn.feature_extraction.text import TfidfVectorizer"
      ]
    },
    {
      "cell_type": "code",
      "execution_count": 37,
      "metadata": {
        "colab": {
          "base_uri": "https://localhost:8080/",
          "height": 122
        },
        "id": "UyVdezFA5CJg",
        "outputId": "3f87f6b0-9808-4e3d-acdd-906a4fc46809"
      },
      "outputs": [
        {
          "output_type": "execute_result",
          "data": {
            "text/plain": [
              "'the bbc produced spoof on the real housewives tv programmes which has comedic islamic state twist has been criticised by leftists and muslims who claim the sketch is offensive the bbc released the trailer earlier this week and were immediately slammed by those on the left and muslims who thought that making fun of the brides of members of the terror group was out of the bounds of conventional humour the sketch is part of new programme called revolting written by jolyon rubinstein and heydon prowse which according to the bbc is satirising the state of the nation lololol pic twitter raheem kassam raheemkassam january the bbc facebook page was inundated with criticism one user wrote m mortified that the bbc had produced such programme this is simply bad taste the fact it is comedy makes it even more worrying that humour should be associated with the actions of isis is this really what tv licenses are funding others took different point of view including muslim saying as muslim find this hilarious brilliant the satire is on point highlighting the pathetic ideals of pathetic group like isis not all muslims agreed with the sentiment and users on twitter expressed just as much outrage for the sketch one man bangladeshi said the bbc really made satirical show called the real housewives of isis while the real housewives of isis are being raped and abused daily the bbc really made satirical show called the real housewives of isis while the real housewives of isis are being raped and abused daily meraj unclemeraj january another wrote real housewives of isis will make hijabis feel more isolated targeted by islamophobes thanks bbc for adding to the negative stereotype real housewives of isis will make hijabis feel more isolated targeted by islamophobes thanks bbc for adding to the negative stereotype ashkaneskittles january leftists also articulated how offended they were that the public broadcaster would dare create such sketch mocking islamic state some questioned whether the use of taxpayer money via the tv license fee should go toward the funding of the programme as if people tv license in this country is going towards funding the production of programme called the real housewives of isis wow cameron edgar cammyyyedgar january the video itself has already been viewed millions of times on facebook and other social media platforms the clip shows several women in hijabs talking to each other in house taking selfies and showing off their suicide belts to each other one woman even mentions that she had not come from birmingham to do this as she scrubbed the floor of the home women joining islamic state and travelling to syria to become brides has become real problem in european countries as the terror group promises young girls more glamorous lifestyle in eight schoolgirls from bethnal green travelled to syria to become brides of islamic state fighters all of them under the age of '"
            ],
            "application/vnd.google.colaboratory.intrinsic+json": {
              "type": "string"
            }
          },
          "metadata": {},
          "execution_count": 37
        }
      ],
      "source": [
        "s = data.text[11]\n",
        "s"
      ]
    },
    {
      "cell_type": "code",
      "execution_count": 38,
      "metadata": {
        "colab": {
          "base_uri": "https://localhost:8080/"
        },
        "id": "Quf6G8vV_FOz",
        "outputId": "a82547c8-b45f-4375-c895-2a6908f3b8bf"
      },
      "outputs": [
        {
          "output_type": "execute_result",
          "data": {
            "text/plain": [
              "<1x244 sparse matrix of type '<class 'numpy.float64'>'\n",
              "\twith 244 stored elements in Compressed Sparse Row format>"
            ]
          },
          "metadata": {},
          "execution_count": 38
        }
      ],
      "source": [
        "from scipy import sparse\n",
        "tfidf = TfidfVectorizer()\n",
        "ddd = tfidf.fit_transform(np.array([s]))\n",
        "ddd"
      ]
    },
    {
      "cell_type": "code",
      "execution_count": 39,
      "metadata": {
        "id": "DUxY_1R2_FBH"
      },
      "outputs": [],
      "source": [
        "# tfidf.get_feature_names()"
      ]
    },
    {
      "cell_type": "code",
      "execution_count": 40,
      "metadata": {
        "colab": {
          "base_uri": "https://localhost:8080/",
          "height": 424
        },
        "id": "y0qR_1mD8b_p",
        "outputId": "05472a60-7d74-4768-98d3-2bcedeb403bf"
      },
      "outputs": [
        {
          "output_type": "execute_result",
          "data": {
            "text/plain": [
              "                                                    text  \\\n",
              "0      house dem aide we did not even see comey lette...   \n",
              "1      ever get the feeling your life circles the rou...   \n",
              "2      why the truth might get you fired october the ...   \n",
              "3      videos civilians killed in single us airstrike...   \n",
              "4      print an iranian woman has been sentenced to s...   \n",
              "...                                                  ...   \n",
              "20795  rapper i unloaded on black celebrities who met...   \n",
              "20796  when the green bay packers lost to the washing...   \n",
              "20797  the macy of today grew from the union of sever...   \n",
              "20798  nato russia to hold parallel exercises in balk...   \n",
              "20799  david swanson is an author activist journalist...   \n",
              "\n",
              "                                                   title  label  \n",
              "0      house dem aide we did not even see comey lette...      1  \n",
              "1      flynn hillary clinton big woman on campus brei...      0  \n",
              "2                      why the truth might get you fired      1  \n",
              "3       civilians killed in single us airstrike have ...      1  \n",
              "4      iranian woman jailed for fictional unpublished...      1  \n",
              "...                                                  ...    ...  \n",
              "20795   rapper i trump poster child for white supremacy       0  \n",
              "20796  n l playoffs schedule matchups and odds the ne...      0  \n",
              "20797  macy is said to receive takeover approach by h...      0  \n",
              "20798  nato russia to hold parallel exercises in balkans      1  \n",
              "20799                               what keeps the alive      1  \n",
              "\n",
              "[20203 rows x 3 columns]"
            ],
            "text/html": [
              "\n",
              "  <div id=\"df-d32dcc53-424e-433d-af91-ae6a69f87764\">\n",
              "    <div class=\"colab-df-container\">\n",
              "      <div>\n",
              "<style scoped>\n",
              "    .dataframe tbody tr th:only-of-type {\n",
              "        vertical-align: middle;\n",
              "    }\n",
              "\n",
              "    .dataframe tbody tr th {\n",
              "        vertical-align: top;\n",
              "    }\n",
              "\n",
              "    .dataframe thead th {\n",
              "        text-align: right;\n",
              "    }\n",
              "</style>\n",
              "<table border=\"1\" class=\"dataframe\">\n",
              "  <thead>\n",
              "    <tr style=\"text-align: right;\">\n",
              "      <th></th>\n",
              "      <th>text</th>\n",
              "      <th>title</th>\n",
              "      <th>label</th>\n",
              "    </tr>\n",
              "  </thead>\n",
              "  <tbody>\n",
              "    <tr>\n",
              "      <th>0</th>\n",
              "      <td>house dem aide we did not even see comey lette...</td>\n",
              "      <td>house dem aide we did not even see comey lette...</td>\n",
              "      <td>1</td>\n",
              "    </tr>\n",
              "    <tr>\n",
              "      <th>1</th>\n",
              "      <td>ever get the feeling your life circles the rou...</td>\n",
              "      <td>flynn hillary clinton big woman on campus brei...</td>\n",
              "      <td>0</td>\n",
              "    </tr>\n",
              "    <tr>\n",
              "      <th>2</th>\n",
              "      <td>why the truth might get you fired october the ...</td>\n",
              "      <td>why the truth might get you fired</td>\n",
              "      <td>1</td>\n",
              "    </tr>\n",
              "    <tr>\n",
              "      <th>3</th>\n",
              "      <td>videos civilians killed in single us airstrike...</td>\n",
              "      <td>civilians killed in single us airstrike have ...</td>\n",
              "      <td>1</td>\n",
              "    </tr>\n",
              "    <tr>\n",
              "      <th>4</th>\n",
              "      <td>print an iranian woman has been sentenced to s...</td>\n",
              "      <td>iranian woman jailed for fictional unpublished...</td>\n",
              "      <td>1</td>\n",
              "    </tr>\n",
              "    <tr>\n",
              "      <th>...</th>\n",
              "      <td>...</td>\n",
              "      <td>...</td>\n",
              "      <td>...</td>\n",
              "    </tr>\n",
              "    <tr>\n",
              "      <th>20795</th>\n",
              "      <td>rapper i unloaded on black celebrities who met...</td>\n",
              "      <td>rapper i trump poster child for white supremacy</td>\n",
              "      <td>0</td>\n",
              "    </tr>\n",
              "    <tr>\n",
              "      <th>20796</th>\n",
              "      <td>when the green bay packers lost to the washing...</td>\n",
              "      <td>n l playoffs schedule matchups and odds the ne...</td>\n",
              "      <td>0</td>\n",
              "    </tr>\n",
              "    <tr>\n",
              "      <th>20797</th>\n",
              "      <td>the macy of today grew from the union of sever...</td>\n",
              "      <td>macy is said to receive takeover approach by h...</td>\n",
              "      <td>0</td>\n",
              "    </tr>\n",
              "    <tr>\n",
              "      <th>20798</th>\n",
              "      <td>nato russia to hold parallel exercises in balk...</td>\n",
              "      <td>nato russia to hold parallel exercises in balkans</td>\n",
              "      <td>1</td>\n",
              "    </tr>\n",
              "    <tr>\n",
              "      <th>20799</th>\n",
              "      <td>david swanson is an author activist journalist...</td>\n",
              "      <td>what keeps the alive</td>\n",
              "      <td>1</td>\n",
              "    </tr>\n",
              "  </tbody>\n",
              "</table>\n",
              "<p>20203 rows × 3 columns</p>\n",
              "</div>\n",
              "      <button class=\"colab-df-convert\" onclick=\"convertToInteractive('df-d32dcc53-424e-433d-af91-ae6a69f87764')\"\n",
              "              title=\"Convert this dataframe to an interactive table.\"\n",
              "              style=\"display:none;\">\n",
              "        \n",
              "  <svg xmlns=\"http://www.w3.org/2000/svg\" height=\"24px\"viewBox=\"0 0 24 24\"\n",
              "       width=\"24px\">\n",
              "    <path d=\"M0 0h24v24H0V0z\" fill=\"none\"/>\n",
              "    <path d=\"M18.56 5.44l.94 2.06.94-2.06 2.06-.94-2.06-.94-.94-2.06-.94 2.06-2.06.94zm-11 1L8.5 8.5l.94-2.06 2.06-.94-2.06-.94L8.5 2.5l-.94 2.06-2.06.94zm10 10l.94 2.06.94-2.06 2.06-.94-2.06-.94-.94-2.06-.94 2.06-2.06.94z\"/><path d=\"M17.41 7.96l-1.37-1.37c-.4-.4-.92-.59-1.43-.59-.52 0-1.04.2-1.43.59L10.3 9.45l-7.72 7.72c-.78.78-.78 2.05 0 2.83L4 21.41c.39.39.9.59 1.41.59.51 0 1.02-.2 1.41-.59l7.78-7.78 2.81-2.81c.8-.78.8-2.07 0-2.86zM5.41 20L4 18.59l7.72-7.72 1.47 1.35L5.41 20z\"/>\n",
              "  </svg>\n",
              "      </button>\n",
              "      \n",
              "  <style>\n",
              "    .colab-df-container {\n",
              "      display:flex;\n",
              "      flex-wrap:wrap;\n",
              "      gap: 12px;\n",
              "    }\n",
              "\n",
              "    .colab-df-convert {\n",
              "      background-color: #E8F0FE;\n",
              "      border: none;\n",
              "      border-radius: 50%;\n",
              "      cursor: pointer;\n",
              "      display: none;\n",
              "      fill: #1967D2;\n",
              "      height: 32px;\n",
              "      padding: 0 0 0 0;\n",
              "      width: 32px;\n",
              "    }\n",
              "\n",
              "    .colab-df-convert:hover {\n",
              "      background-color: #E2EBFA;\n",
              "      box-shadow: 0px 1px 2px rgba(60, 64, 67, 0.3), 0px 1px 3px 1px rgba(60, 64, 67, 0.15);\n",
              "      fill: #174EA6;\n",
              "    }\n",
              "\n",
              "    [theme=dark] .colab-df-convert {\n",
              "      background-color: #3B4455;\n",
              "      fill: #D2E3FC;\n",
              "    }\n",
              "\n",
              "    [theme=dark] .colab-df-convert:hover {\n",
              "      background-color: #434B5C;\n",
              "      box-shadow: 0px 1px 3px 1px rgba(0, 0, 0, 0.15);\n",
              "      filter: drop-shadow(0px 1px 2px rgba(0, 0, 0, 0.3));\n",
              "      fill: #FFFFFF;\n",
              "    }\n",
              "  </style>\n",
              "\n",
              "      <script>\n",
              "        const buttonEl =\n",
              "          document.querySelector('#df-d32dcc53-424e-433d-af91-ae6a69f87764 button.colab-df-convert');\n",
              "        buttonEl.style.display =\n",
              "          google.colab.kernel.accessAllowed ? 'block' : 'none';\n",
              "\n",
              "        async function convertToInteractive(key) {\n",
              "          const element = document.querySelector('#df-d32dcc53-424e-433d-af91-ae6a69f87764');\n",
              "          const dataTable =\n",
              "            await google.colab.kernel.invokeFunction('convertToInteractive',\n",
              "                                                     [key], {});\n",
              "          if (!dataTable) return;\n",
              "\n",
              "          const docLinkHtml = 'Like what you see? Visit the ' +\n",
              "            '<a target=\"_blank\" href=https://colab.research.google.com/notebooks/data_table.ipynb>data table notebook</a>'\n",
              "            + ' to learn more about interactive tables.';\n",
              "          element.innerHTML = '';\n",
              "          dataTable['output_type'] = 'display_data';\n",
              "          await google.colab.output.renderOutput(dataTable, element);\n",
              "          const docLink = document.createElement('div');\n",
              "          docLink.innerHTML = docLinkHtml;\n",
              "          element.appendChild(docLink);\n",
              "        }\n",
              "      </script>\n",
              "    </div>\n",
              "  </div>\n",
              "  "
            ]
          },
          "metadata": {},
          "execution_count": 40
        }
      ],
      "source": [
        "data[['text','title','label']]"
      ]
    },
    {
      "cell_type": "markdown",
      "metadata": {
        "id": "_Rg4Vd1tATFP"
      },
      "source": [
        "# Helper functions"
      ]
    },
    {
      "cell_type": "code",
      "execution_count": 41,
      "metadata": {
        "id": "WFMFybLvASGp"
      },
      "outputs": [],
      "source": [
        "# Function to evaluate: accuracy, precision, recall, f1-score\n",
        "from sklearn.metrics import accuracy_score, precision_recall_fscore_support\n",
        "import datetime\n",
        "\n",
        "\n",
        "def calculate_results(y_true, y_pred):\n",
        "  \"\"\"\n",
        "  Calculates model accuracy, precision, recall and f1 score of a binary classification model.\n",
        "  Args:\n",
        "      y_true: true labels in the form of a 1D array\n",
        "      y_pred: predicted labels in the form of a 1D array\n",
        "  Returns a dictionary of accuracy, precision, recall, f1-score.\n",
        "  \"\"\"\n",
        "  # Calculate model accuracy\n",
        "  model_accuracy = accuracy_score(y_true, y_pred) * 100\n",
        "  # Calculate model precision, recall and f1 score using \"weighted average\n",
        "  model_precision, model_recall, model_f1, _ = precision_recall_fscore_support(y_true, y_pred, average=\"weighted\")\n",
        "  model_results = {\"accuracy\": model_accuracy,\n",
        "                  \"precision\": model_precision,\n",
        "                  \"recall\": model_recall,\n",
        "                  \"f1\": model_f1}\n",
        "  return model_results"
      ]
    },
    {
      "cell_type": "code",
      "execution_count": 42,
      "metadata": {
        "id": "Zcf_IY5nUxmy"
      },
      "outputs": [],
      "source": [
        "def create_tensorboard_callback(dir_name, experiment_name):\n",
        "    \"\"\"\n",
        "    Creates a TensorBoard callback instand to store log files.\n",
        "    Stores log files with the filepath:\n",
        "    \"dir_name/experiment_name/current_datetime/\"\n",
        "    Args:\n",
        "    dir_name: target directory to store TensorBoard log files\n",
        "    experiment_name: name of experiment directory (e.g. efficientnet_model_1)\n",
        "    \"\"\"\n",
        "    log_dir = dir_name + \"/\" + experiment_name + \"/\" + datetime.datetime.now().strftime(\"%Y%m%d-%H%M%S\")\n",
        "    tensorboard_callback = tf.keras.callbacks.TensorBoard(\n",
        "        log_dir=log_dir\n",
        "    )\n",
        "    print(f\"Saving TensorBoard log files to: {log_dir}\")\n",
        "    return tensorboard_callback\n"
      ]
    },
    {
      "cell_type": "markdown",
      "metadata": {
        "id": "fYCxuEbx8GpN"
      },
      "source": [
        "# Spliting data"
      ]
    },
    {
      "cell_type": "code",
      "execution_count": 43,
      "metadata": {
        "id": "RwAYgl0Y8RT5"
      },
      "outputs": [],
      "source": [
        "xtrain, xtest, ytrain, ytest = train_test_split(data[['title', 'text']], data['label'], test_size = .1, random_state=3, stratify = data.label)"
      ]
    },
    {
      "cell_type": "code",
      "execution_count": 44,
      "metadata": {
        "colab": {
          "base_uri": "https://localhost:8080/"
        },
        "id": "TVS6xmT69LtI",
        "outputId": "5e9d5f31-f6f0-47d9-d2cd-a09a2e37c49d"
      },
      "outputs": [
        {
          "output_type": "stream",
          "name": "stdout",
          "text": [
            "xtrain:  (18182, 2)\n",
            "ytrain:  (18182,)\n",
            "xtest:  (2021, 2)\n",
            "ytest:  (2021,)\n"
          ]
        }
      ],
      "source": [
        "print('xtrain: ', xtrain.shape)\n",
        "print('ytrain: ', ytrain.shape)\n",
        "print('xtest: ', xtest.shape)\n",
        "print('ytest: ', ytest.shape)"
      ]
    },
    {
      "cell_type": "markdown",
      "metadata": {
        "id": "WR65StrW_E-b"
      },
      "source": [
        "# Baseline : Model 0"
      ]
    },
    {
      "cell_type": "code",
      "execution_count": 45,
      "metadata": {
        "id": "Yl8DR4a-_E79"
      },
      "outputs": [],
      "source": [
        "from sklearn.naive_bayes import MultinomialNB\n",
        "from sklearn.feature_extraction.text import TfidfVectorizer\n",
        "from sklearn.pipeline import Pipeline"
      ]
    },
    {
      "cell_type": "code",
      "execution_count": 46,
      "metadata": {
        "colab": {
          "base_uri": "https://localhost:8080/"
        },
        "id": "zxB-WRIf_E5S",
        "outputId": "0921a222-c091-4934-a96f-b62eb4c543f9"
      },
      "outputs": [
        {
          "output_type": "execute_result",
          "data": {
            "text/plain": [
              "Pipeline(steps=[('tfidf', TfidfVectorizer()), ('clf', MultinomialNB())])"
            ]
          },
          "metadata": {},
          "execution_count": 46
        }
      ],
      "source": [
        "model0 = Pipeline([\n",
        "    ('tfidf', TfidfVectorizer()),\n",
        "    ('clf', MultinomialNB())\n",
        "])\n",
        "\n",
        "#fit model\n",
        "model0.fit(xtrain.title.to_list(), ytrain.to_list())\n"
      ]
    },
    {
      "cell_type": "code",
      "execution_count": 47,
      "metadata": {
        "id": "gYv_3EjD_E18"
      },
      "outputs": [],
      "source": [
        "ytrue0 = ytest.to_list()\n",
        "ypred0 = model0.predict(xtest.title.to_list())"
      ]
    },
    {
      "cell_type": "code",
      "execution_count": 48,
      "metadata": {
        "colab": {
          "base_uri": "https://localhost:8080/"
        },
        "id": "rtm5_5lG_EzO",
        "outputId": "52905548-bd5e-4345-db0e-5b6ce510a529",
        "scrolled": true
      },
      "outputs": [
        {
          "output_type": "execute_result",
          "data": {
            "text/plain": [
              "{'accuracy': 86.7887184562098,\n",
              " 'precision': 0.8776860580323497,\n",
              " 'recall': 0.867887184562098,\n",
              " 'f1': 0.8666621593840541}"
            ]
          },
          "metadata": {},
          "execution_count": 48
        }
      ],
      "source": [
        "calculate_results(ytrue0, ypred0)"
      ]
    },
    {
      "cell_type": "code",
      "execution_count": 48,
      "metadata": {
        "id": "MrIM8-LTCBz4"
      },
      "outputs": [],
      "source": []
    },
    {
      "cell_type": "markdown",
      "metadata": {
        "id": "ZhPJC09lURkP"
      },
      "source": [
        "# Token Vectorization"
      ]
    },
    {
      "cell_type": "code",
      "execution_count": 49,
      "metadata": {
        "id": "SWbytWt0VTIS"
      },
      "outputs": [],
      "source": [
        "from tensorflow.keras.layers import TextVectorization, Conv1D, GlobalMaxPooling1D, GlobalAveragePooling1D\n",
        "from tensorflow.keras import layers\n",
        "import tensorflow as tf\n",
        "from tensorflow import keras"
      ]
    },
    {
      "cell_type": "code",
      "execution_count": 50,
      "metadata": {
        "colab": {
          "base_uri": "https://localhost:8080/"
        },
        "id": "8G6ZxzPqWHy6",
        "outputId": "4e173304-906f-4eb0-c390-31df091f9378"
      },
      "outputs": [
        {
          "output_type": "stream",
          "name": "stdout",
          "text": [
            "total token in titles:  19905\n",
            "total token in text:  140458\n",
            "total token combined:  140868\n"
          ]
        }
      ],
      "source": [
        "# number of unique words in dataset\n",
        "# %%time\n",
        "all_title_words_list = [words.split() for words in xtrain.title]\n",
        "all_title_words = set(num for sublist in all_title_words_list for num in sublist)\n",
        "print('total token in titles: ',len(all_title_words))\n",
        "\n",
        "all_text_words_list = [words.split() for words in xtrain.text]\n",
        "all_text_words = set(num for sublist in all_text_words_list for num in sublist)\n",
        "print('total token in text: ',len(all_text_words))\n",
        "\n",
        "all_words_combined_list = all_text_words_list + all_title_words_list\n",
        "all_words_combined = set(num for sublist in all_words_combined_list for num in sublist)\n",
        "\n",
        "print('total token combined: ',len(all_words_combined))"
      ]
    },
    {
      "cell_type": "code",
      "execution_count": 51,
      "metadata": {
        "colab": {
          "base_uri": "https://localhost:8080/"
        },
        "id": "QJVYZJ8razeb",
        "outputId": "1fe593e5-1a54-44bb-d602-1e37880ffbbe"
      },
      "outputs": [
        {
          "output_type": "stream",
          "name": "stdout",
          "text": [
            "output_sequence_len_title:  22\n",
            "output_sequence_len_text:  3967\n"
          ]
        }
      ],
      "source": [
        "# output_sequence_length\n",
        "percent_of_the_data_to_cover = 99\n",
        "output_sequence_len_title = int(np.percentile(data.title_len, percent_of_the_data_to_cover))\n",
        "print('output_sequence_len_title: ',output_sequence_len_title)\n",
        "output_sequence_len_text = int(np.percentile(data.text_len, percent_of_the_data_to_cover))\n",
        "print('output_sequence_len_text: ',output_sequence_len_text)"
      ]
    },
    {
      "cell_type": "markdown",
      "metadata": {
        "id": "rpORWcfEmzYR"
      },
      "source": [
        "we do not want every word to tokenize , there happens to be alot of less occuring words that we do not want. Thats why we will substract 500 words"
      ]
    },
    {
      "cell_type": "code",
      "execution_count": 52,
      "metadata": {
        "colab": {
          "base_uri": "https://localhost:8080/"
        },
        "id": "LZClqL1gWBED",
        "outputId": "2aec3d7e-2209-4704-af29-c4a7799b3cd3",
        "scrolled": true
      },
      "outputs": [
        {
          "output_type": "stream",
          "name": "stdout",
          "text": [
            "max_token_title:  17405\n",
            "max_token_text:  40458\n"
          ]
        }
      ],
      "source": [
        "max_token_title = len(all_title_words) - 2500          #number of words to tokenize -500 as we do not want every word to tokenize \n",
        "print('max_token_title: ',max_token_title)\n",
        "max_token_text = len(all_text_words) -100_000     # minus 100000 because there are alot of useless words in the data\n",
        "print('max_token_text: ',max_token_text)"
      ]
    },
    {
      "cell_type": "markdown",
      "metadata": {
        "id": "iyncHTnIXy9y"
      },
      "source": [
        "### VECTORIZER FOR TITLE\n"
      ]
    },
    {
      "cell_type": "code",
      "execution_count": 53,
      "metadata": {
        "id": "G77Vrdd7Vr9J",
        "scrolled": true
      },
      "outputs": [],
      "source": [
        "# VECTORIZER FOR TITLE\n",
        "title_text_vectorizer = TextVectorization(max_tokens=max_token_title, \n",
        "                                          output_sequence_length=output_sequence_len_title,\n",
        "                                          pad_to_max_tokens = True)"
      ]
    },
    {
      "cell_type": "code",
      "execution_count": 54,
      "metadata": {
        "id": "cAjRWMQ1Xy9z"
      },
      "outputs": [],
      "source": [
        "# Adapt text vectorizer to training titles\n",
        "# %%time\n",
        "title_text_vectorizer.adapt(xtrain.title.to_list())"
      ]
    },
    {
      "cell_type": "code",
      "execution_count": 55,
      "metadata": {
        "colab": {
          "base_uri": "https://localhost:8080/"
        },
        "id": "cxpBoQ4Kld_g",
        "outputId": "39d05dc7-5d31-4293-eb33-f4dc43adf735"
      },
      "outputs": [
        {
          "output_type": "stream",
          "name": "stdout",
          "text": [
            "total no. of words:  17405\n",
            "5 Most frequent words ['', '[UNK]', 'the', 'new', 'york']\n",
            "5 Least frequent words ['ehemalige', 'egyptology', 'egregious', 'egotism', 'egot']\n"
          ]
        }
      ],
      "source": [
        "# how many words are there\n",
        "total_title_words =  len(title_text_vectorizer.get_vocabulary())\n",
        "print('total no. of words: ', total_title_words)\n",
        "print('5 Most frequent words', title_text_vectorizer.get_vocabulary()[:5])\n",
        "print('5 Least frequent words', title_text_vectorizer.get_vocabulary()[-5:])"
      ]
    },
    {
      "cell_type": "code",
      "execution_count": 56,
      "metadata": {
        "colab": {
          "base_uri": "https://localhost:8080/"
        },
        "id": "Ir9sHImXkgx9",
        "outputId": "7dd9b8a6-e255-4b86-9341-c089184fbe85"
      },
      "outputs": [
        {
          "output_type": "stream",
          "name": "stdout",
          "text": [
            "Text:\n",
            "report anthony weiner to plead guilty on charges of sexting minor breitbart\n",
            "\n",
            "Length of text: 12\n",
            "\n",
            "Vectorized text:\n",
            "[[  77  871  407    6 6641  670   13  677    8 3204 4673   12    0    0\n",
            "     0    0    0    0    0    0    0    0]]\n"
          ]
        }
      ],
      "source": [
        "# Test out text vectorizer\n",
        "import random\n",
        "target_title_sentence = random.choice(xtest.title.to_list())\n",
        "print(f\"Text:\\n{target_title_sentence}\")\n",
        "print(f\"\\nLength of text: {len(target_title_sentence.split())}\")\n",
        "print(f\"\\nVectorized text:\\n{title_text_vectorizer([target_title_sentence])}\")"
      ]
    },
    {
      "cell_type": "markdown",
      "metadata": {
        "id": "pP8YD35rXy9z"
      },
      "source": [
        "### VECTORIZER FOR TEXT\n"
      ]
    },
    {
      "cell_type": "code",
      "execution_count": 57,
      "metadata": {
        "id": "7mpKov53iUEk"
      },
      "outputs": [],
      "source": [
        "# VECTORIZER FOR TEXT\n",
        "text_text_vectorizer = TextVectorization(max_tokens=max_token_text, \n",
        "                                          output_sequence_length=output_sequence_len_text,\n",
        "                                          pad_to_max_tokens = True)"
      ]
    },
    {
      "cell_type": "markdown",
      "metadata": {
        "id": "Pq07Ix54XQX0"
      },
      "source": [
        "**Note:** Here instead of Directly adapting to a list of string, we will convert it into \n",
        "tf.data.dataset to overcome fitting it the memory problem. It crashed the system if used a list. while a tf.data adjust according to the memory."
      ]
    },
    {
      "cell_type": "code",
      "execution_count": 58,
      "metadata": {
        "colab": {
          "base_uri": "https://localhost:8080/"
        },
        "id": "KsLLNcSnjMKi",
        "outputId": "5602e349-f4c4-4791-b830-21429030bfcb"
      },
      "outputs": [
        {
          "output_type": "stream",
          "name": "stdout",
          "text": [
            "CPU times: user 27.5 s, sys: 1.47 s, total: 28.9 s\n",
            "Wall time: 28.3 s\n"
          ]
        }
      ],
      "source": [
        "%%time\n",
        "# Adapt text vectorizer to training text\n",
        "train_text = tf.data.Dataset.from_tensor_slices(xtrain.text.to_list())\n",
        "text_text_vectorizer.adapt(train_text)"
      ]
    },
    {
      "cell_type": "code",
      "execution_count": 59,
      "metadata": {
        "colab": {
          "base_uri": "https://localhost:8080/"
        },
        "id": "EmobBWb7ln5v",
        "outputId": "358952a6-979b-435b-8663-9b505e5eed21"
      },
      "outputs": [
        {
          "output_type": "stream",
          "name": "stdout",
          "text": [
            "total no. of words:  40458\n",
            "5 Most frequent words ['', '[UNK]', 'the', 'to', 'of']\n",
            "5 Least frequent words ['sequestered', 'septuagenarian', 'septembre', 'sentinelese', 'sensuous']\n"
          ]
        }
      ],
      "source": [
        "# how many words are there\n",
        "total_text_words =  len(text_text_vectorizer.get_vocabulary())\n",
        "print('total no. of words: ', total_text_words)\n",
        "print('5 Most frequent words', text_text_vectorizer.get_vocabulary()[:5])\n",
        "print('5 Least frequent words', text_text_vectorizer.get_vocabulary()[-5:])"
      ]
    },
    {
      "cell_type": "markdown",
      "metadata": {
        "id": "Sv0mNOldl1Gv"
      },
      "source": [
        "As we have seen above there are low frequency words that do not need to tokenize\n",
        "as they occure less. so set max_token to less than actual unique words."
      ]
    },
    {
      "cell_type": "code",
      "execution_count": 60,
      "metadata": {
        "colab": {
          "base_uri": "https://localhost:8080/"
        },
        "id": "VQFaJIpnjMJF",
        "outputId": "da1d1e7b-e84e-4ee0-90c2-255cc66adc2f"
      },
      "outputs": [
        {
          "output_type": "stream",
          "name": "stdout",
          "text": [
            "Text:\n",
            "email chambers county clerk heather hawthorne announced that all early voting in the county was once again on the ivotronic machines after one day of early voting using paper ballots the emergency usa\n",
            "\n",
            "Length of text: 585\n",
            "\n",
            "Vectorized text:\n",
            "[[ 262 7724  729 ...    0    0    0]]\n"
          ]
        }
      ],
      "source": [
        "# Test out text vectorizer\n",
        "import random\n",
        "target_text_sentence = random.choice(xtest.text.to_list())\n",
        "print(f\"Text:\\n{target_text_sentence[:200]}\")\n",
        "print(f\"\\nLength of text: {len(target_text_sentence.split())}\")\n",
        "print(f\"\\nVectorized text:\\n{text_text_vectorizer([target_text_sentence])}\")"
      ]
    },
    {
      "cell_type": "code",
      "execution_count": 61,
      "metadata": {
        "id": "kEKa2Q5WXy90",
        "outputId": "652b2435-505b-4903-80de-5925a9cf43d1",
        "colab": {
          "base_uri": "https://localhost:8080/"
        }
      },
      "outputs": [
        {
          "output_type": "execute_result",
          "data": {
            "text/plain": [
              "<tf.Tensor: shape=(22,), dtype=int64, numpy=\n",
              "array([ 221, 5279,  591,   26,   35, 4618, 8912,   74,  502, 1031,    6,\n",
              "        172,  171,    0,    0,    0,    0,    0,    0,    0,    0,    0])>"
            ]
          },
          "metadata": {},
          "execution_count": 61
        }
      ],
      "source": [
        "## testing\n",
        "title_text_vectorizer('foreign sec britain will be perfectly ok if eu refuses to make deal')"
      ]
    },
    {
      "cell_type": "markdown",
      "metadata": {
        "id": "1rVfLlZkCBz7"
      },
      "source": [
        "# Word embedding using GENSIM"
      ]
    },
    {
      "cell_type": "code",
      "execution_count": 62,
      "metadata": {
        "id": "BSm9qLF_CBz7",
        "outputId": "ea2c306d-ec85-4ce3-cfb8-bcfd12cb24f9",
        "colab": {
          "base_uri": "https://localhost:8080/"
        }
      },
      "outputs": [
        {
          "output_type": "stream",
          "name": "stdout",
          "text": [
            "xtrain:  (18182, 2)\n",
            "ytrain:  (18182,)\n",
            "xtest:  (2021, 2)\n",
            "ytest:  (2021,)\n"
          ]
        }
      ],
      "source": [
        "xtrain0, xtest0, ytrain0, ytest0 = train_test_split(data[['title', 'text']], data['label'], test_size = .1, random_state=3, stratify = data.label)\n",
        "\n",
        "print('xtrain: ', xtrain0.shape)\n",
        "print('ytrain: ', ytrain0.shape)\n",
        "print('xtest: ', xtest0.shape)\n",
        "print('ytest: ', ytest0.shape)"
      ]
    },
    {
      "cell_type": "markdown",
      "metadata": {
        "id": "-_8jVzSfCBz7"
      },
      "source": [
        "Here we will be embedding the model on only text data because. the titles are mostly subset of the text corpus. Every word in titles comes form the text."
      ]
    },
    {
      "cell_type": "code",
      "execution_count": 63,
      "metadata": {
        "id": "IC9dK8LBCBz7",
        "outputId": "ddaeb72c-a253-4a86-a865-124d40aca47c",
        "colab": {
          "base_uri": "https://localhost:8080/"
        }
      },
      "outputs": [
        {
          "output_type": "stream",
          "name": "stdout",
          "text": [
            "20203\n"
          ]
        }
      ],
      "source": [
        "# create a list of lists of dataset\n",
        "x_texts = data.text.apply(lambda x: str(x).split()).to_list()\n",
        "print(len(x_texts))"
      ]
    },
    {
      "cell_type": "code",
      "execution_count": 64,
      "metadata": {
        "id": "W4ON0dXYCBz7",
        "outputId": "d52d1afb-e5f2-459d-ac2f-20a1dde3d9da",
        "colab": {
          "base_uri": "https://localhost:8080/"
        }
      },
      "outputs": [
        {
          "output_type": "stream",
          "name": "stdout",
          "text": [
            "['house', 'dem', 'aide', 'we', 'did', 'not', 'even', 'see', 'comey', 'letter', 'until', 'jason', 'chaffetz', 'tweeted', 'it', 'by', 'darrell', 'lucus', 'on', 'october']\n"
          ]
        }
      ],
      "source": [
        "print(x_texts[0][:20]) # there are alot of words, we will just see 20 for now"
      ]
    },
    {
      "cell_type": "code",
      "execution_count": 65,
      "metadata": {
        "id": "owD_GC_hCBz8",
        "outputId": "ff516e75-701f-43d8-9ddc-2743efd0e05f",
        "colab": {
          "base_uri": "https://localhost:8080/"
        }
      },
      "outputs": [
        {
          "output_type": "stream",
          "name": "stdout",
          "text": [
            "CPU times: user 3min 56s, sys: 1.21 s, total: 3min 58s\n",
            "Wall time: 2min 32s\n"
          ]
        }
      ],
      "source": [
        "%%time \n",
        "print('This cell takes 2 minute 30 set usually')\n",
        "DIM = 100\n",
        "# gen_embedd_model = gensim.models.Word2Vec(sentences=x_texts, size = DIM, window=5, min_count=2) # if gensim version is  less than 4.2.0\n",
        "gen_embedd_model = gensim.models.Word2Vec(sentences=x_texts, vector_size = DIM, window=5, min_count=2) # locally"
      ]
    },
    {
      "cell_type": "code",
      "execution_count": 66,
      "metadata": {
        "id": "QWM5QmrVCBz8",
        "outputId": "c0e0b372-e2b7-4f04-c0da-2a9dbaba32b9",
        "colab": {
          "base_uri": "https://localhost:8080/"
        }
      },
      "outputs": [
        {
          "output_type": "execute_result",
          "data": {
            "text/plain": [
              "90545"
            ]
          },
          "metadata": {},
          "execution_count": 66
        }
      ],
      "source": [
        "len(gen_embedd_model.wv.key_to_index)"
      ]
    },
    {
      "cell_type": "code",
      "execution_count": 67,
      "metadata": {
        "id": "XJYI5vKNCBz8",
        "outputId": "34eb8a40-1ea8-47c7-e5a9-3d5c0bea71a7",
        "colab": {
          "base_uri": "https://localhost:8080/"
        }
      },
      "outputs": [
        {
          "output_type": "execute_result",
          "data": {
            "text/plain": [
              "array([-1.69721   , -0.11800084,  0.3099614 ,  0.27300507, -1.4491609 ,\n",
              "        2.939001  ,  0.300537  , -0.368534  ,  0.15364273,  0.36153793,\n",
              "        1.0016465 ,  0.27288768,  1.014354  ,  0.10278461, -0.0924728 ,\n",
              "       -1.084453  , -0.47480592, -0.42896003, -1.6901205 , -0.97908205,\n",
              "       -0.02843823,  0.22676222, -1.2668037 ,  0.71076125, -0.4780096 ,\n",
              "       -0.40559396,  1.3192796 ,  0.51054066,  0.3955038 ,  0.30096316,\n",
              "        0.5595022 ,  0.43422776, -1.1163536 ,  0.04051054,  1.1208842 ,\n",
              "       -1.9336469 ,  0.98027617, -1.191307  ,  1.0854445 ,  1.0736883 ,\n",
              "       -1.0533926 ,  2.6499915 , -1.526672  , -1.4843025 , -2.0020168 ,\n",
              "        0.9428158 ,  1.0290837 ,  1.3928723 ,  0.7621679 , -0.04869634,\n",
              "        0.03719409,  1.276844  ,  2.0371006 ,  0.31306636, -1.8214155 ,\n",
              "        0.5974142 ,  0.5077895 ,  1.6353946 , -0.85190725, -0.3283903 ,\n",
              "       -1.168414  ,  1.1061652 , -1.5198512 ,  0.06912407,  1.0565544 ,\n",
              "       -0.15874448, -0.6323329 , -1.2402496 ,  1.3091928 , -1.639783  ,\n",
              "        0.47310638, -0.05582089, -1.0053829 , -2.1445568 , -0.5917955 ,\n",
              "        0.00503361, -0.81493455, -0.7025779 ,  2.0104485 , -0.05242243,\n",
              "        0.37601086, -0.5864792 , -0.06562992,  0.22532919,  1.7472057 ,\n",
              "       -1.8568342 , -0.3596725 , -0.49892342, -1.1319426 ,  0.48436213,\n",
              "       -0.7401649 , -0.15646529, -1.0332186 , -2.5477273 ,  0.3602146 ,\n",
              "       -1.8762017 , -0.8975934 ,  0.28650865, -1.2828113 ,  1.1588697 ],\n",
              "      dtype=float32)"
            ]
          },
          "metadata": {},
          "execution_count": 67
        }
      ],
      "source": [
        "gen_embedd_model.wv['the']"
      ]
    },
    {
      "cell_type": "code",
      "execution_count": 68,
      "metadata": {
        "scrolled": true,
        "id": "9kqh15YFCBz8",
        "outputId": "80396eef-bb1d-43f8-db98-5c213d405b2c",
        "colab": {
          "base_uri": "https://localhost:8080/"
        }
      },
      "outputs": [
        {
          "output_type": "execute_result",
          "data": {
            "text/plain": [
              "[('japan', 0.7966388463973999),\n",
              " ('china', 0.7688472270965576),\n",
              " ('thailand', 0.7660661935806274),\n",
              " ('asia', 0.7455345988273621),\n",
              " ('indonesia', 0.7391900420188904),\n",
              " ('canada', 0.7182445526123047),\n",
              " ('norway', 0.7174203395843506),\n",
              " ('australia', 0.7128332257270813),\n",
              " ('malaysia', 0.6979038715362549),\n",
              " ('singapore', 0.6920687556266785)]"
            ]
          },
          "metadata": {},
          "execution_count": 68
        }
      ],
      "source": [
        "gen_embedd_model.wv.similar_by_word('india')"
      ]
    },
    {
      "cell_type": "markdown",
      "metadata": {
        "id": "WL8VZ_JPCBz8"
      },
      "source": [
        "Gensim model already give us adjusted embedding of word in dataset that do not need to retrain in over DL model."
      ]
    },
    {
      "cell_type": "markdown",
      "metadata": {
        "id": "cvV_hn97GmqD"
      },
      "source": [
        "# Word Embedding"
      ]
    },
    {
      "cell_type": "code",
      "execution_count": 69,
      "metadata": {
        "id": "7nOKht4HGmnO"
      },
      "outputs": [],
      "source": [
        "from tensorflow.keras.layers import Embedding"
      ]
    },
    {
      "cell_type": "markdown",
      "metadata": {
        "id": "_RbfOA38JrKh"
      },
      "source": [
        "### Text embedding"
      ]
    },
    {
      "cell_type": "code",
      "execution_count": 70,
      "metadata": {
        "colab": {
          "base_uri": "https://localhost:8080/"
        },
        "id": "AknweDF6GmgO",
        "outputId": "f33d620c-eeca-4110-b11f-7960190ac0d1"
      },
      "outputs": [
        {
          "output_type": "stream",
          "name": "stdout",
          "text": [
            "40458\n"
          ]
        }
      ],
      "source": [
        "total_text_words =  len(text_text_vectorizer.get_vocabulary())\n",
        "print(total_text_words)"
      ]
    },
    {
      "cell_type": "code",
      "execution_count": 71,
      "metadata": {
        "id": "Y8UT_Yy_Gmcy"
      },
      "outputs": [],
      "source": [
        "def get_embedded_matrix(model, tokenizer):\n",
        "    total_words = len(tokenizer.get_vocabulary())\n",
        "    embed_matrix = np.zeros(shape = (total_words, DIM))\n",
        "    \n",
        "    for idx, word in enumerate(tokenizer.get_vocabulary()):\n",
        "#         print(idx, word)\n",
        "        if idx in [0,1]:  # because gensim embedding doesn't include `[UNK]` we have to leave it . \n",
        "            continue\n",
        "        else:\n",
        "            try:\n",
        "                embed_matrix[idx] = model.wv[word]\n",
        "            except KeyError:\n",
        "                embed_matrix[idx] = np.zeros(shape=(DIM,))\n",
        "    print('embed_matrix shape: ',embed_matrix.shape)\n",
        "    return embed_matrix\n",
        "        "
      ]
    },
    {
      "cell_type": "code",
      "execution_count": 72,
      "metadata": {
        "id": "hseWrZ3oCBz9",
        "outputId": "058702b2-4ded-4164-90f3-2ff5dafdd39c",
        "colab": {
          "base_uri": "https://localhost:8080/"
        }
      },
      "outputs": [
        {
          "output_type": "stream",
          "name": "stdout",
          "text": [
            "embed_matrix shape:  (40458, 100)\n"
          ]
        }
      ],
      "source": [
        "text_embedded_matrix = get_embedded_matrix(gen_embedd_model, text_text_vectorizer)"
      ]
    },
    {
      "cell_type": "code",
      "execution_count": 73,
      "metadata": {
        "id": "ZGBqa5zpCBz9"
      },
      "outputs": [],
      "source": [
        "text_embedding_layer = layers.Embedding(input_dim = total_text_words,\n",
        "                           output_dim = DIM,\n",
        "                           mask_zero = True,\n",
        "                        weights= [text_embedded_matrix],\n",
        "                          input_length=output_sequence_len_text)"
      ]
    },
    {
      "cell_type": "code",
      "execution_count": 74,
      "metadata": {
        "colab": {
          "base_uri": "https://localhost:8080/"
        },
        "id": "_V_OraOkGmY7",
        "outputId": "286f4487-09a6-4518-dca0-82cefd4329ee"
      },
      "outputs": [
        {
          "output_type": "stream",
          "name": "stdout",
          "text": [
            "sentence:  email chambers county clerk heather hawthorne announced that all early voting in the county was once\n",
            "sentence len:  3573\n",
            "\n",
            "\n",
            "vectorized:  tf.Tensor([[ 262 7724  729 ...    0    0    0]], shape=(1, 3967), dtype=int64)\n",
            "\n",
            "\n",
            "embedded shape (1, 3967, 100)\n",
            "embedded:  tf.Tensor(\n",
            "[[[ 1.7169007  -1.7083081   0.29533884  2.6138716  -0.03004514]\n",
            "  [ 0.12529254 -0.18301849 -0.48997808  0.54975265 -0.9989527 ]\n",
            "  [ 0.38410488 -0.52905226  1.2890513   2.4347744  -1.061807  ]\n",
            "  [-0.5563195  -0.01069555  0.0926148   0.4127574  -0.66356504]\n",
            "  [ 0.05686218  0.07149271  0.19551025  0.57913905 -0.7312864 ]]], shape=(1, 5, 5), dtype=float32)\n"
          ]
        }
      ],
      "source": [
        "print('sentence: ', target_text_sentence[:100] ,end = '\\n')\n",
        "print('sentence len: ', len(target_text_sentence) ,end = '\\n')\n",
        "\n",
        "print('\\n')\n",
        "vectorized_sentence = text_text_vectorizer([target_text_sentence])\n",
        "print('vectorized: ', vectorized_sentence)\n",
        "print('\\n')\n",
        "embedded_sentence = text_embedding_layer(vectorized_sentence)\n",
        "print('embedded shape', embedded_sentence.shape)\n",
        "print('embedded: ', embedded_sentence[:,:5,:5]) #This is too long to print \n"
      ]
    },
    {
      "cell_type": "markdown",
      "metadata": {
        "id": "sDyU42mtJwDz"
      },
      "source": [
        "### Title Embedding"
      ]
    },
    {
      "cell_type": "code",
      "execution_count": 75,
      "metadata": {
        "id": "2nHO5tlUIq1z"
      },
      "outputs": [],
      "source": [
        "# total_title_words =  len(title_text_vectorizer.get_vocabulary())\n",
        "# print(total_title_words)"
      ]
    },
    {
      "cell_type": "code",
      "execution_count": 76,
      "metadata": {
        "id": "-vlBGNUsCBz-"
      },
      "outputs": [],
      "source": [
        "# title_embedding_layer = layers.Embedding(input_dim = total_title_words,\n",
        "#                            output_dim = DIM,\n",
        "#                            mask_zero = True,\n",
        "#                         weights= [text_embedded_matrix],\n",
        "#                           input_length=output_sequence_len_title)"
      ]
    },
    {
      "cell_type": "code",
      "execution_count": 77,
      "metadata": {
        "id": "m9YOlnlECBz-"
      },
      "outputs": [],
      "source": [
        "# title_embedded_matrix = get_embedded_matrix(gen_embedd_model, title_text_vectorizer)"
      ]
    },
    {
      "cell_type": "code",
      "execution_count": 78,
      "metadata": {
        "id": "5w4BRtNpCBz-"
      },
      "outputs": [],
      "source": [
        "# title_embedding_layer = layers.Embedding(input_dim = total_title_words,\n",
        "#                            output_dim = DIM,\n",
        "#                            mask_zero = True,\n",
        "#                             weights= [title_embedded_matrix],\n",
        "#                           input_length=output_sequence_len_title)"
      ]
    },
    {
      "cell_type": "code",
      "execution_count": 79,
      "metadata": {
        "id": "FMvZxku8Gmhl"
      },
      "outputs": [],
      "source": [
        "# print('sentence: ', target_title_sentence ,end = '\\n')\n",
        "# print('sentence len: ', len(target_title_sentence) ,end = '\\n')\n",
        "# print('\\n')\n",
        "# vectorized_sentence = title_text_vectorizer([target_title_sentence])\n",
        "# print('vectorized: ', vectorized_sentence)\n",
        "# print('\\n')\n",
        "# embedded_sentence = title_embedding_layer(vectorized_sentence)\n",
        "# print('embedded shape', embedded_sentence.shape)\n",
        "# print('embedded: ', embedded_sentence)\n"
      ]
    },
    {
      "cell_type": "markdown",
      "metadata": {
        "id": "ZDFXJJlqOjSa"
      },
      "source": [
        "# Creating `tf.Data`"
      ]
    },
    {
      "cell_type": "code",
      "execution_count": 79,
      "metadata": {
        "id": "WJUP51TYCBz-"
      },
      "outputs": [],
      "source": []
    },
    {
      "cell_type": "code",
      "execution_count": 80,
      "metadata": {
        "id": "mnRhUqKfCBz-"
      },
      "outputs": [],
      "source": [
        "xtrain['splittext'] = xtrain.text.apply(lambda x: str(x).split()).to_list()\n",
        "xtest['splittext'] = xtest.text.apply(lambda x: str(x).split()).to_list()\n"
      ]
    },
    {
      "cell_type": "code",
      "source": [
        "xtrain.head()"
      ],
      "metadata": {
        "id": "l4pF7xiULPjM",
        "outputId": "1aeaacef-eea5-401e-a004-31640c125bb5",
        "colab": {
          "base_uri": "https://localhost:8080/",
          "height": 206
        }
      },
      "execution_count": 85,
      "outputs": [
        {
          "output_type": "execute_result",
          "data": {
            "text/plain": [
              "                                                   title  \\\n",
              "2974   former dea prescription head drops bombshell c...   \n",
              "3314    minute game changing video electronic voting ...   \n",
              "6048   hacked transcripts reveal genial hillary clint...   \n",
              "18433                                                      \n",
              "10405                                         tehran usa   \n",
              "\n",
              "                                                    text  \\\n",
              "2974   former dea prescription head drops bombshell c...   \n",
              "3314   black box voting bev harris explains the follo...   \n",
              "6048   in paid speech hosted by goldman sachs hillary...   \n",
              "18433            reuters ktx hyundai motor gallup korea    \n",
              "10405  i not an immigrant but my grandparents are mor...   \n",
              "\n",
              "                                               splittext  \n",
              "2974   [former, dea, prescription, head, drops, bombs...  \n",
              "3314   [black, box, voting, bev, harris, explains, th...  \n",
              "6048   [in, paid, speech, hosted, by, goldman, sachs,...  \n",
              "18433      [reuters, ktx, hyundai, motor, gallup, korea]  \n",
              "10405  [i, not, an, immigrant, but, my, grandparents,...  "
            ],
            "text/html": [
              "\n",
              "  <div id=\"df-a7bf82d1-cf03-4948-9c9d-be14caba8465\">\n",
              "    <div class=\"colab-df-container\">\n",
              "      <div>\n",
              "<style scoped>\n",
              "    .dataframe tbody tr th:only-of-type {\n",
              "        vertical-align: middle;\n",
              "    }\n",
              "\n",
              "    .dataframe tbody tr th {\n",
              "        vertical-align: top;\n",
              "    }\n",
              "\n",
              "    .dataframe thead th {\n",
              "        text-align: right;\n",
              "    }\n",
              "</style>\n",
              "<table border=\"1\" class=\"dataframe\">\n",
              "  <thead>\n",
              "    <tr style=\"text-align: right;\">\n",
              "      <th></th>\n",
              "      <th>title</th>\n",
              "      <th>text</th>\n",
              "      <th>splittext</th>\n",
              "    </tr>\n",
              "  </thead>\n",
              "  <tbody>\n",
              "    <tr>\n",
              "      <th>2974</th>\n",
              "      <td>former dea prescription head drops bombshell c...</td>\n",
              "      <td>former dea prescription head drops bombshell c...</td>\n",
              "      <td>[former, dea, prescription, head, drops, bombs...</td>\n",
              "    </tr>\n",
              "    <tr>\n",
              "      <th>3314</th>\n",
              "      <td>minute game changing video electronic voting ...</td>\n",
              "      <td>black box voting bev harris explains the follo...</td>\n",
              "      <td>[black, box, voting, bev, harris, explains, th...</td>\n",
              "    </tr>\n",
              "    <tr>\n",
              "      <th>6048</th>\n",
              "      <td>hacked transcripts reveal genial hillary clint...</td>\n",
              "      <td>in paid speech hosted by goldman sachs hillary...</td>\n",
              "      <td>[in, paid, speech, hosted, by, goldman, sachs,...</td>\n",
              "    </tr>\n",
              "    <tr>\n",
              "      <th>18433</th>\n",
              "      <td></td>\n",
              "      <td>reuters ktx hyundai motor gallup korea</td>\n",
              "      <td>[reuters, ktx, hyundai, motor, gallup, korea]</td>\n",
              "    </tr>\n",
              "    <tr>\n",
              "      <th>10405</th>\n",
              "      <td>tehran usa</td>\n",
              "      <td>i not an immigrant but my grandparents are mor...</td>\n",
              "      <td>[i, not, an, immigrant, but, my, grandparents,...</td>\n",
              "    </tr>\n",
              "  </tbody>\n",
              "</table>\n",
              "</div>\n",
              "      <button class=\"colab-df-convert\" onclick=\"convertToInteractive('df-a7bf82d1-cf03-4948-9c9d-be14caba8465')\"\n",
              "              title=\"Convert this dataframe to an interactive table.\"\n",
              "              style=\"display:none;\">\n",
              "        \n",
              "  <svg xmlns=\"http://www.w3.org/2000/svg\" height=\"24px\"viewBox=\"0 0 24 24\"\n",
              "       width=\"24px\">\n",
              "    <path d=\"M0 0h24v24H0V0z\" fill=\"none\"/>\n",
              "    <path d=\"M18.56 5.44l.94 2.06.94-2.06 2.06-.94-2.06-.94-.94-2.06-.94 2.06-2.06.94zm-11 1L8.5 8.5l.94-2.06 2.06-.94-2.06-.94L8.5 2.5l-.94 2.06-2.06.94zm10 10l.94 2.06.94-2.06 2.06-.94-2.06-.94-.94-2.06-.94 2.06-2.06.94z\"/><path d=\"M17.41 7.96l-1.37-1.37c-.4-.4-.92-.59-1.43-.59-.52 0-1.04.2-1.43.59L10.3 9.45l-7.72 7.72c-.78.78-.78 2.05 0 2.83L4 21.41c.39.39.9.59 1.41.59.51 0 1.02-.2 1.41-.59l7.78-7.78 2.81-2.81c.8-.78.8-2.07 0-2.86zM5.41 20L4 18.59l7.72-7.72 1.47 1.35L5.41 20z\"/>\n",
              "  </svg>\n",
              "      </button>\n",
              "      \n",
              "  <style>\n",
              "    .colab-df-container {\n",
              "      display:flex;\n",
              "      flex-wrap:wrap;\n",
              "      gap: 12px;\n",
              "    }\n",
              "\n",
              "    .colab-df-convert {\n",
              "      background-color: #E8F0FE;\n",
              "      border: none;\n",
              "      border-radius: 50%;\n",
              "      cursor: pointer;\n",
              "      display: none;\n",
              "      fill: #1967D2;\n",
              "      height: 32px;\n",
              "      padding: 0 0 0 0;\n",
              "      width: 32px;\n",
              "    }\n",
              "\n",
              "    .colab-df-convert:hover {\n",
              "      background-color: #E2EBFA;\n",
              "      box-shadow: 0px 1px 2px rgba(60, 64, 67, 0.3), 0px 1px 3px 1px rgba(60, 64, 67, 0.15);\n",
              "      fill: #174EA6;\n",
              "    }\n",
              "\n",
              "    [theme=dark] .colab-df-convert {\n",
              "      background-color: #3B4455;\n",
              "      fill: #D2E3FC;\n",
              "    }\n",
              "\n",
              "    [theme=dark] .colab-df-convert:hover {\n",
              "      background-color: #434B5C;\n",
              "      box-shadow: 0px 1px 3px 1px rgba(0, 0, 0, 0.15);\n",
              "      filter: drop-shadow(0px 1px 2px rgba(0, 0, 0, 0.3));\n",
              "      fill: #FFFFFF;\n",
              "    }\n",
              "  </style>\n",
              "\n",
              "      <script>\n",
              "        const buttonEl =\n",
              "          document.querySelector('#df-a7bf82d1-cf03-4948-9c9d-be14caba8465 button.colab-df-convert');\n",
              "        buttonEl.style.display =\n",
              "          google.colab.kernel.accessAllowed ? 'block' : 'none';\n",
              "\n",
              "        async function convertToInteractive(key) {\n",
              "          const element = document.querySelector('#df-a7bf82d1-cf03-4948-9c9d-be14caba8465');\n",
              "          const dataTable =\n",
              "            await google.colab.kernel.invokeFunction('convertToInteractive',\n",
              "                                                     [key], {});\n",
              "          if (!dataTable) return;\n",
              "\n",
              "          const docLinkHtml = 'Like what you see? Visit the ' +\n",
              "            '<a target=\"_blank\" href=https://colab.research.google.com/notebooks/data_table.ipynb>data table notebook</a>'\n",
              "            + ' to learn more about interactive tables.';\n",
              "          element.innerHTML = '';\n",
              "          dataTable['output_type'] = 'display_data';\n",
              "          await google.colab.output.renderOutput(dataTable, element);\n",
              "          const docLink = document.createElement('div');\n",
              "          docLink.innerHTML = docLinkHtml;\n",
              "          element.appendChild(docLink);\n",
              "        }\n",
              "      </script>\n",
              "    </div>\n",
              "  </div>\n",
              "  "
            ]
          },
          "metadata": {},
          "execution_count": 85
        }
      ]
    },
    {
      "cell_type": "code",
      "source": [
        "xtrain.info()"
      ],
      "metadata": {
        "id": "4VyNdJK1Li0k",
        "outputId": "fffcbfba-6345-4cfd-a5a1-49cec73bbbf2",
        "colab": {
          "base_uri": "https://localhost:8080/"
        }
      },
      "execution_count": 86,
      "outputs": [
        {
          "output_type": "stream",
          "name": "stdout",
          "text": [
            "<class 'pandas.core.frame.DataFrame'>\n",
            "Int64Index: 18182 entries, 2974 to 18800\n",
            "Data columns (total 3 columns):\n",
            " #   Column     Non-Null Count  Dtype \n",
            "---  ------     --------------  ----- \n",
            " 0   title      18182 non-null  object\n",
            " 1   text       18182 non-null  object\n",
            " 2   splittext  18182 non-null  object\n",
            "dtypes: object(3)\n",
            "memory usage: 568.2+ KB\n"
          ]
        }
      ]
    },
    {
      "cell_type": "code",
      "execution_count": 87,
      "metadata": {
        "id": "377zdUTkO20W"
      },
      "outputs": [],
      "source": [
        "# train tf.data\n",
        "train_title = tf.data.Dataset.from_tensor_slices(xtrain.title.to_list())\n",
        "train_text  = tf.data.Dataset.from_tensor_slices(xtrain.text.values)\n",
        "train_label = tf.data.Dataset.from_tensor_slices(ytrain)\n",
        "\n",
        "# test tf.data\n",
        "test_title = tf.data.Dataset.from_tensor_slices(xtest.title.to_list())\n",
        "test_text  = tf.data.Dataset.from_tensor_slices(xtest.text.values)\n",
        "test_label = tf.data.Dataset.from_tensor_slices(ytest)\n"
      ]
    },
    {
      "cell_type": "markdown",
      "metadata": {
        "id": "H9_cKUf0Xy92"
      },
      "source": [
        "## Title dataset"
      ]
    },
    {
      "cell_type": "code",
      "execution_count": null,
      "metadata": {
        "id": "YGV_gFFOXy92"
      },
      "outputs": [],
      "source": [
        "# train_title_dataset = tf.data.Dataset.zip((train_title, train_label))\n",
        "# test_title_dataset  = tf.data.Dataset.zip((test_title, test_label))"
      ]
    },
    {
      "cell_type": "markdown",
      "metadata": {
        "id": "FioWHDh_CBz_"
      },
      "source": [
        "## Text dataset"
      ]
    },
    {
      "cell_type": "code",
      "execution_count": 88,
      "metadata": {
        "id": "twGewEUUCBz_"
      },
      "outputs": [],
      "source": [
        "train_text_dataset = tf.data.Dataset.zip((train_text, train_label))\n",
        "test_text_dataset  = tf.data.Dataset.zip((test_text, test_label))"
      ]
    },
    {
      "cell_type": "code",
      "execution_count": 89,
      "metadata": {
        "id": "b-T2cWtSCBz_",
        "outputId": "ee8e4d02-0bdd-4c17-c7ec-b033bb1033a5",
        "colab": {
          "base_uri": "https://localhost:8080/"
        }
      },
      "outputs": [
        {
          "output_type": "stream",
          "name": "stdout",
          "text": [
            "<ZipDataset element_spec=(TensorSpec(shape=(), dtype=tf.string, name=None), TensorSpec(shape=(), dtype=tf.int64, name=None))>\n"
          ]
        }
      ],
      "source": [
        "print(train_text_dataset)"
      ]
    },
    {
      "cell_type": "markdown",
      "metadata": {
        "id": "qMxbjhUJXy92"
      },
      "source": [
        "## Title + Text dataset"
      ]
    },
    {
      "cell_type": "code",
      "execution_count": null,
      "metadata": {
        "id": "pHuEe-WCXy92"
      },
      "outputs": [],
      "source": [
        "# train_features = tf.data.Dataset.from_tensor_slices((xtrain.title.to_list(), xtrain.text.to_list()))\n",
        "# train_dataset  = tf.data.Dataset.zip((train_features, train_label))\n",
        "\n",
        "# test_features = tf.data.Dataset.from_tensor_slices((xtest.title.to_list(), xtest.text.to_list()))\n",
        "# test_dataset  = tf.data.Dataset.zip((test_features, test_label))"
      ]
    },
    {
      "cell_type": "code",
      "execution_count": 90,
      "metadata": {
        "colab": {
          "base_uri": "https://localhost:8080/"
        },
        "id": "qZ2G11cGSmbG",
        "outputId": "e8d8368e-2f49-4144-a8e3-8a4ffb81240f",
        "scrolled": true
      },
      "outputs": [
        {
          "output_type": "stream",
          "name": "stdout",
          "text": [
            "tf.Tensor(b'former dea prescription head drops bombshell congress protects big pharma fuels opioid crisis source claire bernish congress would rather protect the profits of pharmaceutical companies than the health of those addicted to dangerous opioid drugs says former head of the dea responsible for preventing abuse of medications joseph rannazzisi former deputy assistant administrator at the s drug enforcement agency asserts big pharma and its lobbyists have stranglehold on legislators in congress and have engineered the protection of billion per year industry over the health of american citizens according to report from the guardian congress would rather listen to people who had profit motive rather than public health and safety motive he said according to the outlet as long as the industry has this stranglehold through lobbyists nothing going to change rannazzisi explained lobbyists have spent millions thwarting legislative and policy efforts to provide guidelines for reducing the prescribing of opioid medications closely related to heroin and helped limit the dea powers to discipline those who dispense unusually high dosages of the same pharmacist himself rannazzisi severely criticized lawmakers he claims hold double standard publicly vowing to combat the opioid epidemic while essentially working on behalf of pharmaceutical companies to ensure the industry profits these congressmen and senators who are using this because they are up for re election it has it is sham he told the guardian the congressmen and senators who are championing this fight the ones who really believe in what they are doing their voices are drowned out because the industry has too much influence with the unique insight of having been an insider rannazzisi excoriated the duplicity evidenced between legislators public lamentation of addiction and deaths from the opioid crisis during election years and private efforts to protect drugmakers from liability and he would know according to rannazzisi linkedin profile as chief of diversion he had been tasked with oversight and control of all regulatory compliance inspections and civil and criminal investigations of approximately million dea registrants but if the standards are lowered by congress to allow greater leeway in prescribing opioids the threshold of criminality is raised as the guardian points out legislation to fight the opioid epidemic comprehensive addiction and recovery act did in fact pass in july but partisan controversy erupted when republicans failed to provide funding to give the law sharp teeth democrats then issued report titled dying waiting for treatment in response which likened the republican response to the opioid crisis to using piece of chewing gum to patch cracked dam indeed the report sharply criticized the bill equating its policies to empty promises for the lack of financial follow through as the washington post detailed in report earlier this month the dea launched an aggressive campaign to rein in distribution of opioids by pharmaceutical manufacturers to illegal pill mills and corrupt pharmacies who cared little whether the drugs wound up on the streets headed by rannazzisi the office of diversion control sent investigators into the field and began issuing hefty fines and filing lawsuits against the distributors responsible for the proliferation of opioids on the streets but the disproportionately powerful pharmaceutical industry fearing potential significant loss in profits fought back hard according to the post the deputy attorney general summoned rannazzisi to meeting in concerning the cases of two unnamed major drug companies that meeting was to chastise me for going after industry and that has that is all that meeting was about the now retired dea official told the post then in came what constituted hand out to the pharmaceutical industry by the department of justice and congressional legislators the ensuring patient access and effective drug enforcement act legislation initiated by the healthcare distribution management association the industry group representing distributors at the heart of the controversy an analysis of lobbying records by the post found the healthcare distribution alliance spent million lobbying house and senate members and their staffs on the legislation and other issues between and rannazzisi argued his case to congressional staffers in phone conference in july and recalled telling them this bill passes the way it has it is written we will not be able to get immediate suspension orders we will not be able to stop the hemorrhaging of these drugs out of these bad pharmacies and these bad corporations stunned at the massive and ultimately successful effort to take the bite out of dea attempts to hold distributors and drugmakers responsible for their role in an epidemic estimated to take lives every year rannazzisi likened the legislation to free pass for legal drug pushers this does not ensure patient access and it does not help drug enforcement at all he told the guardian what this bill does has nothing to do with the medical process what this bill does is take away dea ability to go after pharmacist wholesaler manufacturer or distributor this was gift gift to the industry he added after heading the diversion office for decade rannazzisi retired in likely disgusted over legislators dedication to the legal drug industry rather than the people whose interests they are ostensibly obligated to protect the bill passed because big pharma wanted it to pass he told the guardian in no uncertain terms the dea is both an enforcement agency and regulatory agency when was in charge what tried to do was explain to my investigators and my agents that our job was to regulate the industry and they are not going to like being regulated big pharma relies overwhelmingly on lobbyists filling the coffers of politicians to ensure they ignore the crisis gripping the nation as the center for public integrity found the guardian noted purdue pharma at the heart of the epidemic for its highly addictive drug introduced in the late oxycontin spent breathtaking million in the last ten years on congressional lobbying efforts however big pharma power to influence policy and legislation extends far beyond simple but effective lobbying the government run interagency pain research coordinating committee iprcc has been accused by sen ron wyden of being tool to weaken cdc guidelines for limiting overprescribing of opioids wyden wrote to secretary of health and human services sylvia burwell of his concerns the iprcc had been staffed with experts with conflicts of interest for their close ties to big pharma including scientist with million endowment from purdue reported the guardian you ve got panel that has that is certainly got fair number of people that have vested interest in this problem of overprescribing that has that is something you have got to root out wyden asserted the role of the pharmaceutical companies on these advisory panels troubles me greatly science is getting short shrift compared to the political clout of these influential interests families of countless addicts and victims of the opioid industry would undoubtedly find the direct influence of big pharma pro opioid cash appalling yet it continues to this day policies and legislation have not yet been given the appropriate funding needed to effectively combat the problem which swirls out of control while politicians and drugmakers reap blood tainted profits corporations have no conscience rannazzisi flatly told the guardian unfortunately with my job was the guy who had to go out and talk to families that lost kids if one of those ceos went out there and talked to anybody or if one of those ceos happened to lose kid to this horrible horrible domestic tragedy we have d bet you they had they would change their mind when you sit with parent who cannot understand why there has there is so many pharmaceuticals out in the illicit marketplace and why is not the government doing anything well the dea was doing something unfortunately what we are trying to do is thwarted by people who are writing laws share this article ', shape=(), dtype=string) tf.Tensor(1, shape=(), dtype=int64)\n"
          ]
        }
      ],
      "source": [
        "# Visualizing the data\n",
        "for i,j in train_text_dataset.take(1):\n",
        "    print(i,j)\n",
        "    break"
      ]
    },
    {
      "cell_type": "code",
      "execution_count": 91,
      "metadata": {
        "id": "j2oDVex2Xy93"
      },
      "outputs": [],
      "source": [
        "BATCH_SIZE = 32"
      ]
    },
    {
      "cell_type": "code",
      "execution_count": 92,
      "metadata": {
        "id": "PGzTCzESO2tv"
      },
      "outputs": [],
      "source": [
        "# prefetching \n",
        "# train_dataset = train_dataset.batch(BATCH_SIZE).prefetch(tf.data.AUTOTUNE)\n",
        "# test_dataset = test_dataset.batch(BATCH_SIZE).prefetch(tf.data.AUTOTUNE)\n",
        "\n",
        "# train_title_dataset = train_title_dataset.batch(BATCH_SIZE).prefetch(tf.data.AUTOTUNE)\n",
        "# test_title_dataset = test_title_dataset.batch(BATCH_SIZE).prefetch(tf.data.AUTOTUNE)\n",
        "\n",
        "train_text_dataset = train_text_dataset.batch(BATCH_SIZE).prefetch(tf.data.AUTOTUNE)\n",
        "test_text_dataset = test_text_dataset.batch(BATCH_SIZE).prefetch(tf.data.AUTOTUNE)"
      ]
    },
    {
      "cell_type": "markdown",
      "metadata": {
        "id": "N5hquM68Xy93"
      },
      "source": [
        "# Model 1"
      ]
    },
    {
      "cell_type": "code",
      "execution_count": 93,
      "metadata": {
        "id": "n03HstlaCB0A"
      },
      "outputs": [],
      "source": [
        "def line_breaker(x):\n",
        "# aa = tf.constant(ss)\n",
        "    return tf.strings.split(x)"
      ]
    },
    {
      "cell_type": "code",
      "execution_count": 94,
      "metadata": {
        "id": "B1QG5sDlCB0A",
        "outputId": "5a8a560d-c261-4153-ea54-f1dafacc250e",
        "colab": {
          "base_uri": "https://localhost:8080/"
        }
      },
      "outputs": [
        {
          "output_type": "execute_result",
          "data": {
            "text/plain": [
              "<tf.Tensor: shape=(4,), dtype=string, numpy=array([b'this', b'is', b'a', b'string'], dtype=object)>"
            ]
          },
          "metadata": {},
          "execution_count": 94
        }
      ],
      "source": [
        "ss = 'this is a string'\n",
        "line_breaker(ss)"
      ]
    },
    {
      "cell_type": "code",
      "execution_count": 105,
      "metadata": {
        "id": "92p0eK7tXy94",
        "outputId": "0e6762bf-ab58-4fb3-ae49-1b3762cfede2",
        "colab": {
          "base_uri": "https://localhost:8080/"
        }
      },
      "outputs": [
        {
          "output_type": "stream",
          "name": "stdout",
          "text": [
            "Input shape:  (None, 1)\n",
            "tokenize shape:  (None, 3967)\n",
            "embedded shape:  (None, 3967, 100)\n"
          ]
        }
      ],
      "source": [
        "input1 = keras.Input(shape = (1), dtype = tf.string)\n",
        "print('Input shape: ',input1.shape)\n",
        "\n",
        "tokenize = text_text_vectorizer(input1)\n",
        "print('tokenize shape: ', tokenize.shape)\n",
        "\n",
        "# x = layers.Lambda(tf.strings.split(input1))\n",
        "\n",
        "embedd = text_embedding_layer(tokenize)\n",
        "print('embedded shape: ',embedd.shape)\n",
        "\n",
        "# a conv1d layer\n",
        "x = layers.Conv1D(32, 5, 1, activation='relu')(embedd)\n",
        "x = layers.Dropout(.3)(x)\n",
        "x = layers.Dense(32, activation='relu')(x)\n",
        "x = layers.GlobalMaxPooling1D()(x)\n",
        "output1 = layers.Dense(1, activation='sigmoid')(x)\n",
        "\n",
        "#compile\n",
        "model1 = keras.Model(inputs = input1, outputs = output1)\n",
        "\n",
        "# model1 = keras.Sequential()\n",
        "# model1.add(keras.Input(shape = (1,), dtype = tf.string))\n",
        "# model1.add(text_text_vectorizer)\n",
        "# model1.add(text_embedding_layer)\n",
        "# model1.add(layers.Conv1D(32, 5, 1, activation='relu'))\n",
        "# # model1.add(layers.Dropout(.3))\n",
        "# model1.add(layers.Dense(32, activation='relu'))\n",
        "# model1.add(layers.Dense(1))\n",
        "\n",
        "#compile\n",
        "model1.compile(loss = 'binary_crossentropy',\n",
        "              optimizer = tf.keras.optimizers.Adam(learning_rate = .0001),\n",
        "              metrics = ['accuracy'])"
      ]
    },
    {
      "cell_type": "code",
      "execution_count": 110,
      "metadata": {
        "id": "5LAteMQPXy94",
        "outputId": "fcfe1741-74a6-48d3-f122-0275cdef5ea0",
        "colab": {
          "base_uri": "https://localhost:8080/"
        }
      },
      "outputs": [
        {
          "output_type": "stream",
          "name": "stdout",
          "text": [
            "25\n",
            "569\n"
          ]
        }
      ],
      "source": [
        "EPOCHS = 20\n",
        "print(int(.9* (len(train_text_dataset)/EPOCHS)))\n",
        "print(len(train_text_dataset))"
      ]
    },
    {
      "cell_type": "code",
      "execution_count": 111,
      "metadata": {
        "id": "jZRz9ws1Xy94",
        "outputId": "947db851-33ce-49e6-e940-2dee330c7d64",
        "scrolled": true,
        "colab": {
          "base_uri": "https://localhost:8080/"
        }
      },
      "outputs": [
        {
          "output_type": "stream",
          "name": "stdout",
          "text": [
            "Saving TensorBoard log files to: tb/model1/20221111-102841\n",
            "Epoch 1/20\n",
            "10/10 [==============================] - 8s 738ms/step - loss: 0.4964 - accuracy: 0.7656 - val_loss: 0.4764 - val_accuracy: 0.7750\n",
            "Epoch 2/20\n",
            "10/10 [==============================] - 8s 804ms/step - loss: 0.5101 - accuracy: 0.7750 - val_loss: 0.4693 - val_accuracy: 0.7812\n",
            "Epoch 3/20\n",
            "10/10 [==============================] - 8s 791ms/step - loss: 0.4904 - accuracy: 0.7656 - val_loss: 0.4638 - val_accuracy: 0.7937\n",
            "Epoch 4/20\n",
            "10/10 [==============================] - 8s 804ms/step - loss: 0.4937 - accuracy: 0.7656 - val_loss: 0.4608 - val_accuracy: 0.7937\n",
            "Epoch 5/20\n",
            "10/10 [==============================] - 8s 781ms/step - loss: 0.5155 - accuracy: 0.7281 - val_loss: 0.4513 - val_accuracy: 0.8062\n",
            "Epoch 6/20\n",
            "10/10 [==============================] - 8s 846ms/step - loss: 0.5203 - accuracy: 0.7437 - val_loss: 0.4429 - val_accuracy: 0.7937\n",
            "Epoch 7/20\n",
            "10/10 [==============================] - 8s 842ms/step - loss: 0.5075 - accuracy: 0.7406 - val_loss: 0.4363 - val_accuracy: 0.8125\n",
            "Epoch 8/20\n",
            "10/10 [==============================] - 8s 804ms/step - loss: 0.4948 - accuracy: 0.7844 - val_loss: 0.4293 - val_accuracy: 0.8125\n",
            "Epoch 9/20\n",
            "10/10 [==============================] - 7s 729ms/step - loss: 0.4542 - accuracy: 0.7969 - val_loss: 0.4268 - val_accuracy: 0.8188\n",
            "Epoch 10/20\n",
            "10/10 [==============================] - 7s 719ms/step - loss: 0.4744 - accuracy: 0.7688 - val_loss: 0.4166 - val_accuracy: 0.8188\n",
            "Epoch 11/20\n",
            "10/10 [==============================] - 7s 735ms/step - loss: 0.4492 - accuracy: 0.7906 - val_loss: 0.4111 - val_accuracy: 0.8188\n",
            "Epoch 12/20\n",
            "10/10 [==============================] - 8s 817ms/step - loss: 0.4761 - accuracy: 0.7812 - val_loss: 0.4069 - val_accuracy: 0.8250\n",
            "Epoch 13/20\n",
            "10/10 [==============================] - 8s 794ms/step - loss: 0.3887 - accuracy: 0.8125 - val_loss: 0.4019 - val_accuracy: 0.8438\n",
            "Epoch 14/20\n",
            "10/10 [==============================] - 8s 802ms/step - loss: 0.4533 - accuracy: 0.7844 - val_loss: 0.3971 - val_accuracy: 0.8500\n",
            "Epoch 15/20\n",
            "10/10 [==============================] - 8s 793ms/step - loss: 0.4375 - accuracy: 0.8281 - val_loss: 0.3932 - val_accuracy: 0.8625\n",
            "Epoch 16/20\n",
            "10/10 [==============================] - 8s 788ms/step - loss: 0.4168 - accuracy: 0.8062 - val_loss: 0.3906 - val_accuracy: 0.8500\n",
            "Epoch 17/20\n",
            "10/10 [==============================] - 8s 788ms/step - loss: 0.4118 - accuracy: 0.8156 - val_loss: 0.3831 - val_accuracy: 0.8562\n",
            "Epoch 18/20\n",
            "10/10 [==============================] - 7s 731ms/step - loss: 0.4187 - accuracy: 0.8219 - val_loss: 0.3822 - val_accuracy: 0.8375\n",
            "Epoch 19/20\n",
            "10/10 [==============================] - 8s 795ms/step - loss: 0.4720 - accuracy: 0.7656 - val_loss: 0.3781 - val_accuracy: 0.8375\n",
            "Epoch 20/20\n",
            "10/10 [==============================] - 7s 735ms/step - loss: 0.4541 - accuracy: 0.7844 - val_loss: 0.3753 - val_accuracy: 0.8500\n"
          ]
        }
      ],
      "source": [
        "hist1 = model1.fit(train_text_dataset, epochs = EPOCHS,\n",
        "#                       steps_per_epoch = int(.9* (len(train_title_dataset)/EPOCHS)),\n",
        "                   steps_per_epoch = 10,   \n",
        "                   validation_steps = int(.2* (len(train_text_dataset)/EPOCHS)),\n",
        "                      validation_data=test_text_dataset,\n",
        "                      callbacks = [create_tensorboard_callback('tb','model1')]\n",
        "                    )"
      ]
    },
    {
      "cell_type": "code",
      "execution_count": null,
      "metadata": {
        "id": "IpDZitxtXy94"
      },
      "outputs": [],
      "source": []
    },
    {
      "cell_type": "code",
      "execution_count": null,
      "metadata": {
        "id": "OKnTjI50Xy94"
      },
      "outputs": [],
      "source": []
    },
    {
      "cell_type": "code",
      "execution_count": null,
      "metadata": {
        "id": "IlOfpwenXy94"
      },
      "outputs": [],
      "source": []
    },
    {
      "cell_type": "code",
      "execution_count": null,
      "metadata": {
        "id": "RhZXtNxsXy94"
      },
      "outputs": [],
      "source": []
    },
    {
      "cell_type": "code",
      "execution_count": null,
      "metadata": {
        "id": "X6sJXijmXy94"
      },
      "outputs": [],
      "source": []
    },
    {
      "cell_type": "code",
      "execution_count": null,
      "metadata": {
        "id": "j7cjCK7wXy95"
      },
      "outputs": [],
      "source": []
    },
    {
      "cell_type": "code",
      "execution_count": null,
      "metadata": {
        "id": "dGjBmsyRXy95"
      },
      "outputs": [],
      "source": []
    },
    {
      "cell_type": "code",
      "execution_count": null,
      "metadata": {
        "id": "X1B5n7GFXy95"
      },
      "outputs": [],
      "source": []
    },
    {
      "cell_type": "code",
      "execution_count": null,
      "metadata": {
        "id": "5pjHonMkXy95"
      },
      "outputs": [],
      "source": []
    },
    {
      "cell_type": "code",
      "execution_count": null,
      "metadata": {
        "id": "0L5G2mNWXy95"
      },
      "outputs": [],
      "source": []
    },
    {
      "cell_type": "markdown",
      "metadata": {
        "id": "mT_p6WhpjMGF"
      },
      "source": [
        "# Modeln\n"
      ]
    },
    {
      "cell_type": "code",
      "execution_count": null,
      "metadata": {
        "id": "o9AYnIxajMEp"
      },
      "outputs": [],
      "source": [
        "from tensorflow.keras import layers\n",
        "from tensorflow.keras.layers import GlobalAveragePooling1D, GlobalMaxPooling1D"
      ]
    },
    {
      "cell_type": "code",
      "execution_count": null,
      "metadata": {
        "id": "R9cuQS59jMCH"
      },
      "outputs": [],
      "source": [
        "input1 = layers.Input(shape = (1,), dtype = tf.string)\n",
        "token = title_text_vectorizer(input1)\n",
        "embed = title_embedder(token)\n",
        "x = layers.LSTM(32,return_sequences=True)(embed)\n",
        "x = layers.LSTM(32,return_sequences=True)(x)\n",
        "title_out = GlobalAveragePooling1D()(x)\n",
        "print('title output shape: ',title_out.shape)\n",
        "\n",
        "input2 = layers.Input(shape = (1,), dtype= tf.string)\n",
        "token2 = text_text_vectorizer(input2)\n",
        "embed2 = text_embedder(token2)\n",
        "x = layers.LSTM(32,return_sequences=True)(embed2)\n",
        "x = layers.LSTM(32,return_sequences=True)(x)\n",
        "text_out = GlobalAveragePooling1D()(x)\n",
        "print('text output shape: ',text_out.shape)\n",
        "\n",
        "concat = layers.Concatenate()([title_out, text_out])\n",
        "print('concatenated shape: ',concat.shape)\n",
        "\n",
        "x = layers.Dropout(.3)(concat)\n",
        "x = layers.Dense(128, activation = 'relu')(x)\n",
        "x = layers.Dense(128, activation = 'relu')(x)\n",
        "outputs = layers.Dense(1, activation = 'sigmoid')(x)\n",
        "\n",
        "modeln = keras.Model(inputs = [input1,input2], outputs = outputs)\n",
        "\n",
        "#COMPILE\n",
        "modeln.compile(loss = keras.losses.SparseCategoricalCrossentropy(),\n",
        "               optimizer = keras.optimizers.Adam(),\n",
        "               metrics = ['accuracy'])"
      ]
    },
    {
      "cell_type": "code",
      "execution_count": null,
      "metadata": {
        "id": "uYkA2QVoTQzM"
      },
      "outputs": [],
      "source": [
        "EPOCHS = 10\n",
        "len(train_dataset), len(test_dataset)"
      ]
    },
    {
      "cell_type": "code",
      "execution_count": null,
      "metadata": {
        "id": "_xs5tlRwjL_Z"
      },
      "outputs": [],
      "source": [
        "historyn = modeln.fit(train_dataset, epochs = EPOCHS,\n",
        "                      steps_per_epoch = int(.3* (len(train_dataset)/EPOCHS)),\n",
        "                      validation_steps = int(.2* (len(test_dataset)/EPOCHS)),\n",
        "                      validation_data=test_dataset,\n",
        "                      callbacks = [create_tensorboard_callback('tb','model1')]\n",
        "                    )"
      ]
    },
    {
      "cell_type": "code",
      "execution_count": null,
      "metadata": {
        "id": "ybkTe7zKjL9U"
      },
      "outputs": [],
      "source": [
        "loss = history1.history['loss']\n",
        "val_loss = history1.history['val_loss']\n",
        "\n",
        "accuracy = history1.history['accuracy']\n",
        "val_accuracy = history1.history['val_accuracy']\n",
        "\n",
        "# print(val_accuracy)\n",
        "plt.figure(figsize = (25,7))\n",
        "\n",
        "plt.subplot(1,2,1)\n",
        "plt.grid(True)\n",
        "plt.plot(np.arange(len(loss)), loss, 'r', label='Training loss')\n",
        "plt.plot(np.arange(len(val_loss)), val_loss, 'bo', label='Validation loss')\n",
        "plt.title('Training and Validation Loss')\n",
        "plt.xlabel('Epoch')\n",
        "plt.ylabel('Loss Value')\n",
        "plt.legend()\n",
        "\n",
        "plt.subplot(1,2,2)\n",
        "plt.grid(True)\n",
        "plt.plot(np.arange(len(accuracy)), accuracy, 'r', label='Training accuracy')\n",
        "plt.plot(np.arange(len(val_accuracy)), val_accuracy, 'bo', label='Validation accuracy')\n",
        "plt.title('Training and Validation Accuracy')\n",
        "plt.xlabel('Epoch')\n",
        "plt.ylabel('Accracy Value')\n",
        "plt.legend()\n",
        "\n",
        "plt.show()"
      ]
    },
    {
      "cell_type": "code",
      "execution_count": null,
      "metadata": {
        "id": "11CtKjszjL7z"
      },
      "outputs": [],
      "source": []
    },
    {
      "cell_type": "code",
      "execution_count": null,
      "metadata": {
        "id": "jWPQ_JNXjL56"
      },
      "outputs": [],
      "source": []
    },
    {
      "cell_type": "code",
      "execution_count": null,
      "metadata": {
        "id": "QHNII4XQjL4P"
      },
      "outputs": [],
      "source": []
    },
    {
      "cell_type": "code",
      "execution_count": null,
      "metadata": {
        "id": "WkryvfmjjL2k"
      },
      "outputs": [],
      "source": []
    },
    {
      "cell_type": "code",
      "execution_count": null,
      "metadata": {
        "id": "swPTJ1UajL0M"
      },
      "outputs": [],
      "source": []
    },
    {
      "cell_type": "code",
      "execution_count": null,
      "metadata": {
        "id": "HPE_ba6ejLwu"
      },
      "outputs": [],
      "source": []
    },
    {
      "cell_type": "code",
      "execution_count": null,
      "metadata": {
        "id": "RhbxtNP7jLru"
      },
      "outputs": [],
      "source": []
    },
    {
      "cell_type": "code",
      "execution_count": null,
      "metadata": {
        "id": "HBzKuHIYjLo8"
      },
      "outputs": [],
      "source": []
    },
    {
      "cell_type": "code",
      "execution_count": null,
      "metadata": {
        "id": "bQiQQagQjLmf"
      },
      "outputs": [],
      "source": []
    },
    {
      "cell_type": "code",
      "execution_count": null,
      "metadata": {
        "id": "eoX1DcxBjLku"
      },
      "outputs": [],
      "source": []
    },
    {
      "cell_type": "code",
      "execution_count": null,
      "metadata": {
        "id": "RPTPwYbBjLdU"
      },
      "outputs": [],
      "source": []
    },
    {
      "cell_type": "code",
      "execution_count": null,
      "metadata": {
        "id": "5A9TzpdfjLbn"
      },
      "outputs": [],
      "source": []
    },
    {
      "cell_type": "code",
      "execution_count": null,
      "metadata": {
        "id": "kPs9zFI8jLaS"
      },
      "outputs": [],
      "source": []
    },
    {
      "cell_type": "code",
      "execution_count": null,
      "metadata": {
        "id": "Xb5xPJncjLYU"
      },
      "outputs": [],
      "source": []
    },
    {
      "cell_type": "code",
      "execution_count": null,
      "metadata": {
        "id": "qrN83y3mjLU0"
      },
      "outputs": [],
      "source": []
    },
    {
      "cell_type": "code",
      "execution_count": null,
      "metadata": {
        "id": "3S4B-htDjLSV"
      },
      "outputs": [],
      "source": []
    },
    {
      "cell_type": "code",
      "execution_count": null,
      "metadata": {
        "id": "ko2VnLZfjLQq"
      },
      "outputs": [],
      "source": []
    },
    {
      "cell_type": "code",
      "execution_count": null,
      "metadata": {
        "id": "g50oNoMDjLON"
      },
      "outputs": [],
      "source": []
    },
    {
      "cell_type": "code",
      "execution_count": null,
      "metadata": {
        "id": "4c9rILbZjLLL"
      },
      "outputs": [],
      "source": []
    },
    {
      "cell_type": "code",
      "execution_count": null,
      "metadata": {
        "id": "P6Mcfxa1jLIC"
      },
      "outputs": [],
      "source": []
    },
    {
      "cell_type": "code",
      "execution_count": null,
      "metadata": {
        "id": "vVEEYB_ojLFa"
      },
      "outputs": [],
      "source": []
    },
    {
      "cell_type": "code",
      "execution_count": null,
      "metadata": {
        "id": "rhAO7pJ6jLCy"
      },
      "outputs": [],
      "source": []
    },
    {
      "cell_type": "code",
      "execution_count": null,
      "metadata": {
        "id": "VxzqPgIwjLAA"
      },
      "outputs": [],
      "source": []
    },
    {
      "cell_type": "code",
      "execution_count": null,
      "metadata": {
        "id": "7r0f3aeejK9A"
      },
      "outputs": [],
      "source": []
    },
    {
      "cell_type": "code",
      "execution_count": null,
      "metadata": {
        "id": "hS8DZMHJjK6c"
      },
      "outputs": [],
      "source": []
    },
    {
      "cell_type": "code",
      "execution_count": null,
      "metadata": {
        "id": "iTXVCRjZjK33"
      },
      "outputs": [],
      "source": []
    }
  ],
  "metadata": {
    "colab": {
      "collapsed_sections": [],
      "provenance": [],
      "include_colab_link": true
    },
    "gpuClass": "standard",
    "kernelspec": {
      "display_name": "Python 3",
      "name": "python3"
    },
    "language_info": {
      "name": "python"
    }
  },
  "nbformat": 4,
  "nbformat_minor": 0
}